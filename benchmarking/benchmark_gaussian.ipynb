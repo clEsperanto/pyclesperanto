{
 "cells": [
  {
   "cell_type": "code",
   "execution_count": 1,
   "metadata": {},
   "outputs": [],
   "source": [
    "import timeit\n",
    "import numpy as np\n",
    "import pandas as pd\n",
    "from functools import partial\n",
    "import matplotlib.pyplot as plt\n",
    "\n",
    "from skimage.filters import gaussian\n",
    "import pyclesperanto_prototype as proto\n",
    "import pyclesperanto as cle\n",
    "\n",
    "cle.select_device()\n",
    "cle.set_wait_for_kernel_to_finish(True)\n",
    "\n",
    "proto.select_device()\n",
    "proto.set_wait_for_kernel_finish(True)\n",
    "\n",
    "sizes = np.arange(1, 200, 10)\n",
    "sigma = 10\n",
    "\n",
    "warmup_iter = 1\n",
    "eval_iter = 3\n",
    "\n",
    "seed_value = 42\n"
   ]
  },
  {
   "cell_type": "code",
   "execution_count": 2,
   "metadata": {},
   "outputs": [],
   "source": [
    "def mb_to_bytes(mb:int = 1) -> int:\n",
    "    return mb * 1024 * 1024\n",
    "\n",
    "def shape_from_elements(bytes:int) -> tuple:\n",
    "    elements = bytes / 4\n",
    "    shape = int(np.power(elements, 1/3))\n",
    "    return (shape, shape, shape)\n",
    "\n",
    "def generate_random_image(size:int = 128) -> np.ndarray:\n",
    "    \"\"\"\n",
    "    Generates a random image of given size and sigma.\n",
    "    \"\"\"\n",
    "    shape = shape_from_elements(mb_to_bytes(size))\n",
    "    return np.random.rand(shape[0], shape[1], shape[2]).astype(np.float32)\n",
    "\n",
    "def benchmark_function(target_function, operation:str, framework:str) -> pd.DataFrame:\n",
    "    \"\"\"\n",
    "    Tests a function on a couple of image sizes and returns times taken for processing.\n",
    "    \"\"\"\n",
    "    np.random.seed(seed_value)\n",
    "    benchmark_data = []\n",
    "    for size in sizes:\n",
    "        # make new data\n",
    "        image = generate_random_image(size)\n",
    "        size_mb = image.size * image.itemsize / 1024 / 1024\n",
    "        # bind target function to given image\n",
    "        partial_function = partial(target_function, image, sigma)\n",
    "        # warmup       \n",
    "        _ = timeit.timeit(partial_function, number=warmup_iter)\n",
    "        # measure execution time\n",
    "        time_in_s = timeit.timeit(partial_function, number=eval_iter)\n",
    "        \n",
    "        print(f\"Processing {image.shape} of {size_mb} Mb with {framework}... {time_in_s} s\")\n",
    "\n",
    "        # store results\n",
    "        benchmark_data.append(pd.DataFrame({\"benchmark\": operation, \"framework\": framework, \"size\": size_mb, \"time\": time_in_s}, index=[0]))\n",
    "    return pd.concat(benchmark_data)"
   ]
  },
  {
   "cell_type": "markdown",
   "metadata": {},
   "source": [
    "# Gaussian Blur"
   ]
  },
  {
   "cell_type": "markdown",
   "metadata": {},
   "source": [
    "### pyclesperanto-prototype"
   ]
  },
  {
   "cell_type": "code",
   "execution_count": 3,
   "metadata": {},
   "outputs": [],
   "source": [
    "def prototype_function(image, sigma):\n",
    "    proto.gaussian_blur(source=image, sigma_x=sigma, sigma_y=sigma, sigma_z=sigma)"
   ]
  },
  {
   "cell_type": "code",
   "execution_count": 4,
   "metadata": {},
   "outputs": [
    {
     "name": "stdout",
     "output_type": "stream",
     "text": [
      "Processing (63, 63, 63) of 0.9538536071777344 Mb with prototype... 0.01644840999506414 s\n",
      "Processing (142, 142, 142) of 10.922576904296875 Mb with prototype... 0.16298513999208808 s\n",
      "Processing (176, 176, 176) of 20.796875 Mb with prototype... 0.24880750698503107 s\n",
      "Processing (201, 201, 201) of 30.97763442993164 Mb with prototype... 0.36425916804000735 s\n",
      "Processing (220, 220, 220) of 40.618896484375 Mb with prototype... 0.4476858660345897 s\n",
      "Processing (237, 237, 237) of 50.78145217895508 Mb with prototype... 0.5919822969008237 s\n",
      "Processing (251, 251, 251) of 60.3227653503418 Mb with prototype... 0.6437086489750072 s\n",
      "Processing (265, 265, 265) of 70.99008560180664 Mb with prototype... 0.88144496595487 s\n",
      "Processing (276, 276, 276) of 80.202392578125 Mb with prototype... 0.9628024799749255 s\n",
      "Processing (287, 287, 287) of 90.17907333374023 Mb with prototype... 1.4182410379871726 s\n",
      "Processing (298, 298, 298) of 100.95059204101562 Mb with prototype... 1.1446465639164671 s\n",
      "Processing (307, 307, 307) of 110.37614059448242 Mb with prototype... 1.1591127450810745 s\n",
      "Processing (316, 316, 316) of 120.370849609375 Mb with prototype... 1.2820607229368761 s\n",
      "Processing (325, 325, 325) of 130.9514045715332 Mb with prototype... 1.9067383490037173 s\n",
      "Processing (333, 333, 333) of 140.86165237426758 Mb with prototype... 1.6677011681022123 s\n",
      "Processing (340, 340, 340) of 149.932861328125 Mb with prototype... 1.7273722519166768 s\n",
      "Processing (348, 348, 348) of 160.767333984375 Mb with prototype... 1.815233881934546 s\n",
      "Processing (355, 355, 355) of 170.66526412963867 Mb with prototype... 2.3146439449628815 s\n",
      "Processing (362, 362, 362) of 180.96133422851562 Mb with prototype... 1.9575284029124305 s\n",
      "Processing (368, 368, 368) of 190.109375 Mb with prototype... 2.0310162210371345 s\n"
     ]
    }
   ],
   "source": [
    "prototype_benchmark_data = benchmark_function(prototype_function, \"gaussian_blur\", \"prototype\")"
   ]
  },
  {
   "cell_type": "markdown",
   "metadata": {},
   "source": [
    "### pyclesperanto"
   ]
  },
  {
   "cell_type": "code",
   "execution_count": 5,
   "metadata": {},
   "outputs": [],
   "source": [
    "def pycle_function(image, sigma):\n",
    "    cle.gaussian_blur(input_image=image, sigma_x=sigma, sigma_y=sigma, sigma_z=sigma)"
   ]
  },
  {
   "cell_type": "code",
   "execution_count": 6,
   "metadata": {},
   "outputs": [
    {
     "name": "stdout",
     "output_type": "stream",
     "text": [
      "Processing (63, 63, 63) of 0.9538536071777344 Mb with pyclesperanto... 0.012318387045525014 s\n",
      "Processing (142, 142, 142) of 10.922576904296875 Mb with pyclesperanto... 0.13569577899761498 s\n",
      "Processing (176, 176, 176) of 20.796875 Mb with pyclesperanto... 0.23568088095635176 s\n",
      "Processing (201, 201, 201) of 30.97763442993164 Mb with pyclesperanto... 0.36834499705582857 s\n",
      "Processing (220, 220, 220) of 40.618896484375 Mb with pyclesperanto... 0.4663663489045575 s\n",
      "Processing (237, 237, 237) of 50.78145217895508 Mb with pyclesperanto... 0.6153966810088605 s\n",
      "Processing (251, 251, 251) of 60.3227653503418 Mb with pyclesperanto... 0.6631859069457278 s\n",
      "Processing (265, 265, 265) of 70.99008560180664 Mb with pyclesperanto... 0.9345835680142045 s\n",
      "Processing (276, 276, 276) of 80.202392578125 Mb with pyclesperanto... 0.9981674500741065 s\n",
      "Processing (287, 287, 287) of 90.17907333374023 Mb with pyclesperanto... 1.5123754680389538 s\n",
      "Processing (298, 298, 298) of 100.95059204101562 Mb with pyclesperanto... 1.1851486490340903 s\n",
      "Processing (307, 307, 307) of 110.37614059448242 Mb with pyclesperanto... 1.2441380419768393 s\n",
      "Processing (316, 316, 316) of 120.370849609375 Mb with pyclesperanto... 1.3425987620139495 s\n",
      "Processing (325, 325, 325) of 130.9514045715332 Mb with pyclesperanto... 2.0651509289164096 s\n",
      "Processing (333, 333, 333) of 140.86165237426758 Mb with pyclesperanto... 1.7545947659527883 s\n",
      "Processing (340, 340, 340) of 149.932861328125 Mb with pyclesperanto... 1.8193736770190299 s\n",
      "Processing (348, 348, 348) of 160.767333984375 Mb with pyclesperanto... 1.911008080933243 s\n",
      "Processing (355, 355, 355) of 170.66526412963867 Mb with pyclesperanto... 2.4374909920152277 s\n",
      "Processing (362, 362, 362) of 180.96133422851562 Mb with pyclesperanto... 2.0742698630783707 s\n",
      "Processing (368, 368, 368) of 190.109375 Mb with pyclesperanto... 2.134966009063646 s\n"
     ]
    }
   ],
   "source": [
    "pycle_benchmark_data = benchmark_function(pycle_function, \"gaussian_blur\", \"pyclesperanto\")"
   ]
  },
  {
   "cell_type": "markdown",
   "metadata": {},
   "source": [
    "### Skimage"
   ]
  },
  {
   "cell_type": "code",
   "execution_count": 7,
   "metadata": {},
   "outputs": [],
   "source": [
    "def skimage_function(image, sigma):\n",
    "    gaussian(image, sigma)"
   ]
  },
  {
   "cell_type": "code",
   "execution_count": 8,
   "metadata": {},
   "outputs": [
    {
     "name": "stdout",
     "output_type": "stream",
     "text": [
      "Processing (63, 63, 63) of 0.9538536071777344 Mb with scikit-image... 0.07742581306956708 s\n",
      "Processing (142, 142, 142) of 10.922576904296875 Mb with scikit-image... 0.8500794230494648 s\n",
      "Processing (176, 176, 176) of 20.796875 Mb with scikit-image... 1.6390936960233375 s\n",
      "Processing (201, 201, 201) of 30.97763442993164 Mb with scikit-image... 2.4494041269645095 s\n",
      "Processing (220, 220, 220) of 40.618896484375 Mb with scikit-image... 3.186182031990029 s\n",
      "Processing (237, 237, 237) of 50.78145217895508 Mb with scikit-image... 4.065404455992393 s\n",
      "Processing (251, 251, 251) of 60.3227653503418 Mb with scikit-image... 4.825742157059722 s\n",
      "Processing (265, 265, 265) of 70.99008560180664 Mb with scikit-image... 5.698191651026718 s\n",
      "Processing (276, 276, 276) of 80.202392578125 Mb with scikit-image... 6.298675440018997 s\n",
      "Processing (287, 287, 287) of 90.17907333374023 Mb with scikit-image... 7.265877833007835 s\n",
      "Processing (298, 298, 298) of 100.95059204101562 Mb with scikit-image... 8.0022852930706 s\n",
      "Processing (307, 307, 307) of 110.37614059448242 Mb with scikit-image... 9.044747757026926 s\n",
      "Processing (316, 316, 316) of 120.370849609375 Mb with scikit-image... 9.477903267019428 s\n",
      "Processing (325, 325, 325) of 130.9514045715332 Mb with scikit-image... 10.64346564502921 s\n",
      "Processing (333, 333, 333) of 140.86165237426758 Mb with scikit-image... 11.456786451977678 s\n",
      "Processing (340, 340, 340) of 149.932861328125 Mb with scikit-image... 11.94519888900686 s\n",
      "Processing (348, 348, 348) of 160.767333984375 Mb with scikit-image... 12.814618606935255 s\n",
      "Processing (355, 355, 355) of 170.66526412963867 Mb with scikit-image... 13.661866260925308 s\n",
      "Processing (362, 362, 362) of 180.96133422851562 Mb with scikit-image... 14.301066876971163 s\n",
      "Processing (368, 368, 368) of 190.109375 Mb with scikit-image... 15.560615296009928 s\n"
     ]
    }
   ],
   "source": [
    "skimage_benchmark_data = benchmark_function(skimage_function, \"gaussian_blur\", \"scikit-image\")"
   ]
  },
  {
   "cell_type": "markdown",
   "metadata": {},
   "source": [
    "## Results"
   ]
  },
  {
   "cell_type": "code",
   "execution_count": 9,
   "metadata": {},
   "outputs": [
    {
     "data": {
      "image/png": "[encoded data removed]",
      "text/plain": [
       "<Figure size 640x480 with 1 Axes>"
      ]
     },
     "metadata": {},
     "output_type": "display_data"
    }
   ],
   "source": [
    "import seaborn as sns\n",
    "\n",
    "bench = pd.concat([skimage_benchmark_data, pycle_benchmark_data, prototype_benchmark_data])\n",
    "\n",
    "sns.lineplot(data=bench, x=\"size\", y=\"time\", hue=\"framework\")\n",
    "plt.title(\"Gaussian blur with $\\sigma$ = 10\")\n",
    "plt.xlabel(\"Image size in Mb\")\n",
    "plt.ylabel(\"Time in s\")\n",
    "plt.show()"
   ]
  }
 ],
 "metadata": {
  "kernelspec": {
   "display_name": "Python 3.10.4 ('skbuild')",
   "language": "python",
   "name": "python3"
  },
  "language_info": {
   "codemirror_mode": {
    "name": "ipython",
    "version": 3
   },
   "file_extension": ".py",
   "mimetype": "text/x-python",
   "name": "python",
   "nbconvert_exporter": "python",
   "pygments_lexer": "ipython3",
   "version": "3.10.4"
  },
  "vscode": {
   "interpreter": {
    "hash": "1bf89b5e425e511e6208a82dd7a3225392f448ad069ddd9557f507f6073233bf"
   }
  }
 },
 "nbformat": 4,
 "nbformat_minor": 4
}
