{
 "cells": [
  {
   "cell_type": "code",
   "execution_count": 1,
   "metadata": {},
   "outputs": [],
   "source": [
    "import timeit\n",
    "import numpy as np\n",
    "import pandas as pd\n",
    "from functools import partial\n",
    "import matplotlib.pyplot as plt\n",
    "\n",
    "from skimage.exposure import histogram\n",
    "import pyclesperanto_prototype as proto\n",
    "import pyclesperanto as cle\n",
    "\n",
    "cle.select_device()\n",
    "cle.set_wait_for_kernel_to_finish(True)\n",
    "\n",
    "proto.select_device()\n",
    "proto.set_wait_for_kernel_finish(True)\n",
    "\n",
    "sizes = np.arange(1, 200, 10)\n",
    "\n",
    "warmup_iter = 1\n",
    "eval_iter = 3\n",
    "\n",
    "seed_value = 42"
   ]
  },
  {
   "cell_type": "code",
   "execution_count": 2,
   "metadata": {},
   "outputs": [],
   "source": [
    "def mb_to_bytes(mb:int = 1) -> int:\n",
    "    return mb * 1024 * 1024\n",
    "\n",
    "def shape_from_elements(bytes:int) -> tuple:\n",
    "    elements = bytes / 4\n",
    "    shape = int(np.power(elements, 1/3))\n",
    "    return (shape, shape, shape)\n",
    "\n",
    "def generate_random_image(size:int = 128) -> np.ndarray:\n",
    "    \"\"\"\n",
    "    Generates a random image of given size and sigma.\n",
    "    \"\"\"\n",
    "    shape = shape_from_elements(mb_to_bytes(size))\n",
    "    return np.random.rand(shape[0], shape[1], shape[2]).astype(np.float32)\n",
    "\n",
    "def benchmark_function(target_function, operation:str, framework:str) -> pd.DataFrame:\n",
    "    \"\"\"\n",
    "    Tests a function on a couple of image sizes and returns times taken for processing.\n",
    "    \"\"\"\n",
    "    np.random.seed(seed_value)\n",
    "    benchmark_data = []\n",
    "    for size in sizes:\n",
    "        # make new data\n",
    "        image = generate_random_image(size)\n",
    "        size_mb = image.size * image.itemsize / 1024 / 1024\n",
    "        # bind target function to given image\n",
    "        partial_function = partial(target_function, image)\n",
    "        # warmup       \n",
    "        _ = timeit.timeit(partial_function, number=warmup_iter)\n",
    "        # measure execution time\n",
    "        time_in_s = timeit.timeit(partial_function, number=eval_iter)\n",
    "        \n",
    "        print(f\"Processing {image.shape} of {size_mb} Mb with {framework}... {time_in_s} s\")\n",
    "\n",
    "        # store results\n",
    "        benchmark_data.append(pd.DataFrame({\"benchmark\": operation, \"framework\": framework, \"size\": size_mb, \"time\": time_in_s}, index=[0]))\n",
    "    return pd.concat(benchmark_data)"
   ]
  },
  {
   "cell_type": "markdown",
   "metadata": {},
   "source": [
    "# Histogram"
   ]
  },
  {
   "cell_type": "markdown",
   "metadata": {},
   "source": [
    "### Pyclesperanto"
   ]
  },
  {
   "cell_type": "code",
   "execution_count": 3,
   "metadata": {},
   "outputs": [],
   "source": [
    "def pycle_function(image):\n",
    "    cle.histogram(input_image=image)"
   ]
  },
  {
   "cell_type": "code",
   "execution_count": 4,
   "metadata": {},
   "outputs": [
    {
     "name": "stdout",
     "output_type": "stream",
     "text": [
      "Processing (63, 63, 63) of 0.9538536071777344 Mb with pyclesperanto... 0.01050314700000854 s\n",
      "Processing (142, 142, 142) of 10.922576904296875 Mb with pyclesperanto... 0.04600054299999101 s\n",
      "Processing (176, 176, 176) of 20.796875 Mb with pyclesperanto... 0.07399849699999095 s\n",
      "Processing (201, 201, 201) of 30.97763442993164 Mb with pyclesperanto... 0.09493716899999072 s\n",
      "Processing (220, 220, 220) of 40.618896484375 Mb with pyclesperanto... 0.10618262200000572 s\n",
      "Processing (237, 237, 237) of 50.78145217895508 Mb with pyclesperanto... 0.13781016199999385 s\n",
      "Processing (251, 251, 251) of 60.3227653503418 Mb with pyclesperanto... 0.1620146729999874 s\n",
      "Processing (265, 265, 265) of 70.99008560180664 Mb with pyclesperanto... 0.14915767200000118 s\n",
      "Processing (276, 276, 276) of 80.202392578125 Mb with pyclesperanto... 0.15476436599999488 s\n",
      "Processing (287, 287, 287) of 90.17907333374023 Mb with pyclesperanto... 0.18180788600000142 s\n",
      "Processing (298, 298, 298) of 100.95059204101562 Mb with pyclesperanto... 0.19020557700002882 s\n",
      "Processing (307, 307, 307) of 110.37614059448242 Mb with pyclesperanto... 0.2663802989999908 s\n",
      "Processing (316, 316, 316) of 120.370849609375 Mb with pyclesperanto... 0.2135834859999477 s\n",
      "Processing (325, 325, 325) of 130.9514045715332 Mb with pyclesperanto... 0.23799959699999818 s\n",
      "Processing (333, 333, 333) of 140.86165237426758 Mb with pyclesperanto... 0.25432003899999245 s\n",
      "Processing (340, 340, 340) of 149.932861328125 Mb with pyclesperanto... 0.2554101259999584 s\n",
      "Processing (348, 348, 348) of 160.767333984375 Mb with pyclesperanto... 0.2696834970000168 s\n",
      "Processing (355, 355, 355) of 170.66526412963867 Mb with pyclesperanto... 0.3001274900000226 s\n",
      "Processing (362, 362, 362) of 180.96133422851562 Mb with pyclesperanto... 0.3068480470000168 s\n",
      "Processing (368, 368, 368) of 190.109375 Mb with pyclesperanto... 0.3005009039999891 s\n"
     ]
    }
   ],
   "source": [
    "pycle_benchmark_data = benchmark_function(pycle_function, \"histogram\", \"pyclesperanto\")"
   ]
  },
  {
   "cell_type": "markdown",
   "metadata": {},
   "source": [
    "### Prototype"
   ]
  },
  {
   "cell_type": "code",
   "execution_count": 5,
   "metadata": {},
   "outputs": [],
   "source": [
    "def prototype_function(image):\n",
    "    proto.histogram(source=image)\n",
    "    "
   ]
  },
  {
   "cell_type": "code",
   "execution_count": 6,
   "metadata": {},
   "outputs": [
    {
     "name": "stdout",
     "output_type": "stream",
     "text": [
      "Processing (63, 63, 63) of 0.9538536071777344 Mb with prototype... 0.01680083700000523 s\n",
      "Processing (142, 142, 142) of 10.922576904296875 Mb with prototype... 0.05078759500003116 s\n",
      "Processing (176, 176, 176) of 20.796875 Mb with prototype... 0.07049927399998523 s\n",
      "Processing (201, 201, 201) of 30.97763442993164 Mb with prototype... 0.11031466000002865 s\n",
      "Processing (220, 220, 220) of 40.618896484375 Mb with prototype... 0.12024660899999162 s\n",
      "Processing (237, 237, 237) of 50.78145217895508 Mb with prototype... 0.15569026299999678 s\n",
      "Processing (251, 251, 251) of 60.3227653503418 Mb with prototype... 0.18670620000000326 s\n",
      "Processing (265, 265, 265) of 70.99008560180664 Mb with prototype... 0.16903002199995854 s\n",
      "Processing (276, 276, 276) of 80.202392578125 Mb with prototype... 0.17883518299998968 s\n",
      "Processing (287, 287, 287) of 90.17907333374023 Mb with prototype... 0.20296642499999962 s\n",
      "Processing (298, 298, 298) of 100.95059204101562 Mb with prototype... 0.21382391399998824 s\n",
      "Processing (307, 307, 307) of 110.37614059448242 Mb with prototype... 0.2804202859999805 s\n",
      "Processing (316, 316, 316) of 120.370849609375 Mb with prototype... 0.23312638199996627 s\n",
      "Processing (325, 325, 325) of 130.9514045715332 Mb with prototype... 0.25815049800002043 s\n",
      "Processing (333, 333, 333) of 140.86165237426758 Mb with prototype... 0.27811181199996327 s\n",
      "Processing (340, 340, 340) of 149.932861328125 Mb with prototype... 0.27939852800000153 s\n",
      "Processing (348, 348, 348) of 160.767333984375 Mb with prototype... 0.29804894300002616 s\n",
      "Processing (355, 355, 355) of 170.66526412963867 Mb with prototype... 0.3265729990000068 s\n",
      "Processing (362, 362, 362) of 180.96133422851562 Mb with prototype... 0.3360741140000414 s\n",
      "Processing (368, 368, 368) of 190.109375 Mb with prototype... 0.32544752900003004 s\n"
     ]
    }
   ],
   "source": [
    "prototype_benchmark_data = benchmark_function(prototype_function, \"histogram\", \"prototype\")"
   ]
  },
  {
   "cell_type": "markdown",
   "metadata": {},
   "source": [
    "### Skimage"
   ]
  },
  {
   "cell_type": "code",
   "execution_count": 7,
   "metadata": {},
   "outputs": [],
   "source": [
    "def skimage_function(image):\n",
    "    h, bc = histogram(image)"
   ]
  },
  {
   "cell_type": "code",
   "execution_count": 8,
   "metadata": {},
   "outputs": [
    {
     "name": "stdout",
     "output_type": "stream",
     "text": [
      "Processing (63, 63, 63) of 0.9538536071777344 Mb with scikit-image... 0.006891009000014492 s\n",
      "Processing (142, 142, 142) of 10.922576904296875 Mb with scikit-image... 0.07137406499998633 s\n",
      "Processing (176, 176, 176) of 20.796875 Mb with scikit-image... 0.1353950619999864 s\n",
      "Processing (201, 201, 201) of 30.97763442993164 Mb with scikit-image... 0.197926912000014 s\n",
      "Processing (220, 220, 220) of 40.618896484375 Mb with scikit-image... 0.277945093000028 s\n",
      "Processing (237, 237, 237) of 50.78145217895508 Mb with scikit-image... 0.34873335599996835 s\n",
      "Processing (251, 251, 251) of 60.3227653503418 Mb with scikit-image... 0.40844034000002694 s\n",
      "Processing (265, 265, 265) of 70.99008560180664 Mb with scikit-image... 0.4793353960000104 s\n",
      "Processing (276, 276, 276) of 80.202392578125 Mb with scikit-image... 0.5406298929999593 s\n",
      "Processing (287, 287, 287) of 90.17907333374023 Mb with scikit-image... 0.6124999479999929 s\n",
      "Processing (298, 298, 298) of 100.95059204101562 Mb with scikit-image... 0.6852008380000143 s\n",
      "Processing (307, 307, 307) of 110.37614059448242 Mb with scikit-image... 0.7457115540000245 s\n",
      "Processing (316, 316, 316) of 120.370849609375 Mb with scikit-image... 0.8078945130000079 s\n",
      "Processing (325, 325, 325) of 130.9514045715332 Mb with scikit-image... 0.877165663000028 s\n",
      "Processing (333, 333, 333) of 140.86165237426758 Mb with scikit-image... 0.9495966339999882 s\n",
      "Processing (340, 340, 340) of 149.932861328125 Mb with scikit-image... 1.0081139170000029 s\n",
      "Processing (348, 348, 348) of 160.767333984375 Mb with scikit-image... 1.090050725000026 s\n",
      "Processing (355, 355, 355) of 170.66526412963867 Mb with scikit-image... 1.1563776570000073 s\n",
      "Processing (362, 362, 362) of 180.96133422851562 Mb with scikit-image... 1.227245130999961 s\n",
      "Processing (368, 368, 368) of 190.109375 Mb with scikit-image... 1.272699934000002 s\n"
     ]
    }
   ],
   "source": [
    "skimage_benchmark_data = benchmark_function(skimage_function, \"histogram\", \"scikit-image\")"
   ]
  },
  {
   "cell_type": "markdown",
   "metadata": {},
   "source": [
    "# Results"
   ]
  },
  {
   "cell_type": "code",
   "execution_count": 9,
   "metadata": {},
   "outputs": [
    {
     "data": {
      "image/png": "[encoded data removed]",
      "text/plain": [
       "<Figure size 640x480 with 1 Axes>"
      ]
     },
     "metadata": {},
     "output_type": "display_data"
    }
   ],
   "source": [
    "import seaborn as sns\n",
    "\n",
    "bench = pd.concat([skimage_benchmark_data, pycle_benchmark_data, prototype_benchmark_data])\n",
    "\n",
    "sns.lineplot(data=bench, x=\"size\", y=\"time\", hue=\"framework\")\n",
    "plt.title(\"Histogram\")\n",
    "plt.xlabel(\"Image size in Mb\")\n",
    "plt.ylabel(\"Time in s\")\n",
    "plt.show()"
   ]
  }
 ],
 "metadata": {
  "kernelspec": {
   "display_name": "Python 3.10.4 ('skbuild')",
   "language": "python",
   "name": "python3"
  },
  "language_info": {
   "codemirror_mode": {
    "name": "ipython",
    "version": 3
   },
   "file_extension": ".py",
   "mimetype": "text/x-python",
   "name": "python",
   "nbconvert_exporter": "python",
   "pygments_lexer": "ipython3",
   "version": "3.10.4"
  },
  "vscode": {
   "interpreter": {
    "hash": "1bf89b5e425e511e6208a82dd7a3225392f448ad069ddd9557f507f6073233bf"
   }
  }
 },
 "nbformat": 4,
 "nbformat_minor": 4
}
