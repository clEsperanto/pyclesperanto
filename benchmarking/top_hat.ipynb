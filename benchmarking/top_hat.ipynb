{
 "cells": [
  {
   "cell_type": "markdown",
   "metadata": {},
   "source": [
    "# Background subtraction using top-hat in scikit-image and pyclesperanto\n",
    "This notebook compares different implementations of a background subtraction method.\n",
    "\n",
    "**Note:** benchmarking results vary heavily depending on image size, kernel size, used operations, parameters and used hardware. Use this notebook to adapt it to your use-case scenario and benchmark on your target hardware. If you have different scenarios or use-cases, you are very welcome to submit your notebook as pull-request!"
   ]
  },
  {
   "cell_type": "code",
   "execution_count": 1,
   "metadata": {
    "tags": []
   },
   "outputs": [
    {
     "data": {
      "text/plain": [
       "<NVIDIA GeForce RTX 3050 Ti Laptop GPU on Platform: NVIDIA CUDA (1 refs)>"
      ]
     },
     "execution_count": 1,
     "metadata": {},
     "output_type": "execute_result"
    }
   ],
   "source": [
    "import pyclesperanto_prototype as cle\n",
    "import pyclesperanto as pcle\n",
    "\n",
    "from skimage import morphology\n",
    "import time\n",
    "\n",
    "# to measure kernel execution duration properly, we need to set this flag. It will slow down exection of workflows a bit though\n",
    "cle.set_wait_for_kernel_finish(True)\n",
    "\n",
    "# selet a GPU with the following in the name. This will fallback to any other GPU if none with this name is found\n",
    "cle.select_device('RTX')"
   ]
  },
  {
   "cell_type": "code",
   "execution_count": 2,
   "metadata": {
    "tags": []
   },
   "outputs": [
    {
     "data": {
      "text/plain": [
       "(OpenCL) NVIDIA GeForce RTX 3050 Ti Laptop GPU (OpenCL 3.0 CUDA)\n",
       "\tType: GPU\n",
       "\tCompute Units: 20\n",
       "\tGlobal Memory Size: 4294 MB\n",
       "\tMaximum Object Size: 1073 MB"
      ]
     },
     "execution_count": 2,
     "metadata": {},
     "output_type": "execute_result"
    }
   ],
   "source": [
    "pcle.set_wait_for_kernel_to_finish(True)\n",
    "pcle.select_device('RTX')"
   ]
  },
  {
   "cell_type": "code",
   "execution_count": 3,
   "metadata": {
    "tags": []
   },
   "outputs": [],
   "source": [
    "radius = 10\n",
    "disk_kernel = morphology.cube(radius)\n",
    "square_kernel = morphology.ball(radius)"
   ]
  },
  {
   "cell_type": "code",
   "execution_count": 4,
   "metadata": {
    "tags": []
   },
   "outputs": [],
   "source": [
    "# test data\n",
    "import numpy as np\n",
    "\n",
    "test_image = np.random.random([50, 1024, 1024]).astype(np.uint8)"
   ]
  },
  {
   "cell_type": "code",
   "execution_count": 5,
   "metadata": {},
   "outputs": [
    {
     "name": "stdout",
     "output_type": "stream",
     "text": [
      "pyclesperanto_prototype top-hat-shere duration: 0.7882978916168213\n",
      "pyclesperanto_prototype top-hat-shere duration: 0.6845459938049316\n",
      "pyclesperanto_prototype top-hat-shere duration: 0.6968636512756348\n",
      "pyclesperanto_prototype top-hat-shere duration: 0.7028279304504395\n",
      "pyclesperanto_prototype top-hat-shere duration: 0.7037627696990967\n"
     ]
    }
   ],
   "source": [
    "# top-hat (disk) with pyclesperanto_prototype\n",
    "result_image = None\n",
    "\n",
    "test_image_gpu = cle.push(test_image)\n",
    "\n",
    "for i in range(0, 5):\n",
    "    start_time = time.time()\n",
    "    result_image = cle.top_hat_sphere(test_image_gpu, result_image, radius_x=radius, radius_y=radius)\n",
    "    print(\"pyclesperanto_prototype top-hat-shere duration: \" + str(time.time() - start_time))"
   ]
  },
  {
   "cell_type": "code",
   "execution_count": 6,
   "metadata": {
    "tags": []
   },
   "outputs": [
    {
     "name": "stdout",
     "output_type": "stream",
     "text": [
      "pyclesperanto top-hat-shere duration: 0.7257959842681885\n",
      "pyclesperanto top-hat-shere duration: 0.7705111503601074\n",
      "pyclesperanto top-hat-shere duration: 0.7923500537872314\n",
      "pyclesperanto top-hat-shere duration: 0.7839434146881104\n",
      "pyclesperanto top-hat-shere duration: 0.8082761764526367\n"
     ]
    }
   ],
   "source": [
    "# top-hat (disk) with pyclesperanto\n",
    "result_image = None\n",
    "\n",
    "test_image_gpu = pcle.push(test_image)\n",
    "\n",
    "for i in range(0, 5):\n",
    "    start_time = time.time()\n",
    "    result_image = pcle.top_hat_sphere(test_image_gpu, result_image, radius_x=radius, radius_y=radius)\n",
    "    print(\"pyclesperanto top-hat-shere duration: \" + str(time.time() - start_time))"
   ]
  },
  {
   "cell_type": "code",
   "execution_count": 7,
   "metadata": {},
   "outputs": [
    {
     "name": "stdout",
     "output_type": "stream",
     "text": [
      "pyclesperanto_prototype top-hat-box duration: 0.12350010871887207\n",
      "pyclesperanto_prototype top-hat-box duration: 0.10972404479980469\n",
      "pyclesperanto_prototype top-hat-box duration: 0.12705731391906738\n",
      "pyclesperanto_prototype top-hat-box duration: 0.12716078758239746\n",
      "pyclesperanto_prototype top-hat-box duration: 0.11434435844421387\n"
     ]
    }
   ],
   "source": [
    "# top-hat (square) using pyclesperanto_prototype\n",
    "result_image = None\n",
    "\n",
    "test_image_gpu = cle.push(test_image)\n",
    "\n",
    "for i in range(0, 5):\n",
    "    start_time = time.time()\n",
    "    result_image = cle.top_hat_box(test_image_gpu, result_image, radius_x=radius, radius_y=radius)\n",
    "    print(\"pyclesperanto_prototype top-hat-box duration: \" + str(time.time() - start_time))"
   ]
  },
  {
   "cell_type": "code",
   "execution_count": 8,
   "metadata": {
    "tags": []
   },
   "outputs": [
    {
     "name": "stdout",
     "output_type": "stream",
     "text": [
      "pyclesperanto top-hat-box duration: 0.07483768463134766\n",
      "pyclesperanto top-hat-box duration: 0.0700376033782959\n",
      "pyclesperanto top-hat-box duration: 0.06687235832214355\n",
      "pyclesperanto top-hat-box duration: 0.06766104698181152\n",
      "pyclesperanto top-hat-box duration: 0.06505084037780762\n"
     ]
    }
   ],
   "source": [
    "# top-hat (square) using pyclesperanto\n",
    "result_image = None\n",
    "\n",
    "test_image_gpu = pcle.push(test_image)\n",
    "\n",
    "for i in range(0, 5):\n",
    "    start_time = time.time()\n",
    "    result_image = pcle.top_hat_box(test_image_gpu, result_image, radius_x=radius, radius_y=radius)\n",
    "    print(\"pyclesperanto top-hat-box duration: \" + str(time.time() - start_time))"
   ]
  },
  {
   "cell_type": "code",
   "execution_count": null,
   "metadata": {
    "tags": []
   },
   "outputs": [
    {
     "name": "stdout",
     "output_type": "stream",
     "text": [
      "skimage top-hat disk duration: 10.84842848777771\n",
      "skimage top-hat disk duration: 10.608829975128174\n",
      "skimage top-hat disk duration: 10.623921155929565\n"
     ]
    }
   ],
   "source": [
    "# top-hat (disk) with scikit-image\n",
    "result_image = None\n",
    "\n",
    "for i in range(0, 5):\n",
    "    start_time = time.time()\n",
    "    result_image = morphology.white_tophat(test_image, footprint=disk_kernel)\n",
    "    print(\"skimage top-hat disk duration: \" + str(time.time() - start_time))"
   ]
  },
  {
   "cell_type": "code",
   "execution_count": null,
   "metadata": {
    "tags": []
   },
   "outputs": [],
   "source": [
    "# top-hat (square) with scikit-image\n",
    "result_image = None\n",
    "\n",
    "for i in range(0, 5):\n",
    "    start_time = time.time()\n",
    "    result_image = morphology.white_tophat(test_image, footprint=square_kernel)\n",
    "    print(\"skimage top-hat square duration: \" + str(time.time() - start_time))"
   ]
  },
  {
   "cell_type": "code",
   "execution_count": null,
   "metadata": {},
   "outputs": [],
   "source": []
  }
 ],
 "metadata": {
  "kernelspec": {
   "display_name": "Python 3 (ipykernel)",
   "language": "python",
   "name": "python3"
  },
  "language_info": {
   "codemirror_mode": {
    "name": "ipython",
    "version": 3
   },
   "file_extension": ".py",
   "mimetype": "text/x-python",
   "name": "python",
   "nbconvert_exporter": "python",
   "pygments_lexer": "ipython3",
   "version": "3.9.19"
  }
 },
 "nbformat": 4,
 "nbformat_minor": 4
}
