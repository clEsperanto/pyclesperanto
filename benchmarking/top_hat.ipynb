{
 "cells": [
  {
   "cell_type": "markdown",
   "metadata": {},
   "source": [
    "# Background subtraction using top-hat in scikit-image and pyclesperanto\n",
    "This notebook compares different implementations of a background subtraction method.\n",
    "\n",
    "**Note:** benchmarking results vary heavily depending on image size, kernel size, used operations, parameters and used hardware. Use this notebook to adapt it to your use-case scenario and benchmark on your target hardware. If you have different scenarios or use-cases, you are very welcome to submit your notebook as pull-request!"
   ]
  },
  {
   "cell_type": "code",
   "execution_count": 1,
   "metadata": {
    "tags": []
   },
   "outputs": [
    {
     "data": {
      "text/plain": [
       "<NVIDIA GeForce RTX 4090 on Platform: NVIDIA CUDA (1 refs)>"
      ]
     },
     "execution_count": 1,
     "metadata": {},
     "output_type": "execute_result"
    }
   ],
   "source": [
    "import pyclesperanto_prototype as cle\n",
    "import pyclesperanto as pcle\n",
    "\n",
    "from skimage import morphology\n",
    "import time\n",
    "\n",
    "# to measure kernel execution duration properly, we need to set this flag. It will slow down exection of workflows a bit though\n",
    "cle.set_wait_for_kernel_finish(True)\n",
    "\n",
    "# selet a GPU with the following in the name. This will fallback to any other GPU if none with this name is found\n",
    "cle.select_device('RTX')"
   ]
  },
  {
   "cell_type": "code",
   "execution_count": 2,
   "metadata": {
    "tags": []
   },
   "outputs": [
    {
     "data": {
      "text/plain": [
       "(OpenCL) NVIDIA GeForce RTX 4090 (OpenCL 3.0 CUDA)\n",
       "\tType: GPU\n",
       "\tCompute Units: 128\n",
       "\tGlobal Memory Size: 25358 MB\n",
       "\tMaximum Object Size: 6339 MB"
      ]
     },
     "execution_count": 2,
     "metadata": {},
     "output_type": "execute_result"
    }
   ],
   "source": [
    "pcle.set_wait_for_kernel_to_finish(True)\n",
    "pcle.select_device('RTX')"
   ]
  },
  {
   "cell_type": "code",
   "execution_count": 3,
   "metadata": {
    "tags": []
   },
   "outputs": [],
   "source": [
    "radius = 10\n",
    "disk_kernel = morphology.ball(radius)\n",
    "square_kernel = morphology.cube(radius)"
   ]
  },
  {
   "cell_type": "code",
   "execution_count": 4,
   "metadata": {
    "tags": []
   },
   "outputs": [],
   "source": [
    "# test data\n",
    "import numpy as np\n",
    "\n",
    "test_image = np.random.random([50, 1024, 1024]).astype(np.uint8)"
   ]
  },
  {
   "cell_type": "code",
   "execution_count": 5,
   "metadata": {},
   "outputs": [
    {
     "name": "stdout",
     "output_type": "stream",
     "text": [
      "pyclesperanto_prototype top-hat-shere duration: 0.07216572761535645\n",
      "pyclesperanto_prototype top-hat-shere duration: 0.06630992889404297\n",
      "pyclesperanto_prototype top-hat-shere duration: 0.0659325122833252\n",
      "pyclesperanto_prototype top-hat-shere duration: 0.06356620788574219\n",
      "pyclesperanto_prototype top-hat-shere duration: 0.06781673431396484\n"
     ]
    }
   ],
   "source": [
    "# top-hat (disk) with pyclesperanto_prototype\n",
    "result_image = None\n",
    "\n",
    "test_image_gpu = cle.push(test_image)\n",
    "\n",
    "for i in range(0, 5):\n",
    "    start_time = time.time()\n",
    "    result_image = cle.top_hat_sphere(test_image_gpu, result_image, radius_x=radius, radius_y=radius)\n",
    "    print(\"pyclesperanto_prototype top-hat-shere duration: \" + str(time.time() - start_time))"
   ]
  },
  {
   "cell_type": "code",
   "execution_count": 6,
   "metadata": {
    "tags": []
   },
   "outputs": [
    {
     "name": "stdout",
     "output_type": "stream",
     "text": [
      "pyclesperanto top-hat-shere duration: 0.06919169425964355\n",
      "pyclesperanto top-hat-shere duration: 0.06446290016174316\n",
      "pyclesperanto top-hat-shere duration: 0.06555461883544922\n",
      "pyclesperanto top-hat-shere duration: 0.06267595291137695\n",
      "pyclesperanto top-hat-shere duration: 0.06412076950073242\n"
     ]
    }
   ],
   "source": [
    "# top-hat (disk) with pyclesperanto\n",
    "result_image = None\n",
    "\n",
    "test_image_gpu = pcle.push(test_image)\n",
    "\n",
    "for i in range(0, 5):\n",
    "    start_time = time.time()\n",
    "    result_image = pcle.top_hat(test_image_gpu, result_image, radius_x=radius, radius_y=radius, connectivity=\"sphere\")\n",
    "    print(\"pyclesperanto top-hat-shere duration: \" + str(time.time() - start_time))"
   ]
  },
  {
   "cell_type": "code",
   "execution_count": 7,
   "metadata": {},
   "outputs": [
    {
     "name": "stdout",
     "output_type": "stream",
     "text": [
      "pyclesperanto_prototype top-hat-box duration: 0.02030634880065918\n",
      "pyclesperanto_prototype top-hat-box duration: 0.02023458480834961\n",
      "pyclesperanto_prototype top-hat-box duration: 0.02082657814025879\n",
      "pyclesperanto_prototype top-hat-box duration: 0.020810842514038086\n",
      "pyclesperanto_prototype top-hat-box duration: 0.02071523666381836\n"
     ]
    }
   ],
   "source": [
    "# top-hat (square) using pyclesperanto_prototype\n",
    "result_image = None\n",
    "\n",
    "test_image_gpu = cle.push(test_image)\n",
    "\n",
    "for i in range(0, 5):\n",
    "    start_time = time.time()\n",
    "    result_image = cle.top_hat_box(test_image_gpu, result_image, radius_x=radius, radius_y=radius)\n",
    "    print(\"pyclesperanto_prototype top-hat-box duration: \" + str(time.time() - start_time))"
   ]
  },
  {
   "cell_type": "code",
   "execution_count": 8,
   "metadata": {
    "tags": []
   },
   "outputs": [
    {
     "name": "stdout",
     "output_type": "stream",
     "text": [
      "pyclesperanto top-hat-box duration: 0.01052713394165039\n",
      "pyclesperanto top-hat-box duration: 0.009463071823120117\n",
      "pyclesperanto top-hat-box duration: 0.009361982345581055\n",
      "pyclesperanto top-hat-box duration: 0.009383201599121094\n",
      "pyclesperanto top-hat-box duration: 0.010474681854248047\n"
     ]
    }
   ],
   "source": [
    "# top-hat (square) using pyclesperanto\n",
    "result_image = None\n",
    "\n",
    "test_image_gpu = pcle.push(test_image)\n",
    "\n",
    "for i in range(0, 5):\n",
    "    start_time = time.time()\n",
    "    result_image = pcle.top_hat(test_image_gpu, result_image, radius_x=radius, radius_y=radius, connectivity=\"box\")\n",
    "    print(\"pyclesperanto top-hat-box duration: \" + str(time.time() - start_time))"
   ]
  },
  {
   "cell_type": "code",
   "execution_count": 9,
   "metadata": {
    "tags": []
   },
   "outputs": [
    {
     "name": "stdout",
     "output_type": "stream",
     "text": [
      "skimage top-hat disk duration: 227.64173436164856\n",
      "skimage top-hat disk duration: 226.5375473499298\n",
      "skimage top-hat disk duration: 226.06916117668152\n",
      "skimage top-hat disk duration: 224.93067979812622\n",
      "skimage top-hat disk duration: 224.46945238113403\n"
     ]
    }
   ],
   "source": [
    "# top-hat (disk) with scikit-image\n",
    "result_image = None\n",
    "\n",
    "for i in range(0, 5):\n",
    "    start_time = time.time()\n",
    "    result_image = morphology.white_tophat(test_image, footprint=disk_kernel)\n",
    "    print(\"skimage top-hat disk duration: \" + str(time.time() - start_time))"
   ]
  },
  {
   "cell_type": "code",
   "execution_count": 10,
   "metadata": {
    "tags": []
   },
   "outputs": [
    {
     "name": "stdout",
     "output_type": "stream",
     "text": [
      "skimage top-hat square duration: 1.3502135276794434\n",
      "skimage top-hat square duration: 1.3517491817474365\n",
      "skimage top-hat square duration: 1.373570442199707\n",
      "skimage top-hat square duration: 1.3558220863342285\n",
      "skimage top-hat square duration: 1.373267412185669\n"
     ]
    }
   ],
   "source": [
    "# top-hat (square) with scikit-image`\n",
    "result_image = None\n",
    "\n",
    "for i in range(0, 5):\n",
    "    start_time = time.time()\n",
    "    result_image = morphology.white_tophat(test_image, footprint=square_kernel)\n",
    "    print(\"skimage top-hat square duration: \" + str(time.time() - start_time))"
   ]
  },
  {
   "cell_type": "markdown",
   "metadata": {},
   "source": [
    "### Impact of `dtype` on speed"
   ]
  },
  {
   "cell_type": "code",
   "execution_count": 14,
   "metadata": {},
   "outputs": [],
   "source": [
    "test_image = np.random.random([50, 1024, 1024]).astype(np.float32)"
   ]
  },
  {
   "cell_type": "code",
   "execution_count": 15,
   "metadata": {},
   "outputs": [
    {
     "name": "stdout",
     "output_type": "stream",
     "text": [
      "pyclesperanto_prototype top-hat-box duration: 0.01829671859741211\n",
      "pyclesperanto_prototype top-hat-box duration: 0.020997285842895508\n",
      "pyclesperanto_prototype top-hat-box duration: 0.020043611526489258\n",
      "pyclesperanto_prototype top-hat-box duration: 0.019987821578979492\n",
      "pyclesperanto_prototype top-hat-box duration: 0.020021915435791016\n"
     ]
    }
   ],
   "source": [
    "# top-hat (square) using prototype\n",
    "result_image = None\n",
    "\n",
    "test_image_gpu = cle.push(test_image)\n",
    "\n",
    "for i in range(0, 5):\n",
    "    start_time = time.time()\n",
    "    result_image = cle.top_hat_box(test_image_gpu, result_image, radius_x=radius, radius_y=radius)\n",
    "    print(\"pyclesperanto_prototype top-hat-box duration: \" + str(time.time() - start_time))"
   ]
  },
  {
   "cell_type": "code",
   "execution_count": 16,
   "metadata": {},
   "outputs": [
    {
     "name": "stdout",
     "output_type": "stream",
     "text": [
      "pyclesperanto top-hat-box duration: 0.017570018768310547\n",
      "pyclesperanto top-hat-box duration: 0.018915653228759766\n",
      "pyclesperanto top-hat-box duration: 0.019094467163085938\n",
      "pyclesperanto top-hat-box duration: 0.017920494079589844\n",
      "pyclesperanto top-hat-box duration: 0.017951011657714844\n"
     ]
    }
   ],
   "source": [
    "# top-hat (square) using pyclesperanto\n",
    "result_image = None\n",
    "\n",
    "test_image_gpu = pcle.push(test_image)\n",
    "\n",
    "for i in range(0, 5):\n",
    "    start_time = time.time()\n",
    "    result_image = pcle.top_hat(test_image_gpu, result_image, radius_x=radius, radius_y=radius, connectivity=\"box\")\n",
    "    print(\"pyclesperanto top-hat-box duration: \" + str(time.time() - start_time))"
   ]
  },
  {
   "cell_type": "code",
   "execution_count": null,
   "metadata": {},
   "outputs": [],
   "source": []
  }
 ],
 "metadata": {
  "kernelspec": {
   "display_name": "Python 3 (ipykernel)",
   "language": "python",
   "name": "python3"
  },
  "language_info": {
   "codemirror_mode": {
    "name": "ipython",
    "version": 3
   },
   "file_extension": ".py",
   "mimetype": "text/x-python",
   "name": "python",
   "nbconvert_exporter": "python",
   "pygments_lexer": "ipython3",
   "version": "3.12.2"
  }
 },
 "nbformat": 4,
 "nbformat_minor": 4
}
