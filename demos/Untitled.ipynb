{
 "cells": [
  {
   "cell_type": "code",
   "execution_count": 1,
   "id": "3183060c-7ec0-442c-aa5b-1b2575ef3086",
   "metadata": {},
   "outputs": [],
   "source": [
    "import pyclesperanto as cle"
   ]
  },
  {
   "cell_type": "code",
   "execution_count": 2,
   "id": "f6b15ef4-44ad-456e-a097-66652310f719",
   "metadata": {},
   "outputs": [],
   "source": [
    "import numpy as np\n",
    "\n",
    "arr = np.asarray( \n",
    "    [\n",
    "        [ 1, 2, 3, 4, 5, 6, 7, 8, 9,10],\n",
    "        [11,12,13,14,15,16,17,18,19,20]\n",
    "    ]\n",
    ")"
   ]
  },
  {
   "cell_type": "code",
   "execution_count": 3,
   "id": "515cc432-9562-43f1-b010-97796e362131",
   "metadata": {},
   "outputs": [
    {
     "name": "stdout",
     "output_type": "stream",
     "text": [
      "copy data:\n",
      "0 0 0 0 0 0 0 0 0 0 \n",
      "0 0 0 0 0 0 0 0 0 0 \n",
      "FFT execute\n",
      "FFT forward is done\n",
      "Complex data:\n",
      "2.94273e-43 0 -1.4013e-44 4.48416e-44 -1.12104e-44 2.24208e-44 -1.68156e-44 1.12104e-44 -1.4013e-44 5.60519e-45 -1.4013e-44 0 \n",
      "-1.4013e-43 0 0 0 0 0 0 0 0 0 0 0 \n",
      "Starting FFT backward\n",
      "FFT backward is done\n"
     ]
    },
    {
     "name": "stderr",
     "output_type": "stream",
     "text": [
      "Error querying for program binary sizes\n",
      "Error querying for program binary sizes\n",
      "Error querying for program binary sizes\n",
      "Error querying for program binary sizes\n",
      "Error querying for program binary sizes\n",
      "Error querying for program binary sizes\n"
     ]
    },
    {
     "data": {
      "text/html": [
       "<pre>array([[ 1,  2,  3,  4,  5,  6,  7,  8,  9, 11],\n",
       "       [11, 12, 13, 14, 15, 16, 17, 18, 19, 21]], dtype=int32, mtype=buffer)</pre>"
      ],
      "text/plain": [
       "array([[ 1,  2,  3,  4,  5,  6,  7,  8,  9, 11],\n",
       "       [11, 12, 13, 14, 15, 16, 17, 18, 19, 21]], dtype=int32, mtype=buffer)"
      ]
     },
     "execution_count": 3,
     "metadata": {},
     "output_type": "execute_result"
    }
   ],
   "source": [
    "cle.__experimental__.fft_test(cle.push(arr))"
   ]
  },
  {
   "cell_type": "code",
   "execution_count": null,
   "id": "75ba7b9d-331d-4dd5-be14-78d428959cde",
   "metadata": {},
   "outputs": [],
   "source": []
  }
 ],
 "metadata": {
  "kernelspec": {
   "display_name": "Python 3 (ipykernel)",
   "language": "python",
   "name": "python3"
  },
  "language_info": {
   "codemirror_mode": {
    "name": "ipython",
    "version": 3
   },
   "file_extension": ".py",
   "mimetype": "text/x-python",
   "name": "python",
   "nbconvert_exporter": "python",
   "pygments_lexer": "ipython3",
   "version": "3.12.7"
  }
 },
 "nbformat": 4,
 "nbformat_minor": 5
}
