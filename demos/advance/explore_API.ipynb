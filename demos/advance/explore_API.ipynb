{
 "cells": [
  {
   "cell_type": "markdown",
   "id": "4cd93242-5991-42ac-b326-4402d67b7e87",
   "metadata": {},
   "source": [
    "# Exploring the pyclesperanto application programming interface (API)\n",
    "pyclesperanto can tell you which operations are available. `operations()` serves a dictionary with all availabe operations."
   ]
  },
  {
   "cell_type": "code",
   "execution_count": 1,
   "id": "0f0509f1-d45e-4991-8f48-16b286ef82a6",
   "metadata": {},
   "outputs": [
    {
     "name": "stdout",
     "output_type": "stream",
     "text": [
      "pyclesperanto version: 0.6.5\n"
     ]
    },
    {
     "data": {
      "text/plain": [
       "<cle::Processor (NVIDIA GeForce RTX 3050 Ti Laptop GPU)>"
      ]
     },
     "execution_count": 1,
     "metadata": {},
     "output_type": "execute_result"
    }
   ],
   "source": [
    "import pyclesperanto as cle\n",
    "\n",
    "cle.select_device(\"TX\")"
   ]
  },
  {
   "cell_type": "code",
   "execution_count": 2,
   "id": "9e91f98b-544c-4bb4-bda7-6628dfafec5a",
   "metadata": {},
   "outputs": [
    {
     "name": "stdout",
     "output_type": "stream",
     "text": [
      "Image\n",
      "__builtins__\n",
      "__cached__\n",
      "__common_alias__\n",
      "__doc__\n",
      "__file__\n",
      "__loader__\n",
      "__name__\n",
      "__package__\n",
      "__path__\n",
      "__spec__\n",
      "__version__\n",
      "_decorators\n",
      "_device\n",
      "_functionalities\n",
      "_image\n",
      "_image_operators\n",
      "_memory_operations\n",
      "_pyclesperanto\n",
      "_tier1\n",
      "_tier2\n",
      "_tier3\n",
      "_tier4\n",
      "_tier5\n",
      "_tier6\n",
      "_version\n",
      "add_image_and_scalar\n",
      "add_images_weighted\n",
      "binary_and\n",
      "binary_not\n",
      "binary_or\n",
      "binary_subtract\n",
      "binary_xor\n",
      "buffer\n",
      "connected_components_labeling_box\n",
      "copy\n",
      "create\n",
      "create_like\n",
      "dType\n",
      "detect_maxima_box\n",
      "difference_of_gaussian\n",
      "dilate_sphere\n",
      "erode_sphere\n",
      "extend_labeling_via_voronoi\n",
      "float\n",
      "gaussian_blur\n",
      "get_device\n",
      "greater_or_equal\n",
      "greater_or_equal_constant\n",
      "histogram\n",
      "image\n",
      "imshow\n",
      "info\n",
      "int16\n",
      "int32\n",
      "int8\n",
      "list_available_devices\n",
      "mType\n",
      "masked_voronoi_labeling\n",
      "maximum_box\n",
      "maximum_of_all_pixels\n",
      "maximum_x_projection\n",
      "maximum_y_projection\n",
      "maximum_z_projection\n",
      "mean_box\n",
      "minimum_box\n",
      "minimum_of_all_pixels\n",
      "os\n",
      "pull\n",
      "push\n",
      "select_device\n",
      "set_wait_for_kernel_to_finish\n",
      "sobel\n",
      "subtract_image_from_scalar\n",
      "sum_of_all_pixels\n",
      "threshold_otsu\n",
      "top_hat_box\n",
      "uint16\n",
      "uint32\n",
      "uint8\n",
      "voronoi_otsu_labeling\n"
     ]
    }
   ],
   "source": [
    "for k in dir(cle):\n",
    "    print(k)"
   ]
  },
  {
   "cell_type": "markdown",
   "id": "e1e5386e-fb4b-4cb2-8828-e067968f147f",
   "metadata": {},
   "source": [
    "It can give you an operation if you ask it for its name"
   ]
  },
  {
   "cell_type": "code",
   "execution_count": 3,
   "id": "d753c3e6-caf3-485f-aae0-4f5bcc146470",
   "metadata": {},
   "outputs": [
    {
     "data": {
      "text/plain": [
       "<function pyclesperanto.add_image_and_scalar(input_image: Union[numpy.ndarray, pyclesperanto._image.cleImage], output_image: Union[numpy.ndarray, pyclesperanto._image.cleImage] = None, scalar: float = 0, device: pyclesperanto._device.Device = None) -> Union[numpy.ndarray, pyclesperanto._image.cleImage]>"
      ]
     },
     "execution_count": 3,
     "metadata": {},
     "output_type": "execute_result"
    }
   ],
   "source": [
    "getattr(cle, \"add_image_and_scalar\")"
   ]
  },
  {
   "cell_type": "markdown",
   "id": "e9e34212-3652-4bb0-8aac-701ef2a551d4",
   "metadata": {},
   "source": [
    "You can also read the functions' documentation using `?` and `help()`."
   ]
  },
  {
   "cell_type": "code",
   "execution_count": 4,
   "id": "b0d8a471-82fa-4829-978a-0c61193d063f",
   "metadata": {},
   "outputs": [
    {
     "data": {
      "text/plain": [
       "\u001b[1;31mSignature:\u001b[0m\n",
       "\u001b[0mcle\u001b[0m\u001b[1;33m.\u001b[0m\u001b[0madd_image_and_scalar\u001b[0m\u001b[1;33m(\u001b[0m\u001b[1;33m\n",
       "\u001b[0m    \u001b[0minput_image\u001b[0m\u001b[1;33m:\u001b[0m \u001b[0mUnion\u001b[0m\u001b[1;33m[\u001b[0m\u001b[0mnumpy\u001b[0m\u001b[1;33m.\u001b[0m\u001b[0mndarray\u001b[0m\u001b[1;33m,\u001b[0m \u001b[0mpyclesperanto\u001b[0m\u001b[1;33m.\u001b[0m\u001b[0m_image\u001b[0m\u001b[1;33m.\u001b[0m\u001b[0mcleImage\u001b[0m\u001b[1;33m]\u001b[0m\u001b[1;33m,\u001b[0m\u001b[1;33m\n",
       "\u001b[0m    \u001b[0moutput_image\u001b[0m\u001b[1;33m:\u001b[0m \u001b[0mUnion\u001b[0m\u001b[1;33m[\u001b[0m\u001b[0mnumpy\u001b[0m\u001b[1;33m.\u001b[0m\u001b[0mndarray\u001b[0m\u001b[1;33m,\u001b[0m \u001b[0mpyclesperanto\u001b[0m\u001b[1;33m.\u001b[0m\u001b[0m_image\u001b[0m\u001b[1;33m.\u001b[0m\u001b[0mcleImage\u001b[0m\u001b[1;33m]\u001b[0m \u001b[1;33m=\u001b[0m \u001b[1;32mNone\u001b[0m\u001b[1;33m,\u001b[0m\u001b[1;33m\n",
       "\u001b[0m    \u001b[0mscalar\u001b[0m\u001b[1;33m:\u001b[0m \u001b[0mfloat\u001b[0m \u001b[1;33m=\u001b[0m \u001b[1;36m0\u001b[0m\u001b[1;33m,\u001b[0m\u001b[1;33m\n",
       "\u001b[0m    \u001b[0mdevice\u001b[0m\u001b[1;33m:\u001b[0m \u001b[0mpyclesperanto\u001b[0m\u001b[1;33m.\u001b[0m\u001b[0m_device\u001b[0m\u001b[1;33m.\u001b[0m\u001b[0mDevice\u001b[0m \u001b[1;33m=\u001b[0m \u001b[1;32mNone\u001b[0m\u001b[1;33m,\u001b[0m\u001b[1;33m\n",
       "\u001b[0m\u001b[1;33m)\u001b[0m \u001b[1;33m->\u001b[0m \u001b[0mUnion\u001b[0m\u001b[1;33m[\u001b[0m\u001b[0mnumpy\u001b[0m\u001b[1;33m.\u001b[0m\u001b[0mndarray\u001b[0m\u001b[1;33m,\u001b[0m \u001b[0mpyclesperanto\u001b[0m\u001b[1;33m.\u001b[0m\u001b[0m_image\u001b[0m\u001b[1;33m.\u001b[0m\u001b[0mcleImage\u001b[0m\u001b[1;33m]\u001b[0m\u001b[1;33m\u001b[0m\u001b[1;33m\u001b[0m\u001b[0m\n",
       "\u001b[1;31mDocstring:\u001b[0m\n",
       "Adds a scalar value s to all pixels x of a given image X.\n",
       "\n",
       "<pre>f(x, s) = x + s</pre>\n",
       "\n",
       "Parameters\n",
       "----------\n",
       "input_image : Image\n",
       "    The input image where scalare should be added.\n",
       "output_image : Image, optional\n",
       "    The output image where results are written into.\n",
       "scalar : float, optional\n",
       "    The constant number which will be added to all pixels.\n",
       "\n",
       "\n",
       "Returns\n",
       "-------\n",
       "output_image\n",
       "\u001b[1;31mFile:\u001b[0m      c:\\users\\haase\\mambaforge\\envs\\bio39\\lib\\site-packages\\pyclesperanto\\_tier1.py\n",
       "\u001b[1;31mType:\u001b[0m      function\n"
      ]
     },
     "metadata": {},
     "output_type": "display_data"
    }
   ],
   "source": [
    "cle.add_image_and_scalar?"
   ]
  },
  {
   "cell_type": "code",
   "execution_count": 5,
   "id": "17deb4e5-a966-416e-9a82-dc284f42e06f",
   "metadata": {},
   "outputs": [
    {
     "name": "stdout",
     "output_type": "stream",
     "text": [
      "Help on function add_image_and_scalar in module pyclesperanto:\n",
      "\n",
      "add_image_and_scalar(input_image: Union[numpy.ndarray, pyclesperanto._image.cleImage], output_image: Union[numpy.ndarray, pyclesperanto._image.cleImage] = None, scalar: float = 0, device: pyclesperanto._device.Device = None) -> Union[numpy.ndarray, pyclesperanto._image.cleImage]\n",
      "    Adds a scalar value s to all pixels x of a given image X.\n",
      "    \n",
      "    <pre>f(x, s) = x + s</pre>\n",
      "    \n",
      "    Parameters\n",
      "    ----------\n",
      "    input_image : Image\n",
      "        The input image where scalare should be added.\n",
      "    output_image : Image, optional\n",
      "        The output image where results are written into.\n",
      "    scalar : float, optional\n",
      "        The constant number which will be added to all pixels.\n",
      "    \n",
      "    \n",
      "    Returns\n",
      "    -------\n",
      "    output_image\n",
      "\n"
     ]
    }
   ],
   "source": [
    "help(cle.add_image_and_scalar)"
   ]
  },
  {
   "cell_type": "code",
   "execution_count": null,
   "id": "9f2d0d08-1c12-4c18-849d-6be2723ed364",
   "metadata": {},
   "outputs": [],
   "source": []
  }
 ],
 "metadata": {
  "kernelspec": {
   "display_name": "Python 3 (ipykernel)",
   "language": "python",
   "name": "python3"
  },
  "language_info": {
   "codemirror_mode": {
    "name": "ipython",
    "version": 3
   },
   "file_extension": ".py",
   "mimetype": "text/x-python",
   "name": "python",
   "nbconvert_exporter": "python",
   "pygments_lexer": "ipython3",
   "version": "3.9.15"
  }
 },
 "nbformat": 4,
 "nbformat_minor": 5
}
