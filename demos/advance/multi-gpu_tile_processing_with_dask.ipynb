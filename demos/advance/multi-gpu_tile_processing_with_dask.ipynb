{
 "cells": [
  {
   "cell_type": "markdown",
   "id": "b9b664ef-769d-4892-b858-c2c1cdfcc476",
   "metadata": {},
   "source": [
    "# Tile processing accross multiple devices\n",
    "\n",
    "In this notebook we will process a large dataset that has been saved in zarr format to count cells. Here, the dataset does not fit our device memory or possiblity our system memory. Hence, we have to split our dataset in tiles and process them individually accross the different available devices of our system. \n",
    "\n",
    "We will use `dask` to distribute our processing function accross our tiled dataset. For every tile, we will fetch a device, load the tile in it, process it to get the number of cell, and write the number in a pixel of an output image. Hence, we are producing a cell-count image that is smaller than the original image by a factor that corresponds to the tile size."
   ]
  },
  {
   "cell_type": "code",
   "execution_count": 1,
   "id": "d4c6a250-a854-498e-bedd-6686c7810893",
   "metadata": {},
   "outputs": [],
   "source": [
    "import skimage\n",
    "import zarr\n",
    "import os\n",
    "import shutil\n",
    "import gc\n",
    "import timeit\n",
    "\n",
    "import pyclesperanto as cle\n",
    "import cupy as cp\n",
    "from cupyx.scipy.ndimage import gaussian_filter as cp_gaussian_filter\n",
    "\n",
    "import numpy as np\n",
    "import dask.array as da\n",
    "\n",
    "from skimage import io\n",
    "from numcodecs import Blosc\n",
    "import pickle\n",
    "\n",
    "from dask.distributed import Client, LocalCluster, get_worker"
   ]
  },
  {
   "cell_type": "markdown",
   "id": "de2256ac-b974-4db3-a888-d197fb10bb54",
   "metadata": {},
   "source": [
    "For demonstration purposes, we use a dataset that is provided by Theresa Suckert, OncoRay, University Hospital Carl Gustav Carus, TU Dresden. The dataset is licensed License: CC-BY 4.0. We are using a cropped version here that was resaved a 8-bit image to be able to provide it with the notebook. You find the full size 16-bit image in CZI file format online."
   ]
  },
  {
   "cell_type": "code",
   "execution_count": 16,
   "id": "ed74ed2e-1678-41f6-9520-c6db9e7401c4",
   "metadata": {},
   "outputs": [],
   "source": [
    "image = io.imread(\"https://github.com/StRigaud/clesperanto_workshop_I2K24/raw/refs/heads/main/data/P1_H_C3H_M004_17-cropped.tif\")[1] # we only want 1 channel\n",
    "\n",
    "# for testing purposes, we crop the image even more.\n",
    "# comment out the following line to run on the whole 5000x2000 pixels\n",
    "# image = image[1000:1500, 1000:1500]\n",
    "# image = image[1000:1500, 1000:1500]\n",
    "\n",
    "#compress AND change the numpy array into a zarr array\n",
    "compressor = Blosc(cname='zstd', clevel=3, shuffle=Blosc.BITSHUFFLE)\n",
    "\n",
    "# Convert image into zarr array\n",
    "chunk_size = (500, 500)\n",
    "zarray = zarr.array(image, chunks=chunk_size, compressor=compressor)\n",
    "\n",
    "# save zarr to disk\n",
    "zarr_filename = './P1_H_C3H_M004_17-cropped.zarr'\n",
    "zarr.convenience.save(zarr_filename, zarray)"
   ]
  },
  {
   "cell_type": "markdown",
   "id": "96bf126f-05f5-4902-9e5b-e0005b2b6587",
   "metadata": {},
   "source": [
    "## Initializing a dask cluster\n",
    "\n",
    "We are initializing a dask cluster with a number of worker equal to the number of devices we want to use, here 2, and for each worker we associate 1 threads.\n",
    "\n",
    "It is possible to increase the number of threads per workers based on size of the tiles to process, the complexity of the pipeline to run, and the power of your devices. For the example we will stay on the safe side."
   ]
  },
  {
   "cell_type": "code",
   "execution_count": 3,
   "id": "e2f00381-fbd2-4eb5-852f-3aa4d4ad5fc3",
   "metadata": {},
   "outputs": [
    {
     "name": "stdout",
     "output_type": "stream",
     "text": [
      "<Client: 'inproc://10.21.63.16/354813/1' processes=2 threads=2, memory=124.93 GiB>\n",
      "Processing chunk.shape=(500, 500), worker=inproc://10.21.63.16/354813/6 (1), GPU=NVIDIA GeForce RTX 4090\n",
      "Processing chunk.shape=(500, 500), worker=inproc://10.21.63.16/354813/6 (1), GPU=NVIDIA GeForce RTX 4090\n",
      "Processing chunk.shape=(500, 500), worker=inproc://10.21.63.16/354813/4 (0), GPU=NVIDIA GeForce RTX 4090\n",
      "Processing chunk.shape=(500, 500), worker=inproc://10.21.63.16/354813/4 (0), GPU=NVIDIA GeForce RTX 4090\n",
      "Processing chunk.shape=(500, 500), worker=inproc://10.21.63.16/354813/6 (1), GPU=NVIDIA GeForce RTX 4090\n",
      "Processing chunk.shape=(500, 500), worker=inproc://10.21.63.16/354813/6 (1), GPU=NVIDIA GeForce RTX 4090\n",
      "Processing chunk.shape=(500, 500), worker=inproc://10.21.63.16/354813/4 (0), GPU=NVIDIA GeForce RTX 4090\n",
      "Processing chunk.shape=(500, 500), worker=inproc://10.21.63.16/354813/4 (0), GPU=NVIDIA GeForce RTX 4090\n",
      "Processing chunk.shape=(500, 500), worker=inproc://10.21.63.16/354813/6 (1), GPU=NVIDIA GeForce RTX 4090\n",
      "Processing chunk.shape=(500, 500), worker=inproc://10.21.63.16/354813/6 (1), GPU=NVIDIA GeForce RTX 4090\n",
      "Processing chunk.shape=(500, 500), worker=inproc://10.21.63.16/354813/4 (0), GPU=NVIDIA GeForce RTX 4090\n",
      "Processing chunk.shape=(500, 500), worker=inproc://10.21.63.16/354813/6 (1), GPU=NVIDIA GeForce RTX 4090\n",
      "Processing chunk.shape=(500, 500), worker=inproc://10.21.63.16/354813/4 (0), GPU=NVIDIA GeForce RTX 4090Processing chunk.shape=(500, 500), worker=inproc://10.21.63.16/354813/6 (1), GPU=NVIDIA GeForce RTX 4090\n",
      "\n",
      "Processing chunk.shape=(500, 500), worker=inproc://10.21.63.16/354813/6 (1), GPU=NVIDIA GeForce RTX 4090\n",
      "Processing chunk.shape=(500, 500), worker=inproc://10.21.63.16/354813/4 (0), GPU=NVIDIA GeForce RTX 4090\n",
      "Processing chunk.shape=(500, 500), worker=inproc://10.21.63.16/354813/4 (0), GPU=NVIDIA GeForce RTX 4090\n",
      "Processing chunk.shape=(500, 500), worker=inproc://10.21.63.16/354813/6 (1), GPU=NVIDIA GeForce RTX 4090\n",
      "Processing chunk.shape=(500, 500), worker=inproc://10.21.63.16/354813/4 (0), GPU=NVIDIA GeForce RTX 4090\n",
      "Processing chunk.shape=(500, 500), worker=inproc://10.21.63.16/354813/6 (1), GPU=NVIDIA GeForce RTX 4090\n",
      "Processing chunk.shape=(500, 500), worker=inproc://10.21.63.16/354813/6 (1), GPU=NVIDIA GeForce RTX 4090Processing chunk.shape=(500, 500), worker=inproc://10.21.63.16/354813/4 (0), GPU=NVIDIA GeForce RTX 4090\n",
      "\n",
      "Processing chunk.shape=(500, 500), worker=inproc://10.21.63.16/354813/4 (0), GPU=NVIDIA GeForce RTX 4090\n",
      "Processing chunk.shape=(500, 500), worker=inproc://10.21.63.16/354813/6 (1), GPU=NVIDIA GeForce RTX 4090\n",
      "Processing chunk.shape=(500, 500), worker=inproc://10.21.63.16/354813/4 (0), GPU=NVIDIA GeForce RTX 4090\n",
      "Processing chunk.shape=(500, 500), worker=inproc://10.21.63.16/354813/6 (1), GPU=NVIDIA GeForce RTX 4090\n",
      "Processing chunk.shape=(500, 500), worker=inproc://10.21.63.16/354813/6 (1), GPU=NVIDIA GeForce RTX 4090Processing chunk.shape=(500, 500), worker=inproc://10.21.63.16/354813/4 (0), GPU=NVIDIA GeForce RTX 4090\n",
      "\n",
      "Processing chunk.shape=(500, 500), worker=inproc://10.21.63.16/354813/6 (1), GPU=NVIDIA GeForce RTX 4090\n",
      "Processing chunk.shape=(500, 500), worker=inproc://10.21.63.16/354813/4 (0), GPU=NVIDIA GeForce RTX 4090\n",
      "Processing chunk.shape=(500, 500), worker=inproc://10.21.63.16/354813/4 (0), GPU=NVIDIA GeForce RTX 4090\n",
      "Processing chunk.shape=(500, 500), worker=inproc://10.21.63.16/354813/6 (1), GPU=NVIDIA GeForce RTX 4090\n",
      "Processing chunk.shape=(500, 500), worker=inproc://10.21.63.16/354813/4 (0), GPU=NVIDIA GeForce RTX 4090\n",
      "Processing chunk.shape=(500, 500), worker=inproc://10.21.63.16/354813/6 (1), GPU=NVIDIA GeForce RTX 4090\n",
      "Processing chunk.shape=(500, 500), worker=inproc://10.21.63.16/354813/4 (0), GPU=NVIDIA GeForce RTX 4090\n",
      "Processing chunk.shape=(500, 500), worker=inproc://10.21.63.16/354813/6 (1), GPU=NVIDIA GeForce RTX 4090\n",
      "Processing chunk.shape=(500, 500), worker=inproc://10.21.63.16/354813/4 (0), GPU=NVIDIA GeForce RTX 4090\n",
      "Processing chunk.shape=(500, 500), worker=inproc://10.21.63.16/354813/6 (1), GPU=NVIDIA GeForce RTX 4090\n",
      "Processing chunk.shape=(500, 500), worker=inproc://10.21.63.16/354813/4 (0), GPU=NVIDIA GeForce RTX 4090\n",
      "Processing chunk.shape=(500, 500), worker=inproc://10.21.63.16/354813/6 (1), GPU=NVIDIA GeForce RTX 4090\n"
     ]
    }
   ],
   "source": [
    "cluster = LocalCluster(n_workers=2, threads_per_worker=1, processes=False)\n",
    "client = Client(cluster)\n",
    "print(client)"
   ]
  },
  {
   "cell_type": "markdown",
   "id": "cc117760-2636-480d-a9ce-a761bab2b720",
   "metadata": {},
   "source": [
    "## Loading the zarr-backed image\n",
    "\n",
    "Dask brings built-in support for the zarr file format. We can create dask arrays directly from a zarr file."
   ]
  },
  {
   "cell_type": "code",
   "execution_count": 4,
   "id": "0e650cb1-582a-4676-88cc-912013517d5b",
   "metadata": {},
   "outputs": [
    {
     "name": "stderr",
     "output_type": "stream",
     "text": [
      "/home/strigaud/Libraries/miniforge3/envs/skbe/lib/python3.12/site-packages/zarr/creation.py:614: UserWarning: ignoring keyword argument 'read_only'\n",
      "  compressor, fill_value = _kwargs_compat(compressor, fill_value, kwargs)\n"
     ]
    },
    {
     "data": {
      "text/html": [
       "<table>\n",
       "    <tr>\n",
       "        <td>\n",
       "            <table style=\"border-collapse: collapse;\">\n",
       "                <thead>\n",
       "                    <tr>\n",
       "                        <td> </td>\n",
       "                        <th> Array </th>\n",
       "                        <th> Chunk </th>\n",
       "                    </tr>\n",
       "                </thead>\n",
       "                <tbody>\n",
       "                    \n",
       "                    <tr>\n",
       "                        <th> Bytes </th>\n",
       "                        <td> 9.54 MiB </td>\n",
       "                        <td> 244.14 kiB </td>\n",
       "                    </tr>\n",
       "                    \n",
       "                    <tr>\n",
       "                        <th> Shape </th>\n",
       "                        <td> (2000, 5000) </td>\n",
       "                        <td> (500, 500) </td>\n",
       "                    </tr>\n",
       "                    <tr>\n",
       "                        <th> Dask graph </th>\n",
       "                        <td colspan=\"2\"> 40 chunks in 2 graph layers </td>\n",
       "                    </tr>\n",
       "                    <tr>\n",
       "                        <th> Data type </th>\n",
       "                        <td colspan=\"2\"> uint8 numpy.ndarray </td>\n",
       "                    </tr>\n",
       "                </tbody>\n",
       "            </table>\n",
       "        </td>\n",
       "        <td>\n",
       "        <svg width=\"170\" height=\"98\" style=\"stroke:rgb(0,0,0);stroke-width:1\" >\n",
       "\n",
       "  <!-- Horizontal lines -->\n",
       "  <line x1=\"0\" y1=\"0\" x2=\"120\" y2=\"0\" style=\"stroke-width:2\" />\n",
       "  <line x1=\"0\" y1=\"12\" x2=\"120\" y2=\"12\" />\n",
       "  <line x1=\"0\" y1=\"24\" x2=\"120\" y2=\"24\" />\n",
       "  <line x1=\"0\" y1=\"36\" x2=\"120\" y2=\"36\" />\n",
       "  <line x1=\"0\" y1=\"48\" x2=\"120\" y2=\"48\" style=\"stroke-width:2\" />\n",
       "\n",
       "  <!-- Vertical lines -->\n",
       "  <line x1=\"0\" y1=\"0\" x2=\"0\" y2=\"48\" style=\"stroke-width:2\" />\n",
       "  <line x1=\"12\" y1=\"0\" x2=\"12\" y2=\"48\" />\n",
       "  <line x1=\"24\" y1=\"0\" x2=\"24\" y2=\"48\" />\n",
       "  <line x1=\"36\" y1=\"0\" x2=\"36\" y2=\"48\" />\n",
       "  <line x1=\"48\" y1=\"0\" x2=\"48\" y2=\"48\" />\n",
       "  <line x1=\"60\" y1=\"0\" x2=\"60\" y2=\"48\" />\n",
       "  <line x1=\"72\" y1=\"0\" x2=\"72\" y2=\"48\" />\n",
       "  <line x1=\"84\" y1=\"0\" x2=\"84\" y2=\"48\" />\n",
       "  <line x1=\"96\" y1=\"0\" x2=\"96\" y2=\"48\" />\n",
       "  <line x1=\"108\" y1=\"0\" x2=\"108\" y2=\"48\" />\n",
       "  <line x1=\"120\" y1=\"0\" x2=\"120\" y2=\"48\" style=\"stroke-width:2\" />\n",
       "\n",
       "  <!-- Colored Rectangle -->\n",
       "  <polygon points=\"0.0,0.0 120.0,0.0 120.0,48.0 0.0,48.0\" style=\"fill:#ECB172A0;stroke-width:0\"/>\n",
       "\n",
       "  <!-- Text -->\n",
       "  <text x=\"60.000000\" y=\"68.000000\" font-size=\"1.0rem\" font-weight=\"100\" text-anchor=\"middle\" >5000</text>\n",
       "  <text x=\"140.000000\" y=\"24.000000\" font-size=\"1.0rem\" font-weight=\"100\" text-anchor=\"middle\" transform=\"rotate(-90,140.000000,24.000000)\">2000</text>\n",
       "</svg>\n",
       "        </td>\n",
       "    </tr>\n",
       "</table>"
      ],
      "text/plain": [
       "dask.array<from-zarr, shape=(2000, 5000), dtype=uint8, chunksize=(500, 500), chunktype=numpy.ndarray>"
      ]
     },
     "execution_count": 4,
     "metadata": {},
     "output_type": "execute_result"
    }
   ],
   "source": [
    "zarr_image = da.from_zarr(zarr_filename)\n",
    "zarr_image"
   ]
  },
  {
   "cell_type": "markdown",
   "id": "bd3b05f8-e851-4326-ad56-2abf1b7212da",
   "metadata": {},
   "source": [
    "We can apply image processing to this tiled dataset directly."
   ]
  },
  {
   "cell_type": "markdown",
   "id": "dab81a54-4399-4c22-a7cf-b46a5dba1eea",
   "metadata": {},
   "source": [
    "## Multi-device management\n",
    "\n",
    "We can check what device is available on our system using the list_available_devices function. Here we can see that we have three devices: a cpu and two gpus. For the sake of the example we will use all of them."
   ]
  },
  {
   "cell_type": "code",
   "execution_count": 5,
   "id": "cd90632a-7c8e-46a0-b690-de3337ee72f8",
   "metadata": {},
   "outputs": [
    {
     "data": {
      "text/plain": [
       "['NVIDIA GeForce RTX 4090', 'NVIDIA GeForce RTX 4090']"
      ]
     },
     "execution_count": 5,
     "metadata": {},
     "output_type": "execute_result"
    }
   ],
   "source": [
    "cle.list_available_devices(\"gpu\")"
   ]
  },
  {
   "cell_type": "markdown",
   "id": "e952c279-4fa5-489a-8197-92ca93c268e1",
   "metadata": {},
   "source": [
    "We can associate workers with a specific index with a simple `dict` structure"
   ]
  },
  {
   "cell_type": "code",
   "execution_count": 6,
   "id": "6888c396-3ec8-47dd-b6e3-59f0a4de176f",
   "metadata": {},
   "outputs": [
    {
     "name": "stdout",
     "output_type": "stream",
     "text": [
      "Worker to GPU map: {'inproc://10.21.63.16/354813/4': 0, 'inproc://10.21.63.16/354813/6': 1}\n"
     ]
    }
   ],
   "source": [
    "workers = client.scheduler_info()['workers']\n",
    "worker_gpu_map = {worker: idx for idx, worker in enumerate(workers)}\n",
    "print(\"Worker to GPU map:\", worker_gpu_map)"
   ]
  },
  {
   "cell_type": "markdown",
   "id": "515b0f49-792a-447f-9706-75bb7b3a6827",
   "metadata": {},
   "source": [
    "## Counting nuclei\n",
    "\n",
    "For counting the nuclei, we setup a simple image processing workflow that applies Voronoi-Otsu-Labeling to the dataset. Afterwards, we count the segmented objects. As nuclei might be counted twice which touch the tile border, we have to correct the count for every tile. Technically, we could remove the objects which touch one of the vertical or horizontal tile borders. However, there is a simpler way for correcting for this error: We count the number of nuclei after segmentation. Then, we remove all nuclei which touch any image border and count the remaining nuclei again. We can then assume that half of the removed nuclei should be counted. Hence, we add the two counts, before and after edge-removal, and compute the average of these two measurements. Especially on large tiles with many nuclei, the remaining error should be negligible.\n",
    "\n",
    "One specificity is that at the start of the function, we call our device manager class method to get a device that we will use to process the input of the function.\n",
    "\n",
    "> WARNING: It is not recommended to apply such an estimating cell counting method when each tile contains only few nuclei.\n"
   ]
  },
  {
   "cell_type": "code",
   "execution_count": 7,
   "id": "cba550d9-aef9-42fb-b659-1e63c7305cba",
   "metadata": {},
   "outputs": [],
   "source": [
    "def count_nuclei(image):\n",
    "    \"\"\"\n",
    "    Label objects in a binary image and produce a pixel-count-map image.\n",
    "    \"\"\"\n",
    "\n",
    "    # Get current worker index and select corresponding device\n",
    "    worker = get_worker()\n",
    "    gpu_index = worker_gpu_map[worker.address]\n",
    "    device = cle.select_device(gpu_index, \"gpu\")\n",
    "    cle.wait_for_kernel_to_finish(True)\n",
    "    print(f\"Processing chunk.shape={image.shape}, worker={worker.address} ({gpu_index}), GPU={device.name}\")\n",
    "    \n",
    "    # Count nuclei including those which touch the image border\n",
    "    gpu_image = cle.push(image, device=device)\n",
    "    labels = cle.voronoi_otsu_labeling(gpu_image, spot_sigma=3.5)\n",
    "    nuclei_count = labels.max()\n",
    "    \n",
    "    # Count nuclei excluding those which touch the image border\n",
    "    labels_without_borders = cle.exclude_labels_on_edges(labels)\n",
    "    nuclei_count_excluding_borders = labels_without_borders.max()\n",
    "    \n",
    "    # Both nuclei-count including and excluding nuclei at image borders \n",
    "    # are no good approximation. We should exclude the nuclei only on \n",
    "    # half of the borders to get a good estimate.\n",
    "    # Alternatively, we just take the average of both counts.\n",
    "    result = np.asarray([[(nuclei_count + nuclei_count_excluding_borders) / 2]])\n",
    "    \n",
    "    return result"
   ]
  },
  {
   "cell_type": "markdown",
   "id": "aec27f98-ff5e-47e1-ac39-ca38432fa167",
   "metadata": {},
   "source": [
    "We do not use tile overlap, because we are not measuring properties of the nuclei and thus, don’t need a prefect segmentation of them nor to stitch the tiles back."
   ]
  },
  {
   "cell_type": "code",
   "execution_count": 8,
   "id": "941cb32e-4e99-499b-800d-4914d7133d28",
   "metadata": {},
   "outputs": [
    {
     "data": {
      "text/html": [
       "<table>\n",
       "    <tr>\n",
       "        <td>\n",
       "            <table style=\"border-collapse: collapse;\">\n",
       "                <thead>\n",
       "                    <tr>\n",
       "                        <td> </td>\n",
       "                        <th> Array </th>\n",
       "                        <th> Chunk </th>\n",
       "                    </tr>\n",
       "                </thead>\n",
       "                <tbody>\n",
       "                    \n",
       "                    <tr>\n",
       "                        <th> Bytes </th>\n",
       "                        <td> 9.54 MiB </td>\n",
       "                        <td> 244.14 kiB </td>\n",
       "                    </tr>\n",
       "                    \n",
       "                    <tr>\n",
       "                        <th> Shape </th>\n",
       "                        <td> (2000, 5000) </td>\n",
       "                        <td> (500, 500) </td>\n",
       "                    </tr>\n",
       "                    <tr>\n",
       "                        <th> Dask graph </th>\n",
       "                        <td colspan=\"2\"> 40 chunks in 3 graph layers </td>\n",
       "                    </tr>\n",
       "                    <tr>\n",
       "                        <th> Data type </th>\n",
       "                        <td colspan=\"2\"> uint8 numpy.ndarray </td>\n",
       "                    </tr>\n",
       "                </tbody>\n",
       "            </table>\n",
       "        </td>\n",
       "        <td>\n",
       "        <svg width=\"170\" height=\"98\" style=\"stroke:rgb(0,0,0);stroke-width:1\" >\n",
       "\n",
       "  <!-- Horizontal lines -->\n",
       "  <line x1=\"0\" y1=\"0\" x2=\"120\" y2=\"0\" style=\"stroke-width:2\" />\n",
       "  <line x1=\"0\" y1=\"12\" x2=\"120\" y2=\"12\" />\n",
       "  <line x1=\"0\" y1=\"24\" x2=\"120\" y2=\"24\" />\n",
       "  <line x1=\"0\" y1=\"36\" x2=\"120\" y2=\"36\" />\n",
       "  <line x1=\"0\" y1=\"48\" x2=\"120\" y2=\"48\" style=\"stroke-width:2\" />\n",
       "\n",
       "  <!-- Vertical lines -->\n",
       "  <line x1=\"0\" y1=\"0\" x2=\"0\" y2=\"48\" style=\"stroke-width:2\" />\n",
       "  <line x1=\"12\" y1=\"0\" x2=\"12\" y2=\"48\" />\n",
       "  <line x1=\"24\" y1=\"0\" x2=\"24\" y2=\"48\" />\n",
       "  <line x1=\"36\" y1=\"0\" x2=\"36\" y2=\"48\" />\n",
       "  <line x1=\"48\" y1=\"0\" x2=\"48\" y2=\"48\" />\n",
       "  <line x1=\"60\" y1=\"0\" x2=\"60\" y2=\"48\" />\n",
       "  <line x1=\"72\" y1=\"0\" x2=\"72\" y2=\"48\" />\n",
       "  <line x1=\"84\" y1=\"0\" x2=\"84\" y2=\"48\" />\n",
       "  <line x1=\"96\" y1=\"0\" x2=\"96\" y2=\"48\" />\n",
       "  <line x1=\"108\" y1=\"0\" x2=\"108\" y2=\"48\" />\n",
       "  <line x1=\"120\" y1=\"0\" x2=\"120\" y2=\"48\" style=\"stroke-width:2\" />\n",
       "\n",
       "  <!-- Colored Rectangle -->\n",
       "  <polygon points=\"0.0,0.0 120.0,0.0 120.0,48.0 0.0,48.0\" style=\"fill:#ECB172A0;stroke-width:0\"/>\n",
       "\n",
       "  <!-- Text -->\n",
       "  <text x=\"60.000000\" y=\"68.000000\" font-size=\"1.0rem\" font-weight=\"100\" text-anchor=\"middle\" >5000</text>\n",
       "  <text x=\"140.000000\" y=\"24.000000\" font-size=\"1.0rem\" font-weight=\"100\" text-anchor=\"middle\" transform=\"rotate(-90,140.000000,24.000000)\">2000</text>\n",
       "</svg>\n",
       "        </td>\n",
       "    </tr>\n",
       "</table>"
      ],
      "text/plain": [
       "dask.array<count_nuclei, shape=(2000, 5000), dtype=uint8, chunksize=(500, 500), chunktype=numpy.ndarray>"
      ]
     },
     "execution_count": 8,
     "metadata": {},
     "output_type": "execute_result"
    }
   ],
   "source": [
    "tile_map = da.map_blocks(count_nuclei, zarr_image, dtype=zarr_image.dtype)\n",
    "tile_map"
   ]
  },
  {
   "cell_type": "markdown",
   "id": "dfac0f13-2512-4459-9ef7-78da707914a7",
   "metadata": {},
   "source": [
    "As the result image is much smaller then the original, we can compute the whole result map. We should see that each tile is being processed by a different device.\n",
    "\n",
    "Note that this is not necessarily faster, however it can allow you to distribute large size of data accross devices that would normally not be able to process the entire data"
   ]
  },
  {
   "cell_type": "code",
   "execution_count": 9,
   "id": "0112a8ed-c708-48ea-a202-a48887dc9e14",
   "metadata": {},
   "outputs": [
    {
     "name": "stdout",
     "output_type": "stream",
     "text": [
      "Time to compute: 0.7121910809946712 seconds\n"
     ]
    }
   ],
   "source": [
    "start = timeit.default_timer()\n",
    "result = tile_map.compute()\n",
    "end = timeit.default_timer()\n",
    "print(f\"Time to compute: {end - start} seconds\")"
   ]
  },
  {
   "cell_type": "code",
   "execution_count": 10,
   "id": "8dcbc356-aeea-4a46-b9fe-de0bd3c69d80",
   "metadata": {},
   "outputs": [
    {
     "data": {
      "text/plain": [
       "(4, 10)"
      ]
     },
     "execution_count": 10,
     "metadata": {},
     "output_type": "execute_result"
    }
   ],
   "source": [
    "result.shape"
   ]
  },
  {
   "cell_type": "markdown",
   "id": "63578289-ec6c-4d2e-a948-d1365d4c86ad",
   "metadata": {},
   "source": [
    "Again, as the result map is small, we can just visualize it."
   ]
  },
  {
   "cell_type": "code",
   "execution_count": 11,
   "id": "3426c7d2-0978-4fd4-82e1-d39aff401c89",
   "metadata": {},
   "outputs": [
    {
     "data": {
      "image/png": "[encoded data removed]",
      "text/plain": [
       "<Figure size 640x480 with 2 Axes>"
      ]
     },
     "metadata": {},
     "output_type": "display_data"
    }
   ],
   "source": [
    "cle.imshow(result, colorbar=True)"
   ]
  },
  {
   "cell_type": "markdown",
   "id": "34973424-28e2-42e5-ae88-970ffdd00e16",
   "metadata": {},
   "source": [
    "With a quick visual check in the original image, we can see that indeed high values correspond to areas in the image with a lot of cells.\n",
    "We can also see, in the top left corner, that tiles with few to no cells do not return a correct result, mainly because of the simplicity of our approach."
   ]
  },
  {
   "cell_type": "code",
   "execution_count": 14,
   "id": "f449f54b-99ea-4834-9e6a-29fb7a38b289",
   "metadata": {},
   "outputs": [
    {
     "data": {
      "image/png": "[encoded data removed]",
      "text/plain": [
       "<Figure size 640x480 with 1 Axes>"
      ]
     },
     "metadata": {},
     "output_type": "display_data"
    }
   ],
   "source": [
    "cle.imshow(cle.voronoi_otsu_labeling(image, spot_sigma=3.5), labels=True)"
   ]
  },
  {
   "cell_type": "markdown",
   "id": "45e3fccb-2f26-46f4-b2a2-cd42368f40a0",
   "metadata": {},
   "source": [
    "We can clean out the zarr data from the disk"
   ]
  },
  {
   "cell_type": "code",
   "execution_count": 17,
   "id": "3ea5285c-4838-4487-8fc5-e8aa104d12bf",
   "metadata": {},
   "outputs": [
    {
     "name": "stdout",
     "output_type": "stream",
     "text": [
      "Zarr image './P1_H_C3H_M004_17-cropped.zarr' and all its contents have been deleted.\n"
     ]
    }
   ],
   "source": [
    "# Check if the Zarr image exists\n",
    "if os.path.exists(zarr_filename):\n",
    "    # Delete the Zarr image directory and all its contents\n",
    "    shutil.rmtree(zarr_filename)\n",
    "    print(f\"Zarr image '{zarr_filename}' and all its contents have been deleted.\")\n",
    "else:\n",
    "    print(f\"Zarr image '{zarr_filename}' does not exist.\")"
   ]
  },
  {
   "cell_type": "markdown",
   "id": "16640510-c764-4ab2-980b-14cf3d6f78e5",
   "metadata": {},
   "source": [
    "## Acknowledgement\n",
    "\n",
    "This notebook is adapted from of the [BioImageAnalysisNotebook](https://haesleinhuepf.github.io/BioImageAnalysisNotebooks/intro.html) of Robert Haase.\n",
    "\n",
    "[![DOI](https://zenodo.org/badge/DOI/10.5281/zenodo.10465773.svg)](https://doi.org/10.5281/zenodo.10465773)."
   ]
  }
 ],
 "metadata": {
  "kernelspec": {
   "display_name": "Python 3 (ipykernel)",
   "language": "python",
   "name": "python3"
  },
  "language_info": {
   "codemirror_mode": {
    "name": "ipython",
    "version": 3
   },
   "file_extension": ".py",
   "mimetype": "text/x-python",
   "name": "python",
   "nbconvert_exporter": "python",
   "pygments_lexer": "ipython3",
   "version": "3.12.7"
  }
 },
 "nbformat": 4,
 "nbformat_minor": 5
}
