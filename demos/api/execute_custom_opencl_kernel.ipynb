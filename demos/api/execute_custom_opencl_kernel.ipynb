{
 "cells": [
  {
   "cell_type": "markdown",
   "id": "ee733a43",
   "metadata": {},
   "source": [
    "# How to execute a custom OpenCL kernel using pyclesperanto\n",
    "\n",
    "In this demo, we will show how to run an OpenCL kernel in pyclesperanto. We will demonstrate two functions:\n",
    "- `native_execute()` to execute native OpenCL code\n",
    "- `execute()` to execute CLIJ-OpenCL code"
   ]
  },
  {
   "cell_type": "code",
   "execution_count": 1,
   "id": "48b37b2b-e1ef-4cdf-b3ec-a3be0d461782",
   "metadata": {},
   "outputs": [
    {
     "data": {
      "text/plain": [
       "(OpenCL) NVIDIA GeForce RTX 4090 (OpenCL 3.0 CUDA)\n",
       "\tVendor:                      NVIDIA Corporation\n",
       "\tDriver Version:              535.230.02\n",
       "\tDevice Type:                 GPU\n",
       "\tCompute Units:               128\n",
       "\tGlobal Memory Size:          24217 MB\n",
       "\tMaximum Object Size:         6054 MB\n",
       "\tMax Clock Frequency:         2625 MHz\n",
       "\tImage Support:               Yes"
      ]
     },
     "execution_count": 1,
     "metadata": {},
     "output_type": "execute_result"
    }
   ],
   "source": [
    "import pyclesperanto as cle\n",
    "import numpy as np\n",
    "\n",
    "cle.select_device()"
   ]
  },
  {
   "cell_type": "markdown",
   "id": "4aea0f17-e065-4c4f-a8b8-63f102c08f0f",
   "metadata": {},
   "source": [
    "## Native OpenCL code execution\n",
    "\n",
    "The objective is to execute an OpenCL code on the device. For that, we can have the code stored as a string or as a file with the extention `.cl`. \n",
    "Here, for the sake of simplicity, we will a classic element-wise array addition operation. It is a function taking two array of the same size, and operate an element-wise addition and save the results in a third array.\n",
    "\n",
    "Let's look at the function bellow. Here, `float*` are arrays of type `float`, they are corresponding directly to a `pyclesperanto.Array` which can be create using `cle.push()` or `cle.create()`. Here, the function has three arrays `a`, `b`, and `c`, the two input arrays and the output array respectively. The `unsigned int n` parameter is the length of the array to process."
   ]
  },
  {
   "cell_type": "code",
   "execution_count": 2,
   "id": "c2590fc6-17e8-464c-91e2-fe2eebe70aa9",
   "metadata": {},
   "outputs": [],
   "source": [
    "add_arrays_kernel = \"\"\"\n",
    "__kernel void add_arrays(__global const float* a, __global const float* b, __global float* c, const unsigned int n) {\n",
    "    int id = get_global_id(0);\n",
    "    if (id < n) {\n",
    "        c[id] = a[id] + b[id];\n",
    "    }\n",
    "}\n",
    "\"\"\""
   ]
  },
  {
   "cell_type": "markdown",
   "id": "b06b0918-951d-4afe-9fd4-8660473f89ce",
   "metadata": {},
   "source": [
    "Now that we have a function to process our data, we can execute it using the `native_execute()` function. Let's have first a look at the function signature and documentation:"
   ]
  },
  {
   "cell_type": "code",
   "execution_count": 3,
   "id": "07a27608-7cb4-4b1a-991c-ea8a1bb5d35c",
   "metadata": {},
   "outputs": [
    {
     "data": {
      "text/plain": [
       "\u001b[0;31mSignature:\u001b[0m\n",
       "\u001b[0mcle\u001b[0m\u001b[0;34m.\u001b[0m\u001b[0mnative_execute\u001b[0m\u001b[0;34m(\u001b[0m\u001b[0;34m\u001b[0m\n",
       "\u001b[0;34m\u001b[0m    \u001b[0manchor\u001b[0m\u001b[0;34m=\u001b[0m\u001b[0;32mNone\u001b[0m\u001b[0;34m,\u001b[0m\u001b[0;34m\u001b[0m\n",
       "\u001b[0;34m\u001b[0m    \u001b[0mkernel_source\u001b[0m\u001b[0;34m:\u001b[0m \u001b[0mstr\u001b[0m \u001b[0;34m=\u001b[0m \u001b[0;34m''\u001b[0m\u001b[0;34m,\u001b[0m\u001b[0;34m\u001b[0m\n",
       "\u001b[0;34m\u001b[0m    \u001b[0mkernel_name\u001b[0m\u001b[0;34m:\u001b[0m \u001b[0mstr\u001b[0m \u001b[0;34m=\u001b[0m \u001b[0;34m''\u001b[0m\u001b[0;34m,\u001b[0m\u001b[0;34m\u001b[0m\n",
       "\u001b[0;34m\u001b[0m    \u001b[0mglobal_size\u001b[0m\u001b[0;34m:\u001b[0m \u001b[0mtuple\u001b[0m \u001b[0;34m=\u001b[0m \u001b[0;34m(\u001b[0m\u001b[0;36m1\u001b[0m\u001b[0;34m,\u001b[0m \u001b[0;36m1\u001b[0m\u001b[0;34m,\u001b[0m \u001b[0;36m1\u001b[0m\u001b[0;34m)\u001b[0m\u001b[0;34m,\u001b[0m\u001b[0;34m\u001b[0m\n",
       "\u001b[0;34m\u001b[0m    \u001b[0mlocal_size\u001b[0m\u001b[0;34m:\u001b[0m \u001b[0mtuple\u001b[0m \u001b[0;34m=\u001b[0m \u001b[0;34m(\u001b[0m\u001b[0;36m1\u001b[0m\u001b[0;34m,\u001b[0m \u001b[0;36m1\u001b[0m\u001b[0;34m,\u001b[0m \u001b[0;36m1\u001b[0m\u001b[0;34m)\u001b[0m\u001b[0;34m,\u001b[0m\u001b[0;34m\u001b[0m\n",
       "\u001b[0;34m\u001b[0m    \u001b[0mparameters\u001b[0m\u001b[0;34m:\u001b[0m \u001b[0mdict\u001b[0m \u001b[0;34m=\u001b[0m \u001b[0;34m{\u001b[0m\u001b[0;34m}\u001b[0m\u001b[0;34m,\u001b[0m\u001b[0;34m\u001b[0m\n",
       "\u001b[0;34m\u001b[0m    \u001b[0mdevice\u001b[0m\u001b[0;34m:\u001b[0m \u001b[0mpyclesperanto\u001b[0m\u001b[0;34m.\u001b[0m\u001b[0m_pyclesperanto\u001b[0m\u001b[0;34m.\u001b[0m\u001b[0m_Device\u001b[0m \u001b[0;34m=\u001b[0m \u001b[0;32mNone\u001b[0m\u001b[0;34m,\u001b[0m\u001b[0;34m\u001b[0m\n",
       "\u001b[0;34m\u001b[0m\u001b[0;34m)\u001b[0m\u001b[0;34m\u001b[0m\u001b[0;34m\u001b[0m\u001b[0m\n",
       "\u001b[0;31mDocstring:\u001b[0m\n",
       "Execute an OpenCL kernel from a file or a string\n",
       "\n",
       "Call, build, and execute a kernel compatible with OpenCL language.\n",
       "The kernel can be called from a file or a string.\n",
       "\n",
       "The parameters must still be passed as a dictionary with the correct types and order.\n",
       "Buffer parameters must be passed as Array objects. Scalars must be passed as Python native float or int.\n",
       "\n",
       "Warning: Only 1D buffers are supported for now.\n",
       "\n",
       "Parameters\n",
       "----------\n",
       "anchor : str, default = '__file__'\n",
       "    Enter __file__ when calling this method and the corresponding open.cl\n",
       "    file lies in the same folder as the python file calling it.\n",
       "    Ignored if kernel_source is a string.\n",
       "kernel_source : str\n",
       "    Filename of the open.cl file to be called or string containing the open.cl source code\n",
       "kernel_name : str\n",
       "    Kernel method inside the open.cl file to be called\n",
       "    most clij/clesperanto kernel functions have the same name as the file they are in\n",
       "global_size : tuple (z,y,x), default = (1, 1, 1)\n",
       "    Global_size according to OpenCL definition (usually shape of the destination image).\n",
       "local_size : tuple (z,y,x), default = (1, 1, 1)\n",
       "    Local_size according to OpenCL definition (usually default is good).\n",
       "parameters : dict(str, [Array, float, int])\n",
       "    Dictionary containing parameters. Take care: They must be of the\n",
       "    right type and in the right order as specified in the open.cl file.\n",
       "device : Device, default = None\n",
       "    The device to execute the kernel on. If None, use the current device\n",
       "\u001b[0;31mFile:\u001b[0m      /data/clesperanto/pyclesperanto/pyclesperanto/_functionalities.py\n",
       "\u001b[0;31mType:\u001b[0m      function"
      ]
     },
     "metadata": {},
     "output_type": "display_data"
    }
   ],
   "source": [
    "cle.native_execute?"
   ]
  },
  {
   "cell_type": "markdown",
   "id": "c5072053-e8bd-494c-88d0-a713306daf46",
   "metadata": {},
   "source": [
    "The function will expect :\n",
    "- a anchor root path to fetch the file (not required if kernel is a string)\n",
    "- the kernel source, which is the kernel string containing our code or path to file containing the code\n",
    "- the kernel name, here the exact name preciding the `__kernel` which is `add_arrays`\n",
    "- the global and local size, 2 tuplet of 3 values, defining the working space. Most of the time you can live the local size and set the global to - the shape of the input array\n",
    "- the parameters dict, which is a dictionary containing the variable paramters, here 3 arrays and 1 scalar, with the parameters name as dict keys\n",
    "We need 3 arrays because we need to store the output of the computation, here in the array `c`.\n",
    "\n",
    "The import information here that we need to respect is the names used for the kernels and the variable should be the same as the one passed in the dictionary. The data type used should be the same. Finally, the native execution only manage 1D array. It will be your code and your responsibility to manage the correct indexing as well as the correct data size.\n",
    "\n",
    "In the following example we will the run the `add_arrays` kernel on two 2D arrays.\n",
    "\n",
    "### Preparing the parameters"
   ]
  },
  {
   "cell_type": "code",
   "execution_count": 4,
   "id": "a88d0327-71c1-461f-8419-5a194ae4076f",
   "metadata": {},
   "outputs": [],
   "source": [
    "w = 50\n",
    "h = 20\n",
    "arr_a = cle.push( np.ones((h,w)) )\n",
    "arr_b = cle.push( np.ones((h,w)) * 5 )\n",
    "arr_c = cle.create(arr_a)\n",
    "\n",
    "param_dict = {'a': arr_a, 'b': arr_b, 'c': arr_c, 'n': h*w}"
   ]
  },
  {
   "cell_type": "markdown",
   "id": "95036d1a-61b5-43f4-a5a1-eecc13a5094a",
   "metadata": {},
   "source": [
    "Once we have create the input data and pushed them to the device, as well as create an output array for containing the result, we can store all the parameter into a parameter dictionary. Here the `keys` name and order matter as they should fit the same parameter name and order than for the `add_arrays` OpenCL function.\n",
    "\n",
    "> Note that we do not need to push scalar parameters, `n` is passed directly."
   ]
  },
  {
   "cell_type": "code",
   "execution_count": 5,
   "id": "6080dfd1-e7e7-411d-bf89-5981bafecd2d",
   "metadata": {},
   "outputs": [],
   "source": [
    "cle.native_execute(\n",
    "        kernel_source=add_arrays_kernel,\n",
    "        kernel_name=\"add_arrays\",\n",
    "        global_size=arr_a.size,\n",
    "        local_size=(1, 1, 1),\n",
    "        parameters=param_dict,\n",
    "    )"
   ]
  },
  {
   "cell_type": "markdown",
   "id": "777f41ed-893d-4511-bf11-246557720e66",
   "metadata": {},
   "source": [
    "In this execution we are doing the addition between two array of `(20,50)` where all element of __a__ `=1` and all element of __b__ `=5`. The result should be an array __c__ of shape (20,50) with all elements `=6`.\n",
    "We simply need to pull the memory to the host (our cpu) in order to display it."
   ]
  },
  {
   "cell_type": "code",
   "execution_count": 6,
   "id": "c6bc9100-6f34-41f4-9431-86fd20d2c731",
   "metadata": {},
   "outputs": [
    {
     "name": "stdout",
     "output_type": "stream",
     "text": [
      "output array: (20, 50)\n"
     ]
    },
    {
     "data": {
      "text/plain": [
       "array([[6., 6., 6., 6., 6., 6., 6., 6., 6., 6., 6., 6., 6., 6., 6., 6.,\n",
       "        6., 6., 6., 6., 6., 6., 6., 6., 6., 6., 6., 6., 6., 6., 6., 6.,\n",
       "        6., 6., 6., 6., 6., 6., 6., 6., 6., 6., 6., 6., 6., 6., 6., 6.,\n",
       "        6., 6.],\n",
       "       [6., 6., 6., 6., 6., 6., 6., 6., 6., 6., 6., 6., 6., 6., 6., 6.,\n",
       "        6., 6., 6., 6., 6., 6., 6., 6., 6., 6., 6., 6., 6., 6., 6., 6.,\n",
       "        6., 6., 6., 6., 6., 6., 6., 6., 6., 6., 6., 6., 6., 6., 6., 6.,\n",
       "        6., 6.],\n",
       "       [6., 6., 6., 6., 6., 6., 6., 6., 6., 6., 6., 6., 6., 6., 6., 6.,\n",
       "        6., 6., 6., 6., 6., 6., 6., 6., 6., 6., 6., 6., 6., 6., 6., 6.,\n",
       "        6., 6., 6., 6., 6., 6., 6., 6., 6., 6., 6., 6., 6., 6., 6., 6.,\n",
       "        6., 6.],\n",
       "       [6., 6., 6., 6., 6., 6., 6., 6., 6., 6., 6., 6., 6., 6., 6., 6.,\n",
       "        6., 6., 6., 6., 6., 6., 6., 6., 6., 6., 6., 6., 6., 6., 6., 6.,\n",
       "        6., 6., 6., 6., 6., 6., 6., 6., 6., 6., 6., 6., 6., 6., 6., 6.,\n",
       "        6., 6.],\n",
       "       [6., 6., 6., 6., 6., 6., 6., 6., 6., 6., 6., 6., 6., 6., 6., 6.,\n",
       "        6., 6., 6., 6., 6., 6., 6., 6., 6., 6., 6., 6., 6., 6., 6., 6.,\n",
       "        6., 6., 6., 6., 6., 6., 6., 6., 6., 6., 6., 6., 6., 6., 6., 6.,\n",
       "        6., 6.],\n",
       "       [6., 6., 6., 6., 6., 6., 6., 6., 6., 6., 6., 6., 6., 6., 6., 6.,\n",
       "        6., 6., 6., 6., 6., 6., 6., 6., 6., 6., 6., 6., 6., 6., 6., 6.,\n",
       "        6., 6., 6., 6., 6., 6., 6., 6., 6., 6., 6., 6., 6., 6., 6., 6.,\n",
       "        6., 6.],\n",
       "       [6., 6., 6., 6., 6., 6., 6., 6., 6., 6., 6., 6., 6., 6., 6., 6.,\n",
       "        6., 6., 6., 6., 6., 6., 6., 6., 6., 6., 6., 6., 6., 6., 6., 6.,\n",
       "        6., 6., 6., 6., 6., 6., 6., 6., 6., 6., 6., 6., 6., 6., 6., 6.,\n",
       "        6., 6.],\n",
       "       [6., 6., 6., 6., 6., 6., 6., 6., 6., 6., 6., 6., 6., 6., 6., 6.,\n",
       "        6., 6., 6., 6., 6., 6., 6., 6., 6., 6., 6., 6., 6., 6., 6., 6.,\n",
       "        6., 6., 6., 6., 6., 6., 6., 6., 6., 6., 6., 6., 6., 6., 6., 6.,\n",
       "        6., 6.],\n",
       "       [6., 6., 6., 6., 6., 6., 6., 6., 6., 6., 6., 6., 6., 6., 6., 6.,\n",
       "        6., 6., 6., 6., 6., 6., 6., 6., 6., 6., 6., 6., 6., 6., 6., 6.,\n",
       "        6., 6., 6., 6., 6., 6., 6., 6., 6., 6., 6., 6., 6., 6., 6., 6.,\n",
       "        6., 6.],\n",
       "       [6., 6., 6., 6., 6., 6., 6., 6., 6., 6., 6., 6., 6., 6., 6., 6.,\n",
       "        6., 6., 6., 6., 6., 6., 6., 6., 6., 6., 6., 6., 6., 6., 6., 6.,\n",
       "        6., 6., 6., 6., 6., 6., 6., 6., 6., 6., 6., 6., 6., 6., 6., 6.,\n",
       "        6., 6.],\n",
       "       [6., 6., 6., 6., 6., 6., 6., 6., 6., 6., 6., 6., 6., 6., 6., 6.,\n",
       "        6., 6., 6., 6., 6., 6., 6., 6., 6., 6., 6., 6., 6., 6., 6., 6.,\n",
       "        6., 6., 6., 6., 6., 6., 6., 6., 6., 6., 6., 6., 6., 6., 6., 6.,\n",
       "        6., 6.],\n",
       "       [6., 6., 6., 6., 6., 6., 6., 6., 6., 6., 6., 6., 6., 6., 6., 6.,\n",
       "        6., 6., 6., 6., 6., 6., 6., 6., 6., 6., 6., 6., 6., 6., 6., 6.,\n",
       "        6., 6., 6., 6., 6., 6., 6., 6., 6., 6., 6., 6., 6., 6., 6., 6.,\n",
       "        6., 6.],\n",
       "       [6., 6., 6., 6., 6., 6., 6., 6., 6., 6., 6., 6., 6., 6., 6., 6.,\n",
       "        6., 6., 6., 6., 6., 6., 6., 6., 6., 6., 6., 6., 6., 6., 6., 6.,\n",
       "        6., 6., 6., 6., 6., 6., 6., 6., 6., 6., 6., 6., 6., 6., 6., 6.,\n",
       "        6., 6.],\n",
       "       [6., 6., 6., 6., 6., 6., 6., 6., 6., 6., 6., 6., 6., 6., 6., 6.,\n",
       "        6., 6., 6., 6., 6., 6., 6., 6., 6., 6., 6., 6., 6., 6., 6., 6.,\n",
       "        6., 6., 6., 6., 6., 6., 6., 6., 6., 6., 6., 6., 6., 6., 6., 6.,\n",
       "        6., 6.],\n",
       "       [6., 6., 6., 6., 6., 6., 6., 6., 6., 6., 6., 6., 6., 6., 6., 6.,\n",
       "        6., 6., 6., 6., 6., 6., 6., 6., 6., 6., 6., 6., 6., 6., 6., 6.,\n",
       "        6., 6., 6., 6., 6., 6., 6., 6., 6., 6., 6., 6., 6., 6., 6., 6.,\n",
       "        6., 6.],\n",
       "       [6., 6., 6., 6., 6., 6., 6., 6., 6., 6., 6., 6., 6., 6., 6., 6.,\n",
       "        6., 6., 6., 6., 6., 6., 6., 6., 6., 6., 6., 6., 6., 6., 6., 6.,\n",
       "        6., 6., 6., 6., 6., 6., 6., 6., 6., 6., 6., 6., 6., 6., 6., 6.,\n",
       "        6., 6.],\n",
       "       [6., 6., 6., 6., 6., 6., 6., 6., 6., 6., 6., 6., 6., 6., 6., 6.,\n",
       "        6., 6., 6., 6., 6., 6., 6., 6., 6., 6., 6., 6., 6., 6., 6., 6.,\n",
       "        6., 6., 6., 6., 6., 6., 6., 6., 6., 6., 6., 6., 6., 6., 6., 6.,\n",
       "        6., 6.],\n",
       "       [6., 6., 6., 6., 6., 6., 6., 6., 6., 6., 6., 6., 6., 6., 6., 6.,\n",
       "        6., 6., 6., 6., 6., 6., 6., 6., 6., 6., 6., 6., 6., 6., 6., 6.,\n",
       "        6., 6., 6., 6., 6., 6., 6., 6., 6., 6., 6., 6., 6., 6., 6., 6.,\n",
       "        6., 6.],\n",
       "       [6., 6., 6., 6., 6., 6., 6., 6., 6., 6., 6., 6., 6., 6., 6., 6.,\n",
       "        6., 6., 6., 6., 6., 6., 6., 6., 6., 6., 6., 6., 6., 6., 6., 6.,\n",
       "        6., 6., 6., 6., 6., 6., 6., 6., 6., 6., 6., 6., 6., 6., 6., 6.,\n",
       "        6., 6.],\n",
       "       [6., 6., 6., 6., 6., 6., 6., 6., 6., 6., 6., 6., 6., 6., 6., 6.,\n",
       "        6., 6., 6., 6., 6., 6., 6., 6., 6., 6., 6., 6., 6., 6., 6., 6.,\n",
       "        6., 6., 6., 6., 6., 6., 6., 6., 6., 6., 6., 6., 6., 6., 6., 6.,\n",
       "        6., 6.]], dtype=float32)"
      ]
     },
     "execution_count": 6,
     "metadata": {},
     "output_type": "execute_result"
    }
   ],
   "source": [
    "print(\"output array:\", arr_c.shape)\n",
    "cle.pull(arr_c)"
   ]
  },
  {
   "cell_type": "markdown",
   "id": "f5f8344b-3240-4b15-98e2-53b9e71cbbcb",
   "metadata": {},
   "source": [
    "# How to execute a custom CLIJ-OpenCL kernel using pyclesperanto\n",
    "\n",
    "clEsperanto uses its own OpenCL dialect, which you can find more about it [here](https://github.com/clEsperanto/clij-opencl-kernels/blob/clesperanto_kernels/README.md). If you convert your OpenCL code to this dialect, your kernel could easily be included inside the library.\n",
    "\n",
    "You can run your own kernel the same way you run the native OpenCL version, you will simple have to use the `cle.execute()` function. \n",
    "\n",
    "## Write a CLIJ-OpenCL kernel\n",
    "\n",
    "Let's redo the `add_arrays` function but using the CLIJ-OpenCL style. You can notice the key words `IMAGE_x_TYPE`, `READ_IMAGE`, etc which are CLIJ-OpenCL defines."
   ]
  },
  {
   "cell_type": "code",
   "execution_count": 7,
   "id": "7ca02bc3-dbb4-4968-9632-dd80263114d9",
   "metadata": {},
   "outputs": [],
   "source": [
    "add_arrays_kernel = \"\"\"__constant sampler_t sampler = CLK_NORMALIZED_COORDS_FALSE | CLK_ADDRESS_CLAMP_TO_EDGE | CLK_FILTER_NEAREST;\n",
    "\n",
    "__kernel void add_arrays(\n",
    "    IMAGE_a_TYPE  a,\n",
    "    IMAGE_b_TYPE  b,\n",
    "    IMAGE_c_TYPE  c\n",
    ")\n",
    "{\n",
    "  const int x = get_global_id(0);\n",
    "  const int y = get_global_id(1);\n",
    "  const int z = get_global_id(2);\n",
    "\n",
    "  const float value0 = (float) READ_IMAGE(a, sampler, POS_a_INSTANCE(x,y,z,0)).x;\n",
    "  const float value1 = (float) READ_IMAGE(b, sampler, POS_b_INSTANCE(x,y,z,0)).x;\n",
    "  const float result = value0 + value1;\n",
    "\n",
    "  WRITE_IMAGE(c, POS_c_INSTANCE(x,y,z,0), CONVERT_c_PIXEL_TYPE(result));\n",
    "}\n",
    "\"\"\""
   ]
  },
  {
   "cell_type": "markdown",
   "id": "fe9998f6-37ef-4692-8247-27ac2ad733ed",
   "metadata": {},
   "source": [
    "We prepare the parameters in a similar way than before. However, the CLIJ-OpenCL dialect simplify the process. We do not need to specify the size of the arrays to the kernel for example. And in the `execute` function we can rely on the `shape` instead of the `size`."
   ]
  },
  {
   "cell_type": "code",
   "execution_count": 8,
   "id": "d8b463cf-09bc-455b-81c6-977d1469ed7e",
   "metadata": {},
   "outputs": [],
   "source": [
    "w = 50\n",
    "h = 20\n",
    "arr_a = cle.push( np.ones((h,w)) )\n",
    "arr_b = cle.push( np.ones((h,w)) * 5 )\n",
    "arr_c = cle.create(arr_a)\n",
    "\n",
    "param_dict = {'a': arr_a, 'b': arr_b, 'c': arr_c}"
   ]
  },
  {
   "cell_type": "code",
   "execution_count": 9,
   "id": "f2eb9383-8b6b-47a2-aed4-952d8e368a50",
   "metadata": {},
   "outputs": [],
   "source": [
    "cle.execute(\n",
    "        kernel_source=add_arrays_kernel,\n",
    "        kernel_name=\"add_arrays\",\n",
    "        global_size=arr_a.shape,\n",
    "        parameters=param_dict\n",
    "    )"
   ]
  },
  {
   "cell_type": "code",
   "execution_count": 10,
   "id": "1294b0dd-5585-49ff-bbab-9a8a209c5cbf",
   "metadata": {},
   "outputs": [
    {
     "name": "stdout",
     "output_type": "stream",
     "text": [
      "output array: (20, 50)\n"
     ]
    },
    {
     "data": {
      "text/plain": [
       "array([[6., 6., 6., 6., 6., 6., 6., 6., 6., 6., 6., 6., 6., 6., 6., 6.,\n",
       "        6., 6., 6., 6., 6., 6., 6., 6., 6., 6., 6., 6., 6., 6., 6., 6.,\n",
       "        6., 6., 6., 6., 6., 6., 6., 6., 6., 6., 6., 6., 6., 6., 6., 6.,\n",
       "        6., 6.],\n",
       "       [6., 6., 6., 6., 6., 6., 6., 6., 6., 6., 6., 6., 6., 6., 6., 6.,\n",
       "        6., 6., 6., 6., 6., 6., 6., 6., 6., 6., 6., 6., 6., 6., 6., 6.,\n",
       "        6., 6., 6., 6., 6., 6., 6., 6., 6., 6., 6., 6., 6., 6., 6., 6.,\n",
       "        6., 6.],\n",
       "       [6., 6., 6., 6., 6., 6., 6., 6., 6., 6., 6., 6., 6., 6., 6., 6.,\n",
       "        6., 6., 6., 6., 6., 6., 6., 6., 6., 6., 6., 6., 6., 6., 6., 6.,\n",
       "        6., 6., 6., 6., 6., 6., 6., 6., 6., 6., 6., 6., 6., 6., 6., 6.,\n",
       "        6., 6.],\n",
       "       [6., 6., 6., 6., 6., 6., 6., 6., 6., 6., 6., 6., 6., 6., 6., 6.,\n",
       "        6., 6., 6., 6., 6., 6., 6., 6., 6., 6., 6., 6., 6., 6., 6., 6.,\n",
       "        6., 6., 6., 6., 6., 6., 6., 6., 6., 6., 6., 6., 6., 6., 6., 6.,\n",
       "        6., 6.],\n",
       "       [6., 6., 6., 6., 6., 6., 6., 6., 6., 6., 6., 6., 6., 6., 6., 6.,\n",
       "        6., 6., 6., 6., 6., 6., 6., 6., 6., 6., 6., 6., 6., 6., 6., 6.,\n",
       "        6., 6., 6., 6., 6., 6., 6., 6., 6., 6., 6., 6., 6., 6., 6., 6.,\n",
       "        6., 6.],\n",
       "       [6., 6., 6., 6., 6., 6., 6., 6., 6., 6., 6., 6., 6., 6., 6., 6.,\n",
       "        6., 6., 6., 6., 6., 6., 6., 6., 6., 6., 6., 6., 6., 6., 6., 6.,\n",
       "        6., 6., 6., 6., 6., 6., 6., 6., 6., 6., 6., 6., 6., 6., 6., 6.,\n",
       "        6., 6.],\n",
       "       [6., 6., 6., 6., 6., 6., 6., 6., 6., 6., 6., 6., 6., 6., 6., 6.,\n",
       "        6., 6., 6., 6., 6., 6., 6., 6., 6., 6., 6., 6., 6., 6., 6., 6.,\n",
       "        6., 6., 6., 6., 6., 6., 6., 6., 6., 6., 6., 6., 6., 6., 6., 6.,\n",
       "        6., 6.],\n",
       "       [6., 6., 6., 6., 6., 6., 6., 6., 6., 6., 6., 6., 6., 6., 6., 6.,\n",
       "        6., 6., 6., 6., 6., 6., 6., 6., 6., 6., 6., 6., 6., 6., 6., 6.,\n",
       "        6., 6., 6., 6., 6., 6., 6., 6., 6., 6., 6., 6., 6., 6., 6., 6.,\n",
       "        6., 6.],\n",
       "       [6., 6., 6., 6., 6., 6., 6., 6., 6., 6., 6., 6., 6., 6., 6., 6.,\n",
       "        6., 6., 6., 6., 6., 6., 6., 6., 6., 6., 6., 6., 6., 6., 6., 6.,\n",
       "        6., 6., 6., 6., 6., 6., 6., 6., 6., 6., 6., 6., 6., 6., 6., 6.,\n",
       "        6., 6.],\n",
       "       [6., 6., 6., 6., 6., 6., 6., 6., 6., 6., 6., 6., 6., 6., 6., 6.,\n",
       "        6., 6., 6., 6., 6., 6., 6., 6., 6., 6., 6., 6., 6., 6., 6., 6.,\n",
       "        6., 6., 6., 6., 6., 6., 6., 6., 6., 6., 6., 6., 6., 6., 6., 6.,\n",
       "        6., 6.],\n",
       "       [6., 6., 6., 6., 6., 6., 6., 6., 6., 6., 6., 6., 6., 6., 6., 6.,\n",
       "        6., 6., 6., 6., 6., 6., 6., 6., 6., 6., 6., 6., 6., 6., 6., 6.,\n",
       "        6., 6., 6., 6., 6., 6., 6., 6., 6., 6., 6., 6., 6., 6., 6., 6.,\n",
       "        6., 6.],\n",
       "       [6., 6., 6., 6., 6., 6., 6., 6., 6., 6., 6., 6., 6., 6., 6., 6.,\n",
       "        6., 6., 6., 6., 6., 6., 6., 6., 6., 6., 6., 6., 6., 6., 6., 6.,\n",
       "        6., 6., 6., 6., 6., 6., 6., 6., 6., 6., 6., 6., 6., 6., 6., 6.,\n",
       "        6., 6.],\n",
       "       [6., 6., 6., 6., 6., 6., 6., 6., 6., 6., 6., 6., 6., 6., 6., 6.,\n",
       "        6., 6., 6., 6., 6., 6., 6., 6., 6., 6., 6., 6., 6., 6., 6., 6.,\n",
       "        6., 6., 6., 6., 6., 6., 6., 6., 6., 6., 6., 6., 6., 6., 6., 6.,\n",
       "        6., 6.],\n",
       "       [6., 6., 6., 6., 6., 6., 6., 6., 6., 6., 6., 6., 6., 6., 6., 6.,\n",
       "        6., 6., 6., 6., 6., 6., 6., 6., 6., 6., 6., 6., 6., 6., 6., 6.,\n",
       "        6., 6., 6., 6., 6., 6., 6., 6., 6., 6., 6., 6., 6., 6., 6., 6.,\n",
       "        6., 6.],\n",
       "       [6., 6., 6., 6., 6., 6., 6., 6., 6., 6., 6., 6., 6., 6., 6., 6.,\n",
       "        6., 6., 6., 6., 6., 6., 6., 6., 6., 6., 6., 6., 6., 6., 6., 6.,\n",
       "        6., 6., 6., 6., 6., 6., 6., 6., 6., 6., 6., 6., 6., 6., 6., 6.,\n",
       "        6., 6.],\n",
       "       [6., 6., 6., 6., 6., 6., 6., 6., 6., 6., 6., 6., 6., 6., 6., 6.,\n",
       "        6., 6., 6., 6., 6., 6., 6., 6., 6., 6., 6., 6., 6., 6., 6., 6.,\n",
       "        6., 6., 6., 6., 6., 6., 6., 6., 6., 6., 6., 6., 6., 6., 6., 6.,\n",
       "        6., 6.],\n",
       "       [6., 6., 6., 6., 6., 6., 6., 6., 6., 6., 6., 6., 6., 6., 6., 6.,\n",
       "        6., 6., 6., 6., 6., 6., 6., 6., 6., 6., 6., 6., 6., 6., 6., 6.,\n",
       "        6., 6., 6., 6., 6., 6., 6., 6., 6., 6., 6., 6., 6., 6., 6., 6.,\n",
       "        6., 6.],\n",
       "       [6., 6., 6., 6., 6., 6., 6., 6., 6., 6., 6., 6., 6., 6., 6., 6.,\n",
       "        6., 6., 6., 6., 6., 6., 6., 6., 6., 6., 6., 6., 6., 6., 6., 6.,\n",
       "        6., 6., 6., 6., 6., 6., 6., 6., 6., 6., 6., 6., 6., 6., 6., 6.,\n",
       "        6., 6.],\n",
       "       [6., 6., 6., 6., 6., 6., 6., 6., 6., 6., 6., 6., 6., 6., 6., 6.,\n",
       "        6., 6., 6., 6., 6., 6., 6., 6., 6., 6., 6., 6., 6., 6., 6., 6.,\n",
       "        6., 6., 6., 6., 6., 6., 6., 6., 6., 6., 6., 6., 6., 6., 6., 6.,\n",
       "        6., 6.],\n",
       "       [6., 6., 6., 6., 6., 6., 6., 6., 6., 6., 6., 6., 6., 6., 6., 6.,\n",
       "        6., 6., 6., 6., 6., 6., 6., 6., 6., 6., 6., 6., 6., 6., 6., 6.,\n",
       "        6., 6., 6., 6., 6., 6., 6., 6., 6., 6., 6., 6., 6., 6., 6., 6.,\n",
       "        6., 6.]], dtype=float32)"
      ]
     },
     "execution_count": 10,
     "metadata": {},
     "output_type": "execute_result"
    }
   ],
   "source": [
    "print(\"output array:\", arr_c.shape)\n",
    "cle.pull(arr_c)"
   ]
  },
  {
   "cell_type": "code",
   "execution_count": null,
   "id": "c3b27527-cd91-408f-bc1c-aa0302fc8c96",
   "metadata": {},
   "outputs": [],
   "source": []
  },
  {
   "cell_type": "code",
   "execution_count": null,
   "id": "99b3f364-409b-4156-a882-74a37b48ee8b",
   "metadata": {},
   "outputs": [],
   "source": []
  }
 ],
 "metadata": {
  "kernelspec": {
   "display_name": "Python 3 (ipykernel)",
   "language": "python",
   "name": "python3"
  },
  "language_info": {
   "codemirror_mode": {
    "name": "ipython",
    "version": 3
   },
   "file_extension": ".py",
   "mimetype": "text/x-python",
   "name": "python",
   "nbconvert_exporter": "python",
   "pygments_lexer": "ipython3",
   "version": "3.12.7"
  }
 },
 "nbformat": 4,
 "nbformat_minor": 5
}
