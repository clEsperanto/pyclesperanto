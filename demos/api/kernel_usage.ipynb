{
 "cells": [
  {
   "cell_type": "markdown",
   "id": "fa467b9c",
   "metadata": {},
   "source": [
    "# Backends\n",
    "The default backend is always [pyopencl](https://documen.tician.de/pyopencl/) based."
   ]
  },
  {
   "cell_type": "code",
   "execution_count": 1,
   "id": "69c32066",
   "metadata": {},
   "outputs": [
    {
     "data": {
      "text/plain": [
       "(OpenCL) NVIDIA GeForce RTX 2080 SUPER (OpenCL 3.0 CUDA)\n",
       "\tType: GPU\n",
       "\tCompute Units: 48\n",
       "\tGlobal Memory Size: 8366 MB\n",
       "\tMaximum Object Size: 2091 MB"
      ]
     },
     "execution_count": 1,
     "metadata": {},
     "output_type": "execute_result"
    }
   ],
   "source": [
    "import numpy as np\n",
    "import pyclesperanto as cle\n",
    "\n",
    "cle.get_device()"
   ]
  },
  {
   "cell_type": "code",
   "execution_count": 2,
   "id": "1922cc9a-556c-414e-ade1-be8c517c209b",
   "metadata": {},
   "outputs": [
    {
     "data": {
      "text/plain": [
       "['cuda', 'opencl']"
      ]
     },
     "execution_count": 2,
     "metadata": {},
     "output_type": "execute_result"
    }
   ],
   "source": [
    "cle.list_available_backends()"
   ]
  },
  {
   "cell_type": "code",
   "execution_count": 3,
   "id": "dc4eaf76-f528-4256-a611-02ea3053bb73",
   "metadata": {},
   "outputs": [
    {
     "data": {
      "text/plain": [
       "(OpenCL) NVIDIA GeForce RTX 2080 SUPER (OpenCL 3.0 CUDA)\n",
       "\tType: GPU\n",
       "\tCompute Units: 48\n",
       "\tGlobal Memory Size: 8366 MB\n",
       "\tMaximum Object Size: 2091 MB"
      ]
     },
     "execution_count": 3,
     "metadata": {},
     "output_type": "execute_result"
    }
   ],
   "source": [
    "cle.select_backend(\"opencl\")\n",
    "cle.select_device(\"TX\")"
   ]
  },
  {
   "cell_type": "code",
   "execution_count": 4,
   "id": "6f7f61c0",
   "metadata": {},
   "outputs": [
    {
     "data": {
      "text/plain": [
       "array([6, 7, 8], mtype=buffer)"
      ]
     },
     "execution_count": 4,
     "metadata": {},
     "output_type": "execute_result"
    }
   ],
   "source": [
    "array = cle.push(np.asarray([1, 2, 3]))\n",
    "cle.add_image_and_scalar(array, scalar = 5)"
   ]
  },
  {
   "cell_type": "markdown",
   "id": "756943ab",
   "metadata": {},
   "source": [
    "# cuda backend  ( Experimental, not expected to work for now )\n",
    "One can switch to an experimental [cuda](https://developer.nvidia.com/cuda-toolkit) backend like this:"
   ]
  },
  {
   "cell_type": "code",
   "execution_count": 5,
   "id": "58651618",
   "metadata": {},
   "outputs": [
    {
     "data": {
      "text/plain": [
       "(CUDA) NVIDIA GeForce RTX 2080 SUPER (11.7)\n",
       "\tType: GPU\n",
       "\tCompute Units: 48\n",
       "\tGlobal Memory Size: 8366 MB"
      ]
     },
     "execution_count": 5,
     "metadata": {},
     "output_type": "execute_result"
    }
   ],
   "source": [
    "cle.select_backend(\"cuda\")\n",
    "cle.select_device(\"TX\")"
   ]
  },
  {
   "cell_type": "code",
   "execution_count": null,
   "id": "690dde8e",
   "metadata": {},
   "outputs": [],
   "source": [
    "array = cle.push(np.asarray([1, 2, 3], dtype=np.float32))\n",
    "array"
   ]
  },
  {
   "cell_type": "code",
   "execution_count": null,
   "id": "bb399ac9",
   "metadata": {},
   "outputs": [],
   "source": [
    "cle.add_image_and_scalar(array, scalar = 5)"
   ]
  }
 ],
 "metadata": {
  "kernelspec": {
   "display_name": "Python 3 (ipykernel)",
   "language": "python",
   "name": "python3"
  },
  "language_info": {
   "codemirror_mode": {
    "name": "ipython",
    "version": 3
   },
   "file_extension": ".py",
   "mimetype": "text/x-python",
   "name": "python",
   "nbconvert_exporter": "python",
   "pygments_lexer": "ipython3",
   "version": "3.8.17"
  }
 },
 "nbformat": 4,
 "nbformat_minor": 5
}
