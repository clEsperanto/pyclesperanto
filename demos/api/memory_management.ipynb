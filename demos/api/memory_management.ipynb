{
 "cells": [
  {
   "cell_type": "markdown",
   "id": "cb1fdbe0",
   "metadata": {},
   "source": [
    "# Optimize memory consumption\n",
    "\n",
    "When setting up complex workflows, it make sense to take a look at memory consumption, especially on small device where RAM can be very limited. \n",
    "Depending on their OSs and device brand, users can track memory consumption of a code or software. Using the Task-Manager on windows, the `nvidia-smi` command for NVIDIA cards, etc. \n",
    "\n",
    "pyclesperanto rely on the garbage collector of python and C++ to release memory which become out of scope, hence their is no direct function from the library to call for a data release. Instead, it is possible to rely on the python `del` operation to release a variable and its data.\n",
    "\n",
    "This notebook show an example of such memory release."
   ]
  },
  {
   "cell_type": "code",
   "execution_count": 29,
   "id": "01a6ede9",
   "metadata": {},
   "outputs": [
    {
     "data": {
      "text/plain": [
       "(OpenCL) NVIDIA GeForce RTX 4090 (OpenCL 3.0 CUDA)\n",
       "\tVendor:                      NVIDIA Corporation\n",
       "\tDriver Version:              535.216.01\n",
       "\tDevice Type:                 GPU\n",
       "\tCompute Units:               128\n",
       "\tGlobal Memory Size:          24217 MB\n",
       "\tMaximum Object Size:         6054 MB\n",
       "\tMax Clock Frequency:         2625 MHz\n",
       "\tImage Support:               Yes"
      ]
     },
     "execution_count": 29,
     "metadata": {},
     "output_type": "execute_result"
    }
   ],
   "source": [
    "import numpy as np\n",
    "import pyclesperanto as cle\n",
    "\n",
    "cle.select_device(1, device_type=\"gpu\")"
   ]
  },
  {
   "cell_type": "markdown",
   "id": "8a0e81e0",
   "metadata": {},
   "source": [
    "For overseeing memory consumption, one can use [nvidia-smi](https://nvidia.custhelp.com/app/answers/detail/a_id/3751/~/useful-nvidia-smi-queries), a command line tool that can print out how much memory is currently blocked in a given GPU, by any application:\n",
    "\n",
    "> Two memory are return because, the system running this note book has 2 device, we will focus on the second device"
   ]
  },
  {
   "cell_type": "code",
   "execution_count": 30,
   "id": "bedbd481",
   "metadata": {},
   "outputs": [
    {
     "name": "stdout",
     "output_type": "stream",
     "text": [
      "memory.used [MiB]\n",
      "2749 MiB\n",
      "787 MiB\n"
     ]
    }
   ],
   "source": [
    "!nvidia-smi --query-gpu=memory.used --format=csv"
   ]
  },
  {
   "cell_type": "markdown",
   "id": "3ed5c332",
   "metadata": {},
   "source": [
    "If we then run an operation on the GPU and check memory consumption again, we should see an increase."
   ]
  },
  {
   "cell_type": "code",
   "execution_count": 31,
   "id": "2f06ebac",
   "metadata": {},
   "outputs": [],
   "source": [
    "image = np.random.random((500, 1024, 1024))\n",
    "\n",
    "blurred = cle.gaussian_blur(image)"
   ]
  },
  {
   "cell_type": "code",
   "execution_count": 32,
   "id": "f5328a54",
   "metadata": {},
   "outputs": [
    {
     "name": "stdout",
     "output_type": "stream",
     "text": [
      "memory.used [MiB]\n",
      "2753 MiB\n",
      "2787 MiB\n"
     ]
    }
   ],
   "source": [
    "!nvidia-smi --query-gpu=memory.used --format=csv"
   ]
  },
  {
   "cell_type": "markdown",
   "id": "9587fb0c",
   "metadata": {},
   "source": [
    "The `del` command allows to free memory. Note: The memory behind the variable may not be freed immediately, depending on how busy the system is at the moment."
   ]
  },
  {
   "cell_type": "code",
   "execution_count": 33,
   "id": "39400e4a",
   "metadata": {},
   "outputs": [],
   "source": [
    "del blurred"
   ]
  },
  {
   "cell_type": "code",
   "execution_count": 34,
   "id": "8bef3a3f",
   "metadata": {},
   "outputs": [
    {
     "name": "stdout",
     "output_type": "stream",
     "text": [
      "memory.used [MiB]\n",
      "2753 MiB\n",
      "787 MiB\n"
     ]
    }
   ],
   "source": [
    "!nvidia-smi --query-gpu=memory.used --format=csv"
   ]
  },
  {
   "cell_type": "markdown",
   "id": "08aaad60",
   "metadata": {},
   "source": [
    "We can observe at each call of `nvidia-smi` that the memory of the second device start at `787 MB`, goes to `2787 MB` once we push our data to the device, and goes back to `787 MB` after deleting the Array wiht `del`"
   ]
  },
  {
   "cell_type": "markdown",
   "id": "d859880e",
   "metadata": {},
   "source": []
  }
 ],
 "metadata": {
  "kernelspec": {
   "display_name": "skbe",
   "language": "python",
   "name": "python3"
  },
  "language_info": {
   "codemirror_mode": {
    "name": "ipython",
    "version": 3
   },
   "file_extension": ".py",
   "mimetype": "text/x-python",
   "name": "python",
   "nbconvert_exporter": "python",
   "pygments_lexer": "ipython3",
   "version": "3.12.7"
  }
 },
 "nbformat": 4,
 "nbformat_minor": 5
}
