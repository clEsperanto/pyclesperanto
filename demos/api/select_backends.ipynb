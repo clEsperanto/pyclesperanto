{
 "cells": [
  {
   "cell_type": "markdown",
   "id": "fa467b9c",
   "metadata": {},
   "source": [
    "# Backends\n",
    "pyclesperanto is designed to suport different GPU-backends. For the time being, only CUDA and OpenCL are supported.\n",
    "\n",
    "When importing pyclesperanto, the package will automatically select a backend, and return a warning if no backend was found."
   ]
  },
  {
   "cell_type": "code",
   "execution_count": 1,
   "id": "69c32066",
   "metadata": {},
   "outputs": [],
   "source": [
    "import numpy as np\n",
    "import pyclesperanto as cle"
   ]
  },
  {
   "cell_type": "code",
   "execution_count": 2,
   "id": "1922cc9a-556c-414e-ade1-be8c517c209b",
   "metadata": {},
   "outputs": [
    {
     "data": {
      "text/plain": [
       "['cuda', 'opencl']"
      ]
     },
     "execution_count": 2,
     "metadata": {},
     "output_type": "execute_result"
    }
   ],
   "source": [
    "cle.list_available_backends()"
   ]
  },
  {
   "cell_type": "code",
   "execution_count": 3,
   "id": "dc4eaf76-f528-4256-a611-02ea3053bb73",
   "metadata": {},
   "outputs": [
    {
     "data": {
      "text/plain": [
       "'OpenCL backend selected.'"
      ]
     },
     "execution_count": 3,
     "metadata": {},
     "output_type": "execute_result"
    }
   ],
   "source": [
    "cle.select_backend(\"opencl\")"
   ]
  },
  {
   "cell_type": "code",
   "execution_count": 5,
   "id": "3adf8cca-1d1d-4af2-9432-f35219fdb5a5",
   "metadata": {},
   "outputs": [
    {
     "data": {
      "text/plain": [
       "'CUDA backend selected.'"
      ]
     },
     "execution_count": 5,
     "metadata": {},
     "output_type": "execute_result"
    }
   ],
   "source": [
    "cle.select_backend(\"cuda\")"
   ]
  },
  {
   "cell_type": "markdown",
   "id": "a56b3e66-9aa6-498c-bd5b-7f47a7482e12",
   "metadata": {},
   "source": [
    "Selecting a random backend will lead to an error."
   ]
  },
  {
   "cell_type": "code",
   "execution_count": 6,
   "id": "4b55b795-32bd-498c-98ae-1f71f6355b03",
   "metadata": {},
   "outputs": [
    {
     "ename": "ValueError",
     "evalue": "'toto' is not a supported Backend. Please use either 'opencl' or 'cuda'.",
     "output_type": "error",
     "traceback": [
      "\u001b[0;31m---------------------------------------------------------------------------\u001b[0m",
      "\u001b[0;31mValueError\u001b[0m                                Traceback (most recent call last)",
      "Cell \u001b[0;32mIn[6], line 1\u001b[0m\n\u001b[0;32m----> 1\u001b[0m \u001b[43mcle\u001b[49m\u001b[38;5;241;43m.\u001b[39;49m\u001b[43mselect_backend\u001b[49m\u001b[43m(\u001b[49m\u001b[38;5;124;43m\"\u001b[39;49m\u001b[38;5;124;43mtoto\u001b[39;49m\u001b[38;5;124;43m\"\u001b[39;49m\u001b[43m)\u001b[49m\n",
      "File \u001b[0;32m~/Libraries/miniconda3/envs/build38/lib/python3.8/site-packages/pyclesperanto/_core.py:97\u001b[0m, in \u001b[0;36mselect_backend\u001b[0;34m(backend)\u001b[0m\n\u001b[1;32m     95\u001b[0m \u001b[38;5;66;03m# is backend_type is different than \"cuda\" or \"opencl\", raise an error\u001b[39;00m\n\u001b[1;32m     96\u001b[0m \u001b[38;5;28;01mif\u001b[39;00m backend \u001b[38;5;129;01mnot\u001b[39;00m \u001b[38;5;129;01min\u001b[39;00m [\u001b[38;5;124m\"\u001b[39m\u001b[38;5;124mcuda\u001b[39m\u001b[38;5;124m\"\u001b[39m, \u001b[38;5;124m\"\u001b[39m\u001b[38;5;124mopencl\u001b[39m\u001b[38;5;124m\"\u001b[39m]:\n\u001b[0;32m---> 97\u001b[0m     \u001b[38;5;28;01mraise\u001b[39;00m \u001b[38;5;167;01mValueError\u001b[39;00m(\n\u001b[1;32m     98\u001b[0m         \u001b[38;5;124mf\u001b[39m\u001b[38;5;124m\"\u001b[39m\u001b[38;5;124m'\u001b[39m\u001b[38;5;132;01m{\u001b[39;00mbackend\u001b[38;5;132;01m}\u001b[39;00m\u001b[38;5;124m'\u001b[39m\u001b[38;5;124m is not a supported Backend. Please use either \u001b[39m\u001b[38;5;124m'\u001b[39m\u001b[38;5;124mopencl\u001b[39m\u001b[38;5;124m'\u001b[39m\u001b[38;5;124m or \u001b[39m\u001b[38;5;124m'\u001b[39m\u001b[38;5;124mcuda\u001b[39m\u001b[38;5;124m'\u001b[39m\u001b[38;5;124m.\u001b[39m\u001b[38;5;124m\"\u001b[39m\n\u001b[1;32m     99\u001b[0m     )\n\u001b[1;32m    100\u001b[0m BackendManager\u001b[38;5;241m.\u001b[39mset_backend(backend\u001b[38;5;241m=\u001b[39mbackend)\n\u001b[1;32m    101\u001b[0m \u001b[38;5;66;03m# reset current device to default one\u001b[39;00m\n",
      "\u001b[0;31mValueError\u001b[0m: 'toto' is not a supported Backend. Please use either 'opencl' or 'cuda'."
     ]
    }
   ],
   "source": [
    "cle.select_backend(\"toto\")"
   ]
  },
  {
   "cell_type": "markdown",
   "id": "81b36dc0-a51a-4211-a8ae-c6e809c0317b",
   "metadata": {},
   "source": [
    "On a general basis, it is advised to let the package select the backend automatically and not modify it along the way.\n",
    "Backend switch are mainly here to adapt as best as possible to the users configuration and need."
   ]
  }
 ],
 "metadata": {
  "kernelspec": {
   "display_name": "Python 3 (ipykernel)",
   "language": "python",
   "name": "python3"
  },
  "language_info": {
   "codemirror_mode": {
    "name": "ipython",
    "version": 3
   },
   "file_extension": ".py",
   "mimetype": "text/x-python",
   "name": "python",
   "nbconvert_exporter": "python",
   "pygments_lexer": "ipython3",
   "version": "3.8.17"
  }
 },
 "nbformat": 4,
 "nbformat_minor": 5
}
