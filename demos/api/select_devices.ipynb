{
 "cells": [
  {
   "cell_type": "markdown",
   "id": "fa467b9c",
   "metadata": {},
   "source": [
    "# Devices\n",
    "\n",
    "In pyclesperanto, devices are Computational Units (CUs) on which kernels can be executed. The available CUs is determined by your system and which backend you are using.  \n",
    "Firstly developed for OpenCL, pyclesperanto can support both GPUs and CPUs although the main interest is to run the library on GPUs for the performance gain.\n",
    "\n",
    "Same as for the backend default selection, when importing the package, we will automatically select a default devices among the available one.  \n",
    "However the select device may not always be the best for your usage and it is advised to start any processin by selecting the correct device."
   ]
  },
  {
   "cell_type": "code",
   "execution_count": 1,
   "id": "69c32066",
   "metadata": {},
   "outputs": [],
   "source": [
    "import numpy as np\n",
    "import pyclesperanto as cle"
   ]
  },
  {
   "cell_type": "markdown",
   "id": "52f3036a-a773-46df-987f-7a68c2a9cac2",
   "metadata": {},
   "source": [
    "We can list the available devices by calling the following method"
   ]
  },
  {
   "cell_type": "code",
   "execution_count": 2,
   "id": "1922cc9a-556c-414e-ade1-be8c517c209b",
   "metadata": {},
   "outputs": [
    {
     "data": {
      "text/plain": [
       "['AMD Ryzen 9 7950X 16-Core Processor',\n",
       " 'NVIDIA GeForce RTX 4090',\n",
       " 'NVIDIA GeForce RTX 4090']"
      ]
     },
     "execution_count": 2,
     "metadata": {},
     "output_type": "execute_result"
    }
   ],
   "source": [
    "cle.list_available_devices()"
   ]
  },
  {
   "cell_type": "markdown",
   "id": "761621a8-a5c3-4a79-b61c-8edee79714a9",
   "metadata": {},
   "source": [
    "Here we can see that two devices are available: an NVIDIA GPU card and an Intel CPU  \n",
    "I can select the GPU by using the `select_device` method with a key string which is contained in the device name I want:"
   ]
  },
  {
   "cell_type": "code",
   "execution_count": 3,
   "id": "dc4eaf76-f528-4256-a611-02ea3053bb73",
   "metadata": {},
   "outputs": [
    {
     "data": {
      "text/plain": [
       "(OpenCL) AMD Ryzen 9 7950X 16-Core Processor (OpenCL 3.0 (Build 0))\n",
       "\tVendor:                      Intel(R) Corporation\n",
       "\tDriver Version:              2024.18.10.0.08_160000\n",
       "\tDevice Type:                 CPU\n",
       "\tCompute Units:               32\n",
       "\tGlobal Memory Size:          127926 MB\n",
       "\tMaximum Object Size:         63963 MB\n",
       "\tMax Clock Frequency:         0 MHz\n",
       "\tImage Support:               Yes"
      ]
     },
     "execution_count": 3,
     "metadata": {},
     "output_type": "execute_result"
    }
   ],
   "source": [
    "cle.select_device(\"AMD\")"
   ]
  },
  {
   "cell_type": "code",
   "execution_count": 4,
   "id": "94bcd15a-7e60-47f8-a54a-de61bd2dac95",
   "metadata": {},
   "outputs": [
    {
     "data": {
      "text/plain": [
       "(OpenCL) NVIDIA GeForce RTX 4090 (OpenCL 3.0 CUDA)\n",
       "\tVendor:                      NVIDIA Corporation\n",
       "\tDriver Version:              535.216.01\n",
       "\tDevice Type:                 GPU\n",
       "\tCompute Units:               128\n",
       "\tGlobal Memory Size:          24183 MB\n",
       "\tMaximum Object Size:         6045 MB\n",
       "\tMax Clock Frequency:         2520 MHz\n",
       "\tImage Support:               Yes"
      ]
     },
     "execution_count": 4,
     "metadata": {},
     "output_type": "execute_result"
    }
   ],
   "source": [
    "cle.select_device(\"NVIDIA\")"
   ]
  },
  {
   "cell_type": "markdown",
   "id": "f862b9d5-2243-49ba-b49f-e5d7835392d6",
   "metadata": {},
   "source": [
    "However, our system propose two NVIDIA cards, with similar name. In this case, it is better to select the device by its index. \n",
    "First, I can pre-filter my devices by `type`, here selecting only `GPU` device (e.g. only the NVIDIA cards), then using `device_id=1` return me the second NVIDIA card, the first card being the index `0`"
   ]
  },
  {
   "cell_type": "code",
   "execution_count": 5,
   "id": "6f7f61c0",
   "metadata": {},
   "outputs": [
    {
     "data": {
      "text/plain": [
       "(OpenCL) NVIDIA GeForce RTX 4090 (OpenCL 3.0 CUDA)\n",
       "\tVendor:                      NVIDIA Corporation\n",
       "\tDriver Version:              535.216.01\n",
       "\tDevice Type:                 GPU\n",
       "\tCompute Units:               128\n",
       "\tGlobal Memory Size:          24217 MB\n",
       "\tMaximum Object Size:         6054 MB\n",
       "\tMax Clock Frequency:         2625 MHz\n",
       "\tImage Support:               Yes"
      ]
     },
     "execution_count": 5,
     "metadata": {},
     "output_type": "execute_result"
    }
   ],
   "source": [
    "cle.select_device(1, device_type=\"gpu\")"
   ]
  },
  {
   "cell_type": "markdown",
   "id": "f60d14db",
   "metadata": {},
   "source": [
    "A global view of the devices available in the system and information on each devices is available with the function `info`"
   ]
  },
  {
   "cell_type": "code",
   "execution_count": 6,
   "id": "8db5ab99",
   "metadata": {},
   "outputs": [
    {
     "name": "stdout",
     "output_type": "stream",
     "text": [
      "0 - (OpenCL) AMD Ryzen 9 7950X 16-Core Processor (OpenCL 3.0 (Build 0))\n",
      "\tVendor:                      Intel(R) Corporation\n",
      "\tDriver Version:              2024.18.10.0.08_160000\n",
      "\tDevice Type:                 CPU\n",
      "\tCompute Units:               32\n",
      "\tGlobal Memory Size:          127926 MB\n",
      "\tMaximum Object Size:         63963 MB\n",
      "\tMax Clock Frequency:         0 MHz\n",
      "\tImage Support:               Yes\n",
      "1 - (OpenCL) NVIDIA GeForce RTX 4090 (OpenCL 3.0 CUDA)\n",
      "\tVendor:                      NVIDIA Corporation\n",
      "\tDriver Version:              535.216.01\n",
      "\tDevice Type:                 GPU\n",
      "\tCompute Units:               128\n",
      "\tGlobal Memory Size:          24183 MB\n",
      "\tMaximum Object Size:         6045 MB\n",
      "\tMax Clock Frequency:         2520 MHz\n",
      "\tImage Support:               Yes\n",
      "2 - (OpenCL) NVIDIA GeForce RTX 4090 (OpenCL 3.0 CUDA)\n",
      "\tVendor:                      NVIDIA Corporation\n",
      "\tDriver Version:              535.216.01\n",
      "\tDevice Type:                 GPU\n",
      "\tCompute Units:               128\n",
      "\tGlobal Memory Size:          24183 MB\n",
      "\tMaximum Object Size:         6045 MB\n",
      "\tMax Clock Frequency:         2520 MHz\n",
      "\tImage Support:               Yes\n",
      "\n"
     ]
    }
   ],
   "source": [
    "cle.info()"
   ]
  },
  {
   "cell_type": "code",
   "execution_count": null,
   "id": "6d8c4060",
   "metadata": {},
   "outputs": [],
   "source": []
  }
 ],
 "metadata": {
  "kernelspec": {
   "display_name": "skbe",
   "language": "python",
   "name": "python3"
  },
  "language_info": {
   "codemirror_mode": {
    "name": "ipython",
    "version": 3
   },
   "file_extension": ".py",
   "mimetype": "text/x-python",
   "name": "python",
   "nbconvert_exporter": "python",
   "pygments_lexer": "ipython3",
   "version": "3.12.7"
  }
 },
 "nbformat": 4,
 "nbformat_minor": 5
}
