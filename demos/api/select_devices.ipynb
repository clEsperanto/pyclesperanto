{
 "cells": [
  {
   "cell_type": "markdown",
   "id": "fa467b9c",
   "metadata": {},
   "source": [
    "# Devices\n",
    "\n",
    "In pyclesperanto, devices are Computational Units (CUs) on which kernels can be executed. The available CUs is determined by your system and which backend you are using.  \n",
    "Firstly developed for OpenCL, pyclesperanto can support both GPUs and CPUs although the main interest is to run the library on GPUs for the performance gain.\n",
    "\n",
    "Same as for the backend default selection, when importing the package, we will automatically select a default devices among the available one.  \n",
    "However the select device may not always be the best for your usage and it is advised to start any processin by selecting the correct device."
   ]
  },
  {
   "cell_type": "code",
   "execution_count": 2,
   "id": "69c32066",
   "metadata": {},
   "outputs": [],
   "source": [
    "import numpy as np\n",
    "import pyclesperanto as cle"
   ]
  },
  {
   "cell_type": "markdown",
   "id": "52f3036a-a773-46df-987f-7a68c2a9cac2",
   "metadata": {},
   "source": [
    "We can list the available devices by calling the following method"
   ]
  },
  {
   "cell_type": "code",
   "execution_count": 4,
   "id": "1922cc9a-556c-414e-ade1-be8c517c209b",
   "metadata": {},
   "outputs": [
    {
     "data": {
      "text/plain": [
       "['NVIDIA GeForce RTX 2080 SUPER',\n",
       " 'pthread-Intel(R) Core(TM) i7-7820X CPU @ 3.60GHz']"
      ]
     },
     "execution_count": 4,
     "metadata": {},
     "output_type": "execute_result"
    }
   ],
   "source": [
    "cle.list_available_devices()"
   ]
  },
  {
   "cell_type": "markdown",
   "id": "761621a8-a5c3-4a79-b61c-8edee79714a9",
   "metadata": {},
   "source": [
    "Here we can see that two devices are available: an NVIDIA GPU card and an Intel CPU  \n",
    "I can select the GPU by using the `select_device` method with a key string which is contained in the device name I want:"
   ]
  },
  {
   "cell_type": "code",
   "execution_count": 7,
   "id": "dc4eaf76-f528-4256-a611-02ea3053bb73",
   "metadata": {},
   "outputs": [
    {
     "data": {
      "text/plain": [
       "(OpenCL) pthread-Intel(R) Core(TM) i7-7820X CPU @ 3.60GHz (OpenCL 1.2 pocl HSTR: pthread-x86_64-pc-linux-gnu-skylake-avx512)\n",
       "\tType: CPU\n",
       "\tCompute Units: 16\n",
       "\tGlobal Memory Size: 98765 MB\n",
       "\tMaximum Object Size: 34359 MB"
      ]
     },
     "execution_count": 7,
     "metadata": {},
     "output_type": "execute_result"
    }
   ],
   "source": [
    "cle.select_device(\"Intel\")"
   ]
  },
  {
   "cell_type": "code",
   "execution_count": 8,
   "id": "94bcd15a-7e60-47f8-a54a-de61bd2dac95",
   "metadata": {},
   "outputs": [
    {
     "data": {
      "text/plain": [
       "(OpenCL) NVIDIA GeForce RTX 2080 SUPER (OpenCL 3.0 CUDA)\n",
       "\tType: GPU\n",
       "\tCompute Units: 48\n",
       "\tGlobal Memory Size: 8358 MB\n",
       "\tMaximum Object Size: 2089 MB"
      ]
     },
     "execution_count": 8,
     "metadata": {},
     "output_type": "execute_result"
    }
   ],
   "source": [
    "cle.select_device(\"TX\")"
   ]
  },
  {
   "cell_type": "markdown",
   "id": "f862b9d5-2243-49ba-b49f-e5d7835392d6",
   "metadata": {},
   "source": [
    "For each device select, we can see some information about their processing capacities. \n",
    "Note that the last device selected is the one used further on.\n",
    "\n",
    "It is also possible to keep the device information in a variable for more advance usage, like multi-device programming"
   ]
  },
  {
   "cell_type": "code",
   "execution_count": 12,
   "id": "6f7f61c0",
   "metadata": {},
   "outputs": [
    {
     "name": "stdout",
     "output_type": "stream",
     "text": [
      "(OpenCL) NVIDIA GeForce RTX 2080 SUPER\n"
     ]
    }
   ],
   "source": [
    "my_device = cle.select_device(\"TX\")\n",
    "print(my_device)"
   ]
  },
  {
   "cell_type": "markdown",
   "id": "756943ab",
   "metadata": {},
   "source": [
    "# cuda backend \n",
    "\n",
    "You may have notice that in the device name you have the tag `(OpenCL)`. This is an indicator that the device is selected with the backend OpenCL.\n",
    "This backend was selected by default in this usecase. If we select the CUDA backend, the devices may be different:"
   ]
  },
  {
   "cell_type": "code",
   "execution_count": 13,
   "id": "58651618",
   "metadata": {},
   "outputs": [
    {
     "data": {
      "text/plain": [
       "['NVIDIA GeForce RTX 2080 SUPER']"
      ]
     },
     "execution_count": 13,
     "metadata": {},
     "output_type": "execute_result"
    }
   ],
   "source": [
    "cle.select_backend(\"cuda\")\n",
    "cle.list_available_devices()"
   ]
  },
  {
   "cell_type": "markdown",
   "id": "887f9d3f-0986-49ff-9183-0b4b86b0fdbd",
   "metadata": {},
   "source": [
    "You can see that the NVIDIA GPU is still visible however the Intel CPU is not. This is because the CUDA backend is not compatible with anything else than NVIDIA GPU cards"
   ]
  },
  {
   "cell_type": "code",
   "execution_count": 14,
   "id": "690dde8e",
   "metadata": {},
   "outputs": [
    {
     "data": {
      "text/plain": [
       "(CUDA) NVIDIA GeForce RTX 2080 SUPER (12.0)\n",
       "\tType: GPU\n",
       "\tCompute Units: 48\n",
       "\tGlobal Memory Size: 8358 MB"
      ]
     },
     "execution_count": 14,
     "metadata": {},
     "output_type": "execute_result"
    }
   ],
   "source": [
    "cle.select_device(\"TX\")"
   ]
  },
  {
   "cell_type": "markdown",
   "id": "d25f790d-8cd9-46c0-8b99-522a9e42e54d",
   "metadata": {},
   "source": [
    "If we select now the card, we get the same results, just that now the `(CUDA)` tag is set in the information."
   ]
  },
  {
   "cell_type": "code",
   "execution_count": null,
   "id": "45b1a5bd-2115-40cd-9948-0fc4d48d2a03",
   "metadata": {},
   "outputs": [],
   "source": []
  }
 ],
 "metadata": {
  "kernelspec": {
   "display_name": "Python 3 (ipykernel)",
   "language": "python",
   "name": "python3"
  },
  "language_info": {
   "codemirror_mode": {
    "name": "ipython",
    "version": 3
   },
   "file_extension": ".py",
   "mimetype": "text/x-python",
   "name": "python",
   "nbconvert_exporter": "python",
   "pygments_lexer": "ipython3",
   "version": "3.8.17"
  }
 },
 "nbformat": 4,
 "nbformat_minor": 5
}
