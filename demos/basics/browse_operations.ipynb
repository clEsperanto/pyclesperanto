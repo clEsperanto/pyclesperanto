{
 "cells": [
  {
   "cell_type": "code",
   "execution_count": 1,
   "id": "0e59ba95-eb9f-4868-8def-f1679a84549e",
   "metadata": {},
   "outputs": [
    {
     "data": {
      "text/plain": [
       "(OpenCL) NVIDIA GeForce RTX 2080 SUPER (OpenCL 3.0 CUDA)\n",
       "\tType: GPU\n",
       "\tCompute Units: 48\n",
       "\tGlobal Memory Size: 8358 MB\n",
       "\tMaximum Object Size: 2089 MB"
      ]
     },
     "execution_count": 1,
     "metadata": {},
     "output_type": "execute_result"
    }
   ],
   "source": [
    "import pyclesperanto as cle\n",
    "\n",
    "cle.get_device()"
   ]
  },
  {
   "cell_type": "markdown",
   "id": "77acb533-9480-4a48-a871-b71fd74b9d60",
   "metadata": {},
   "source": [
    "Pyclesperanto is organised by Tiers, the method `list_function()` will provide you with all the operation accessible from `cle.` organised per tiers.\n",
    "Lower tiers are basices operations, while higher tiers will be more advance."
   ]
  },
  {
   "cell_type": "code",
   "execution_count": 2,
   "id": "abdeb48a-1751-44a9-aba5-9250e159ab71",
   "metadata": {},
   "outputs": [],
   "source": [
    "list_func = [i for i in dir(cle) if not i.startswith(\"_\")]"
   ]
  },
  {
   "cell_type": "code",
   "execution_count": 3,
   "id": "9447a1d4-4f87-4377-92c3-34fa6cd6a78c",
   "metadata": {},
   "outputs": [
    {
     "data": {
      "text/plain": [
       "174"
      ]
     },
     "execution_count": 3,
     "metadata": {},
     "output_type": "execute_result"
    }
   ],
   "source": [
    "len(list_func)"
   ]
  },
  {
   "cell_type": "code",
   "execution_count": 4,
   "id": "ae64c46c-8fca-4f88-aab3-72b92a877664",
   "metadata": {},
   "outputs": [
    {
     "data": {
      "text/plain": [
       "['Device',\n",
       " 'Image',\n",
       " 'absolute',\n",
       " 'absolute_difference',\n",
       " 'add_image_and_scalar',\n",
       " 'add_images',\n",
       " 'add_images_weighted',\n",
       " 'asarray',\n",
       " 'binary_and',\n",
       " 'binary_edge_detection',\n",
       " 'binary_not',\n",
       " 'binary_or',\n",
       " 'binary_subtract',\n",
       " 'binary_xor',\n",
       " 'block_enumerate',\n",
       " 'bottom_hat_box',\n",
       " 'bottom_hat_sphere',\n",
       " 'clip',\n",
       " 'closing_box',\n",
       " 'closing_sphere',\n",
       " 'combine_horizontally',\n",
       " 'combine_labels',\n",
       " 'combine_vertically',\n",
       " 'concatenate_stacks',\n",
       " 'connected_components_labeling_box',\n",
       " 'convolve',\n",
       " 'copy',\n",
       " 'copy_horizontal_slice',\n",
       " 'copy_slice',\n",
       " 'copy_vertical_slice',\n",
       " 'create',\n",
       " 'create_like',\n",
       " 'crop',\n",
       " 'cubic_root',\n",
       " 'default_initialisation',\n",
       " 'degrees_to_radians',\n",
       " 'detect_label_edges',\n",
       " 'detect_maxima_box',\n",
       " 'detect_minima_box',\n",
       " 'difference_of_gaussian',\n",
       " 'dilate_box',\n",
       " 'dilate_sphere',\n",
       " 'divide_image_and_scalar',\n",
       " 'divide_images',\n",
       " 'equal',\n",
       " 'equal_constant',\n",
       " 'erode_box',\n",
       " 'erode_sphere',\n",
       " 'exclude_labels_on_edges',\n",
       " 'exponential',\n",
       " 'extend_labeling_via_voronoi',\n",
       " 'flag_existing_labels',\n",
       " 'flip',\n",
       " 'gamma_correction',\n",
       " 'gaussian_blur',\n",
       " 'get_device',\n",
       " 'gradient_x',\n",
       " 'gradient_y',\n",
       " 'gradient_z',\n",
       " 'greater',\n",
       " 'greater_constant',\n",
       " 'greater_or_equal',\n",
       " 'greater_or_equal_constant',\n",
       " 'histogram',\n",
       " 'imshow',\n",
       " 'invert',\n",
       " 'is_image',\n",
       " 'label_spots',\n",
       " 'laplace_box',\n",
       " 'laplace_diamond',\n",
       " 'list_available_backends',\n",
       " 'list_available_devices',\n",
       " 'list_operations',\n",
       " 'logarithm',\n",
       " 'mask',\n",
       " 'mask_label',\n",
       " 'masked_voronoi_labeling',\n",
       " 'maximum_box',\n",
       " 'maximum_image_and_scalar',\n",
       " 'maximum_images',\n",
       " 'maximum_of_all_pixels',\n",
       " 'maximum_sphere',\n",
       " 'maximum_x_projection',\n",
       " 'maximum_y_projection',\n",
       " 'maximum_z_projection',\n",
       " 'mean_box',\n",
       " 'mean_of_all_pixels',\n",
       " 'mean_sphere',\n",
       " 'mean_squared_error',\n",
       " 'mean_x_projection',\n",
       " 'mean_y_projection',\n",
       " 'mean_z_projection',\n",
       " 'median_box',\n",
       " 'median_sphere',\n",
       " 'minimum_box',\n",
       " 'minimum_image_and_scalar',\n",
       " 'minimum_images',\n",
       " 'minimum_of_all_pixels',\n",
       " 'minimum_sphere',\n",
       " 'minimum_x_projection',\n",
       " 'minimum_y_projection',\n",
       " 'minimum_z_projection',\n",
       " 'mode_box',\n",
       " 'mode_sphere',\n",
       " 'modulo_images',\n",
       " 'multiply_image_and_scalar',\n",
       " 'multiply_images',\n",
       " 'multiply_matrix',\n",
       " 'nan_to_num',\n",
       " 'nonzero_maximum_box',\n",
       " 'nonzero_maximum_diamond',\n",
       " 'nonzero_minimum_box',\n",
       " 'nonzero_minimum_diamond',\n",
       " 'not_equal',\n",
       " 'not_equal_constant',\n",
       " 'onlyzero_overwrite_maximum_box',\n",
       " 'onlyzero_overwrite_maximum_diamond',\n",
       " 'opening_box',\n",
       " 'opening_sphere',\n",
       " 'paste',\n",
       " 'plugin_function',\n",
       " 'power',\n",
       " 'power_images',\n",
       " 'pull',\n",
       " 'push',\n",
       " 'radians_to_degrees',\n",
       " 'range',\n",
       " 'read_intensities_from_positions',\n",
       " 'reciprocal',\n",
       " 'relabel_sequential',\n",
       " 'replace_intensities',\n",
       " 'replace_intensity',\n",
       " 'select_backend',\n",
       " 'select_device',\n",
       " 'set',\n",
       " 'set_column',\n",
       " 'set_image_borders',\n",
       " 'set_nonzero_pixels_to_pixelindex',\n",
       " 'set_plane',\n",
       " 'set_ramp_x',\n",
       " 'set_ramp_y',\n",
       " 'set_ramp_z',\n",
       " 'set_row',\n",
       " 'set_where_x_equals_y',\n",
       " 'set_where_x_greater_than_y',\n",
       " 'set_where_x_smaller_than_y',\n",
       " 'sign',\n",
       " 'smaller',\n",
       " 'smaller_constant',\n",
       " 'smaller_or_equal',\n",
       " 'smaller_or_equal_constant',\n",
       " 'sobel',\n",
       " 'square',\n",
       " 'square_root',\n",
       " 'squared_difference',\n",
       " 'subtract_image_from_scalar',\n",
       " 'subtract_images',\n",
       " 'sum_of_all_pixels',\n",
       " 'sum_reduction_x',\n",
       " 'sum_x_projection',\n",
       " 'sum_y_projection',\n",
       " 'sum_z_projection',\n",
       " 'threshold_otsu',\n",
       " 'top_hat_box',\n",
       " 'top_hat_sphere',\n",
       " 'transpose_xy',\n",
       " 'transpose_xz',\n",
       " 'transpose_yz',\n",
       " 'undefined_to_zero',\n",
       " 'variance_box',\n",
       " 'variance_sphere',\n",
       " 'voronoi_labeling',\n",
       " 'voronoi_otsu_labeling',\n",
       " 'write_values_to_positions']"
      ]
     },
     "execution_count": 4,
     "metadata": {},
     "output_type": "execute_result"
    }
   ],
   "source": [
    "list_func"
   ]
  },
  {
   "cell_type": "code",
   "execution_count": 5,
   "id": "23702f2e-f194-46c6-b406-b28d6d20b4b5",
   "metadata": {},
   "outputs": [
    {
     "data": {
      "text/plain": [
       "\u001b[0;31mSignature:\u001b[0m\n",
       "\u001b[0mcle\u001b[0m\u001b[0;34m.\u001b[0m\u001b[0mabsolute\u001b[0m\u001b[0;34m(\u001b[0m\u001b[0;34m\u001b[0m\n",
       "\u001b[0;34m\u001b[0m    \u001b[0minput_image\u001b[0m\u001b[0;34m:\u001b[0m \u001b[0mUnion\u001b[0m\u001b[0;34m[\u001b[0m\u001b[0mnumpy\u001b[0m\u001b[0;34m.\u001b[0m\u001b[0mndarray\u001b[0m\u001b[0;34m,\u001b[0m \u001b[0mpyclesperanto\u001b[0m\u001b[0;34m.\u001b[0m\u001b[0m_pyclesperanto\u001b[0m\u001b[0;34m.\u001b[0m\u001b[0m_Array\u001b[0m\u001b[0;34m]\u001b[0m\u001b[0;34m,\u001b[0m\u001b[0;34m\u001b[0m\n",
       "\u001b[0;34m\u001b[0m    \u001b[0moutput_image\u001b[0m\u001b[0;34m:\u001b[0m \u001b[0mUnion\u001b[0m\u001b[0;34m[\u001b[0m\u001b[0mnumpy\u001b[0m\u001b[0;34m.\u001b[0m\u001b[0mndarray\u001b[0m\u001b[0;34m,\u001b[0m \u001b[0mpyclesperanto\u001b[0m\u001b[0;34m.\u001b[0m\u001b[0m_pyclesperanto\u001b[0m\u001b[0;34m.\u001b[0m\u001b[0m_Array\u001b[0m\u001b[0;34m]\u001b[0m \u001b[0;34m=\u001b[0m \u001b[0;32mNone\u001b[0m\u001b[0;34m,\u001b[0m\u001b[0;34m\u001b[0m\n",
       "\u001b[0;34m\u001b[0m    \u001b[0mdevice\u001b[0m\u001b[0;34m:\u001b[0m \u001b[0mpyclesperanto\u001b[0m\u001b[0;34m.\u001b[0m\u001b[0m_pyclesperanto\u001b[0m\u001b[0;34m.\u001b[0m\u001b[0m_Device\u001b[0m \u001b[0;34m=\u001b[0m \u001b[0;32mNone\u001b[0m\u001b[0;34m,\u001b[0m\u001b[0;34m\u001b[0m\n",
       "\u001b[0;34m\u001b[0m\u001b[0;34m)\u001b[0m \u001b[0;34m->\u001b[0m \u001b[0mUnion\u001b[0m\u001b[0;34m[\u001b[0m\u001b[0mnumpy\u001b[0m\u001b[0;34m.\u001b[0m\u001b[0mndarray\u001b[0m\u001b[0;34m,\u001b[0m \u001b[0mpyclesperanto\u001b[0m\u001b[0;34m.\u001b[0m\u001b[0m_pyclesperanto\u001b[0m\u001b[0;34m.\u001b[0m\u001b[0m_Array\u001b[0m\u001b[0;34m]\u001b[0m\u001b[0;34m\u001b[0m\u001b[0;34m\u001b[0m\u001b[0m\n",
       "\u001b[0;31mDocstring:\u001b[0m <no docstring>\n",
       "\u001b[0;31mFile:\u001b[0m      ~/Libraries/miniconda3/envs/build38/lib/python3.8/site-packages/pyclesperanto/_tier1.py\n",
       "\u001b[0;31mType:\u001b[0m      function"
      ]
     },
     "metadata": {},
     "output_type": "display_data"
    }
   ],
   "source": [
    "cle.absolute?"
   ]
  },
  {
   "cell_type": "code",
   "execution_count": null,
   "id": "e110de5a-f79d-4079-92f3-151a0e04807c",
   "metadata": {},
   "outputs": [],
   "source": []
  }
 ],
 "metadata": {
  "kernelspec": {
   "display_name": "Python 3 (ipykernel)",
   "language": "python",
   "name": "python3"
  },
  "language_info": {
   "codemirror_mode": {
    "name": "ipython",
    "version": 3
   },
   "file_extension": ".py",
   "mimetype": "text/x-python",
   "name": "python",
   "nbconvert_exporter": "python",
   "pygments_lexer": "ipython3",
   "version": "3.8.17"
  }
 },
 "nbformat": 4,
 "nbformat_minor": 5
}
