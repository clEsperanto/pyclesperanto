{
 "cells": [
  {
   "cell_type": "markdown",
   "id": "6f0e9dd4-61a8-423a-9e96-9f6b6bc8482e",
   "metadata": {},
   "source": [
    "# Plot labels map with colours\n",
    "\n",
    "This notebook demontrate how to use the `labels` parameter to display label images with colour with pyclesperanto `imshow`.\n",
    "\n",
    "> Although it was introduced in previous version, we do not encourage the use of pyclesperanto `imread`, `imshow` functions. We encourage you to rely on dedicated library (e.g. `scikit-image`, `matplotlib`, etc.) for such operations.\n"
   ]
  },
  {
   "cell_type": "code",
   "execution_count": 8,
   "id": "5da15336-f051-441e-bb63-5e293d94bc78",
   "metadata": {},
   "outputs": [],
   "source": [
    "import pyclesperanto as cle\n",
    "import matplotlib.pyplot as plt\n",
    "\n",
    "import numpy as np"
   ]
  },
  {
   "cell_type": "code",
   "execution_count": 9,
   "id": "566fc9bd-40cc-41cf-b5e7-7ca2f4aa6829",
   "metadata": {},
   "outputs": [],
   "source": [
    "image = np.asarray([[0,1,2,3,4,5]])"
   ]
  },
  {
   "cell_type": "markdown",
   "id": "22c5eeba-d29c-4943-b48e-5c6445888dcb",
   "metadata": {},
   "source": [
    "### Imshow without colours (default behaviour)"
   ]
  },
  {
   "cell_type": "code",
   "execution_count": 10,
   "id": "25bca683-601d-409e-b0cb-550191f7760b",
   "metadata": {},
   "outputs": [
    {
     "data": {
      "image/png": "[encoded data removed]",
      "text/plain": [
       "<Figure size 640x480 with 1 Axes>"
      ]
     },
     "metadata": {},
     "output_type": "display_data"
    }
   ],
   "source": [
    "cle.imshow(image, labels=False)"
   ]
  },
  {
   "cell_type": "markdown",
   "id": "f0bef931-c676-4a5f-8204-7f615f00545e",
   "metadata": {},
   "source": [
    "### Imshow with colours (Label display)"
   ]
  },
  {
   "cell_type": "code",
   "execution_count": 11,
   "id": "08933b30-289e-433b-a28a-1126116b5769",
   "metadata": {},
   "outputs": [
    {
     "data": {
      "image/png": "[encoded data removed]",
      "text/plain": [
       "<Figure size 640x480 with 1 Axes>"
      ]
     },
     "metadata": {},
     "output_type": "display_data"
    }
   ],
   "source": [
    "cle.imshow(image, labels=True)"
   ]
  }
 ],
 "metadata": {
  "kernelspec": {
   "display_name": "Python 3 (ipykernel)",
   "language": "python",
   "name": "python3"
  },
  "language_info": {
   "codemirror_mode": {
    "name": "ipython",
    "version": 3
   },
   "file_extension": ".py",
   "mimetype": "text/x-python",
   "name": "python",
   "nbconvert_exporter": "python",
   "pygments_lexer": "ipython3",
   "version": "3.12.7"
  }
 },
 "nbformat": 4,
 "nbformat_minor": 5
}
