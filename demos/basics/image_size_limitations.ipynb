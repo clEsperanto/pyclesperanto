{
 "cells": [
  {
   "cell_type": "markdown",
   "id": "0e033336",
   "metadata": {},
   "source": [
    "# Image size limitations\n",
    "Graphics processing units (GPUs) use memory which limits image size. E.g. on common GPUs, an image can have about a quarter of the size of available memory in the GPU. However, depending on what pixel data type we use, the limit can also be lower."
   ]
  },
  {
   "cell_type": "code",
   "execution_count": 1,
   "id": "ce83a7a8",
   "metadata": {},
   "outputs": [
    {
     "data": {
      "text/plain": [
       "(OpenCL) NVIDIA GeForce RTX 2080 SUPER (OpenCL 3.0 CUDA)\n",
       "\tType: GPU\n",
       "\tCompute Units: 48\n",
       "\tGlobal Memory Size: 8358 MB\n",
       "\tMaximum Object Size: 2089 MB"
      ]
     },
     "execution_count": 1,
     "metadata": {},
     "output_type": "execute_result"
    }
   ],
   "source": [
    "import pyclesperanto as cle\n",
    "\n",
    "cle.get_device()"
   ]
  },
  {
   "cell_type": "markdown",
   "id": "b277379c",
   "metadata": {},
   "source": [
    "Pixels in memory need to be addressable. If you want to access pixel 5, the computer must be able to locate where this pixel is stored. Pixel adresses are stored in the data type 32-bit integer. This means 2^32 adresses are available. If an image is of type 8-bit, that means every pixel consists of 8-bit, which means 1 byte. As the image can have 2^32 pixels, the image size of an 8-bit is limited to 2^32 bytes. These are..."
   ]
  },
  {
   "cell_type": "code",
   "execution_count": 2,
   "id": "ae28f7a5",
   "metadata": {},
   "outputs": [
    {
     "data": {
      "text/plain": [
       "4294967296"
      ]
     },
     "execution_count": 2,
     "metadata": {},
     "output_type": "execute_result"
    }
   ],
   "source": [
    "number_of_bytes = 2**32\n",
    "number_of_bytes"
   ]
  },
  {
   "cell_type": "code",
   "execution_count": 3,
   "id": "58a07efe",
   "metadata": {},
   "outputs": [
    {
     "data": {
      "text/plain": [
       "4194304.0"
      ]
     },
     "execution_count": 3,
     "metadata": {},
     "output_type": "execute_result"
    }
   ],
   "source": [
    "number_of_kilobytes = number_of_bytes / 1024\n",
    "number_of_kilobytes"
   ]
  },
  {
   "cell_type": "code",
   "execution_count": 4,
   "id": "54e79efd",
   "metadata": {},
   "outputs": [
    {
     "data": {
      "text/plain": [
       "4096.0"
      ]
     },
     "execution_count": 4,
     "metadata": {},
     "output_type": "execute_result"
    }
   ],
   "source": [
    "number_of_megabytes = number_of_kilobytes / 1024\n",
    "number_of_megabytes"
   ]
  },
  {
   "cell_type": "code",
   "execution_count": 5,
   "id": "23371c61",
   "metadata": {},
   "outputs": [
    {
     "data": {
      "text/plain": [
       "4.0"
      ]
     },
     "execution_count": 5,
     "metadata": {},
     "output_type": "execute_result"
    }
   ],
   "source": [
    "number_of_gigabytes = number_of_megabytes / 1024\n",
    "number_of_gigabytes"
   ]
  },
  {
   "cell_type": "markdown",
   "id": "d53f22a8",
   "metadata": {},
   "source": [
    "... Giga-Bytes."
   ]
  },
  {
   "cell_type": "markdown",
   "id": "e5d90410",
   "metadata": {},
   "source": [
    "This notebook is executed on a computer that has technically 32 GB of GPU memory. Hence, it should be possible to allocate multiple images of that size:"
   ]
  },
  {
   "cell_type": "code",
   "execution_count": 6,
   "id": "5dd589bd",
   "metadata": {},
   "outputs": [],
   "source": [
    "image = cle.create((1024, 1024, 4 * 1024))"
   ]
  },
  {
   "cell_type": "markdown",
   "id": "95fd6de1",
   "metadata": {},
   "source": [
    "... and apply an operations to it:"
   ]
  },
  {
   "cell_type": "code",
   "execution_count": 7,
   "id": "8b75d7a2",
   "metadata": {},
   "outputs": [
    {
     "name": "stderr",
     "output_type": "stream",
     "text": [
      "4 warnings generated.\n"
     ]
    },
    {
     "ename": "RuntimeError",
     "evalue": "Error: Fail to launch kernel. OpenCL error : CL_MEM_OBJECT_ALLOCATION_FAILURE (-4).",
     "output_type": "error",
     "traceback": [
      "\u001b[0;31m---------------------------------------------------------------------------\u001b[0m",
      "\u001b[0;31mRuntimeError\u001b[0m                              Traceback (most recent call last)",
      "Cell \u001b[0;32mIn[7], line 1\u001b[0m\n\u001b[0;32m----> 1\u001b[0m result \u001b[38;5;241m=\u001b[39m cle\u001b[38;5;241m.\u001b[39mset_ramp_x(image)\n\u001b[1;32m      2\u001b[0m result\u001b[38;5;241m.\u001b[39mshape\n",
      "File \u001b[0;32m~/Libraries/miniconda3/envs/build8/lib/python3.11/site-packages/pyclesperanto/_decorators.py:85\u001b[0m, in \u001b[0;36mplugin_function.<locals>.worker_function\u001b[0;34m(*args, **kwargs)\u001b[0m\n\u001b[1;32m     82\u001b[0m         bound\u001b[38;5;241m.\u001b[39marguments[key] \u001b[38;5;241m=\u001b[39m input_image\u001b[38;5;241m.\u001b[39mdevice\n\u001b[1;32m     84\u001b[0m \u001b[38;5;66;03m# call the decorated function\u001b[39;00m\n\u001b[0;32m---> 85\u001b[0m result \u001b[38;5;241m=\u001b[39m function(\u001b[38;5;241m*\u001b[39mbound\u001b[38;5;241m.\u001b[39margs, \u001b[38;5;241m*\u001b[39m\u001b[38;5;241m*\u001b[39mbound\u001b[38;5;241m.\u001b[39mkwargs)\n\u001b[1;32m     87\u001b[0m \u001b[38;5;66;03m# # Cast the result as an Array if it is not already\u001b[39;00m\n\u001b[1;32m     88\u001b[0m \u001b[38;5;66;03m# if not isinstance(result, _Array):\u001b[39;00m\n\u001b[1;32m     89\u001b[0m \u001b[38;5;66;03m#     result = _Array(result)\u001b[39;00m\n\u001b[1;32m     91\u001b[0m \u001b[38;5;28;01mreturn\u001b[39;00m result\n",
      "File \u001b[0;32m~/Libraries/miniconda3/envs/build8/lib/python3.11/site-packages/pyclesperanto/_tier1.py:1272\u001b[0m, in \u001b[0;36mset_ramp_x\u001b[0;34m(input_image, device)\u001b[0m\n\u001b[1;32m   1268\u001b[0m \u001b[38;5;129m@plugin_function\u001b[39m\n\u001b[1;32m   1269\u001b[0m \u001b[38;5;28;01mdef\u001b[39;00m \u001b[38;5;21mset_ramp_x\u001b[39m(input_image: Image, device: Device \u001b[38;5;241m=\u001b[39m \u001b[38;5;28;01mNone\u001b[39;00m) \u001b[38;5;241m-\u001b[39m\u001b[38;5;241m>\u001b[39m Image:\n\u001b[1;32m   1270\u001b[0m     \u001b[38;5;28;01mfrom\u001b[39;00m \u001b[38;5;21;01m.\u001b[39;00m\u001b[38;5;21;01m_pyclesperanto\u001b[39;00m \u001b[38;5;28;01mimport\u001b[39;00m _set_ramp_x \u001b[38;5;28;01mas\u001b[39;00m op\n\u001b[0;32m-> 1272\u001b[0m     \u001b[38;5;28;01mreturn\u001b[39;00m op(device\u001b[38;5;241m=\u001b[39mdevice, src\u001b[38;5;241m=\u001b[39minput_image)\n",
      "\u001b[0;31mRuntimeError\u001b[0m: Error: Fail to launch kernel. OpenCL error : CL_MEM_OBJECT_ALLOCATION_FAILURE (-4)."
     ]
    }
   ],
   "source": [
    "result = cle.set_ramp_x(image)\n",
    "result.shape"
   ]
  },
  {
   "cell_type": "code",
   "execution_count": null,
   "id": "1024f696",
   "metadata": {},
   "outputs": [],
   "source": [
    "result"
   ]
  },
  {
   "cell_type": "code",
   "execution_count": null,
   "id": "fad9c3be",
   "metadata": {},
   "outputs": [],
   "source": [
    "print(cle.cl_info())"
   ]
  },
  {
   "cell_type": "code",
   "execution_count": null,
   "id": "01fd3db9",
   "metadata": {},
   "outputs": [],
   "source": []
  }
 ],
 "metadata": {
  "kernelspec": {
   "display_name": "Python 3 (ipykernel)",
   "language": "python",
   "name": "python3"
  },
  "language_info": {
   "codemirror_mode": {
    "name": "ipython",
    "version": 3
   },
   "file_extension": ".py",
   "mimetype": "text/x-python",
   "name": "python",
   "nbconvert_exporter": "python",
   "pygments_lexer": "ipython3",
   "version": "3.11.5"
  }
 },
 "nbformat": 4,
 "nbformat_minor": 5
}
