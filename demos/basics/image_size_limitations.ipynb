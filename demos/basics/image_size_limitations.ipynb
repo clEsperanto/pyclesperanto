{
 "cells": [
  {
   "cell_type": "markdown",
   "id": "0e033336",
   "metadata": {},
   "source": [
    "# Image size limitations\n",
    "Graphics processing units (GPUs) use memory which limits image size. E.g. on common GPUs, an image can have about a quarter of the size of available memory in the GPU. However, depending on what pixel data type we use, the limit can also be lower."
   ]
  },
  {
   "cell_type": "code",
   "execution_count": 1,
   "id": "ce83a7a8",
   "metadata": {},
   "outputs": [
    {
     "data": {
      "text/plain": [
       "(OpenCL) NVIDIA GeForce RTX 2080 SUPER (OpenCL 3.0 CUDA)\n",
       "\tType: GPU\n",
       "\tCompute Units: 48\n",
       "\tGlobal Memory Size: 8366 MB\n",
       "\tMaximum Object Size: 2091 MB"
      ]
     },
     "execution_count": 1,
     "metadata": {},
     "output_type": "execute_result"
    }
   ],
   "source": [
    "import pyclesperanto as cle\n",
    "\n",
    "cle.get_device()"
   ]
  },
  {
   "cell_type": "markdown",
   "id": "b277379c",
   "metadata": {},
   "source": [
    "Pixels in memory need to be addressable. If you want to access pixel 5, the computer must be able to locate where this pixel is stored. Pixel adresses are stored in the data type 32-bit integer. This means 2^32 adresses are available. If an image is of type 8-bit, that means every pixel consists of 8-bit, which means 1 byte. As the image can have 2^32 pixels, the image size of an 8-bit is limited to 2^32 bytes. These are..."
   ]
  },
  {
   "cell_type": "code",
   "execution_count": 2,
   "id": "ae28f7a5",
   "metadata": {},
   "outputs": [
    {
     "data": {
      "text/plain": [
       "4294967296"
      ]
     },
     "execution_count": 2,
     "metadata": {},
     "output_type": "execute_result"
    }
   ],
   "source": [
    "number_of_bytes = 2**32\n",
    "number_of_bytes"
   ]
  },
  {
   "cell_type": "code",
   "execution_count": 3,
   "id": "58a07efe",
   "metadata": {},
   "outputs": [
    {
     "data": {
      "text/plain": [
       "4194304.0"
      ]
     },
     "execution_count": 3,
     "metadata": {},
     "output_type": "execute_result"
    }
   ],
   "source": [
    "number_of_kilobytes = number_of_bytes / 1024\n",
    "number_of_kilobytes"
   ]
  },
  {
   "cell_type": "code",
   "execution_count": 4,
   "id": "54e79efd",
   "metadata": {},
   "outputs": [
    {
     "data": {
      "text/plain": [
       "4096.0"
      ]
     },
     "execution_count": 4,
     "metadata": {},
     "output_type": "execute_result"
    }
   ],
   "source": [
    "number_of_megabytes = number_of_kilobytes / 1024\n",
    "number_of_megabytes"
   ]
  },
  {
   "cell_type": "code",
   "execution_count": 5,
   "id": "23371c61",
   "metadata": {},
   "outputs": [
    {
     "data": {
      "text/plain": [
       "4.0"
      ]
     },
     "execution_count": 5,
     "metadata": {},
     "output_type": "execute_result"
    }
   ],
   "source": [
    "number_of_gigabytes = number_of_megabytes / 1024\n",
    "number_of_gigabytes"
   ]
  },
  {
   "cell_type": "markdown",
   "id": "d53f22a8",
   "metadata": {},
   "source": [
    "... Giga-Bytes."
   ]
  },
  {
   "cell_type": "markdown",
   "id": "e5d90410",
   "metadata": {},
   "source": [
    "This notebook is executed on a computer that has technically 32 GB of GPU memory. Hence, it should be possible to allocate multiple images of that size:"
   ]
  },
  {
   "cell_type": "code",
   "execution_count": 8,
   "id": "5dd589bd",
   "metadata": {},
   "outputs": [],
   "source": [
    "image = cle.create((1024, 1024, 4 * 1024))"
   ]
  },
  {
   "cell_type": "markdown",
   "id": "95fd6de1",
   "metadata": {},
   "source": [
    "... and apply an operations to it:"
   ]
  },
  {
   "cell_type": "code",
   "execution_count": 9,
   "id": "8b75d7a2",
   "metadata": {},
   "outputs": [
    {
     "data": {
      "text/plain": [
       "(1024, 1024, 1024)"
      ]
     },
     "execution_count": 9,
     "metadata": {},
     "output_type": "execute_result"
    }
   ],
   "source": [
    "result = cle.set_ramp_x(image)\n",
    "result.shape"
   ]
  },
  {
   "cell_type": "code",
   "execution_count": 12,
   "id": "1024f696",
   "metadata": {},
   "outputs": [
    {
     "data": {
      "text/html": [
       "<table>\n",
       "<tr>\n",
       "<td>\n",
       "<img src=\"data:image/png;base64,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\"></img>\n",
       "</td>\n",
       "<td style=\"text-align: center; vertical-align: top;\">\n",
       "<b><a href=\"https://github.com/clEsperanto/pyclesperanto_prototype\" target=\"_blank\">cle._</a> image</b><br/>\n",
       "<table>\n",
       "<tr><td>shape</td><td>(1024,&nbsp;1024,&nbsp;1024)</td></tr>\n",
       "<tr><td>dtype</td><td>float32</td></tr>\n",
       "<tr><td>size</td><td>4.0 GB</td></tr>\n",
       "<tr><td>min</td><td>0.0</td></tr><tr><td>max</td><td>1023.0</td></tr>\n",
       "</table>\n",
       "<img src=\"data:image/png;base64,iVBORw0KGgoAAAANSUhEUgAAALQAAAB4CAYAAABb59j9AAAAOXRFWHRTb2Z0d2FyZQBNYXRwbG90bGliIHZlcnNpb24zLjcuMiwgaHR0cHM6Ly9tYXRwbG90bGliLm9yZy8pXeV/AAAACXBIWXMAAA9hAAAPYQGoP6dpAAACO0lEQVR4nO3XQarTUBiA0dviNF1AacD9uCGX4Ibcj9BHFpCC4KRxIO9NFHnaF8SPc0a5Kf1vBh/h5rBt2zYg4vivHwDekqBJETQpgiZF0KQImhRBkyJoUgRNiqBJETQpgibl3V6D7/f7WJZlTNM0DofDXtsQsG3buN1u43w+j+PxsXfsbkEvyzLmed5rPEHX63VcLpeHZuwW9DRNY4wfD3k6nfbahoB1Xcc8zy/NPGK3oJ+PGafTSdC8ylscTX0UkiJoUnY7cvzO+4+fX66/fPpg/R+v/9SXTx/++r+v4Q1NiqBJETQpgiZF0KQImhRBkyJoUgRNiqBJETQpgiZF0KQImhRBkyJoUgRNiqBJETQpgiZF0KQImhRBkyJoUgRNiqBJETQpgiZF0KQImhRBkyJoUgRNiqBJETQpgiZF0KQImhRBkyJoUgRNiqBJETQpgiZF0KQImhRBkyJoUgRNiqBJETQpgiZF0KQImhRBkyJoUgRNiqBJETQpgiZF0KQImhRBkyJoUgRNiqBJETQpgiZF0KQImhRBkyJoUgRNiqBJETQpgiZF0KQImhRBkyJoUgRNiqBJETQpgiZF0KQImpR3ew3etm2MMca6rj/9dv/29eV6XVfr/3j9p37Vw/O952YecdjeYsovPD09jXme9xhN1PV6HZfL5aEZuwV9v9/HsixjmqZxOBz22IKIbdvG7XYb5/N5HI+PnYJ3Cxr+BR+FpAiaFEGTImhSBE2KoEkRNCmCJkXQpAialO+duUVjIpN1pAAAAABJRU5ErkJggg==\"></img>\n",
       "</td>\n",
       "</tr>\n",
       "</table>"
      ],
      "text/plain": [
       "array([[[0.000e+00, 1.000e+00, 2.000e+00, ..., 1.021e+03, 1.022e+03,\n",
       "         1.023e+03],\n",
       "        [0.000e+00, 1.000e+00, 2.000e+00, ..., 1.021e+03, 1.022e+03,\n",
       "         1.023e+03],\n",
       "        [0.000e+00, 1.000e+00, 2.000e+00, ..., 1.021e+03, 1.022e+03,\n",
       "         1.023e+03],\n",
       "        ...,\n",
       "        [0.000e+00, 1.000e+00, 2.000e+00, ..., 1.021e+03, 1.022e+03,\n",
       "         1.023e+03],\n",
       "        [0.000e+00, 1.000e+00, 2.000e+00, ..., 1.021e+03, 1.022e+03,\n",
       "         1.023e+03],\n",
       "        [0.000e+00, 1.000e+00, 2.000e+00, ..., 1.021e+03, 1.022e+03,\n",
       "         1.023e+03]],\n",
       "\n",
       "       [[0.000e+00, 1.000e+00, 2.000e+00, ..., 1.021e+03, 1.022e+03,\n",
       "         1.023e+03],\n",
       "        [0.000e+00, 1.000e+00, 2.000e+00, ..., 1.021e+03, 1.022e+03,\n",
       "         1.023e+03],\n",
       "        [0.000e+00, 1.000e+00, 2.000e+00, ..., 1.021e+03, 1.022e+03,\n",
       "         1.023e+03],\n",
       "        ...,\n",
       "        [0.000e+00, 1.000e+00, 2.000e+00, ..., 1.021e+03, 1.022e+03,\n",
       "         1.023e+03],\n",
       "        [0.000e+00, 1.000e+00, 2.000e+00, ..., 1.021e+03, 1.022e+03,\n",
       "         1.023e+03],\n",
       "        [0.000e+00, 1.000e+00, 2.000e+00, ..., 1.021e+03, 1.022e+03,\n",
       "         1.023e+03]],\n",
       "\n",
       "       [[0.000e+00, 1.000e+00, 2.000e+00, ..., 1.021e+03, 1.022e+03,\n",
       "         1.023e+03],\n",
       "        [0.000e+00, 1.000e+00, 2.000e+00, ..., 1.021e+03, 1.022e+03,\n",
       "         1.023e+03],\n",
       "        [0.000e+00, 1.000e+00, 2.000e+00, ..., 1.021e+03, 1.022e+03,\n",
       "         1.023e+03],\n",
       "        ...,\n",
       "        [0.000e+00, 1.000e+00, 2.000e+00, ..., 1.021e+03, 1.022e+03,\n",
       "         1.023e+03],\n",
       "        [0.000e+00, 1.000e+00, 2.000e+00, ..., 1.021e+03, 1.022e+03,\n",
       "         1.023e+03],\n",
       "        [0.000e+00, 1.000e+00, 2.000e+00, ..., 1.021e+03, 1.022e+03,\n",
       "         1.023e+03]],\n",
       "\n",
       "       ...,\n",
       "\n",
       "       [[0.000e+00, 1.000e+00, 2.000e+00, ..., 1.021e+03, 1.022e+03,\n",
       "         1.023e+03],\n",
       "        [0.000e+00, 1.000e+00, 2.000e+00, ..., 1.021e+03, 1.022e+03,\n",
       "         1.023e+03],\n",
       "        [0.000e+00, 1.000e+00, 2.000e+00, ..., 1.021e+03, 1.022e+03,\n",
       "         1.023e+03],\n",
       "        ...,\n",
       "        [0.000e+00, 1.000e+00, 2.000e+00, ..., 1.021e+03, 1.022e+03,\n",
       "         1.023e+03],\n",
       "        [0.000e+00, 1.000e+00, 2.000e+00, ..., 1.021e+03, 1.022e+03,\n",
       "         1.023e+03],\n",
       "        [0.000e+00, 1.000e+00, 2.000e+00, ..., 1.021e+03, 1.022e+03,\n",
       "         1.023e+03]],\n",
       "\n",
       "       [[0.000e+00, 1.000e+00, 2.000e+00, ..., 1.021e+03, 1.022e+03,\n",
       "         1.023e+03],\n",
       "        [0.000e+00, 1.000e+00, 2.000e+00, ..., 1.021e+03, 1.022e+03,\n",
       "         1.023e+03],\n",
       "        [0.000e+00, 1.000e+00, 2.000e+00, ..., 1.021e+03, 1.022e+03,\n",
       "         1.023e+03],\n",
       "        ...,\n",
       "        [0.000e+00, 1.000e+00, 2.000e+00, ..., 1.021e+03, 1.022e+03,\n",
       "         1.023e+03],\n",
       "        [0.000e+00, 1.000e+00, 2.000e+00, ..., 1.021e+03, 1.022e+03,\n",
       "         1.023e+03],\n",
       "        [0.000e+00, 1.000e+00, 2.000e+00, ..., 1.021e+03, 1.022e+03,\n",
       "         1.023e+03]],\n",
       "\n",
       "       [[0.000e+00, 1.000e+00, 2.000e+00, ..., 1.021e+03, 1.022e+03,\n",
       "         1.023e+03],\n",
       "        [0.000e+00, 1.000e+00, 2.000e+00, ..., 1.021e+03, 1.022e+03,\n",
       "         1.023e+03],\n",
       "        [0.000e+00, 1.000e+00, 2.000e+00, ..., 1.021e+03, 1.022e+03,\n",
       "         1.023e+03],\n",
       "        ...,\n",
       "        [0.000e+00, 1.000e+00, 2.000e+00, ..., 1.021e+03, 1.022e+03,\n",
       "         1.023e+03],\n",
       "        [0.000e+00, 1.000e+00, 2.000e+00, ..., 1.021e+03, 1.022e+03,\n",
       "         1.023e+03],\n",
       "        [0.000e+00, 1.000e+00, 2.000e+00, ..., 1.021e+03, 1.022e+03,\n",
       "         1.023e+03]]], dtype=float32, mtype=buffer)"
      ]
     },
     "execution_count": 12,
     "metadata": {},
     "output_type": "execute_result"
    }
   ],
   "source": [
    "result"
   ]
  },
  {
   "cell_type": "code",
   "execution_count": 11,
   "id": "fad9c3be",
   "metadata": {},
   "outputs": [
    {
     "ename": "AttributeError",
     "evalue": "module 'pyclesperanto' has no attribute 'cl_info'",
     "output_type": "error",
     "traceback": [
      "\u001b[0;31m---------------------------------------------------------------------------\u001b[0m",
      "\u001b[0;31mAttributeError\u001b[0m                            Traceback (most recent call last)",
      "Cell \u001b[0;32mIn[11], line 1\u001b[0m\n\u001b[0;32m----> 1\u001b[0m \u001b[38;5;28mprint\u001b[39m(\u001b[43mcle\u001b[49m\u001b[38;5;241;43m.\u001b[39;49m\u001b[43mcl_info\u001b[49m())\n",
      "\u001b[0;31mAttributeError\u001b[0m: module 'pyclesperanto' has no attribute 'cl_info'"
     ]
    }
   ],
   "source": [
    "print(cle.cl_info())"
   ]
  },
  {
   "cell_type": "code",
   "execution_count": null,
   "id": "01fd3db9",
   "metadata": {},
   "outputs": [],
   "source": []
  }
 ],
 "metadata": {
  "kernelspec": {
   "display_name": "Python 3 (ipykernel)",
   "language": "python",
   "name": "python3"
  },
  "language_info": {
   "codemirror_mode": {
    "name": "ipython",
    "version": 3
   },
   "file_extension": ".py",
   "mimetype": "text/x-python",
   "name": "python",
   "nbconvert_exporter": "python",
   "pygments_lexer": "ipython3",
   "version": "3.8.17"
  }
 },
 "nbformat": 4,
 "nbformat_minor": 5
}
