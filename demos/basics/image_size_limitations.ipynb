{
 "cells": [
  {
   "cell_type": "markdown",
   "id": "0e033336",
   "metadata": {},
   "source": [
    "# Image size limitations\n",
    "Graphics processing units (GPUs) use memory which limits image size. E.g. on common GPUs, an image can have about a quarter of the size of available memory in the GPU. However, depending on what pixel data type we use, the limit can also be lower."
   ]
  },
  {
   "cell_type": "code",
   "execution_count": 1,
   "id": "ce83a7a8",
   "metadata": {},
   "outputs": [
    {
     "data": {
      "text/plain": [
       "(OpenCL) NVIDIA GeForce RTX 4090 (OpenCL 3.0 CUDA)\n",
       "\tVendor:                      NVIDIA Corporation\n",
       "\tDriver Version:              535.216.01\n",
       "\tDevice Type:                 GPU\n",
       "\tCompute Units:               128\n",
       "\tGlobal Memory Size:          24217 MB\n",
       "\tMaximum Object Size:         6054 MB\n",
       "\tMax Clock Frequency:         2625 MHz\n",
       "\tImage Support:               Yes"
      ]
     },
     "execution_count": 1,
     "metadata": {},
     "output_type": "execute_result"
    }
   ],
   "source": [
    "import pyclesperanto as cle\n",
    "import numpy as np\n",
    "\n",
    "cle.select_device()"
   ]
  },
  {
   "cell_type": "markdown",
   "id": "b277379c",
   "metadata": {},
   "source": [
    "Pixels in memory need to be addressable. If you want to access pixel 5, the computer must be able to locate where this pixel is stored. Pixel adresses are stored in the data type 32-bit integer. This means 2^32 adresses are available. If an image is of type 8-bit, that means every pixel consists of 8-bit, which means 1 byte. As the image can have 2^32 pixels, the image size of an 8-bit is limited to 2^32 bytes. These are..."
   ]
  },
  {
   "cell_type": "code",
   "execution_count": 2,
   "id": "ae28f7a5",
   "metadata": {},
   "outputs": [
    {
     "data": {
      "text/plain": [
       "4294967296"
      ]
     },
     "execution_count": 2,
     "metadata": {},
     "output_type": "execute_result"
    }
   ],
   "source": [
    "number_of_bytes = 2**32\n",
    "number_of_bytes"
   ]
  },
  {
   "cell_type": "code",
   "execution_count": 3,
   "id": "58a07efe",
   "metadata": {},
   "outputs": [
    {
     "data": {
      "text/plain": [
       "4194304.0"
      ]
     },
     "execution_count": 3,
     "metadata": {},
     "output_type": "execute_result"
    }
   ],
   "source": [
    "number_of_kilobytes = number_of_bytes / 1024\n",
    "number_of_kilobytes"
   ]
  },
  {
   "cell_type": "code",
   "execution_count": 4,
   "id": "54e79efd",
   "metadata": {},
   "outputs": [
    {
     "data": {
      "text/plain": [
       "4096.0"
      ]
     },
     "execution_count": 4,
     "metadata": {},
     "output_type": "execute_result"
    }
   ],
   "source": [
    "number_of_megabytes = number_of_kilobytes / 1024\n",
    "number_of_megabytes"
   ]
  },
  {
   "cell_type": "code",
   "execution_count": 5,
   "id": "23371c61",
   "metadata": {},
   "outputs": [
    {
     "data": {
      "text/plain": [
       "4.0"
      ]
     },
     "execution_count": 5,
     "metadata": {},
     "output_type": "execute_result"
    }
   ],
   "source": [
    "number_of_gigabytes = number_of_megabytes / 1024\n",
    "number_of_gigabytes"
   ]
  },
  {
   "cell_type": "markdown",
   "id": "d53f22a8",
   "metadata": {},
   "source": [
    "... Giga-Bytes."
   ]
  },
  {
   "cell_type": "markdown",
   "id": "e5d90410",
   "metadata": {},
   "source": [
    "This notebook is executed on a computer that has technically 32 GB of GPU memory. Hence, it should be possible to allocate multiple images of that size:"
   ]
  },
  {
   "cell_type": "code",
   "execution_count": 6,
   "id": "5dd589bd",
   "metadata": {},
   "outputs": [],
   "source": [
    "image = cle.create((1024, 1024, 4 * 1024))"
   ]
  },
  {
   "cell_type": "markdown",
   "id": "95fd6de1",
   "metadata": {},
   "source": [
    "... and apply an operations to it:"
   ]
  },
  {
   "cell_type": "code",
   "execution_count": 7,
   "id": "8b75d7a2",
   "metadata": {},
   "outputs": [
    {
     "data": {
      "text/plain": [
       "(1024, 1024, 4096)"
      ]
     },
     "execution_count": 7,
     "metadata": {},
     "output_type": "execute_result"
    }
   ],
   "source": [
    "result = cle.set_ramp_x(image)\n",
    "result.shape"
   ]
  },
  {
   "cell_type": "markdown",
   "id": "e33fae42-cbeb-4380-aafc-a1d9a33ff49c",
   "metadata": {},
   "source": [
    "We have now twice the data size used in our device, for the `image` and the `results`. This saturate our memory and we cannot do much more without releasing some space. For that we can delete the `image` now that it has been process."
   ]
  },
  {
   "cell_type": "code",
   "execution_count": 8,
   "id": "363c331e-4bf2-459a-8fad-0b0b88c7197a",
   "metadata": {},
   "outputs": [
    {
     "ename": "RuntimeError",
     "evalue": "Error: Fail to read buffer memory. OpenCL error : CL_OUT_OF_RESOURCES (-5).",
     "output_type": "error",
     "traceback": [
      "\u001b[0;31m---------------------------------------------------------------------------\u001b[0m",
      "\u001b[0;31mRuntimeError\u001b[0m                              Traceback (most recent call last)",
      "Cell \u001b[0;32mIn[8], line 1\u001b[0m\n\u001b[0;32m----> 1\u001b[0m res \u001b[38;5;241m=\u001b[39m \u001b[43mcle\u001b[49m\u001b[38;5;241;43m.\u001b[39;49m\u001b[43mpull\u001b[49m\u001b[43m(\u001b[49m\u001b[43mresult\u001b[49m\u001b[43m)\u001b[49m\n",
      "File \u001b[0;32m/data/clesperanto/pyclesperanto/pyclesperanto/_memory.py:128\u001b[0m, in \u001b[0;36mpull\u001b[0;34m(array)\u001b[0m\n\u001b[1;32m    115\u001b[0m \u001b[38;5;250m\u001b[39m\u001b[38;5;124;03m\"\"\"Pull the input image from the device to the host.\u001b[39;00m\n\u001b[1;32m    116\u001b[0m \n\u001b[1;32m    117\u001b[0m \u001b[38;5;124;03mParameters\u001b[39;00m\n\u001b[0;32m   (...)\u001b[0m\n\u001b[1;32m    125\u001b[0m \u001b[38;5;124;03m    Image data\u001b[39;00m\n\u001b[1;32m    126\u001b[0m \u001b[38;5;124;03m\"\"\"\u001b[39;00m\n\u001b[1;32m    127\u001b[0m \u001b[38;5;28;01mif\u001b[39;00m \u001b[38;5;28misinstance\u001b[39m(array, Array):\n\u001b[0;32m--> 128\u001b[0m     \u001b[38;5;28;01mreturn\u001b[39;00m \u001b[43marray\u001b[49m\u001b[38;5;241;43m.\u001b[39;49m\u001b[43mget\u001b[49m\u001b[43m(\u001b[49m\u001b[43m)\u001b[49m\n\u001b[1;32m    129\u001b[0m \u001b[38;5;28;01mreturn\u001b[39;00m array\n",
      "File \u001b[0;32m/data/clesperanto/pyclesperanto/pyclesperanto/_array.py:108\u001b[0m, in \u001b[0;36mget\u001b[0;34m(self, origin, region)\u001b[0m\n\u001b[1;32m     83\u001b[0m \u001b[38;5;250m\u001b[39m\u001b[38;5;124;03m\"\"\"Get the content of the Array into a numpy array.\u001b[39;00m\n\u001b[1;32m     84\u001b[0m \n\u001b[1;32m     85\u001b[0m \u001b[38;5;124;03mParameters\u001b[39;00m\n\u001b[0;32m   (...)\u001b[0m\n\u001b[1;32m     95\u001b[0m \u001b[38;5;124;03m    The array itself.\u001b[39;00m\n\u001b[1;32m     96\u001b[0m \u001b[38;5;124;03m\"\"\"\u001b[39;00m\n\u001b[1;32m     97\u001b[0m caster \u001b[38;5;241m=\u001b[39m {\n\u001b[1;32m     98\u001b[0m     \u001b[38;5;124m\"\u001b[39m\u001b[38;5;124mfloat32\u001b[39m\u001b[38;5;124m\"\u001b[39m: \u001b[38;5;28mself\u001b[39m\u001b[38;5;241m.\u001b[39m_read_float32,\n\u001b[1;32m     99\u001b[0m     \u001b[38;5;124m\"\u001b[39m\u001b[38;5;124mint8\u001b[39m\u001b[38;5;124m\"\u001b[39m: \u001b[38;5;28mself\u001b[39m\u001b[38;5;241m.\u001b[39m_read_int8,\n\u001b[0;32m   (...)\u001b[0m\n\u001b[1;32m    106\u001b[0m     \u001b[38;5;66;03m# \"uint64\": self._read_uint64,\u001b[39;00m\n\u001b[1;32m    107\u001b[0m }\n\u001b[0;32m--> 108\u001b[0m \u001b[38;5;28;01mreturn\u001b[39;00m \u001b[43mcaster\u001b[49m\u001b[43m[\u001b[49m\u001b[38;5;28;43mself\u001b[39;49m\u001b[38;5;241;43m.\u001b[39;49m\u001b[43mdtype\u001b[49m\u001b[38;5;241;43m.\u001b[39;49m\u001b[43mname\u001b[49m\u001b[43m]\u001b[49m\u001b[43m(\u001b[49m\u001b[43morigin\u001b[49m\u001b[43m,\u001b[49m\u001b[43m \u001b[49m\u001b[43mregion\u001b[49m\u001b[43m)\u001b[49m\n",
      "\u001b[0;31mRuntimeError\u001b[0m: Error: Fail to read buffer memory. OpenCL error : CL_OUT_OF_RESOURCES (-5)."
     ]
    }
   ],
   "source": [
    "res = cle.pull(result)"
   ]
  },
  {
   "cell_type": "markdown",
   "id": "816dbc04-e048-426c-8077-7555c2691213",
   "metadata": {},
   "source": [
    "If you experiencing this error:\n",
    "> RuntimeError: Error: Fail to read buffer memory. OpenCL error : CL_OUT_OF_RESOURCES (-5).\n",
    "\n",
    "with the following code `CL_OUT_OF_RESOURCES`, it is most likely that you did not have enough memory on your device for the data you are trying to process."
   ]
  },
  {
   "cell_type": "code",
   "execution_count": null,
   "id": "01fd3db9",
   "metadata": {},
   "outputs": [],
   "source": []
  }
 ],
 "metadata": {
  "kernelspec": {
   "display_name": "Python 3 (ipykernel)",
   "language": "python",
   "name": "python3"
  },
  "language_info": {
   "codemirror_mode": {
    "name": "ipython",
    "version": 3
   },
   "file_extension": ".py",
   "mimetype": "text/x-python",
   "name": "python",
   "nbconvert_exporter": "python",
   "pygments_lexer": "ipython3",
   "version": "3.12.7"
  }
 },
 "nbformat": 4,
 "nbformat_minor": 5
}
