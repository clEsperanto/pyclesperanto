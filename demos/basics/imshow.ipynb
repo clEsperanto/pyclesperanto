{
 "cells": [
  {
   "cell_type": "code",
   "execution_count": 1,
   "id": "8d0278a1-3980-47e7-b0a0-a605bc9e9dba",
   "metadata": {},
   "outputs": [
    {
     "ename": "ModuleNotFoundError",
     "evalue": "No module named 'napari_simpleitk_image_processing'",
     "output_type": "error",
     "traceback": [
      "\u001b[0;31m---------------------------------------------------------------------------\u001b[0m",
      "\u001b[0;31mModuleNotFoundError\u001b[0m                       Traceback (most recent call last)",
      "Cell \u001b[0;32mIn[1], line 6\u001b[0m\n\u001b[1;32m      4\u001b[0m \u001b[38;5;28;01mfrom\u001b[39;00m \u001b[38;5;21;01mskimage\u001b[39;00m\u001b[38;5;21;01m.\u001b[39;00m\u001b[38;5;21;01mmeasure\u001b[39;00m \u001b[38;5;28;01mimport\u001b[39;00m regionprops, regionprops_table\n\u001b[1;32m      5\u001b[0m \u001b[38;5;28;01mfrom\u001b[39;00m \u001b[38;5;21;01mskimage\u001b[39;00m\u001b[38;5;21;01m.\u001b[39;00m\u001b[38;5;21;01mutil\u001b[39;00m \u001b[38;5;28;01mimport\u001b[39;00m map_array\n\u001b[0;32m----> 6\u001b[0m \u001b[38;5;28;01mfrom\u001b[39;00m \u001b[38;5;21;01mnapari_simpleitk_image_processing\u001b[39;00m \u001b[38;5;28;01mimport\u001b[39;00m label_statistics\n\u001b[1;32m      7\u001b[0m \u001b[38;5;28;01mimport\u001b[39;00m \u001b[38;5;21;01mmatplotlib\u001b[39;00m\u001b[38;5;21;01m.\u001b[39;00m\u001b[38;5;21;01mpyplot\u001b[39;00m \u001b[38;5;28;01mas\u001b[39;00m \u001b[38;5;21;01mplt\u001b[39;00m\n\u001b[1;32m      9\u001b[0m binary \u001b[38;5;241m=\u001b[39m cle\u001b[38;5;241m.\u001b[39martificial_objects_2d()\n",
      "\u001b[0;31mModuleNotFoundError\u001b[0m: No module named 'napari_simpleitk_image_processing'"
     ]
    }
   ],
   "source": [
    "import numpy as np\n",
    "import pyclesperanto as cle\n",
    "from skimage.io import imread, imsave\n",
    "from skimage.measure import regionprops, regionprops_table\n",
    "from skimage.util import map_array\n",
    "from napari_simpleitk_image_processing import label_statistics\n",
    "import matplotlib.pyplot as plt\n",
    "\n",
    "binary = cle.artificial_objects_2d()\n",
    "labels = cle.voronoi_otsu_labeling(binary, spot_sigma=5)\n",
    "\n",
    "statistics_table = regionprops_table(cle.pull(labels), properties=('label', 'area',))\n",
    "remapped = map_array(\n",
    "        cle.pull(labels),\n",
    "        statistics_table['label'],\n",
    "        statistics_table['area'],\n",
    "        )"
   ]
  },
  {
   "cell_type": "code",
   "execution_count": 2,
   "id": "f31c4823-4108-439c-9d74-2e00148f44e0",
   "metadata": {},
   "outputs": [
    {
     "ename": "NameError",
     "evalue": "name 'plt' is not defined",
     "output_type": "error",
     "traceback": [
      "\u001b[0;31m---------------------------------------------------------------------------\u001b[0m",
      "\u001b[0;31mNameError\u001b[0m                                 Traceback (most recent call last)",
      "Cell \u001b[0;32mIn[2], line 2\u001b[0m\n\u001b[1;32m      1\u001b[0m \u001b[38;5;66;03m# Normal subplots using the imshow() method-Doesn't work!\u001b[39;00m\n\u001b[0;32m----> 2\u001b[0m fig1, axs1 \u001b[38;5;241m=\u001b[39m \u001b[43mplt\u001b[49m\u001b[38;5;241m.\u001b[39msubplots(\u001b[38;5;241m1\u001b[39m, \u001b[38;5;241m2\u001b[39m, figsize\u001b[38;5;241m=\u001b[39m(\u001b[38;5;241m15\u001b[39m,\u001b[38;5;241m15\u001b[39m))\n\u001b[1;32m      3\u001b[0m cle\u001b[38;5;241m.\u001b[39mimshow(binary, plot\u001b[38;5;241m=\u001b[39maxs1[\u001b[38;5;241m0\u001b[39m])\n\u001b[1;32m      4\u001b[0m cle\u001b[38;5;241m.\u001b[39mimshow(remapped, colorbar\u001b[38;5;241m=\u001b[39m\u001b[38;5;28;01mTrue\u001b[39;00m, colormap\u001b[38;5;241m=\u001b[39m\u001b[38;5;124m\"\u001b[39m\u001b[38;5;124mjet\u001b[39m\u001b[38;5;124m\"\u001b[39m, plot\u001b[38;5;241m=\u001b[39maxs1[\u001b[38;5;241m1\u001b[39m])\n",
      "\u001b[0;31mNameError\u001b[0m: name 'plt' is not defined"
     ]
    }
   ],
   "source": [
    "# Normal subplots using the imshow() method-Doesn't work!\n",
    "fig1, axs1 = plt.subplots(1, 2, figsize=(15,15))\n",
    "cle.imshow(binary, plot=axs1[0])\n",
    "cle.imshow(remapped, colorbar=True, colormap=\"jet\", plot=axs1[1])"
   ]
  },
  {
   "cell_type": "code",
   "execution_count": null,
   "id": "188ac0dd-e396-4428-94bc-c5d7a06b1aa2",
   "metadata": {},
   "outputs": [],
   "source": []
  }
 ],
 "metadata": {
  "kernelspec": {
   "display_name": "Python 3 (ipykernel)",
   "language": "python",
   "name": "python3"
  },
  "language_info": {
   "codemirror_mode": {
    "name": "ipython",
    "version": 3
   },
   "file_extension": ".py",
   "mimetype": "text/x-python",
   "name": "python",
   "nbconvert_exporter": "python",
   "pygments_lexer": "ipython3",
   "version": "3.8.17"
  }
 },
 "nbformat": 4,
 "nbformat_minor": 5
}
