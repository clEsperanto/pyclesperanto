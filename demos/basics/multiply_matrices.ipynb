{
 "cells": [
  {
   "cell_type": "markdown",
   "metadata": {},
   "source": [
    "# Matrix Multiplication\n",
    "\n",
    "This notebook has been translated from [ImageJ Macro](https://clij.github.io/clij2-docs/md/matrix_multiply/)\n",
    "\n",
    "It shows how to perform a matrix multiplication in the GPU.\n",
    "\n",
    "## Initialize GPU"
   ]
  },
  {
   "cell_type": "code",
   "execution_count": 1,
   "metadata": {},
   "outputs": [
    {
     "data": {
      "text/plain": [
       "(OpenCL) NVIDIA GeForce RTX 2080 SUPER (OpenCL 3.0 CUDA)\n",
       "\tType: GPU\n",
       "\tCompute Units: 48\n",
       "\tGlobal Memory Size: 8358 MB\n",
       "\tMaximum Object Size: 2089 MB"
      ]
     },
     "execution_count": 1,
     "metadata": {},
     "output_type": "execute_result"
    }
   ],
   "source": [
    "import pyclesperanto as cle\n",
    "\n",
    "from skimage.io import imread, imsave, imshow\n",
    "import matplotlib\n",
    "import numpy as np\n",
    "\n",
    "# initialize GPU\n",
    "cle.select_device(\"TX\")"
   ]
  },
  {
   "cell_type": "markdown",
   "metadata": {},
   "source": [
    "## Define two arrays (vectors) and push them to the GPU"
   ]
  },
  {
   "cell_type": "code",
   "execution_count": 2,
   "metadata": {},
   "outputs": [],
   "source": [
    "array1 = np.asarray([1, 2, 3, 4, 5])\n",
    "array2 = np.asarray([6, 7, 8, 9, 10])\n",
    "\n",
    "vector1 = cle.push(array1)\n",
    "vector2 = cle.push(array2)"
   ]
  },
  {
   "cell_type": "markdown",
   "metadata": {},
   "source": [
    "## In order to multiplicate matrices, the input matrices must be of size (n * m) and (m * n)\n",
    "Therefore, we transpose one of our vectors:"
   ]
  },
  {
   "cell_type": "code",
   "execution_count": 3,
   "metadata": {},
   "outputs": [
    {
     "name": "stdout",
     "output_type": "stream",
     "text": [
      "Vector 1 (transposed): [[1]\n",
      " [2]\n",
      " [3]\n",
      " [4]\n",
      " [5]]\n",
      "Vector 2: [ 6  7  8  9 10]\n"
     ]
    }
   ],
   "source": [
    "vector1_t = cle.transpose_xy(vector1)\n",
    "\n",
    "print(\"Vector 1 (transposed): \" + str(vector1_t))\n",
    "print(\"Vector 2: \" + str(vector2))"
   ]
  },
  {
   "cell_type": "code",
   "execution_count": 4,
   "metadata": {},
   "outputs": [
    {
     "name": "stdout",
     "output_type": "stream",
     "text": [
      "[[ 6  7  8  9 10]\n",
      " [12 14 16 18 20]\n",
      " [18 21 24 27 30]\n",
      " [24 28 32 36 40]\n",
      " [30 35 40 45 50]]\n"
     ]
    }
   ],
   "source": [
    "# matrix = cle.create([vector1_t.shape[0], vector2.shape[0]])\n",
    "matrix = cle.multiply_matrix(vector1_t, vector2)\n",
    "\n",
    "print(matrix)"
   ]
  },
  {
   "cell_type": "code",
   "execution_count": 5,
   "metadata": {},
   "outputs": [
    {
     "data": {
      "image/png": "[encoded data removed]",
      "text/plain": [
       "<Figure size 640x480 with 1 Axes>"
      ]
     },
     "metadata": {},
     "output_type": "display_data"
    }
   ],
   "source": [
    "cle.imshow(matrix)"
   ]
  },
  {
   "cell_type": "markdown",
   "metadata": {},
   "source": [
    "## Element by element multiplication of two matrices"
   ]
  },
  {
   "cell_type": "code",
   "execution_count": 6,
   "metadata": {},
   "outputs": [
    {
     "name": "stdout",
     "output_type": "stream",
     "text": [
      "[[ 3  3  1  2  8]\n",
      " [ 3  6 11  0 14]\n",
      " [12 14 23 17 14]\n",
      " [ 8  7 21 16  2]\n",
      " [24  4 16 42 33]]\n"
     ]
    },
    {
     "data": {
      "image/png": "[encoded data removed]",
      "text/plain": [
       "<Figure size 640x480 with 1 Axes>"
      ]
     },
     "metadata": {},
     "output_type": "display_data"
    }
   ],
   "source": [
    "# generate another matrix of the same size with random values\n",
    "another_matrix = cle.push(np.random.random(matrix.shape))\n",
    "\n",
    "# element by element multiplication\n",
    "matrix_element_wise_multiplied = cle.multiply_images(matrix, another_matrix)\n",
    "\n",
    "print(matrix_element_wise_multiplied)\n",
    "\n",
    "cle.imshow(matrix_element_wise_multiplied)"
   ]
  },
  {
   "cell_type": "markdown",
   "metadata": {},
   "source": [
    "## Element by element multiplication of a matrix with a scalar"
   ]
  },
  {
   "cell_type": "code",
   "execution_count": 7,
   "metadata": {},
   "outputs": [
    {
     "name": "stdout",
     "output_type": "stream",
     "text": [
      "[[ 12  14  16  18  20]\n",
      " [ 24  28  32  36  40]\n",
      " [ 36  42  48  54  60]\n",
      " [ 48  56  64  72  80]\n",
      " [ 60  70  80  90 100]]\n"
     ]
    }
   ],
   "source": [
    "elements_times_2 = cle.multiply_image_and_scalar(matrix, scalar=2)\n",
    "print(elements_times_2)"
   ]
  },
  {
   "cell_type": "code",
   "execution_count": null,
   "metadata": {},
   "outputs": [],
   "source": []
  }
 ],
 "metadata": {
  "kernelspec": {
   "display_name": "Python 3 (ipykernel)",
   "language": "python",
   "name": "python3"
  },
  "language_info": {
   "codemirror_mode": {
    "name": "ipython",
    "version": 3
   },
   "file_extension": ".py",
   "mimetype": "text/x-python",
   "name": "python",
   "nbconvert_exporter": "python",
   "pygments_lexer": "ipython3",
   "version": "3.11.5"
  }
 },
 "nbformat": 4,
 "nbformat_minor": 4
}
