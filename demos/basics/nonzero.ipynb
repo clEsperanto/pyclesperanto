{
 "cells": [
  {
   "cell_type": "markdown",
   "id": "c838fae0",
   "metadata": {},
   "source": [
    "# Lists of nonzero pixel coordinates\n",
    "When working with adjacency matrices (also known as touch-matrices, proximal-neighbor-matrices and n-nearest-neighbor matrices) and also with images resulting from minima and maxima detection, a common task is to retrieve lists of coordinates from a given input image where the input image contained non-zero values. In numpy, the corresponding operation is called [nonzero](https://numpy.org/doc/stable/reference/generated/numpy.nonzero.html) and in clesperanto the function [spots_to_pointlist](https://clij.github.io/clij2-docs/reference_spotsToPointList) does the same. `spots_to_pointlist` assumes a binary image as input which only contains `1` and `0` though.\n",
    "\n",
    "**Note**: A major difference between numpy and clesperanto becomes apparent in this case: clesperanto's dimension ordering/naming is different: While `np.nonzero` returns this list of coordinates:\n",
    "```\n",
    "[[y0,y1,y2],[x0,x1,x2]]\n",
    "```\n",
    "clesperanto will return this list:\n",
    "```\n",
    "[[x0,x1,x2],[y0,y1,y2]]\n",
    "```\n",
    "Use `cle.flip(pointlist, flip_x=False)` to convert a `pointlist` retrieved from clesperanto to one that equals the list in numpy."
   ]
  },
  {
   "cell_type": "code",
   "execution_count": 1,
   "id": "dd4e7615",
   "metadata": {},
   "outputs": [
    {
     "data": {
      "text/plain": [
       "(OpenCL) NVIDIA GeForce RTX 2080 SUPER (OpenCL 3.0 CUDA)\n",
       "\tType: GPU\n",
       "\tCompute Units: 48\n",
       "\tGlobal Memory Size: 8366 MB\n",
       "\tMaximum Object Size: 2091 MB"
      ]
     },
     "execution_count": 1,
     "metadata": {},
     "output_type": "execute_result"
    }
   ],
   "source": [
    "import numpy as np\n",
    "import pyclesperanto as cle\n",
    "\n",
    "cle.get_device()"
   ]
  },
  {
   "cell_type": "markdown",
   "id": "630d5b80",
   "metadata": {},
   "source": [
    "## 2D case"
   ]
  },
  {
   "cell_type": "code",
   "execution_count": 2,
   "id": "a92ea8cb",
   "metadata": {},
   "outputs": [
    {
     "name": "stdout",
     "output_type": "stream",
     "text": [
      "[[1 0 0 1]\n",
      " [0 0 1 0]\n",
      " [0 1 0 0]]\n"
     ]
    }
   ],
   "source": [
    "label_image = np.asarray([\n",
    "    [1,0,0,1],\n",
    "    [0,0,1,0],\n",
    "    [0,1,0,0]\n",
    "])\n",
    "print(label_image)"
   ]
  },
  {
   "cell_type": "code",
   "execution_count": 3,
   "id": "6470bfda",
   "metadata": {},
   "outputs": [
    {
     "data": {
      "text/plain": [
       "(array([0, 0, 1, 2]), array([0, 3, 2, 1]))"
      ]
     },
     "execution_count": 3,
     "metadata": {},
     "output_type": "execute_result"
    }
   ],
   "source": [
    "label_image.nonzero()"
   ]
  },
  {
   "cell_type": "code",
   "execution_count": 4,
   "id": "8b4eba83",
   "metadata": {},
   "outputs": [
    {
     "name": "stdout",
     "output_type": "stream",
     "text": [
      "[[1 0 0 1]\n",
      " [0 0 1 0]\n",
      " [0 1 0 0]]\n"
     ]
    }
   ],
   "source": [
    "cl_label_image = cle.push(label_image)\n",
    "print(cl_label_image)"
   ]
  },
  {
   "cell_type": "code",
   "execution_count": 5,
   "id": "49255447",
   "metadata": {},
   "outputs": [
    {
     "ename": "AttributeError",
     "evalue": "module 'pyclesperanto' has no attribute 'spots_to_pointlist'",
     "output_type": "error",
     "traceback": [
      "\u001b[0;31m---------------------------------------------------------------------------\u001b[0m",
      "\u001b[0;31mAttributeError\u001b[0m                            Traceback (most recent call last)",
      "Cell \u001b[0;32mIn[5], line 1\u001b[0m\n\u001b[0;32m----> 1\u001b[0m \u001b[43mcle\u001b[49m\u001b[38;5;241;43m.\u001b[39;49m\u001b[43mspots_to_pointlist\u001b[49m(cl_label_image)\n",
      "\u001b[0;31mAttributeError\u001b[0m: module 'pyclesperanto' has no attribute 'spots_to_pointlist'"
     ]
    }
   ],
   "source": [
    "cle.spots_to_pointlist(cl_label_image)"
   ]
  },
  {
   "cell_type": "code",
   "execution_count": null,
   "id": "e4687058",
   "metadata": {},
   "outputs": [],
   "source": [
    "cle.flip(cle.spots_to_pointlist(cl_label_image), flip_x=True)"
   ]
  },
  {
   "cell_type": "markdown",
   "id": "e4232230",
   "metadata": {},
   "source": [
    "## 3D case"
   ]
  },
  {
   "cell_type": "code",
   "execution_count": null,
   "id": "5972b918",
   "metadata": {},
   "outputs": [],
   "source": [
    "label_image = np.asarray([[\n",
    "        [1,0,0,1],\n",
    "        [0,0,1,0],\n",
    "        [0,1,0,0]\n",
    "    ],[\n",
    "        [0,0,0,0],\n",
    "        [0,1,0,0],\n",
    "        [0,0,0,0]\n",
    "]])\n",
    "print(label_image)"
   ]
  },
  {
   "cell_type": "code",
   "execution_count": null,
   "id": "a72c1367",
   "metadata": {},
   "outputs": [],
   "source": [
    "label_image.nonzero()"
   ]
  },
  {
   "cell_type": "code",
   "execution_count": null,
   "id": "a2adadbf",
   "metadata": {},
   "outputs": [],
   "source": [
    "cl_label_image = cle.push(label_image)\n",
    "print(cl_label_image)"
   ]
  },
  {
   "cell_type": "code",
   "execution_count": null,
   "id": "0c9f690a",
   "metadata": {},
   "outputs": [],
   "source": [
    "cle.spots_to_pointlist(cl_label_image)"
   ]
  },
  {
   "cell_type": "code",
   "execution_count": null,
   "id": "799f4e4e",
   "metadata": {},
   "outputs": [],
   "source": [
    "cle.flip(cle.spots_to_pointlist(cl_label_image), flip_x=False)"
   ]
  },
  {
   "cell_type": "code",
   "execution_count": null,
   "id": "953420af",
   "metadata": {},
   "outputs": [],
   "source": []
  }
 ],
 "metadata": {
  "kernelspec": {
   "display_name": "Python 3 (ipykernel)",
   "language": "python",
   "name": "python3"
  },
  "language_info": {
   "codemirror_mode": {
    "name": "ipython",
    "version": 3
   },
   "file_extension": ".py",
   "mimetype": "text/x-python",
   "name": "python",
   "nbconvert_exporter": "python",
   "pygments_lexer": "ipython3",
   "version": "3.8.17"
  }
 },
 "nbformat": 4,
 "nbformat_minor": 5
}
