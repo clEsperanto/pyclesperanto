{
 "cells": [
  {
   "cell_type": "markdown",
   "metadata": {},
   "source": [
    "# Matrix Multiplication\n",
    "\n",
    "This notebook has been translated from [ImageJ Macro](https://clij.github.io/clij2-docs/md/spots_pointlists_matrices_tables/)\n",
    "\n",
    "It shows how to operate on spot images, pointlists, distance matrices and touch matrices in the GPU.\n",
    "\n",
    "\n",
    "## Initialize GPU"
   ]
  },
  {
   "cell_type": "code",
   "execution_count": 1,
   "metadata": {},
   "outputs": [
    {
     "data": {
      "text/plain": [
       "(OpenCL) NVIDIA GeForce RTX 2080 SUPER (OpenCL 3.0 CUDA)\n",
       "\tType: GPU\n",
       "\tCompute Units: 48\n",
       "\tGlobal Memory Size: 8366 MB\n",
       "\tMaximum Object Size: 2091 MB"
      ]
     },
     "execution_count": 1,
     "metadata": {},
     "output_type": "execute_result"
    }
   ],
   "source": [
    "import pyclesperanto as cle\n",
    "\n",
    "from skimage.io import imread, imsave, imshow\n",
    "import matplotlib\n",
    "import numpy as np\n",
    "\n",
    "# initialize GPU\n",
    "cle.select_device(\"TX\")"
   ]
  },
  {
   "cell_type": "markdown",
   "metadata": {},
   "source": [
    "## Define a small array representing a spot detection result and push it to the GPU"
   ]
  },
  {
   "cell_type": "code",
   "execution_count": 2,
   "metadata": {},
   "outputs": [
    {
     "data": {
      "image/png": "[encoded data removed]",
      "text/plain": [
       "<Figure size 640x480 with 1 Axes>"
      ]
     },
     "metadata": {},
     "output_type": "display_data"
    }
   ],
   "source": [
    "array = np.asarray(\n",
    "    [\n",
    "        [0, 0, 0, 0, 0],\n",
    "        [0, 0, 1, 0, 1],\n",
    "        [1, 0, 0, 0, 0],\n",
    "        [0, 0, 0, 1, 0],\n",
    "        [1, 0, 0, 0, 0]\n",
    "    ]\n",
    ")\n",
    "\n",
    "spots_image = cle.push(array)\n",
    "\n",
    "cle.imshow(spots_image)"
   ]
  },
  {
   "cell_type": "markdown",
   "metadata": {},
   "source": [
    "## Convert the spot image into a point list"
   ]
  },
  {
   "cell_type": "code",
   "execution_count": 3,
   "metadata": {},
   "outputs": [
    {
     "ename": "AttributeError",
     "evalue": "module 'pyclesperanto' has no attribute 'labelled_spots_to_pointlist'",
     "output_type": "error",
     "traceback": [
      "\u001b[0;31m---------------------------------------------------------------------------\u001b[0m",
      "\u001b[0;31mAttributeError\u001b[0m                            Traceback (most recent call last)",
      "Cell \u001b[0;32mIn[3], line 3\u001b[0m\n\u001b[1;32m      1\u001b[0m labeled_spots \u001b[38;5;241m=\u001b[39m cle\u001b[38;5;241m.\u001b[39mconnected_components_labeling_box(spots_image)\n\u001b[1;32m      2\u001b[0m pointlist \u001b[38;5;241m=\u001b[39m cle\u001b[38;5;241m.\u001b[39mcreate([\u001b[38;5;241m3\u001b[39m, \u001b[38;5;241m5\u001b[39m])\n\u001b[0;32m----> 3\u001b[0m \u001b[43mcle\u001b[49m\u001b[38;5;241;43m.\u001b[39;49m\u001b[43mlabelled_spots_to_pointlist\u001b[49m(labeled_spots, pointlist)\n\u001b[1;32m      4\u001b[0m cle\u001b[38;5;241m.\u001b[39mimshow(pointlist)\n",
      "\u001b[0;31mAttributeError\u001b[0m: module 'pyclesperanto' has no attribute 'labelled_spots_to_pointlist'"
     ]
    }
   ],
   "source": [
    "labeled_spots = cle.connected_components_labeling_box(spots_image)\n",
    "pointlist = cle.create([3, 5])\n",
    "cle.labelled_spots_to_pointlist(labeled_spots, pointlist)\n",
    "cle.imshow(pointlist)"
   ]
  },
  {
   "cell_type": "markdown",
   "metadata": {},
   "source": [
    "## Determine the distance between all spots and write the result as distance matrix"
   ]
  },
  {
   "cell_type": "code",
   "execution_count": null,
   "metadata": {},
   "outputs": [],
   "source": [
    "distance_matrix = cle.generate_distance_matrix(pointlist, pointlist)\n",
    "\n",
    "cle.imshow(distance_matrix)"
   ]
  },
  {
   "cell_type": "markdown",
   "metadata": {},
   "source": [
    "## Blow labels up, until they touch (Voronoi diagram)"
   ]
  },
  {
   "cell_type": "code",
   "execution_count": null,
   "metadata": {},
   "outputs": [],
   "source": [
    "label_voronoi = cle.voronoi_labeling(spots_image)\n",
    "\n",
    "cle.imshow(label_voronoi)"
   ]
  },
  {
   "cell_type": "markdown",
   "metadata": {},
   "source": [
    "## Analyze touching labels and save it as a touch matrix"
   ]
  },
  {
   "cell_type": "code",
   "execution_count": null,
   "metadata": {},
   "outputs": [],
   "source": [
    "touch_matrix = cle.create([6,6])\n",
    "cle.generate_touch_matrix(label_voronoi, touch_matrix)\n",
    "\n",
    "cle.imshow(touch_matrix)"
   ]
  },
  {
   "cell_type": "markdown",
   "metadata": {},
   "source": [
    "## Count neighbors for every touching node"
   ]
  },
  {
   "cell_type": "code",
   "execution_count": null,
   "metadata": {},
   "outputs": [],
   "source": [
    "count_vector = cle.create([6, 1])\n",
    "cle.sum_x_projection(touch_matrix, count_vector)"
   ]
  },
  {
   "cell_type": "code",
   "execution_count": null,
   "metadata": {},
   "outputs": [],
   "source": []
  }
 ],
 "metadata": {
  "kernelspec": {
   "display_name": "Python 3 (ipykernel)",
   "language": "python",
   "name": "python3"
  },
  "language_info": {
   "codemirror_mode": {
    "name": "ipython",
    "version": 3
   },
   "file_extension": ".py",
   "mimetype": "text/x-python",
   "name": "python",
   "nbconvert_exporter": "python",
   "pygments_lexer": "ipython3",
   "version": "3.8.17"
  }
 },
 "nbformat": 4,
 "nbformat_minor": 4
}
