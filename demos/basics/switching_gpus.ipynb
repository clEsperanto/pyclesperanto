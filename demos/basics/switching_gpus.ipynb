{
 "cells": [
  {
   "cell_type": "markdown",
   "id": "1215cd1b",
   "metadata": {},
   "source": [
    "## Exploring and switching between GPUs\n",
    "In clesperanto, you can list available GPUs and select them for processing."
   ]
  },
  {
   "cell_type": "code",
   "execution_count": 1,
   "id": "9e24f0b6",
   "metadata": {},
   "outputs": [],
   "source": [
    "import numpy as np\n",
    "import pyclesperanto as cle"
   ]
  },
  {
   "cell_type": "code",
   "execution_count": 2,
   "id": "198303b7",
   "metadata": {},
   "outputs": [
    {
     "data": {
      "text/plain": [
       "['NVIDIA GeForce RTX 2080 SUPER',\n",
       " 'pthread-Intel(R) Core(TM) i7-7820X CPU @ 3.60GHz']"
      ]
     },
     "execution_count": 2,
     "metadata": {},
     "output_type": "execute_result"
    }
   ],
   "source": [
    "cle.list_available_devices()"
   ]
  },
  {
   "cell_type": "markdown",
   "id": "8ceb439c",
   "metadata": {},
   "source": [
    "You can then select a GPU and process on it."
   ]
  },
  {
   "cell_type": "code",
   "execution_count": 3,
   "id": "e2ffcc38",
   "metadata": {},
   "outputs": [
    {
     "data": {
      "text/plain": [
       "(OpenCL) pthread-Intel(R) Core(TM) i7-7820X CPU @ 3.60GHz (OpenCL 1.2 pocl HSTR: pthread-x86_64-pc-linux-gnu-skylake-avx512)\n",
       "\tType: CPU\n",
       "\tCompute Units: 16\n",
       "\tGlobal Memory Size: 98769 MB\n",
       "\tMaximum Object Size: 34359 MB"
      ]
     },
     "execution_count": 3,
     "metadata": {},
     "output_type": "execute_result"
    }
   ],
   "source": [
    "cle.select_device('Intel')"
   ]
  },
  {
   "cell_type": "code",
   "execution_count": 4,
   "id": "41455f99",
   "metadata": {},
   "outputs": [
    {
     "name": "stderr",
     "output_type": "stream",
     "text": [
      "8 warnings generated.\n",
      "8 warnings generated.\n"
     ]
    },
    {
     "data": {
      "image/png": "[encoded data removed]",
      "text/plain": [
       "<Figure size 640x480 with 1 Axes>"
      ]
     },
     "metadata": {},
     "output_type": "display_data"
    }
   ],
   "source": [
    "image = np.random.random((10, 100, 100))\n",
    "processed_image = cle.gaussian_blur(image, sigma_x=10)\n",
    "cle.imshow(processed_image)"
   ]
  },
  {
   "cell_type": "markdown",
   "id": "35144de3",
   "metadata": {},
   "source": [
    "For comparing the performance of multiple devices, run executions of operations multiple times to get a good impression of general performance. Single individual time measurements may be misleading. You can either program your own for-loop or use [timeit](https://docs.python.org/3/library/timeit.html) which can automate that for you./"
   ]
  },
  {
   "cell_type": "code",
   "execution_count": 5,
   "id": "f86ab500",
   "metadata": {},
   "outputs": [
    {
     "data": {
      "text/plain": [
       "(OpenCL) pthread-Intel(R) Core(TM) i7-7820X CPU @ 3.60GHz (OpenCL 1.2 pocl HSTR: pthread-x86_64-pc-linux-gnu-skylake-avx512)\n",
       "\tType: CPU\n",
       "\tCompute Units: 16\n",
       "\tGlobal Memory Size: 98769 MB\n",
       "\tMaximum Object Size: 34359 MB"
      ]
     },
     "execution_count": 5,
     "metadata": {},
     "output_type": "execute_result"
    }
   ],
   "source": [
    "cle.select_device('Intel')"
   ]
  },
  {
   "cell_type": "code",
   "execution_count": 6,
   "id": "c1c24479",
   "metadata": {},
   "outputs": [
    {
     "name": "stdout",
     "output_type": "stream",
     "text": [
      "11.4 ms ± 94.6 µs per loop (mean ± std. dev. of 7 runs, 100 loops each)\n"
     ]
    }
   ],
   "source": [
    "%%timeit\n",
    "cle.gaussian_blur(image, sigma_x=10)"
   ]
  },
  {
   "cell_type": "code",
   "execution_count": 7,
   "id": "14a39583",
   "metadata": {},
   "outputs": [
    {
     "data": {
      "text/plain": [
       "(OpenCL) NVIDIA GeForce RTX 2080 SUPER (OpenCL 3.0 CUDA)\n",
       "\tType: GPU\n",
       "\tCompute Units: 48\n",
       "\tGlobal Memory Size: 8366 MB\n",
       "\tMaximum Object Size: 2091 MB"
      ]
     },
     "execution_count": 7,
     "metadata": {},
     "output_type": "execute_result"
    }
   ],
   "source": [
    "cle.select_device(\"TX\")"
   ]
  },
  {
   "cell_type": "code",
   "execution_count": 8,
   "id": "37a8ea27",
   "metadata": {},
   "outputs": [
    {
     "name": "stdout",
     "output_type": "stream",
     "text": [
      "463 µs ± 10.5 µs per loop (mean ± std. dev. of 7 runs, 1,000 loops each)\n"
     ]
    }
   ],
   "source": [
    "%%timeit\n",
    "cle.gaussian_blur(image, sigma_x=10)"
   ]
  },
  {
   "cell_type": "markdown",
   "id": "8b4c77f2",
   "metadata": {},
   "source": [
    "## cl_info\n",
    "`cl_info` outputs all information about available hardware"
   ]
  },
  {
   "cell_type": "code",
   "execution_count": 9,
   "id": "d17d0f09",
   "metadata": {},
   "outputs": [
    {
     "ename": "AttributeError",
     "evalue": "module 'pyclesperanto' has no attribute 'cl_info'",
     "output_type": "error",
     "traceback": [
      "\u001b[0;31m---------------------------------------------------------------------------\u001b[0m",
      "\u001b[0;31mAttributeError\u001b[0m                            Traceback (most recent call last)",
      "Cell \u001b[0;32mIn[9], line 1\u001b[0m\n\u001b[0;32m----> 1\u001b[0m \u001b[38;5;28mprint\u001b[39m(\u001b[43mcle\u001b[49m\u001b[38;5;241;43m.\u001b[39;49m\u001b[43mcl_info\u001b[49m())\n",
      "\u001b[0;31mAttributeError\u001b[0m: module 'pyclesperanto' has no attribute 'cl_info'"
     ]
    }
   ],
   "source": [
    "print(cle.cl_info())"
   ]
  },
  {
   "cell_type": "code",
   "execution_count": null,
   "id": "32b648a7",
   "metadata": {},
   "outputs": [],
   "source": []
  }
 ],
 "metadata": {
  "kernelspec": {
   "display_name": "Python 3 (ipykernel)",
   "language": "python",
   "name": "python3"
  },
  "language_info": {
   "codemirror_mode": {
    "name": "ipython",
    "version": 3
   },
   "file_extension": ".py",
   "mimetype": "text/x-python",
   "name": "python",
   "nbconvert_exporter": "python",
   "pygments_lexer": "ipython3",
   "version": "3.8.17"
  }
 },
 "nbformat": 4,
 "nbformat_minor": 5
}
