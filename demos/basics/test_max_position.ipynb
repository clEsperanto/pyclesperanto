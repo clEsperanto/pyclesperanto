{
 "cells": [
  {
   "cell_type": "code",
   "execution_count": 1,
   "id": "870625e2-dcd1-4dc1-9e87-a6f9773238d7",
   "metadata": {},
   "outputs": [],
   "source": [
    "import scipy.ndimage as ndi\n",
    "import numpy as np\n",
    "import pyclesperanto as cle"
   ]
  },
  {
   "cell_type": "code",
   "execution_count": 2,
   "id": "a430434b-177c-41fa-b39b-7e5b37531df4",
   "metadata": {},
   "outputs": [],
   "source": [
    "array3d = np.random.rand(100, 100, 100)\n",
    "array3d[11, 6, 0] = 1\n",
    "array3d[10, 48, 0] = 1"
   ]
  },
  {
   "cell_type": "code",
   "execution_count": 3,
   "id": "c21e7352-28ff-4bd5-bdce-a62d0d363a8a",
   "metadata": {},
   "outputs": [
    {
     "name": "stdout",
     "output_type": "stream",
     "text": [
      "(10, 48, 0)\n"
     ]
    },
    {
     "ename": "AttributeError",
     "evalue": "module 'pyclesperanto' has no attribute 'maximum_position'",
     "output_type": "error",
     "traceback": [
      "\u001b[0;31m---------------------------------------------------------------------------\u001b[0m",
      "\u001b[0;31mAttributeError\u001b[0m                            Traceback (most recent call last)",
      "Cell \u001b[0;32mIn[3], line 2\u001b[0m\n\u001b[1;32m      1\u001b[0m \u001b[38;5;28mprint\u001b[39m(ndi\u001b[38;5;241m.\u001b[39mmaximum_position(array3d))\n\u001b[0;32m----> 2\u001b[0m \u001b[38;5;28mprint\u001b[39m(\u001b[43mcle\u001b[49m\u001b[38;5;241;43m.\u001b[39;49m\u001b[43mmaximum_position\u001b[49m(array3d))\n",
      "\u001b[0;31mAttributeError\u001b[0m: module 'pyclesperanto' has no attribute 'maximum_position'"
     ]
    }
   ],
   "source": [
    "print(ndi.maximum_position(array3d))\n",
    "print(cle.maximum_position(array3d))"
   ]
  },
  {
   "cell_type": "code",
   "execution_count": null,
   "id": "f577db23-9530-4a24-b3f3-463ec4bc84ba",
   "metadata": {},
   "outputs": [],
   "source": [
    "array2d = np.random.rand(100, 80)\n",
    "array2d[89, 2] = 1\n",
    "array2d[90, 40] = 1"
   ]
  },
  {
   "cell_type": "code",
   "execution_count": null,
   "id": "0ca92364-832f-412d-885c-3f4778c7203b",
   "metadata": {},
   "outputs": [],
   "source": [
    "print(ndi.maximum_position(array2d))\n",
    "print(cle.maximum_position(array2d))"
   ]
  },
  {
   "cell_type": "code",
   "execution_count": null,
   "id": "f68acd41-2ee1-4700-a4e2-be921eff31f2",
   "metadata": {},
   "outputs": [],
   "source": [
    "array1d = np.random.rand(100)\n",
    "array1d[56] = 1\n",
    "array1d[20] = 1"
   ]
  },
  {
   "cell_type": "code",
   "execution_count": null,
   "id": "42e0a94f-497a-4efd-8fd3-0fa947c352ff",
   "metadata": {},
   "outputs": [],
   "source": [
    "print(ndi.maximum_position(array1d))\n",
    "print(cle.maximum_position(array1d))"
   ]
  },
  {
   "cell_type": "code",
   "execution_count": null,
   "id": "baba9ca4-1c35-410b-86bc-ddb7650add1c",
   "metadata": {},
   "outputs": [],
   "source": [
    "array = np.random.randint(0, 10, (30, 50, 20))\n",
    "array[20, 48, 19] = 10\n",
    "\n",
    "dims = np.array(np.asarray(array).shape)\n",
    "# see numpy.unravel_index to understand this line.\n",
    "dim_prod = np.cumprod([1] + list(dims[:0:-1]))[::-1]\n",
    "\n",
    "print(dims)\n",
    "print(dim_prod)\n",
    "positions = np.arange(array.size).reshape(array.shape)\n",
    "\n",
    "result = []\n",
    "result += [array.max()]\n",
    "result += [positions[array == array.max()][0]]\n",
    "\n",
    "print(result)"
   ]
  },
  {
   "cell_type": "code",
   "execution_count": null,
   "id": "87d554c1-a0d4-46c1-adbe-5603c21f8937",
   "metadata": {},
   "outputs": [],
   "source": [
    "array = np.random.randint(0, 10, (5, 8, 3))\n",
    "dimensionality = array.shape\n",
    "print(dimensionality)\n",
    "print(array)\n",
    "temp_max = cle.create([1, dimensionality[1], dimensionality[0]])\n",
    "pos_x = cle.create([1, dimensionality[1], dimensionality[0]])\n",
    "\n",
    "temp_max = cle.maximum_x_projection(array)\n",
    "cle.x_position_of_maximum_x_projection(array, pos_x)\n",
    "print(temp_max)\n",
    "\n",
    "source = temp_max\n",
    "pos_y = cle.create([1, 1, dimensionality[0]])\n",
    "temp_max = cle.maximum_y_projection(array, temp_max)\n",
    "cle.y_position_of_maximum_y_projection(array, pos_y)\n",
    "print(temp_max)\n",
    "\n",
    "source = temp_max\n",
    "pos_z = cle.create([1, 1, 1])\n",
    "temp_max = cle.maximum_z_projection(array, temp_max)\n",
    "cle.z_position_of_maximum_z_projection(array, pos_z)\n",
    "print(temp_max)\n"
   ]
  },
  {
   "cell_type": "code",
   "execution_count": null,
   "id": "5bd99c52-a7a6-4dd9-abd3-4a5d4d5b28b1",
   "metadata": {},
   "outputs": [],
   "source": [
    "array = np.random.randint(0, 10, (6, 8))\n",
    "dimensionality = array.shape\n",
    "\n",
    "print(array)\n",
    "\n",
    "temp_max = cle.create([dimensionality[0], 1])\n",
    "pos_x = cle.create([dimensionality[0], 1])\n",
    "\n",
    "print(cle.maximum_x_projection(array))\n",
    "cle.maximum_x_projection(array, temp_max)\n",
    "print(temp_max)"
   ]
  },
  {
   "cell_type": "code",
   "execution_count": null,
   "id": "82ee9f36-c393-4ca7-8e0d-a2ea5b2aea0c",
   "metadata": {},
   "outputs": [],
   "source": [
    "array = np.random.randint(0, 10, (6, 8))\n",
    "max_ = cle.maximum_x_projection(array)\n",
    "print(max_)\n",
    "\n",
    "max_ = cle.maximum_y_projection(max_)\n",
    "print(max_)"
   ]
  },
  {
   "cell_type": "code",
   "execution_count": null,
   "id": "9e240c69-181d-45ba-81c3-3b10f2336b13",
   "metadata": {},
   "outputs": [],
   "source": [
    "array3d = np.random.randint(0, 10, (6, 4, 3))\n",
    "array3d[4, 2, 0] = 10\n",
    "\n",
    "temp = cle.maximum_x_projection(array3d)\n",
    "x_pos = cle.x_position_of_maximum_x_projection(array3d)\n",
    "source = temp\n",
    "\n",
    "temp = cle.maximum_y_projection(source)\n",
    "y_pos = cle.y_position_of_maximum_y_projection(source)\n",
    "source = temp\n",
    "\n",
    "z_pos = cle.x_position_of_maximum_x_projection(source)\n",
    "\n",
    "z_coord = int(z_pos[0][0])\n",
    "y_coord = int(y_pos[0][z_coord])\n",
    "x_coord = int(x_pos[y_coord][z_coord])\n",
    "\n",
    "print(z_coord, y_coord, x_coord)"
   ]
  }
 ],
 "metadata": {
  "kernelspec": {
   "display_name": "Python 3 (ipykernel)",
   "language": "python",
   "name": "python3"
  },
  "language_info": {
   "codemirror_mode": {
    "name": "ipython",
    "version": 3
   },
   "file_extension": ".py",
   "mimetype": "text/x-python",
   "name": "python",
   "nbconvert_exporter": "python",
   "pygments_lexer": "ipython3",
   "version": "3.8.17"
  }
 },
 "nbformat": 4,
 "nbformat_minor": 5
}
