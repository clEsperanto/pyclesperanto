{
 "cells": [
  {
   "cell_type": "markdown",
   "id": "603f3b39",
   "metadata": {},
   "source": [
    "# Displaying Images in Napari"
   ]
  },
  {
   "cell_type": "code",
   "execution_count": 7,
   "id": "50b170a2-98e2-4257-b5af-9e008a264a83",
   "metadata": {},
   "outputs": [
    {
     "data": {
      "text/plain": [
       "(OpenCL) AMD Ryzen 9 7950X 16-Core Processor (OpenCL 3.0 (Build 0))\n",
       "\tVendor:                      Intel(R) Corporation\n",
       "\tDriver Version:              2024.18.12.0.05_160000\n",
       "\tDevice Type:                 CPU\n",
       "\tCompute Units:               32\n",
       "\tGlobal Memory Size:          127926 MB\n",
       "\tMaximum Object Size:         63963 MB\n",
       "\tMax Clock Frequency:         0 MHz\n",
       "\tImage Support:               Yes"
      ]
     },
     "execution_count": 7,
     "metadata": {},
     "output_type": "execute_result"
    }
   ],
   "source": [
    "import napari\n",
    "from skimage.io import imread\n",
    "import pyclesperanto as cle\n",
    "\n",
    "cle.select_device()"
   ]
  },
  {
   "cell_type": "markdown",
   "id": "8df18a3d",
   "metadata": {},
   "source": [
    "Let's create a numpy array and process it with clesperanto, in this case applying a gaussian blur"
   ]
  },
  {
   "cell_type": "code",
   "execution_count": 8,
   "id": "c5791a69",
   "metadata": {},
   "outputs": [],
   "source": [
    "img = imread('https://samples.fiji.sc/blobs.png').squeeze()\n",
    "blurred = cle.gaussian_blur(img, sigma_x=2, sigma_y=2)"
   ]
  },
  {
   "cell_type": "markdown",
   "id": "4517fe36",
   "metadata": {},
   "source": [
    "Both images can be seemlessly added to the napari viewer. In the background, clesperanto implement internal method which allows napari to call back the data from the GPU to the host memory. Hence for napari, a clesperanto array is treated the same as a numpy array."
   ]
  },
  {
   "cell_type": "code",
   "execution_count": 9,
   "id": "14da0d8e",
   "metadata": {},
   "outputs": [
    {
     "data": {
      "text/plain": [
       "<Image layer 'blurred' at 0x7133c4d13b80>"
      ]
     },
     "execution_count": 9,
     "metadata": {},
     "output_type": "execute_result"
    }
   ],
   "source": [
    "\n",
    "viewer = napari.Viewer()\n",
    "viewer.add_image(img, name='original')\n",
    "viewer.add_image(blurred, name='blurred')\n"
   ]
  },
  {
   "cell_type": "markdown",
   "id": "1292bc56",
   "metadata": {},
   "source": [
    "It is also possible to directly process layers from Napari as such:"
   ]
  },
  {
   "cell_type": "code",
   "execution_count": null,
   "id": "b8db8016",
   "metadata": {},
   "outputs": [
    {
     "data": {
      "text/plain": [
       "<Labels layer 'thresholded' at 0x7133be158310>"
      ]
     },
     "execution_count": 10,
     "metadata": {},
     "output_type": "execute_result"
    }
   ],
   "source": [
    "viewer.add_labels(cle.threshold_otsu(viewer.layers['original'].data), name='thresholded')"
   ]
  },
  {
   "cell_type": "markdown",
   "id": "d209e219",
   "metadata": {},
   "source": [
    "Let's now check out Napari to see our three layers displayed in the viewer."
   ]
  },
  {
   "cell_type": "code",
   "execution_count": 11,
   "id": "e56c2884",
   "metadata": {},
   "outputs": [],
   "source": [
    "napari.run()"
   ]
  },
  {
   "cell_type": "markdown",
   "id": "d9006505",
   "metadata": {},
   "source": [
    "Enjoy!"
   ]
  }
 ],
 "metadata": {
  "kernelspec": {
   "display_name": "zarr-napari-env",
   "language": "python",
   "name": "python3"
  },
  "language_info": {
   "codemirror_mode": {
    "name": "ipython",
    "version": 3
   },
   "file_extension": ".py",
   "mimetype": "text/x-python",
   "name": "python",
   "nbconvert_exporter": "python",
   "pygments_lexer": "ipython3",
   "version": "3.10.16"
  }
 },
 "nbformat": 4,
 "nbformat_minor": 5
}
