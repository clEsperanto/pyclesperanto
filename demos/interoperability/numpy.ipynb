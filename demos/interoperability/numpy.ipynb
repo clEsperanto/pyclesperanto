{
 "cells": [
  {
   "cell_type": "markdown",
   "id": "7af5098f",
   "metadata": {},
   "source": [
    "# Numpy interoperability example\n",
    "\n",
    "This notebook shows example of interroperability between numpy and pyclesperanto. This does not remove any data transfert from host and device but demonstrate API compatiblity.\n",
    "\n",
    "> Thie is WIP, some function will fail and it is normal, sorry for that"
   ]
  },
  {
   "cell_type": "code",
   "execution_count": 36,
   "id": "50b170a2-98e2-4257-b5af-9e008a264a83",
   "metadata": {},
   "outputs": [
    {
     "data": {
      "text/plain": [
       "(OpenCL) NVIDIA GeForce RTX 4090 (OpenCL 3.0 CUDA)\n",
       "\tVendor:                      NVIDIA Corporation\n",
       "\tDriver Version:              535.216.01\n",
       "\tDevice Type:                 GPU\n",
       "\tCompute Units:               128\n",
       "\tGlobal Memory Size:          24217 MB\n",
       "\tMaximum Object Size:         6054 MB\n",
       "\tMax Clock Frequency:         2625 MHz\n",
       "\tImage Support:               Yes"
      ]
     },
     "execution_count": 36,
     "metadata": {},
     "output_type": "execute_result"
    }
   ],
   "source": [
    "import numpy as np\n",
    "import pyclesperanto as cle\n",
    "\n",
    "cle.select_device()"
   ]
  },
  {
   "cell_type": "markdown",
   "id": "45f779d2-069b-4a42-919f-3f698aa87de2",
   "metadata": {},
   "source": [
    "Most operation presented in this notebook only have a different function name, parameter name, or order. In order to facilitate interoperability between our library and the most used one by sci-py we redefined these operations to match as much as we could their API."
   ]
  },
  {
   "cell_type": "markdown",
   "id": "d8499308-9236-48cd-b792-9b123b2ba75f",
   "metadata": {},
   "source": [
    "## Data conversion\n",
    "To convert data back and forth between numpy and pyclesperanto, we can use both libraries' `asarray()` functions."
   ]
  },
  {
   "cell_type": "code",
   "execution_count": 2,
   "id": "f399c4b7-e35f-4224-8724-4282037a3465",
   "metadata": {},
   "outputs": [],
   "source": [
    "data = [[1, 2], [3, 4]]"
   ]
  },
  {
   "cell_type": "code",
   "execution_count": 3,
   "id": "f5fd8a09-9aac-40ca-b64b-629080d61758",
   "metadata": {},
   "outputs": [
    {
     "data": {
      "text/plain": [
       "array([[1, 2],\n",
       "       [3, 4]])"
      ]
     },
     "execution_count": 3,
     "metadata": {},
     "output_type": "execute_result"
    }
   ],
   "source": [
    "np_data = np.asarray(data)\n",
    "np_data"
   ]
  },
  {
   "cell_type": "code",
   "execution_count": 4,
   "id": "f2745df7-7b51-47d1-8992-f8ad40823d21",
   "metadata": {},
   "outputs": [
    {
     "data": {
      "text/html": [
       "<pre>array([[1, 2],\n",
       "       [3, 4]], dtype=int32, mtype=buffer)</pre>"
      ],
      "text/plain": [
       "array([[1, 2],\n",
       "       [3, 4]], dtype=int32, mtype=buffer)"
      ]
     },
     "execution_count": 4,
     "metadata": {},
     "output_type": "execute_result"
    }
   ],
   "source": [
    "cle_data = cle.asarray(data)\n",
    "cle_data"
   ]
  },
  {
   "cell_type": "code",
   "execution_count": 5,
   "id": "21b5762b-5f5d-4baa-a71e-de4603052bd3",
   "metadata": {},
   "outputs": [
    {
     "data": {
      "text/plain": [
       "array([[1, 2],\n",
       "       [3, 4]], dtype=int32)"
      ]
     },
     "execution_count": 5,
     "metadata": {},
     "output_type": "execute_result"
    }
   ],
   "source": [
    "np.asarray(cle_data)"
   ]
  },
  {
   "cell_type": "code",
   "execution_count": 6,
   "id": "9cb3e6cf-d3b4-4514-a024-d120fe816a81",
   "metadata": {},
   "outputs": [
    {
     "name": "stdout",
     "output_type": "stream",
     "text": [
      "[[1 2]\n",
      " [3 4]]\n"
     ]
    }
   ],
   "source": [
    "print(cle.asarray(np_data))"
   ]
  },
  {
   "cell_type": "markdown",
   "id": "bd7dc3e4-e684-470d-a7a6-b7546a3338e8",
   "metadata": {},
   "source": [
    "## Replacing `nan` and `inf` values\n",
    "... using `nan_to_num()`"
   ]
  },
  {
   "cell_type": "code",
   "execution_count": 7,
   "id": "a50cbf65-bd73-4f48-b227-082de656e49e",
   "metadata": {},
   "outputs": [
    {
     "name": "stdout",
     "output_type": "stream",
     "text": [
      "[[-inf]\n",
      " [ inf]\n",
      " [ nan]\n",
      " [  0.]\n",
      " [  1.]]\n"
     ]
    }
   ],
   "source": [
    "cle_inf_data = cle.asarray([[-np.inf],\n",
    "                            [np.inf],\n",
    "                            [np.nan],\n",
    "                           [0],\n",
    "                           [1]])\n",
    "print(cle_inf_data)"
   ]
  },
  {
   "cell_type": "code",
   "execution_count": 8,
   "id": "42f787e0-765d-4fbc-85ca-78f72b561ac3",
   "metadata": {},
   "outputs": [
    {
     "name": "stdout",
     "output_type": "stream",
     "text": [
      "[[5.]\n",
      " [4.]\n",
      " [3.]\n",
      " [0.]\n",
      " [1.]]\n"
     ]
    }
   ],
   "source": [
    "print(cle.nan_to_num(cle_inf_data, nan=3, posinf=4, neginf=5))"
   ]
  },
  {
   "cell_type": "markdown",
   "id": "f5dcb4e6-ab15-48b9-ba23-fb6a2b29bec3",
   "metadata": {},
   "source": [
    "Note, if you do not specify `posinf` and `neginf`, result may differ. They both fullfill the specification though as they set the values to \"very large\" and \"very small\"."
   ]
  },
  {
   "cell_type": "code",
   "execution_count": 9,
   "id": "626c4f73-921d-43c6-be81-84b7c3d2456b",
   "metadata": {},
   "outputs": [
    {
     "data": {
      "text/plain": [
       "array([[1.79769313e+308]])"
      ]
     },
     "execution_count": 9,
     "metadata": {},
     "output_type": "execute_result"
    }
   ],
   "source": [
    "np.nan_to_num([[np.inf]])"
   ]
  },
  {
   "cell_type": "code",
   "execution_count": 10,
   "id": "4f6e3be7-c70d-4c35-b55b-1f3f6e4f25a8",
   "metadata": {},
   "outputs": [
    {
     "name": "stdout",
     "output_type": "stream",
     "text": [
      "[[3.4028235e+38]]\n"
     ]
    }
   ],
   "source": [
    "print(cle.nan_to_num([[np.inf]]))"
   ]
  },
  {
   "cell_type": "markdown",
   "id": "a8085690-7579-45d8-b4ab-d84ba9e7f9f8",
   "metadata": {},
   "source": [
    "## Determining the presign of pixels"
   ]
  },
  {
   "cell_type": "code",
   "execution_count": 11,
   "id": "296e3b72-19e0-4fd2-9628-ee1761a20cfc",
   "metadata": {},
   "outputs": [],
   "source": [
    "data = np.asarray([[-np.inf],\n",
    "                    [np.inf],\n",
    "                    [np.nan],\n",
    "                    [0],\n",
    "                    [1],\n",
    "                    [-1]])"
   ]
  },
  {
   "cell_type": "code",
   "execution_count": 12,
   "id": "d05a3f50-cfd8-42a3-b664-80ef740ef7b3",
   "metadata": {},
   "outputs": [
    {
     "data": {
      "text/plain": [
       "array([[-1.],\n",
       "       [ 1.],\n",
       "       [nan],\n",
       "       [ 0.],\n",
       "       [ 1.],\n",
       "       [-1.]])"
      ]
     },
     "execution_count": 12,
     "metadata": {},
     "output_type": "execute_result"
    }
   ],
   "source": [
    "np.sign(data)"
   ]
  },
  {
   "cell_type": "code",
   "execution_count": 13,
   "id": "d97c8462-8444-4dc7-8354-e0cf835f5425",
   "metadata": {},
   "outputs": [
    {
     "data": {
      "text/html": [
       "<pre>array([[-1.],\n",
       "       [ 1.],\n",
       "       [nan],\n",
       "       [ 0.],\n",
       "       [ 1.],\n",
       "       [-1.]], dtype=float32, mtype=buffer)</pre>"
      ],
      "text/plain": [
       "array([[-1.],\n",
       "       [ 1.],\n",
       "       [nan],\n",
       "       [ 0.],\n",
       "       [ 1.],\n",
       "       [-1.]], dtype=float32, mtype=buffer)"
      ]
     },
     "execution_count": 13,
     "metadata": {},
     "output_type": "execute_result"
    }
   ],
   "source": [
    "cle.sign(data)"
   ]
  },
  {
   "cell_type": "markdown",
   "id": "ad0d9606-c859-4995-a21f-da12cb41f25a",
   "metadata": {},
   "source": [
    "## Absolute"
   ]
  },
  {
   "cell_type": "code",
   "execution_count": 14,
   "id": "fafc7eca-07e9-4f43-874a-016630739549",
   "metadata": {},
   "outputs": [],
   "source": [
    "data = [[-3, 4]]"
   ]
  },
  {
   "cell_type": "code",
   "execution_count": 15,
   "id": "b4878877-814f-40ed-b0da-8c96a79b7dda",
   "metadata": {},
   "outputs": [
    {
     "data": {
      "text/plain": [
       "array([[3., 4.]])"
      ]
     },
     "execution_count": 15,
     "metadata": {},
     "output_type": "execute_result"
    }
   ],
   "source": [
    "np.fabs(data)"
   ]
  },
  {
   "cell_type": "code",
   "execution_count": 16,
   "id": "993c1b69-6452-4078-bf44-0f2939b64c38",
   "metadata": {},
   "outputs": [
    {
     "ename": "AttributeError",
     "evalue": "module 'pyclesperanto' has no attribute 'fabs'",
     "output_type": "error",
     "traceback": [
      "\u001b[0;31m---------------------------------------------------------------------------\u001b[0m",
      "\u001b[0;31mAttributeError\u001b[0m                            Traceback (most recent call last)",
      "Cell \u001b[0;32mIn[16], line 1\u001b[0m\n\u001b[0;32m----> 1\u001b[0m \u001b[43mcle\u001b[49m\u001b[38;5;241;43m.\u001b[39;49m\u001b[43mfabs\u001b[49m(data)\n",
      "\u001b[0;31mAttributeError\u001b[0m: module 'pyclesperanto' has no attribute 'fabs'"
     ]
    }
   ],
   "source": [
    "cle.fabs(data)"
   ]
  },
  {
   "cell_type": "code",
   "execution_count": 17,
   "id": "d74436e2-6cba-4cd9-9733-c191bcc01776",
   "metadata": {},
   "outputs": [
    {
     "ename": "AttributeError",
     "evalue": "module 'pyclesperanto' has no attribute 'fabs'",
     "output_type": "error",
     "traceback": [
      "\u001b[0;31m---------------------------------------------------------------------------\u001b[0m",
      "\u001b[0;31mAttributeError\u001b[0m                            Traceback (most recent call last)",
      "Cell \u001b[0;32mIn[17], line 1\u001b[0m\n\u001b[0;32m----> 1\u001b[0m \u001b[43mcle\u001b[49m\u001b[38;5;241;43m.\u001b[39;49m\u001b[43mfabs\u001b[49m\u001b[38;5;241m.\u001b[39m\u001b[38;5;18m__name__\u001b[39m\n",
      "\u001b[0;31mAttributeError\u001b[0m: module 'pyclesperanto' has no attribute 'fabs'"
     ]
    }
   ],
   "source": [
    "cle.fabs.__name__"
   ]
  },
  {
   "cell_type": "markdown",
   "id": "afd3e6f5-2e0f-447a-80eb-ed37dad8f9f5",
   "metadata": {},
   "source": [
    "## Square"
   ]
  },
  {
   "cell_type": "code",
   "execution_count": 18,
   "id": "94ce605a-e48f-41a3-a394-42fae04f7e67",
   "metadata": {},
   "outputs": [
    {
     "data": {
      "text/plain": [
       "array([[ 9, 16]])"
      ]
     },
     "execution_count": 18,
     "metadata": {},
     "output_type": "execute_result"
    }
   ],
   "source": [
    "np.square(data)"
   ]
  },
  {
   "cell_type": "code",
   "execution_count": 19,
   "id": "c72b43a4-33c4-4fc6-a096-f36c4d6af68d",
   "metadata": {},
   "outputs": [
    {
     "data": {
      "text/html": [
       "<pre>array([[ 9., 16.]], dtype=float32, mtype=buffer)</pre>"
      ],
      "text/plain": [
       "array([[ 9., 16.]], dtype=float32, mtype=buffer)"
      ]
     },
     "execution_count": 19,
     "metadata": {},
     "output_type": "execute_result"
    }
   ],
   "source": [
    "cle.square(data)"
   ]
  },
  {
   "cell_type": "markdown",
   "id": "696dfb0b-e123-4b71-9f39-8c1e260d4240",
   "metadata": {},
   "source": [
    "## Cubic root"
   ]
  },
  {
   "cell_type": "code",
   "execution_count": 20,
   "id": "e3f38cd0-af55-49e4-9609-4b0931432cae",
   "metadata": {},
   "outputs": [],
   "source": [
    "data = [[27, 8]]"
   ]
  },
  {
   "cell_type": "code",
   "execution_count": 21,
   "id": "f539dee5-4513-424f-9496-186363a7eefa",
   "metadata": {},
   "outputs": [
    {
     "data": {
      "text/plain": [
       "array([[3., 2.]])"
      ]
     },
     "execution_count": 21,
     "metadata": {},
     "output_type": "execute_result"
    }
   ],
   "source": [
    "np.cbrt(data)"
   ]
  },
  {
   "cell_type": "code",
   "execution_count": 22,
   "id": "ec80612f-2339-46a0-b2de-e0fad4e2cbc6",
   "metadata": {},
   "outputs": [
    {
     "ename": "AttributeError",
     "evalue": "module 'pyclesperanto' has no attribute 'cbrt'",
     "output_type": "error",
     "traceback": [
      "\u001b[0;31m---------------------------------------------------------------------------\u001b[0m",
      "\u001b[0;31mAttributeError\u001b[0m                            Traceback (most recent call last)",
      "Cell \u001b[0;32mIn[22], line 1\u001b[0m\n\u001b[0;32m----> 1\u001b[0m \u001b[43mcle\u001b[49m\u001b[38;5;241;43m.\u001b[39;49m\u001b[43mcbrt\u001b[49m(data)\n",
      "\u001b[0;31mAttributeError\u001b[0m: module 'pyclesperanto' has no attribute 'cbrt'"
     ]
    }
   ],
   "source": [
    "cle.cbrt(data)"
   ]
  },
  {
   "cell_type": "markdown",
   "id": "25020239-3302-4670-8f07-fbaf1e6f786e",
   "metadata": {},
   "source": [
    "## Clip"
   ]
  },
  {
   "cell_type": "code",
   "execution_count": 23,
   "id": "f0d85672-e18e-4e0f-8fe2-76fb668f2db0",
   "metadata": {},
   "outputs": [],
   "source": [
    "data = [[1,2], [3,4]]"
   ]
  },
  {
   "cell_type": "code",
   "execution_count": 24,
   "id": "1c6bf853-a236-40da-989a-08de1acd16ea",
   "metadata": {},
   "outputs": [
    {
     "data": {
      "text/plain": [
       "array([[2, 2],\n",
       "       [3, 3]])"
      ]
     },
     "execution_count": 24,
     "metadata": {},
     "output_type": "execute_result"
    }
   ],
   "source": [
    "np.clip(data, a_min=2, a_max=3)"
   ]
  },
  {
   "cell_type": "code",
   "execution_count": 25,
   "id": "84fb73dc-e96d-42c9-841f-f320a9b45da8",
   "metadata": {},
   "outputs": [
    {
     "ename": "TypeError",
     "evalue": "got an unexpected keyword argument 'a_min'",
     "output_type": "error",
     "traceback": [
      "\u001b[0;31m---------------------------------------------------------------------------\u001b[0m",
      "\u001b[0;31mTypeError\u001b[0m                                 Traceback (most recent call last)",
      "Cell \u001b[0;32mIn[25], line 1\u001b[0m\n\u001b[0;32m----> 1\u001b[0m \u001b[43mcle\u001b[49m\u001b[38;5;241;43m.\u001b[39;49m\u001b[43mclip\u001b[49m\u001b[43m(\u001b[49m\u001b[43mdata\u001b[49m\u001b[43m,\u001b[49m\u001b[43m \u001b[49m\u001b[43ma_min\u001b[49m\u001b[38;5;241;43m=\u001b[39;49m\u001b[38;5;241;43m2\u001b[39;49m\u001b[43m,\u001b[49m\u001b[43m \u001b[49m\u001b[43ma_max\u001b[49m\u001b[38;5;241;43m=\u001b[39;49m\u001b[38;5;241;43m3\u001b[39;49m\u001b[43m)\u001b[49m\n",
      "File \u001b[0;32m/data/clesperanto/pyclesperanto/pyclesperanto/_decorators.py:51\u001b[0m, in \u001b[0;36mplugin_function.<locals>.worker_function\u001b[0;34m(*args, **kwargs)\u001b[0m\n\u001b[1;32m     48\u001b[0m \u001b[38;5;129m@wraps\u001b[39m(function)\n\u001b[1;32m     49\u001b[0m \u001b[38;5;28;01mdef\u001b[39;00m \u001b[38;5;21mworker_function\u001b[39m(\u001b[38;5;241m*\u001b[39margs, \u001b[38;5;241m*\u001b[39m\u001b[38;5;241m*\u001b[39mkwargs):\n\u001b[1;32m     50\u001b[0m     sig \u001b[38;5;241m=\u001b[39m inspect\u001b[38;5;241m.\u001b[39msignature(function)\n\u001b[0;32m---> 51\u001b[0m     bound \u001b[38;5;241m=\u001b[39m \u001b[43msig\u001b[49m\u001b[38;5;241;43m.\u001b[39;49m\u001b[43mbind\u001b[49m\u001b[43m(\u001b[49m\u001b[38;5;241;43m*\u001b[39;49m\u001b[43margs\u001b[49m\u001b[43m,\u001b[49m\u001b[43m \u001b[49m\u001b[38;5;241;43m*\u001b[39;49m\u001b[38;5;241;43m*\u001b[39;49m\u001b[43mkwargs\u001b[49m\u001b[43m)\u001b[49m\n\u001b[1;32m     52\u001b[0m     bound\u001b[38;5;241m.\u001b[39mapply_defaults()\n\u001b[1;32m     54\u001b[0m     \u001b[38;5;66;03m# Get the device to use from the arguments or the input image or the current device\u001b[39;00m\n",
      "File \u001b[0;32m~/Libraries/miniforge3/envs/skbe/lib/python3.12/inspect.py:3273\u001b[0m, in \u001b[0;36mSignature.bind\u001b[0;34m(self, *args, **kwargs)\u001b[0m\n\u001b[1;32m   3268\u001b[0m \u001b[38;5;28;01mdef\u001b[39;00m \u001b[38;5;21mbind\u001b[39m(\u001b[38;5;28mself\u001b[39m, \u001b[38;5;241m/\u001b[39m, \u001b[38;5;241m*\u001b[39margs, \u001b[38;5;241m*\u001b[39m\u001b[38;5;241m*\u001b[39mkwargs):\n\u001b[1;32m   3269\u001b[0m \u001b[38;5;250m    \u001b[39m\u001b[38;5;124;03m\"\"\"Get a BoundArguments object, that maps the passed `args`\u001b[39;00m\n\u001b[1;32m   3270\u001b[0m \u001b[38;5;124;03m    and `kwargs` to the function's signature.  Raises `TypeError`\u001b[39;00m\n\u001b[1;32m   3271\u001b[0m \u001b[38;5;124;03m    if the passed arguments can not be bound.\u001b[39;00m\n\u001b[1;32m   3272\u001b[0m \u001b[38;5;124;03m    \"\"\"\u001b[39;00m\n\u001b[0;32m-> 3273\u001b[0m     \u001b[38;5;28;01mreturn\u001b[39;00m \u001b[38;5;28;43mself\u001b[39;49m\u001b[38;5;241;43m.\u001b[39;49m\u001b[43m_bind\u001b[49m\u001b[43m(\u001b[49m\u001b[43margs\u001b[49m\u001b[43m,\u001b[49m\u001b[43m \u001b[49m\u001b[43mkwargs\u001b[49m\u001b[43m)\u001b[49m\n",
      "File \u001b[0;32m~/Libraries/miniforge3/envs/skbe/lib/python3.12/inspect.py:3262\u001b[0m, in \u001b[0;36mSignature._bind\u001b[0;34m(self, args, kwargs, partial)\u001b[0m\n\u001b[1;32m   3252\u001b[0m         \u001b[38;5;28;01mraise\u001b[39;00m \u001b[38;5;167;01mTypeError\u001b[39;00m(\n\u001b[1;32m   3253\u001b[0m             \u001b[38;5;124m'\u001b[39m\u001b[38;5;124mgot some positional-only arguments passed as \u001b[39m\u001b[38;5;124m'\u001b[39m\n\u001b[1;32m   3254\u001b[0m             \u001b[38;5;124m'\u001b[39m\u001b[38;5;124mkeyword arguments: \u001b[39m\u001b[38;5;132;01m{arg!r}\u001b[39;00m\u001b[38;5;124m'\u001b[39m\u001b[38;5;241m.\u001b[39mformat(\n\u001b[0;32m   (...)\u001b[0m\n\u001b[1;32m   3259\u001b[0m             ),\n\u001b[1;32m   3260\u001b[0m         )\n\u001b[1;32m   3261\u001b[0m     \u001b[38;5;28;01melse\u001b[39;00m:\n\u001b[0;32m-> 3262\u001b[0m         \u001b[38;5;28;01mraise\u001b[39;00m \u001b[38;5;167;01mTypeError\u001b[39;00m(\n\u001b[1;32m   3263\u001b[0m             \u001b[38;5;124m'\u001b[39m\u001b[38;5;124mgot an unexpected keyword argument \u001b[39m\u001b[38;5;132;01m{arg!r}\u001b[39;00m\u001b[38;5;124m'\u001b[39m\u001b[38;5;241m.\u001b[39mformat(\n\u001b[1;32m   3264\u001b[0m                 arg\u001b[38;5;241m=\u001b[39m\u001b[38;5;28mnext\u001b[39m(\u001b[38;5;28miter\u001b[39m(kwargs))))\n\u001b[1;32m   3266\u001b[0m \u001b[38;5;28;01mreturn\u001b[39;00m \u001b[38;5;28mself\u001b[39m\u001b[38;5;241m.\u001b[39m_bound_arguments_cls(\u001b[38;5;28mself\u001b[39m, arguments)\n",
      "\u001b[0;31mTypeError\u001b[0m: got an unexpected keyword argument 'a_min'"
     ]
    }
   ],
   "source": [
    "cle.clip(data, a_min=2, a_max=3)"
   ]
  },
  {
   "cell_type": "markdown",
   "id": "a9bc352c-86ce-45ed-a154-0610d27edaf1",
   "metadata": {},
   "source": [
    "## Modulo"
   ]
  },
  {
   "cell_type": "code",
   "execution_count": 26,
   "id": "280359ce-5fb2-4d93-a21d-345f46305c11",
   "metadata": {},
   "outputs": [],
   "source": [
    "test = [[4, 5]]\n",
    "test_div = [[2, 2]]"
   ]
  },
  {
   "cell_type": "code",
   "execution_count": 27,
   "id": "59913aa2-43fd-49ec-90d0-d59a557815c0",
   "metadata": {},
   "outputs": [
    {
     "data": {
      "text/plain": [
       "array([[0, 1]])"
      ]
     },
     "execution_count": 27,
     "metadata": {},
     "output_type": "execute_result"
    }
   ],
   "source": [
    "np.mod(test, test_div)"
   ]
  },
  {
   "cell_type": "code",
   "execution_count": 28,
   "id": "804472f5-753f-4c59-bed2-1e99856fec35",
   "metadata": {},
   "outputs": [
    {
     "ename": "AttributeError",
     "evalue": "module 'pyclesperanto' has no attribute 'mod'",
     "output_type": "error",
     "traceback": [
      "\u001b[0;31m---------------------------------------------------------------------------\u001b[0m",
      "\u001b[0;31mAttributeError\u001b[0m                            Traceback (most recent call last)",
      "Cell \u001b[0;32mIn[28], line 1\u001b[0m\n\u001b[0;32m----> 1\u001b[0m \u001b[43mcle\u001b[49m\u001b[38;5;241;43m.\u001b[39;49m\u001b[43mmod\u001b[49m(test, test_div)\n",
      "\u001b[0;31mAttributeError\u001b[0m: module 'pyclesperanto' has no attribute 'mod'"
     ]
    }
   ],
   "source": [
    "cle.mod(test, test_div)"
   ]
  },
  {
   "cell_type": "markdown",
   "id": "739f54e1-0a66-41c4-80c7-b1fac418ade3",
   "metadata": {},
   "source": [
    "## Compare arrays"
   ]
  },
  {
   "cell_type": "code",
   "execution_count": 29,
   "id": "e0d191a1-c3c1-4a52-b337-ddcf22db866f",
   "metadata": {},
   "outputs": [],
   "source": [
    "data1 = np.asarray([[1, 2]])\n",
    "data2 = np.asarray([[1, 2]])\n",
    "data3 = np.asarray([[1, 2, 3]])"
   ]
  },
  {
   "cell_type": "code",
   "execution_count": 30,
   "id": "f7a83b26-b74d-452b-be03-9341d8cecfa7",
   "metadata": {},
   "outputs": [
    {
     "data": {
      "text/plain": [
       "True"
      ]
     },
     "execution_count": 30,
     "metadata": {},
     "output_type": "execute_result"
    }
   ],
   "source": [
    "np.array_equal(data1, data2)"
   ]
  },
  {
   "cell_type": "code",
   "execution_count": 31,
   "id": "6c4b9b0e-3ea9-4c46-a910-54b54a47fbd6",
   "metadata": {},
   "outputs": [
    {
     "data": {
      "text/plain": [
       "True"
      ]
     },
     "execution_count": 31,
     "metadata": {},
     "output_type": "execute_result"
    }
   ],
   "source": [
    "np.array_equiv(data1, data2)"
   ]
  },
  {
   "cell_type": "code",
   "execution_count": 32,
   "id": "9bcd9338-87af-4ce9-8860-d23276dad083",
   "metadata": {},
   "outputs": [
    {
     "data": {
      "text/plain": [
       "True"
      ]
     },
     "execution_count": 32,
     "metadata": {},
     "output_type": "execute_result"
    }
   ],
   "source": [
    "cle.array_equal(data1, data2)"
   ]
  },
  {
   "cell_type": "code",
   "execution_count": 33,
   "id": "febb29b2-9ec5-40dd-ae24-82454bda36e4",
   "metadata": {},
   "outputs": [
    {
     "ename": "AttributeError",
     "evalue": "module 'pyclesperanto' has no attribute 'array_equiv'",
     "output_type": "error",
     "traceback": [
      "\u001b[0;31m---------------------------------------------------------------------------\u001b[0m",
      "\u001b[0;31mAttributeError\u001b[0m                            Traceback (most recent call last)",
      "Cell \u001b[0;32mIn[33], line 1\u001b[0m\n\u001b[0;32m----> 1\u001b[0m \u001b[43mcle\u001b[49m\u001b[38;5;241;43m.\u001b[39;49m\u001b[43marray_equiv\u001b[49m(data1, data2)\n",
      "\u001b[0;31mAttributeError\u001b[0m: module 'pyclesperanto' has no attribute 'array_equiv'"
     ]
    }
   ],
   "source": [
    "cle.array_equiv(data1, data2)"
   ]
  },
  {
   "cell_type": "code",
   "execution_count": 34,
   "id": "ad20a741-07a4-4b65-a5df-8847cc3adc28",
   "metadata": {},
   "outputs": [
    {
     "data": {
      "text/plain": [
       "False"
      ]
     },
     "execution_count": 34,
     "metadata": {},
     "output_type": "execute_result"
    }
   ],
   "source": [
    "np.array_equiv(data1, data3)"
   ]
  },
  {
   "cell_type": "code",
   "execution_count": 35,
   "id": "dc4e1523-d648-4782-9e5e-33fc0458b27d",
   "metadata": {},
   "outputs": [
    {
     "ename": "AttributeError",
     "evalue": "module 'pyclesperanto' has no attribute 'array_equiv'",
     "output_type": "error",
     "traceback": [
      "\u001b[0;31m---------------------------------------------------------------------------\u001b[0m",
      "\u001b[0;31mAttributeError\u001b[0m                            Traceback (most recent call last)",
      "Cell \u001b[0;32mIn[35], line 1\u001b[0m\n\u001b[0;32m----> 1\u001b[0m \u001b[43mcle\u001b[49m\u001b[38;5;241;43m.\u001b[39;49m\u001b[43marray_equiv\u001b[49m(data1, data3)\n",
      "\u001b[0;31mAttributeError\u001b[0m: module 'pyclesperanto' has no attribute 'array_equiv'"
     ]
    }
   ],
   "source": [
    "cle.array_equiv(data1, data3)"
   ]
  }
 ],
 "metadata": {
  "kernelspec": {
   "display_name": "skbe",
   "language": "python",
   "name": "python3"
  },
  "language_info": {
   "codemirror_mode": {
    "name": "ipython",
    "version": 3
   },
   "file_extension": ".py",
   "mimetype": "text/x-python",
   "name": "python",
   "nbconvert_exporter": "python",
   "pygments_lexer": "ipython3",
   "version": "3.12.7"
  }
 },
 "nbformat": 4,
 "nbformat_minor": 5
}
