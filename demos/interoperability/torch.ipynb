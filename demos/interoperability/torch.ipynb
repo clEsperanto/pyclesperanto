{
 "cells": [
  {
   "cell_type": "markdown",
   "id": "03540da9-b942-49bc-8c86-54006d833652",
   "metadata": {},
   "source": [
    "# Pytorch interoperability\n",
    "\n",
    "In this notebook we test interoperabilty of Pytorch tensors with clesperanto. This demonstrate API connection only, data transfert and convertion is still required under the hood.\n",
    "\n",
    "> WIP: some functionnality are still in development"
   ]
  },
  {
   "cell_type": "code",
   "execution_count": null,
   "id": "026234d9-43ea-4d00-9064-d3125feb65b4",
   "metadata": {
    "tags": []
   },
   "outputs": [],
   "source": [
    "import torch\n",
    "import numpy as np\n",
    "import pyclesperanto as cle"
   ]
  },
  {
   "cell_type": "code",
   "execution_count": 3,
   "id": "23a7f1a9-0c59-4ecf-ae3e-e4dd27bdf298",
   "metadata": {
    "tags": []
   },
   "outputs": [],
   "source": [
    "tensor = torch.zeros((10, 10))\n",
    "tensor[1:3, 1:3] = 1\n",
    "tensor[5:7, 5:7] = 1"
   ]
  },
  {
   "cell_type": "markdown",
   "id": "21754dfd-4d0c-4acf-a4c0-5cc685298914",
   "metadata": {},
   "source": [
    "## Pushing tensors to the GPU"
   ]
  },
  {
   "cell_type": "code",
   "execution_count": 4,
   "id": "fe927938-a952-4203-946d-c7564bcb1c3f",
   "metadata": {
    "tags": []
   },
   "outputs": [
    {
     "data": {
      "text/html": [
       "<table>\n",
       "<tr>\n",
       "<td>\n",
       "<img src=\"data:image/png;base64,iVBORw0KGgoAAAANSUhEUgAAAoAAAAHgCAYAAAA10dzkAAAAOXRFWHRTb2Z0d2FyZQBNYXRwbG90bGliIHZlcnNpb24zLjkuMiwgaHR0cHM6Ly9tYXRwbG90bGliLm9yZy8hTgPZAAAACXBIWXMAAA9hAAAPYQGoP6dpAAAnnUlEQVR4nO3df3BV9Z0//lcMkqCSWGGJUFOMu+1KYa2auC4gnVptOvhjlxm3smrFH7hjpihCVkeR1h+smtGdstQfxKJi11Us01VXdoeqme4UUHQKKaijrLrVMakGs7BOgrqGktzPH/2Sb7OJHEzgXjjn8Zg5f+TtOfe+7m0nefJ6ve+5RblcLhcAAGTGIYUuAACA/BIAAQAyRgAEAMgYARAAIGMEQACAjBEAAQAyRgAEAMgYARAAIGMEQACAjBEAAQAyRgAEAMgYARAAIGMEQACAjBEAAQAyRgAEAMgYARAAIGMEQACAjBEAAQAyRgAEAMgYARAAIGMEQACAjBEAAQAyRgAEAMgYARAAIGMEQACAjBEAAQAyRgAEAMgYARAAIGMEQACAjBEAAQAyRgAEAMgYARAAIGMEQACAjBEAAQAyRgAEAMgYARAAIGMEQACAjBEAAQAyRgAEAMgYARAAIGMEQACAjBEAAQAyRgAEAMgYARAAIGMEQACAjBEAAQAyRgAEAMgYARAAIGMEQACAjBEAAQAyRgAEAMgYARAAIGMEQABgSNauXRvnnntujBs3LoqKiuJf//VfE69Zs2ZNVFdXR2lpaRx33HFx//337/9C6SUAAgBD8vHHH8fXvva1uPfee/fq/HfeeSfOOuusmDZtWmzatCluvPHGmDt3bjzxxBP7uVJ2K8rlcrlCFwEApENRUVE89dRTMWPGjM885/rrr49Vq1bFli1betfq6uri5ZdfjhdffDEPVaIDCADk1Ysvvhi1tbV91r797W/Hxo0b43e/+12BqsqWYYUugL3T09MT77//fowcOTKKiooKXQ4An1Mul4sdO3bEuHHj4pBD9l//5dNPP42dO3cO+XFyuVy/vzclJSVRUlIy5MfeunVrVFRU9FmrqKiIXbt2xbZt22Ls2LFDfg72TAA8SLz//vtRWVlZ6DIAGKLW1tY45phj9stjf/rpp1FVVRVbt24d8mMdccQR8dFHH/VZu/nmm+OWW24Z8mNHRL9wuXtHmiZHfgiAB4mRI0cWugQA9oH9+ft8586dsXXr1mhtbY2ysrJBP05nZ2dUVlb2e5x90f2LiDj66KP7hdT29vYYNmxYjBo1ap88B3smAB4k/IsIIB3y8ft85MiRQwqau7txZWVlQwqSn2Xy5Mnxb//2b33WnnvuuaipqYlDDz10nz8f/fkQCAAwJB999FFs3rw5Nm/eHBG/v83L5s2bo6WlJSIiFixYELNmzeo9v66uLt59992or6+PLVu2xPLly+Ohhx6Ka6+9thDlZ5IOIAAwJBs3bozTTz+99+f6+vqIiLjkkkviJz/5SbS1tfWGwYiIqqqqWL16dcyfPz/uu+++GDduXNx9991x3nnn5b32rHIfwINEZ2dnlJeXF7oMAIaoo6Njv4xVI/7/vxUffvjhkPcAfuELX9ivtVJYRsAAABkjAAIAZIw9gACQMrlcLoayw8vusPTTAQQAyBgBEAAgY4yAASBljIBJogMIAJAxAiAAQMYIgHm0dOnSqKqqitLS0qiuro5169YVuiQAUmj3CHgoB+kmAObJypUrY968ebFw4cLYtGlTTJs2LaZPn97nq3EAAPJBAMyTxYsXx+zZs+OKK66ICRMmxJIlS6KysjIaGxsLXRoAkDECYB7s3Lkzmpubo7a2ts96bW1trF+/fsBrurq6orOzs88BAHvDCJgkAmAebNu2Lbq7u6OioqLPekVFRWzdunXAaxoaGqK8vLz3qKyszEepAEAGCIB5VFRU1OfnXC7Xb223BQsWREdHR+/R2tqajxIBgAxwI+g8GD16dBQXF/fr9rW3t/frCu5WUlISJSUl+SgPgJRxI2iS6ADmwfDhw6O6ujqampr6rDc1NcWUKVMKVBUAkFU6gHlSX18fF198cdTU1MTkyZNj2bJl0dLSEnV1dYUuDQDIGAEwT2bOnBnbt2+PRYsWRVtbW0yaNClWr14d48ePL3RpAKSMETBJinL+Vz4odHZ2Rnl5eaHLAGCIOjo6oqysbL889u6/FR988MGQnqOzszMqKir2a60Ulj2AAAAZIwACAGSMPYAAkDL2AJJEBxAAIGMEQACAjDECBoCUMQImiQ4gAEDGCIAAABljBAwAKWMETBIdQACAjBEAAQAyxgiYITEm2DtFRUWFLgHIECNgkugAAgBkjAAIAJAxRsAAkDJGwCTRAQQAyBgdQABIGR1AkugAAgBkjAAIAJAxRsAAkDJGwCTRAQQAyBgBEAAgY4yAASBljIBJogMIAJAxOoAAkDI6gCTRAQQAyBgBEAAgY4yAASBljIBJIgACQAoJceyJETAAQMYIgAAAGWMEDAApYw8gSQRAAEgZAZAkRsAAABmjAwgAKaMDSBIdQACAjBEAAQAyxggYAFLGCJgkAiAApIwASBIjYACAjBEAAQAyxggYAFLGCJgkAiAApIwASBIjYACAjBEAASBldncAh3IMxtKlS6OqqipKS0ujuro61q1bt8fzH3vssfja174Whx12WIwdOzYuu+yy2L59+6Cem89HAAQAhmzlypUxb968WLhwYWzatCmmTZsW06dPj5aWlgHPf/7552PWrFkxe/bseO211+JnP/tZbNiwIa644oo8V55NAiAAMGSLFy+O2bNnxxVXXBETJkyIJUuWRGVlZTQ2Ng54/ksvvRTHHntszJ07N6qqquK0006LK6+8MjZu3JjnyrNJAASAlMn3CHjnzp3R3NwctbW1fdZra2tj/fr1A14zZcqU+O1vfxurV6+OXC4XH3zwQfzLv/xLnH322YN+3ew9nwIGgJTZV58C7uzs7LNeUlISJSUl/c7ftm1bdHd3R0VFRZ/1ioqK2Lp164DPMWXKlHjsscdi5syZ8emnn8auXbviL//yL+Oee+4ZdN3sPR1AAGBAlZWVUV5e3ns0NDTs8fyioqI+P+dyuX5ru73++usxd+7cuOmmm6K5uTmeeeaZeOedd6Kurm6f1c9n0wEEgJTZVx3A1tbWKCsr610fqPsXETF69OgoLi7u1+1rb2/v1xXcraGhIaZOnRrXXXddRESccMIJcfjhh8e0adPitttui7Fjxw66fpLpAAIAAyorK+tzfFYAHD58eFRXV0dTU1Of9aamppgyZcqA13zyySdxyCF9Y0hxcXFEuBF1PgiAAMCQ1dfXx4MPPhjLly+PLVu2xPz586OlpaV3pLtgwYKYNWtW7/nnnntuPPnkk9HY2Bhvv/12vPDCCzF37tz48z//8xg3blyhXkZmGAEDQMoU4qvgZs6cGdu3b49FixZFW1tbTJo0KVavXh3jx4+PiIi2trY+9wS89NJLY8eOHXHvvffG3/3d38WRRx4Z3/zmN+POO+8cdN3svaKcPutBobOzM8rLywtdRj/+77N3PmsTNJA9HR0dffbV7Uu7/1a88sorMXLkyEE/zo4dO+KEE07Yr7VSWEbAAAAZIwACAGSMPYAAkDKF2APIwUUABICUEQBJYgQMAJAxOoAAkDI6gCTRAQQAyBgBEAAgYwTAPGloaIhTTjklRo4cGWPGjIkZM2bEG2+8UeiyAEih3SPgoRykmwCYJ2vWrIk5c+bESy+9FE1NTbFr166ora2Njz/+uNClAZBCwh974kMgefLMM8/0+fnhhx+OMWPGRHNzc3z9618vUFUAQBYJgAXS0dERERFHHXXUgP+9q6srurq6en/u7OzMS10AQPoZARdALpeL+vr6OO2002LSpEkDntPQ0BDl5eW9R2VlZZ6rBOBgZQ8gSQTAArjqqqvilVdeiccff/wzz1mwYEF0dHT0Hq2trXmsEICDmQBIEiPgPLv66qtj1apVsXbt2jjmmGM+87ySkpIoKSnJY2UAQFYIgHmSy+Xi6quvjqeeeip++ctfRlVVVaFLAiClfBMISQTAPJkzZ06sWLEinn766Rg5cmRs3bo1IiLKy8tjxIgRBa4OgDQRAEliD2CeNDY2RkdHR3zjG9+IsWPH9h4rV64sdGkAQMboAOaJf00BkC86gCQRAAEgZQRAkhgBAwBkjAAIAJAxRsAAkDJGwCTRAQQAyBgdQABIGR1AkgiAAJAyAiBJBEAASBkBkCT2AAIAZIwOIACkjA4gSQRAAEgZAZAkAiBDUlRUVOgSAIDPSQAEgJTRASSJAAgAKSMAksSngAEAMkYABADIGCNgAEgZI2CS6AACAGSMDiAApIwOIEkEQABIGQGQJAIgAKSQEMee2AMIAJAxOoAAkDJGwCQRAAEgZQRAkhgBAwBkjA4gAKSMDiBJdAABADJGAAQAyBgjYABIGSNgkgiAAJAyAiBJjIABADJGBxAAUkYHkCQCIACkjABIEgEQAFJGACSJPYAAABmjAwgAKaMDSBIBEABSRgAkiREwAEDGCIAAABljBAwAKWMETBIdQACAjNEBBICU6enpiZ6eniFdT7oJgACQMkbAJDECBgDIGAEQAFJmdwdwKMdgLF26NKqqqqK0tDSqq6tj3bp1ezy/q6srFi5cGOPHj4+SkpL44z/+41i+fPmgnpvPxwgYAFKmECPglStXxrx582Lp0qUxderU+PGPfxzTp0+P119/Pb70pS8NeM35558fH3zwQTz00EPxJ3/yJ9He3h67du0adN3sPQEQAFIml8sN6YMcgwmAixcvjtmzZ8cVV1wRERFLliyJZ599NhobG6OhoaHf+c8880ysWbMm3n777TjqqKMiIuLYY48ddM18PkbAAMCAOjs7+xxdXV0Dnrdz585obm6O2traPuu1tbWxfv36Aa9ZtWpV1NTUxF133RVf/OIX4ytf+Upce+218b//+7/7/HXQnw4gAKTMvhoBV1ZW9lm/+eab45Zbbul3/rZt26K7uzsqKir6rFdUVMTWrVsHfI633347nn/++SgtLY2nnnoqtm3bFt/73vfif/7nf+wDzAMBEABSZl8FwNbW1igrK+tdLykp2eN1RUVF/R7n/67t1tPTE0VFRfHYY49FeXl5RPx+jPzXf/3Xcd9998WIESMGXT/JjIABgAGVlZX1OT4rAI4ePTqKi4v7dfva29v7dQV3Gzt2bHzxi1/sDX8RERMmTIhcLhe//e1v992LYEACIACkTL5vAzN8+PCorq6OpqamPutNTU0xZcqUAa+ZOnVqvP/++/HRRx/1rr355ptxyCGHxDHHHPP5XzSfiwAIAClTiPsA1tfXx4MPPhjLly+PLVu2xPz586OlpSXq6uoiImLBggUxa9as3vMvvPDCGDVqVFx22WXx+uuvx9q1a+O6666Lyy+/3Pg3D+wBBACGbObMmbF9+/ZYtGhRtLW1xaRJk2L16tUxfvz4iIhoa2uLlpaW3vOPOOKIaGpqiquvvjpqampi1KhRcf7558dtt91WqJeQKUU5X/h3UOjs7OyzTwKAg1NHR0efD1bsS7v/VqxYsSIOO+ywQT/OJ598EhdeeOF+rZXC0gEEgJQpxDeBcHCxBxAAIGN0AAEgZXQASSIAAkDKCIAkEQABIGV6enqip6dnSNeTbvYAAgBkjA4gAKSMETBJdAALoKGhIYqKimLevHmFLgWAFCrEN4FwcBEA82zDhg2xbNmyOOGEEwpdCgCQUQJgHn300Udx0UUXxQMPPBBf+MIXCl0OACmlA0gSATCP5syZE2effXaceeaZhS4FgBQTAEniQyB58tOf/jR+/etfx4YNG/bq/K6urujq6ur9ubOzc3+VBgBkjA5gHrS2tsY111wTjz76aJSWlu7VNQ0NDVFeXt57VFZW7ucqAUiL3fcBHMpBugmAedDc3Bzt7e1RXV0dw4YNi2HDhsWaNWvi7rvvjmHDhkV3d3e/axYsWBAdHR29R2trawEqB+BgZARMEiPgPDjjjDPi1Vdf7bN22WWXxfHHHx/XX399FBcX97umpKQkSkpK8lUiAJAhAmAejBw5MiZNmtRn7fDDD49Ro0b1WweAfUEXjz0RAAEgZXwTCEkEwAL55S9/WegSAEipoX6Qw4dA0s+HQAAAMkYHEABSxgiYJAIgAKSMAEgSI2AAgIzRAQSAlNEBJIkACAApIwCSxAgYACBjdAABIGXcB5AkAiAApIwRMEmMgAEAMkYHEABSRgeQJAIgAKSMAEgSARA4YPijs3eKiooKXQIHOB8CIYk9gAAAGaMDCAApYwRMEgEQAFJGACSJETAAQMboAAJAyugAkkQABIAUEuLYEyNgAICM0QEEgJQxAiaJAAgAKSMAksQIGAAgY3QAASBldABJIgACQMoIgCQRAAEgZQRAktgDCACQMTqAAJAyPT090dPTM6TrSTcBEABSxgiYJEbAAAAZowMIACmjA0gSARAAUkYAJIkRMABAxugAAkDK6ACSRAAEgJQRAEliBAwAkDE6gACQMjqAJBEAASBlBECSCIAAkDICIEnsAQQAyBgdQABIGR1AkgiAAJAyuVwuenp6hnQ96WYEDACQMTqAAJAyRsAkEQABIGUEQJIYAQMA+8TSpUujqqoqSktLo7q6OtatW7dX173wwgsxbNiwOPHEE/dvgfQSAAEgZXZ3AIdyfF4rV66MefPmxcKFC2PTpk0xbdq0mD59erS0tOzxuo6Ojpg1a1acccYZg325DIIACAApU4gAuHjx4pg9e3ZcccUVMWHChFiyZElUVlZGY2PjHq+78sor48ILL4zJkycP9uUyCAIgAKTMvgqAnZ2dfY6urq4Bn2/nzp3R3NwctbW1fdZra2tj/fr1n1nnww8/HL/5zW/i5ptv3ncvnr0iAAIAA6qsrIzy8vLeo6GhYcDztm3bFt3d3VFRUdFnvaKiIrZu3TrgNW+99VbccMMN8dhjj8WwYT6Tmm/ecQBImX31KeDW1tYoKyvrXS8pKdnjdUVFRf0e5/+uRUR0d3fHhRdeGLfeemt85StfGXSdDJ4ACAAps68CYFlZWZ8A+FlGjx4dxcXF/bp97e3t/bqCERE7duyIjRs3xqZNm+Kqq66KiIienp7I5XIxbNiweO655+Kb3/zmoOsnmREwADAkw4cPj+rq6mhqauqz3tTUFFOmTOl3fllZWbz66quxefPm3qOuri7+9E//NDZv3hynnnpqvkrPLB1AAEiZQtwIur6+Pi6++OKoqamJyZMnx7Jly6KlpSXq6uoiImLBggXx3nvvxSOPPBKHHHJITJo0qc/1Y8aMidLS0n7r7B8CIACkTCEC4MyZM2P79u2xaNGiaGtri0mTJsXq1atj/PjxERHR1taWeE9A8qco5/teDgqdnZ1RXl5e6DJgv/LraO8MtKmeg0dHR8de7asbjN1/K6655prED2zsSVdXV/zoRz/ar7VSWDqAAJAyvguYJAIgAKRMT09P9PT0DOl60s2ngAEAMkYHEABSxgiYJAIgAKSMAEgSARAAUkYAJIk9gAAAGSMA5tF7770X3/3ud2PUqFFx2GGHxYknnhjNzc2FLguAlNndARzKQboZAefJhx9+GFOnTo3TTz89fv7zn8eYMWPiN7/5TRx55JGFLg2AlDECJokAmCd33nlnVFZWxsMPP9y7duyxxxauIAAgs4yA82TVqlVRU1MT3/nOd2LMmDFx0kknxQMPPFDosgBIKeNf9kQAzJO33347Ghsb48tf/nI8++yzUVdXF3Pnzo1HHnlkwPO7urqis7OzzwEAe8MeQJIYAedJT09P1NTUxB133BERESeddFK89tpr0djYGLNmzep3fkNDQ9x66635LhMAyAAdwDwZO3ZsfPWrX+2zNmHChGhpaRnw/AULFkRHR0fv0dramo8yAUgBHUCS6ADmydSpU+ONN97os/bmm2/G+PHjBzy/pKQkSkpK8lEaACnjU8Ak0QHMk/nz58dLL70Ud9xxR/zXf/1XrFixIpYtWxZz5swpdGkAQMYIgHlyyimnxFNPPRWPP/54TJo0Kf7+7/8+lixZEhdddFGhSwMgZYyASWIEnEfnnHNOnHPOOYUuA4CUMwImiQAIACkjAJLECBgAIGN0AAEgZXQASSIAAkDKCIAkMQIGAMgYHUAASBkdQJIIgACQMgIgSYyAAQAyRgcQAFJGB5AkAiAApIwASBIjYACAjNEBBICU0QEkiQAIHDCKiooKXQKkggBIEgEQAFJGACSJPYAAABmjAwgAKaMDSBIBEABSRgAkiREwAEDG6AACQArp4rEnAiAApIwRMEmMgAEAMkYHEABSpqenJ3p6eoZ0PekmAAJAyhgBk8QIGAAgY3QAASBldABJIgACQMoIgCQRAAEgZQRAktgDCACQMTqAAJAyOoAkEQABIGUEQJIYAQMAZIwOIACkjA4gSQRAAEgZAZAkRsAAABmjAwgAKdPT0xM9PT1Dup50EwABIGWMgEliBAwAkDE6gACQMkbAJBEAASBljIBJIgACQMrkcrkhdfEEwPSzBxAAIGN0AAEgZYyASSIAAkDKCIAkMQIGAMgYHUAASBm3gSGJDiAApMzuEfBQjsFYunRpVFVVRWlpaVRXV8e6des+89wnn3wyvvWtb8Uf/dEfRVlZWUyePDmeffbZwb5kPicBEAAYspUrV8a8efNi4cKFsWnTppg2bVpMnz49WlpaBjx/7dq18a1vfStWr14dzc3Ncfrpp8e5554bmzZtynPl2VSUs9PzoNDZ2Rnl5eWFLgOAIero6IiysrL98ti7/1ZMmzYthg0b/C6vXbt2xbp16z5XraeeemqcfPLJ0djY2Ls2YcKEmDFjRjQ0NOzVY0ycODFmzpwZN91006DqZu/pAAJAyuyrEXBnZ2efo6ura8Dn27lzZzQ3N0dtbW2f9dra2li/fv1e1dzT0xM7duyIo446amgvnr0iAAIAA6qsrIzy8vLe47M6edu2bYvu7u6oqKjos15RURFbt27dq+f64Q9/GB9//HGcf/75Q66bZD4FDAAps6/uA9ja2tpnBFxSUrLH64qKivo9zv9dG8jjjz8et9xySzz99NMxZsyYQVTM5yUAAkDK7KvbwJSVle3VHsDRo0dHcXFxv25fe3t7v67g/7Vy5cqYPXt2/OxnP4szzzxz0DXz+RgBA0DK5Ps2MMOHD4/q6upoamrqs97U1BRTpkz5zOsef/zxuPTSS2PFihVx9tlnD+q1Mjg6gADAkNXX18fFF18cNTU1MXny5Fi2bFm0tLREXV1dREQsWLAg3nvvvXjkkUci4vfhb9asWfGjH/0o/uIv/qK3ezhixAh3vcgDARAAUqYQ3wQyc+bM2L59eyxatCja2tpi0qRJsXr16hg/fnxERLS1tfW5J+CPf/zj2LVrV8yZMyfmzJnTu37JJZfET37yk0HXzt5xH8CDhPsAAqRDPu4DeMoppwz5PoAbNmzYr7VSWPYAAgBkjBEwAKTMvroNDOklAAJAyuRyuSHtARQA088IGAAgY3QAASBljIBJIgACQMr09PTs1Vew7el60s0IGAAgYwTAPNm1a1d8//vfj6qqqhgxYkQcd9xxsWjRIv/KAmCfy/dXwXHwMQLOkzvvvDPuv//++Kd/+qeYOHFibNy4MS677LIoLy+Pa665ptDlAZAiRsAkEQDz5MUXX4y/+qu/6v2y62OPPTYef/zx2LhxY4ErAyBtfAiEJEbAeXLaaafFL37xi3jzzTcjIuLll1+O559/Ps4666wCVwYAZI0OYJ5cf/310dHREccff3wUFxdHd3d33H777XHBBRcMeH5XV1d0dXX1/tzZ2ZmvUgE4yOkAkkQAzJOVK1fGo48+GitWrIiJEyfG5s2bY968eTFu3Li45JJL+p3f0NAQt956awEqBeBgZw8gSYpyYn5eVFZWxg033BBz5szpXbvtttvi0Ucfjf/8z//sd/5AHcDKysq81ArA/tPR0RFlZWX75bE7OzujvLw8JkyYEMXFxYN+nO7u7tiyZct+rZXC0gHMk08++SQOOaTvlsvi4uLP/FdWSUlJlJSU5KM0AFLGCJgkAmCenHvuuXH77bfHl770pZg4cWJs2rQpFi9eHJdffnmhSwMgZYyASSIA5sk999wTP/jBD+J73/tetLe3x7hx4+LKK6+Mm266qdClAQAZYw/gQWL3vg4ADm752AP45S9/ech7AN966y17AFNMBxAAUsYeQJK4ETQAQMboAAJAyvgQCEkEQABIIWNc9kQABICUsQeQJPYAAgBkjA4gAKSMDiBJBEAASBkBkCRGwAAAGaMDCAApM9TbuLgNTPoJgACQMkbAJDECBgDIGB1AAEgZHUCSCIAAkDICIEmMgAEAMkYHEABSRgeQJAIgAKSMAEgSARAAUsZ9AEliDyAAQMboAAJAyhgBk0QABICUEQBJYgQMAJAxOoAAkDI6gCQRAAEgZQRAkhgBAwBkjA4gAKSMDiBJBEAASJlcLjekmzkLgOlnBAwAkDE6gACQMkPt4OkApp8ACAApIwCSRAAEgJQRAEliDyAAQMboAAJAyugAkkQABICUEQBJYgQMAJAxOoAAkDI9PT1RVFQ06Ot1ANNPAASAlDECJokRMABAxugAAkDK6ACSRAAEgJQRAEliBAwAkDE6gACQMjqAJBEAASBlBECSCIAAkDLuA0gSewABADJGAASAlMnlckM+BmPp0qVRVVUVpaWlUV1dHevWrdvj+WvWrInq6uooLS2N4447Lu6///5BPS+fnwAIAClTiAC4cuXKmDdvXixcuDA2bdoU06ZNi+nTp0dLS8uA57/zzjtx1llnxbRp02LTpk1x4403xty5c+OJJ54Y6stnLxTlDPoPCp2dnVFeXl7oMgAYoo6OjigrK9svj/2Hfyv2xR7Az1PrqaeeGieffHI0Njb2rk2YMCFmzJgRDQ0N/c6//vrrY9WqVbFly5betbq6unj55ZfjxRdfHHTt7B0dwIOEnA6QDvn6fb4vun+dnZ19jq6urgGfa+fOndHc3By1tbV91mtra2P9+vUDXvPiiy/2O//b3/52bNy4MX73u98N8dWTRAA8SOzYsaPQJQCwD+zP3+fDhw+Po48+ep881hFHHBGVlZVRXl7eewzUyYuI2LZtW3R3d0dFRUWf9YqKiti6deuA12zdunXA83ft2hXbtm3bJ6+Bz+Y2MAeJcePGRWtra4wcOXJIbf2I3/+LrrKyMlpbW/fbGCINvE97x/uUzHu0d9L+PuVyudixY0eMGzduvz1HaWlpvPPOO7Fz584hP1Yul+v396akpGSP1/zf8wd6jKTzB1pn3xMADxKHHHJIHHPMMfv0McvKylL5S3Zf8z7tHe9TMu/R3knz+5SPvdylpaVRWlq635/nD40ePTqKi4v7dfva29v7dfl2O/roowc8f9iwYTFq1Kj9Viu/ZwQMAAzJ8OHDo7q6OpqamvqsNzU1xZQpUwa8ZvLkyf3Of+6556KmpiYOPfTQ/VYrvycAAgBDVl9fHw8++GAsX748tmzZEvPnz4+Wlpaoq6uLiIgFCxbErFmzes+vq6uLd999N+rr62PLli2xfPnyeOihh+Laa68t1EvIFCPgDCopKYmbb745cS9H1nmf9o73KZn3aO94nw5uM2fOjO3bt8eiRYuira0tJk2aFKtXr47x48dHRERbW1ufewJWVVXF6tWrY/78+XHffffFuHHj4u67747zzjuvUC8hU9wHEAAgY4yAAQAyRgAEAMgYARAAIGMEQACAjBEAM2bp0qVRVVUVpaWlUV1dHevWrSt0SQeUhoaGOOWUU2LkyJExZsyYmDFjRrzxxhuFLuuA19DQEEVFRTFv3rxCl3LAee+99+K73/1ujBo1Kg477LA48cQTo7m5udBlHVB27doV3//+96OqqipGjBgRxx13XCxatCh6enoKXRqklgCYIStXrox58+bFwoULY9OmTTFt2rSYPn16n4/lZ92aNWtizpw58dJLL0VTU1Ps2rUramtr4+OPPy50aQesDRs2xLJly+KEE04odCkHnA8//DCmTp0ahx56aPz85z+P119/PX74wx/GkUceWejSDih33nln3H///XHvvffGli1b4q677op/+Id/iHvuuafQpUFquQ1Mhpx66qlx8sknR2NjY+/ahAkTYsaMGZ/5Bd9Z99///d8xZsyYWLNmTXz9618vdDkHnI8++ihOPvnkWLp0adx2221x4oknxpIlSwpd1gHjhhtuiBdeeEGnPcE555wTFRUV8dBDD/WunXfeeXHYYYfFP//zPxewMkgvHcCM2LlzZzQ3N0dtbW2f9dra2li/fn2BqjrwdXR0RETEUUcdVeBKDkxz5syJs88+O84888xCl3JAWrVqVdTU1MR3vvOdGDNmTJx00knxwAMPFLqsA85pp50Wv/jFL+LNN9+MiIiXX345nn/++TjrrLMKXBmkl28CyYht27ZFd3d3vy/lrqio6Pdl3PxeLpeL+vr6OO2002LSpEmFLueA89Of/jR+/etfx4YNGwpdygHr7bffjsbGxqivr48bb7wxfvWrX8XcuXOjpKSkz1diZd31118fHR0dcfzxx0dxcXF0d3fH7bffHhdccEGhS4PUEgAzpqioqM/PuVyu3xq/d9VVV8Urr7wSzz//fKFLOeC0trbGNddcE88991yUlpYWupwDVk9PT9TU1MQdd9wREREnnXRSvPbaa9HY2CgA/oGVK1fGo48+GitWrIiJEyfG5s2bY968eTFu3Li45JJLCl0epJIAmBGjR4+O4uLift2+9vb2fl1BIq6++upYtWpVrF27No455phCl3PAaW5ujvb29qiuru5d6+7ujrVr18a9994bXV1dUVxcXMAKDwxjx46Nr371q33WJkyYEE888USBKjowXXfddXHDDTfE3/zN30RExJ/92Z/Fu+++Gw0NDQIg7Cf2AGbE8OHDo7q6OpqamvqsNzU1xZQpUwpU1YEnl8vFVVddFU8++WT8x3/8R1RVVRW6pAPSGWecEa+++mps3ry596ipqYmLLrooNm/eLPz9f6ZOndrvNkJvvvlmjB8/vkAVHZg++eSTOOSQvn+OiouL3QYG9iMdwAypr6+Piy++OGpqamLy5MmxbNmyaGlpibq6ukKXdsCYM2dOrFixIp5++ukYOXJkb8e0vLw8RowYUeDqDhwjR47sty/y8MMPj1GjRtkv+Qfmz58fU6ZMiTvuuCPOP//8+NWvfhXLli2LZcuWFbq0A8q5554bt99+e3zpS1+KiRMnxqZNm2Lx4sVx+eWXF7o0SC23gcmYpUuXxl133RVtbW0xadKk+Md//Ee3N/kDn7Uf8uGHH45LL700v8UcZL7xjW+4DcwA/v3f/z0WLFgQb731VlRVVUV9fX387d/+baHLOqDs2LEjfvCDH8RTTz0V7e3tMW7cuLjgggvipptuiuHDhxe6PEglARAAIGPsAQQAyBgBEAAgYwRAAICMEQABADJGAAQAyBgBEAAgYwRAAICMEQABADJGAAQAyBgBEAAgYwRAAICMEQABADJGAAQAyBgBEAAgYwRAAICMEQABADJGAAQAyBgBEAAgYwRAAICMEQABADJGAAQAyBgBEAAgYwRAAICMEQABADJGAAQAyBgBEAAgYwRAAICMEQABADJGAAQAyBgBEAAgYwRAAICM+X8//nnWFaxknAAAAABJRU5ErkJggg==\"></img>\n",
       "</td>\n",
       "<td style=\"text-align: center; vertical-align: top;\">\n",
       "<b><a href=\"https://github.com/clEsperanto/pyclesperanto\" target=\"_blank\">cle._</a> image</b><br/>\n",
       "<table>\n",
       "<tr><td>shape</td><td>(10,&nbsp;10)</td></tr>\n",
       "<tr><td>dtype</td><td>float32</td></tr>\n",
       "<tr><td>size</td><td>400.0 B</td></tr>\n",
       "<tr><td>min</td><td>0.0</td></tr><tr><td>max</td><td>1.0</td></tr>\n",
       "</table>\n",
       "<img src=\"data:image/png;base64,iVBORw0KGgoAAAANSUhEUgAAALQAAAB4CAYAAABb59j9AAAAOXRFWHRTb2Z0d2FyZQBNYXRwbG90bGliIHZlcnNpb24zLjkuMiwgaHR0cHM6Ly9tYXRwbG90bGliLm9yZy8hTgPZAAAACXBIWXMAAA9hAAAPYQGoP6dpAAACQklEQVR4nO3YwYnbQABA0bHJVS7AWJB+0lBK2Ia2n4AXFWBDIBcrh7BLQpYQ8ArD572TLMHMgD7DyLt1XdcBEftHLwA+kqBJETQpgiZF0KQImhRBkyJoUgRNiqBJETQpgibl01YD3263sSzLmKZp7Ha7raYhYF3Xcb1ex/F4HPv9fXvsZkEvyzLmed5qeILO5/M4nU53jbFZ0NM0jTF+LfJwOGw1DQGXy2XM8/zWzD02C/r1mHE4HATNf/mIo6mPQlIETcpmR45/+fz1+e3629OXRyyBKDs0KYImRdCkCJoUQZMiaFIETYqgSRE0KYImRdCkCJoUQZMiaFIETYqgSRE0KYImRdCkCJoUQZMiaFIETYqgSRE0KYImRdCkCJoUQZMiaFIETYqgSRE0KYImRdCkCJoUQZMiaFIETYqgSRE0KYImRdCkCJoUQZMiaFIETYqgSRE0KYImRdCkCJoUQZMiaFIETYqgSRE0KYImRdCkCJoUQZMiaFIETYqgSRE0KYImRdCkCJoUQZMiaFIETYqgSRE0KYImRdCkCJoUQZMiaFIETcqnRy+Ats9fn//4/e3py6bz2aFJETQpgiZF0KQImhRBk7LZ33bruo4xxrhcLn89u/34/nb93nM6fn/XY7z/vl/vvTZzj936EaO84+XlZczzvMXQRJ3P53E6ne4aY7Ogb7fbWJZlTNM0drvdFlMQsa7ruF6v43g8jv3+vlPwZkHDI/goJEXQpAiaFEGTImhSBE2KoEkRNCmCJkXQpPwEeV9YxVr4r0gAAAAASUVORK5CYII=\"></img>\n",
       "</td>\n",
       "</tr>\n",
       "</table>"
      ],
      "text/plain": [
       "array([[0., 0., 0., 0., 0., 0., 0., 0., 0., 0.],\n",
       "       [0., 1., 1., 0., 0., 0., 0., 0., 0., 0.],\n",
       "       [0., 1., 1., 0., 0., 0., 0., 0., 0., 0.],\n",
       "       [0., 0., 0., 0., 0., 0., 0., 0., 0., 0.],\n",
       "       [0., 0., 0., 0., 0., 0., 0., 0., 0., 0.],\n",
       "       [0., 0., 0., 0., 0., 1., 1., 0., 0., 0.],\n",
       "       [0., 0., 0., 0., 0., 1., 1., 0., 0., 0.],\n",
       "       [0., 0., 0., 0., 0., 0., 0., 0., 0., 0.],\n",
       "       [0., 0., 0., 0., 0., 0., 0., 0., 0., 0.],\n",
       "       [0., 0., 0., 0., 0., 0., 0., 0., 0., 0.]], dtype=float32, mtype=buffer)"
      ]
     },
     "execution_count": 4,
     "metadata": {},
     "output_type": "execute_result"
    }
   ],
   "source": [
    "cle_tensor = cle.push(tensor)\n",
    "cle_tensor"
   ]
  },
  {
   "cell_type": "markdown",
   "id": "9f982a9c-76f2-4bd5-a8d2-65c63ace5ba4",
   "metadata": {},
   "source": [
    "... turns the tensor into an OpenCL-Array"
   ]
  },
  {
   "cell_type": "code",
   "execution_count": 5,
   "id": "63499a9d-9a75-4776-a9bb-ab220b7b2ad4",
   "metadata": {
    "tags": []
   },
   "outputs": [
    {
     "data": {
      "text/plain": [
       "pyclesperanto._pyclesperanto._Array"
      ]
     },
     "execution_count": 5,
     "metadata": {},
     "output_type": "execute_result"
    }
   ],
   "source": [
    "type(cle_tensor)"
   ]
  },
  {
   "cell_type": "markdown",
   "id": "2823d95a-00cf-4b7a-abbe-836db1e191b8",
   "metadata": {},
   "source": [
    "## Passing tensors as arguments\n",
    "You can also just pass a tensor as argument to clesperanto functions. The tensor will be pushed to the GPU implicitly anyway."
   ]
  },
  {
   "cell_type": "code",
   "execution_count": 6,
   "id": "a6c62f23-ee53-488b-b986-fced10de5dfe",
   "metadata": {
    "tags": []
   },
   "outputs": [
    {
     "ename": "TypeError",
     "evalue": "create(): incompatible function arguments. The following argument types are supported:\n    1. (shape: tuple, dtype: object, mtype: str, device: pyclesperanto._pyclesperanto._Device) -> pyclesperanto._pyclesperanto._Array\n\nInvoked with: kwargs: shape=(10, 10), dtype=dtype('float32'), mtype='buffer', device=device(type='cpu')",
     "output_type": "error",
     "traceback": [
      "\u001b[0;31m---------------------------------------------------------------------------\u001b[0m",
      "\u001b[0;31mTypeError\u001b[0m                                 Traceback (most recent call last)",
      "Cell \u001b[0;32mIn[6], line 1\u001b[0m\n\u001b[0;32m----> 1\u001b[0m cle_labels \u001b[38;5;241m=\u001b[39m \u001b[43mcle\u001b[49m\u001b[38;5;241;43m.\u001b[39;49m\u001b[43mlabel\u001b[49m\u001b[43m(\u001b[49m\u001b[43mtensor\u001b[49m\u001b[43m)\u001b[49m\n\u001b[1;32m      2\u001b[0m cle_labels\n",
      "File \u001b[0;32m/data/clesperanto/pyclesperanto/pyclesperanto/_decorators.py:85\u001b[0m, in \u001b[0;36mplugin_function.<locals>.worker_function\u001b[0;34m(*args, **kwargs)\u001b[0m\n\u001b[1;32m     76\u001b[0m \u001b[38;5;28;01mfor\u001b[39;00m key, value \u001b[38;5;129;01min\u001b[39;00m bound\u001b[38;5;241m.\u001b[39marguments\u001b[38;5;241m.\u001b[39mitems():\n\u001b[1;32m     77\u001b[0m     \u001b[38;5;28;01mif\u001b[39;00m (\n\u001b[1;32m     78\u001b[0m         is_image(value)\n\u001b[1;32m     79\u001b[0m         \u001b[38;5;129;01mand\u001b[39;00m key \u001b[38;5;129;01min\u001b[39;00m sig\u001b[38;5;241m.\u001b[39mparameters\n\u001b[0;32m   (...)\u001b[0m\n\u001b[1;32m     83\u001b[0m         )\n\u001b[1;32m     84\u001b[0m     ):\n\u001b[0;32m---> 85\u001b[0m         bound\u001b[38;5;241m.\u001b[39marguments[key] \u001b[38;5;241m=\u001b[39m \u001b[43mpush\u001b[49m\u001b[43m(\u001b[49m\u001b[43mvalue\u001b[49m\u001b[43m,\u001b[49m\u001b[43m \u001b[49m\u001b[43mdevice\u001b[49m\u001b[38;5;241;43m=\u001b[39;49m\u001b[43muse_device\u001b[49m\u001b[43m)\u001b[49m\n\u001b[1;32m     86\u001b[0m     \u001b[38;5;28;01mif\u001b[39;00m (\n\u001b[1;32m     87\u001b[0m         key \u001b[38;5;129;01min\u001b[39;00m sig\u001b[38;5;241m.\u001b[39mparameters\n\u001b[1;32m     88\u001b[0m         \u001b[38;5;129;01mand\u001b[39;00m (\n\u001b[0;32m   (...)\u001b[0m\n\u001b[1;32m     92\u001b[0m         \u001b[38;5;129;01mand\u001b[39;00m value \u001b[38;5;129;01mis\u001b[39;00m \u001b[38;5;28;01mNone\u001b[39;00m\n\u001b[1;32m     93\u001b[0m     ):\n\u001b[1;32m     94\u001b[0m         bound\u001b[38;5;241m.\u001b[39marguments[key] \u001b[38;5;241m=\u001b[39m use_device\n",
      "File \u001b[0;32m/data/clesperanto/pyclesperanto/pyclesperanto/_memory.py:111\u001b[0m, in \u001b[0;36mpush\u001b[0;34m(array, dtype, mtype, device)\u001b[0m\n\u001b[1;32m    108\u001b[0m     array \u001b[38;5;241m=\u001b[39m np\u001b[38;5;241m.\u001b[39masarray(array)\n\u001b[1;32m    110\u001b[0m dtype \u001b[38;5;241m=\u001b[39m dtype \u001b[38;5;28;01mif\u001b[39;00m dtype \u001b[38;5;28;01melse\u001b[39;00m array\u001b[38;5;241m.\u001b[39mdtype\n\u001b[0;32m--> 111\u001b[0m \u001b[38;5;28;01mreturn\u001b[39;00m \u001b[43mcreate\u001b[49m\u001b[43m(\u001b[49m\u001b[43marray\u001b[49m\u001b[38;5;241;43m.\u001b[39;49m\u001b[43mshape\u001b[49m\u001b[43m,\u001b[49m\u001b[43m \u001b[49m\u001b[43mdtype\u001b[49m\u001b[43m,\u001b[49m\u001b[43m \u001b[49m\u001b[43mmtype\u001b[49m\u001b[43m,\u001b[49m\u001b[43m \u001b[49m\u001b[43mdevice\u001b[49m\u001b[43m)\u001b[49m\u001b[38;5;241m.\u001b[39mset(array)\n",
      "File \u001b[0;32m/data/clesperanto/pyclesperanto/pyclesperanto/_memory.py:47\u001b[0m, in \u001b[0;36mcreate\u001b[0;34m(dim, dtype, mtype, device)\u001b[0m\n\u001b[1;32m     44\u001b[0m dtype \u001b[38;5;241m=\u001b[39m dtype \u001b[38;5;28;01mif\u001b[39;00m dtype \u001b[38;5;28;01melse\u001b[39;00m \u001b[38;5;28mfloat\u001b[39m\n\u001b[1;32m     45\u001b[0m mtype \u001b[38;5;241m=\u001b[39m mtype \u001b[38;5;28;01mif\u001b[39;00m mtype \u001b[38;5;28;01melse\u001b[39;00m \u001b[38;5;124m\"\u001b[39m\u001b[38;5;124mbuffer\u001b[39m\u001b[38;5;124m\"\u001b[39m\n\u001b[0;32m---> 47\u001b[0m \u001b[38;5;28;01mreturn\u001b[39;00m \u001b[43mArray\u001b[49m\u001b[38;5;241;43m.\u001b[39;49m\u001b[43mempty\u001b[49m\u001b[43m(\u001b[49m\u001b[43mdim\u001b[49m\u001b[43m,\u001b[49m\u001b[43m \u001b[49m\u001b[43mdtype\u001b[49m\u001b[38;5;241;43m=\u001b[39;49m\u001b[43mdtype\u001b[49m\u001b[43m,\u001b[49m\u001b[43m \u001b[49m\u001b[43mmtype\u001b[49m\u001b[38;5;241;43m=\u001b[39;49m\u001b[43mmtype\u001b[49m\u001b[43m,\u001b[49m\u001b[43m \u001b[49m\u001b[43mdevice\u001b[49m\u001b[38;5;241;43m=\u001b[39;49m\u001b[43mdevice\u001b[49m\u001b[43m)\u001b[49m\n",
      "File \u001b[0;32m/data/clesperanto/pyclesperanto/pyclesperanto/_array.py:187\u001b[0m, in \u001b[0;36mempty\u001b[0;34m(cls, shape, dtype, *args, **kwargs)\u001b[0m\n\u001b[1;32m    184\u001b[0m mtype \u001b[38;5;241m=\u001b[39m kwargs\u001b[38;5;241m.\u001b[39mget(\u001b[38;5;124m\"\u001b[39m\u001b[38;5;124mmtype\u001b[39m\u001b[38;5;124m\"\u001b[39m, \u001b[38;5;124m\"\u001b[39m\u001b[38;5;124mbuffer\u001b[39m\u001b[38;5;124m\"\u001b[39m)\n\u001b[1;32m    185\u001b[0m device \u001b[38;5;241m=\u001b[39m kwargs\u001b[38;5;241m.\u001b[39mget(\u001b[38;5;124m\"\u001b[39m\u001b[38;5;124mdevice\u001b[39m\u001b[38;5;124m\"\u001b[39m, get_device())\n\u001b[0;32m--> 187\u001b[0m \u001b[38;5;28;01mreturn\u001b[39;00m \u001b[38;5;28;43mcls\u001b[39;49m\u001b[38;5;241;43m.\u001b[39;49m\u001b[43mcreate\u001b[49m\u001b[43m(\u001b[49m\u001b[43mshape\u001b[49m\u001b[38;5;241;43m=\u001b[39;49m\u001b[43mshape\u001b[49m\u001b[43m,\u001b[49m\u001b[43m \u001b[49m\u001b[43mdtype\u001b[49m\u001b[38;5;241;43m=\u001b[39;49m\u001b[43mdtype\u001b[49m\u001b[43m,\u001b[49m\u001b[43m \u001b[49m\u001b[43mmtype\u001b[49m\u001b[38;5;241;43m=\u001b[39;49m\u001b[43mmtype\u001b[49m\u001b[43m,\u001b[49m\u001b[43m \u001b[49m\u001b[43mdevice\u001b[49m\u001b[38;5;241;43m=\u001b[39;49m\u001b[43mdevice\u001b[49m\u001b[43m)\u001b[49m\n",
      "\u001b[0;31mTypeError\u001b[0m: create(): incompatible function arguments. The following argument types are supported:\n    1. (shape: tuple, dtype: object, mtype: str, device: pyclesperanto._pyclesperanto._Device) -> pyclesperanto._pyclesperanto._Array\n\nInvoked with: kwargs: shape=(10, 10), dtype=dtype('float32'), mtype='buffer', device=device(type='cpu')"
     ]
    }
   ],
   "source": [
    "cle_labels = cle.label(tensor)\n",
    "cle_labels"
   ]
  },
  {
   "cell_type": "markdown",
   "id": "b9d36430-7af9-4879-a449-5aa52257eec7",
   "metadata": {},
   "source": [
    "## Converting results back to a tensor\n",
    "To turn the OpenCL image into a tensor, you need to call the `get()` function. Furthermore, in case of label images, you need to convert them into a pixel type that is accepted by pytorch, for example signed 32-bit integer."
   ]
  },
  {
   "cell_type": "code",
   "execution_count": 7,
   "id": "b8b88eec-ebe2-4403-aa66-ac09e8fb3318",
   "metadata": {},
   "outputs": [
    {
     "ename": "NameError",
     "evalue": "name 'cle_labels' is not defined",
     "output_type": "error",
     "traceback": [
      "\u001b[0;31m---------------------------------------------------------------------------\u001b[0m",
      "\u001b[0;31mNameError\u001b[0m                                 Traceback (most recent call last)",
      "Cell \u001b[0;32mIn[7], line 1\u001b[0m\n\u001b[0;32m----> 1\u001b[0m labels_tensor \u001b[38;5;241m=\u001b[39m torch\u001b[38;5;241m.\u001b[39mtensor(\u001b[43mcle_labels\u001b[49m\u001b[38;5;241m.\u001b[39mastype(np\u001b[38;5;241m.\u001b[39mint32)\u001b[38;5;241m.\u001b[39mget())\n\u001b[1;32m      2\u001b[0m \u001b[38;5;28mtype\u001b[39m(labels_tensor)\n",
      "\u001b[0;31mNameError\u001b[0m: name 'cle_labels' is not defined"
     ]
    }
   ],
   "source": [
    "labels_tensor = torch.tensor(cle_labels.astype(np.int32).get())\n",
    "type(labels_tensor)"
   ]
  },
  {
   "cell_type": "markdown",
   "id": "257afd2a-a7c9-488f-9b9f-4eeba6b960bc",
   "metadata": {},
   "source": [
    "## GPU Tensors \n",
    "Tensors that are stored on the GPU and managed by Pytorch need to be transferred back to the CPU memory before pushing them back to OpenCL/GPU memory. This happens transparently under the hood but may cause performance leaks due to memory transfer times."
   ]
  },
  {
   "cell_type": "code",
   "execution_count": 8,
   "id": "bede46b0-1436-42d6-ba8e-82750702c7b7",
   "metadata": {},
   "outputs": [
    {
     "data": {
      "text/plain": [
       "True"
      ]
     },
     "execution_count": 8,
     "metadata": {},
     "output_type": "execute_result"
    }
   ],
   "source": [
    "torch.cuda.is_available()"
   ]
  },
  {
   "cell_type": "code",
   "execution_count": 9,
   "id": "c5fa3935-6f60-43a6-a201-267f1428ba09",
   "metadata": {},
   "outputs": [
    {
     "name": "stdout",
     "output_type": "stream",
     "text": [
      "cuda:0\n"
     ]
    }
   ],
   "source": [
    "device = torch.device(\"cuda:0\" if torch.cuda.is_available() else \"cpu\")\n",
    "print(device)"
   ]
  },
  {
   "cell_type": "code",
   "execution_count": 10,
   "id": "22f846e3-5bf1-4534-8c55-409e03d7b7de",
   "metadata": {},
   "outputs": [
    {
     "data": {
      "text/plain": [
       "False"
      ]
     },
     "execution_count": 10,
     "metadata": {},
     "output_type": "execute_result"
    }
   ],
   "source": [
    "tensor.is_cuda"
   ]
  },
  {
   "cell_type": "code",
   "execution_count": 11,
   "id": "61d82b73-2501-4479-b6d3-b86f04794aa1",
   "metadata": {},
   "outputs": [
    {
     "data": {
      "text/plain": [
       "True"
      ]
     },
     "execution_count": 11,
     "metadata": {},
     "output_type": "execute_result"
    }
   ],
   "source": [
    "cuda_tensor = tensor.to(device)\n",
    "cuda_tensor.is_cuda"
   ]
  },
  {
   "cell_type": "code",
   "execution_count": 12,
   "id": "c6bb0c5f-e16b-4911-863c-290c44375291",
   "metadata": {},
   "outputs": [
    {
     "ename": "TypeError",
     "evalue": "can't convert cuda:0 device type tensor to numpy. Use Tensor.cpu() to copy the tensor to host memory first.",
     "output_type": "error",
     "traceback": [
      "\u001b[0;31m---------------------------------------------------------------------------\u001b[0m",
      "\u001b[0;31mTypeError\u001b[0m                                 Traceback (most recent call last)",
      "Cell \u001b[0;32mIn[12], line 1\u001b[0m\n\u001b[0;32m----> 1\u001b[0m \u001b[43mcle\u001b[49m\u001b[38;5;241;43m.\u001b[39;49m\u001b[43mpush\u001b[49m\u001b[43m(\u001b[49m\u001b[43mcuda_tensor\u001b[49m\u001b[43m)\u001b[49m\n",
      "File \u001b[0;32m/data/clesperanto/pyclesperanto/pyclesperanto/_memory.py:108\u001b[0m, in \u001b[0;36mpush\u001b[0;34m(array, dtype, mtype, device)\u001b[0m\n\u001b[1;32m    105\u001b[0m     \u001b[38;5;28;01mreturn\u001b[39;00m array\n\u001b[1;32m    107\u001b[0m \u001b[38;5;28;01mif\u001b[39;00m \u001b[38;5;129;01mnot\u001b[39;00m \u001b[38;5;28misinstance\u001b[39m(array, np\u001b[38;5;241m.\u001b[39mndarray):\n\u001b[0;32m--> 108\u001b[0m     array \u001b[38;5;241m=\u001b[39m \u001b[43mnp\u001b[49m\u001b[38;5;241;43m.\u001b[39;49m\u001b[43masarray\u001b[49m\u001b[43m(\u001b[49m\u001b[43marray\u001b[49m\u001b[43m)\u001b[49m\n\u001b[1;32m    110\u001b[0m dtype \u001b[38;5;241m=\u001b[39m dtype \u001b[38;5;28;01mif\u001b[39;00m dtype \u001b[38;5;28;01melse\u001b[39;00m array\u001b[38;5;241m.\u001b[39mdtype\n\u001b[1;32m    111\u001b[0m \u001b[38;5;28;01mreturn\u001b[39;00m create(array\u001b[38;5;241m.\u001b[39mshape, dtype, mtype, device)\u001b[38;5;241m.\u001b[39mset(array)\n",
      "File \u001b[0;32m~/Libraries/miniforge3/envs/skbe/lib/python3.12/site-packages/torch/_tensor.py:1149\u001b[0m, in \u001b[0;36mTensor.__array__\u001b[0;34m(self, dtype)\u001b[0m\n\u001b[1;32m   1147\u001b[0m     \u001b[38;5;28;01mreturn\u001b[39;00m handle_torch_function(Tensor\u001b[38;5;241m.\u001b[39m__array__, (\u001b[38;5;28mself\u001b[39m,), \u001b[38;5;28mself\u001b[39m, dtype\u001b[38;5;241m=\u001b[39mdtype)\n\u001b[1;32m   1148\u001b[0m \u001b[38;5;28;01mif\u001b[39;00m dtype \u001b[38;5;129;01mis\u001b[39;00m \u001b[38;5;28;01mNone\u001b[39;00m:\n\u001b[0;32m-> 1149\u001b[0m     \u001b[38;5;28;01mreturn\u001b[39;00m \u001b[38;5;28;43mself\u001b[39;49m\u001b[38;5;241;43m.\u001b[39;49m\u001b[43mnumpy\u001b[49m\u001b[43m(\u001b[49m\u001b[43m)\u001b[49m\n\u001b[1;32m   1150\u001b[0m \u001b[38;5;28;01melse\u001b[39;00m:\n\u001b[1;32m   1151\u001b[0m     \u001b[38;5;28;01mreturn\u001b[39;00m \u001b[38;5;28mself\u001b[39m\u001b[38;5;241m.\u001b[39mnumpy()\u001b[38;5;241m.\u001b[39mastype(dtype, copy\u001b[38;5;241m=\u001b[39m\u001b[38;5;28;01mFalse\u001b[39;00m)\n",
      "\u001b[0;31mTypeError\u001b[0m: can't convert cuda:0 device type tensor to numpy. Use Tensor.cpu() to copy the tensor to host memory first."
     ]
    }
   ],
   "source": [
    "cle.push(cuda_tensor)"
   ]
  },
  {
   "cell_type": "code",
   "execution_count": 13,
   "id": "5f43e6dd-87e0-4fe8-9357-873adcc0e9f7",
   "metadata": {},
   "outputs": [
    {
     "ename": "TypeError",
     "evalue": "can't convert cuda:0 device type tensor to numpy. Use Tensor.cpu() to copy the tensor to host memory first.",
     "output_type": "error",
     "traceback": [
      "\u001b[0;31m---------------------------------------------------------------------------\u001b[0m",
      "\u001b[0;31mTypeError\u001b[0m                                 Traceback (most recent call last)",
      "Cell \u001b[0;32mIn[13], line 1\u001b[0m\n\u001b[0;32m----> 1\u001b[0m \u001b[43mcle\u001b[49m\u001b[38;5;241;43m.\u001b[39;49m\u001b[43mlabel\u001b[49m\u001b[43m(\u001b[49m\u001b[43mcuda_tensor\u001b[49m\u001b[43m)\u001b[49m\n",
      "File \u001b[0;32m/data/clesperanto/pyclesperanto/pyclesperanto/_decorators.py:85\u001b[0m, in \u001b[0;36mplugin_function.<locals>.worker_function\u001b[0;34m(*args, **kwargs)\u001b[0m\n\u001b[1;32m     76\u001b[0m \u001b[38;5;28;01mfor\u001b[39;00m key, value \u001b[38;5;129;01min\u001b[39;00m bound\u001b[38;5;241m.\u001b[39marguments\u001b[38;5;241m.\u001b[39mitems():\n\u001b[1;32m     77\u001b[0m     \u001b[38;5;28;01mif\u001b[39;00m (\n\u001b[1;32m     78\u001b[0m         is_image(value)\n\u001b[1;32m     79\u001b[0m         \u001b[38;5;129;01mand\u001b[39;00m key \u001b[38;5;129;01min\u001b[39;00m sig\u001b[38;5;241m.\u001b[39mparameters\n\u001b[0;32m   (...)\u001b[0m\n\u001b[1;32m     83\u001b[0m         )\n\u001b[1;32m     84\u001b[0m     ):\n\u001b[0;32m---> 85\u001b[0m         bound\u001b[38;5;241m.\u001b[39marguments[key] \u001b[38;5;241m=\u001b[39m \u001b[43mpush\u001b[49m\u001b[43m(\u001b[49m\u001b[43mvalue\u001b[49m\u001b[43m,\u001b[49m\u001b[43m \u001b[49m\u001b[43mdevice\u001b[49m\u001b[38;5;241;43m=\u001b[39;49m\u001b[43muse_device\u001b[49m\u001b[43m)\u001b[49m\n\u001b[1;32m     86\u001b[0m     \u001b[38;5;28;01mif\u001b[39;00m (\n\u001b[1;32m     87\u001b[0m         key \u001b[38;5;129;01min\u001b[39;00m sig\u001b[38;5;241m.\u001b[39mparameters\n\u001b[1;32m     88\u001b[0m         \u001b[38;5;129;01mand\u001b[39;00m (\n\u001b[0;32m   (...)\u001b[0m\n\u001b[1;32m     92\u001b[0m         \u001b[38;5;129;01mand\u001b[39;00m value \u001b[38;5;129;01mis\u001b[39;00m \u001b[38;5;28;01mNone\u001b[39;00m\n\u001b[1;32m     93\u001b[0m     ):\n\u001b[1;32m     94\u001b[0m         bound\u001b[38;5;241m.\u001b[39marguments[key] \u001b[38;5;241m=\u001b[39m use_device\n",
      "File \u001b[0;32m/data/clesperanto/pyclesperanto/pyclesperanto/_memory.py:108\u001b[0m, in \u001b[0;36mpush\u001b[0;34m(array, dtype, mtype, device)\u001b[0m\n\u001b[1;32m    105\u001b[0m     \u001b[38;5;28;01mreturn\u001b[39;00m array\n\u001b[1;32m    107\u001b[0m \u001b[38;5;28;01mif\u001b[39;00m \u001b[38;5;129;01mnot\u001b[39;00m \u001b[38;5;28misinstance\u001b[39m(array, np\u001b[38;5;241m.\u001b[39mndarray):\n\u001b[0;32m--> 108\u001b[0m     array \u001b[38;5;241m=\u001b[39m \u001b[43mnp\u001b[49m\u001b[38;5;241;43m.\u001b[39;49m\u001b[43masarray\u001b[49m\u001b[43m(\u001b[49m\u001b[43marray\u001b[49m\u001b[43m)\u001b[49m\n\u001b[1;32m    110\u001b[0m dtype \u001b[38;5;241m=\u001b[39m dtype \u001b[38;5;28;01mif\u001b[39;00m dtype \u001b[38;5;28;01melse\u001b[39;00m array\u001b[38;5;241m.\u001b[39mdtype\n\u001b[1;32m    111\u001b[0m \u001b[38;5;28;01mreturn\u001b[39;00m create(array\u001b[38;5;241m.\u001b[39mshape, dtype, mtype, device)\u001b[38;5;241m.\u001b[39mset(array)\n",
      "File \u001b[0;32m~/Libraries/miniforge3/envs/skbe/lib/python3.12/site-packages/torch/_tensor.py:1149\u001b[0m, in \u001b[0;36mTensor.__array__\u001b[0;34m(self, dtype)\u001b[0m\n\u001b[1;32m   1147\u001b[0m     \u001b[38;5;28;01mreturn\u001b[39;00m handle_torch_function(Tensor\u001b[38;5;241m.\u001b[39m__array__, (\u001b[38;5;28mself\u001b[39m,), \u001b[38;5;28mself\u001b[39m, dtype\u001b[38;5;241m=\u001b[39mdtype)\n\u001b[1;32m   1148\u001b[0m \u001b[38;5;28;01mif\u001b[39;00m dtype \u001b[38;5;129;01mis\u001b[39;00m \u001b[38;5;28;01mNone\u001b[39;00m:\n\u001b[0;32m-> 1149\u001b[0m     \u001b[38;5;28;01mreturn\u001b[39;00m \u001b[38;5;28;43mself\u001b[39;49m\u001b[38;5;241;43m.\u001b[39;49m\u001b[43mnumpy\u001b[49m\u001b[43m(\u001b[49m\u001b[43m)\u001b[49m\n\u001b[1;32m   1150\u001b[0m \u001b[38;5;28;01melse\u001b[39;00m:\n\u001b[1;32m   1151\u001b[0m     \u001b[38;5;28;01mreturn\u001b[39;00m \u001b[38;5;28mself\u001b[39m\u001b[38;5;241m.\u001b[39mnumpy()\u001b[38;5;241m.\u001b[39mastype(dtype, copy\u001b[38;5;241m=\u001b[39m\u001b[38;5;28;01mFalse\u001b[39;00m)\n",
      "\u001b[0;31mTypeError\u001b[0m: can't convert cuda:0 device type tensor to numpy. Use Tensor.cpu() to copy the tensor to host memory first."
     ]
    }
   ],
   "source": [
    "cle.label(cuda_tensor)"
   ]
  },
  {
   "cell_type": "code",
   "execution_count": null,
   "id": "925044c5-26d9-4379-b167-4009f7ca167d",
   "metadata": {},
   "outputs": [],
   "source": []
  }
 ],
 "metadata": {
  "kernelspec": {
   "display_name": "skbe",
   "language": "python",
   "name": "python3"
  },
  "language_info": {
   "codemirror_mode": {
    "name": "ipython",
    "version": 3
   },
   "file_extension": ".py",
   "mimetype": "text/x-python",
   "name": "python",
   "nbconvert_exporter": "python",
   "pygments_lexer": "ipython3",
   "version": "3.12.7"
  }
 },
 "nbformat": 4,
 "nbformat_minor": 5
}
