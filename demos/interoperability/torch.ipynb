{
 "cells": [
  {
   "cell_type": "markdown",
   "id": "03540da9-b942-49bc-8c86-54006d833652",
   "metadata": {},
   "source": [
    "# Pytorch interoperability\n",
    "In this notebook we test interoperabilty of Pytorch tensors with clesperanto."
   ]
  },
  {
   "cell_type": "code",
   "execution_count": 1,
   "id": "026234d9-43ea-4d00-9064-d3125feb65b4",
   "metadata": {
    "tags": []
   },
   "outputs": [],
   "source": [
    "import torch\n",
    "import numpy as np"
   ]
  },
  {
   "cell_type": "code",
   "execution_count": 2,
   "id": "d33e8b72-7b22-47e5-b3eb-1265b2d64a0e",
   "metadata": {
    "tags": []
   },
   "outputs": [],
   "source": [
    "import pyclesperanto as cle"
   ]
  },
  {
   "cell_type": "code",
   "execution_count": 3,
   "id": "23a7f1a9-0c59-4ecf-ae3e-e4dd27bdf298",
   "metadata": {
    "tags": []
   },
   "outputs": [],
   "source": [
    "tensor = torch.zeros((10, 10))\n",
    "tensor[1:3, 1:3] = 1\n",
    "tensor[5:7, 5:7] = 1"
   ]
  },
  {
   "cell_type": "markdown",
   "id": "21754dfd-4d0c-4acf-a4c0-5cc685298914",
   "metadata": {},
   "source": [
    "## Pushing tensors to the GPU"
   ]
  },
  {
   "cell_type": "code",
   "execution_count": 4,
   "id": "fe927938-a952-4203-946d-c7564bcb1c3f",
   "metadata": {
    "tags": []
   },
   "outputs": [
    {
     "data": {
      "text/html": [
       "<table>\n",
       "<tr>\n",
       "<td>\n",
       "<img src=\"data:image/png;base64,iVBORw0KGgoAAAANSUhEUgAAAoAAAAHgCAYAAAA10dzkAAAAOXRFWHRTb2Z0d2FyZQBNYXRwbG90bGliIHZlcnNpb24zLjguMiwgaHR0cHM6Ly9tYXRwbG90bGliLm9yZy8g+/7EAAAACXBIWXMAAA9hAAAPYQGoP6dpAAAncUlEQVR4nO3df3RX9X0/8FcSJcFKUpQSfpgW5tz8gQISyJDZ1dNMTqdsnLN1VGlhaetWFxXM2SY4gTqVaDs5rAWhMm09p1Jw3Ww9avGwbGideECQTs5UdLYlxy4BTm2CcSY2n3z/6Jd0OQQvkvD5hHsfj3PuH7x77+fzyqce8uT1et/7Kerp6ekJAAAyo7jQBQAAkF8CIABAxgiAAAAZIwACAGSMAAgAkDECIABAxgiAAAAZIwACAGSMAAgAkDECIABAxgiAAAAZIwACAGSMAAgAkDECIABAxgiAAAAZIwACAGSMAAgAkDECIABAxgiAAAAZIwACAGSMAAgAkDECIABAxgiAAAAZIwACAGSMAAgAkDECIABAxgiAAAAZIwACAGSMAAgAkDECIABAxgiAAAAZIwACAGSMAAgAkDECIABAxgiAAAAZIwACAGSMAAgAkDECIABAxgiAAAAZIwACAGSMAAgAkDECIABAxgiAAAAZIwACAGSMAAgAkDECIABAxgiAAAAZIwACAGSMAAgAkDECIABAxgiAAAAZIwACAGSMAAgADMgzzzwTc+bMiXHjxkVRUVF873vfS7xm27Ztcemll0ZpaWn85m/+ZnzrW9866XXyawIgADAgHR0dMXny5Fi7du1xnf/jH/84rrrqqrjiiitiz549sXjx4vjiF78YTz311EmulCOKenp6egpdBACQDkVFRfHoo4/G3Llzj3nOLbfcEk888UTs3bu3d+0zn/lM/OIXv4gtW7bkoUp0AAGAvNq+fXvU1tb2WZs9e3Zs3769QBVlz2mFLoDjk8vl4mc/+1mMGDEiioqKCl0OAB9QT09PHD58OMaNGxfFxSev//Luu+9GV1fXgF+np6fnqN83paWlUVpaOuDXbmlpicrKyj5rlZWV0d7eHv/7v/8bw4cPH/B78P4EwFPEz372s6iqqip0GQAMUHNzc5xzzjkn5bXffffdmDhxYrS0tAz4tc4888x4++23+6ytWLEivvzlLw/4tSk8AfAUMWLEiEKXAMAgOJl/n3d1dUVLS0s0NzdHeXn5Cb9Oe3t7VFVVHfU6g9H9i4gYM2ZMtLa29llrbW2N8vJy3b88EQBPEca+AOmQj7/PR4wYMaCgeeT+0PLy8gEFyWOZOXNmPPnkk33Wtm7dGjNnzhz096J/bgIBAAbk7bffjj179sSePXsi4lePedmzZ0/s378/IiKWLl0aCxYs6D3/S1/6UrzxxhvxN3/zN/HKK6/EfffdF4888kjcfPPNhSg/kwRAAGBAXnjhhZg6dWpMnTo1IiIaGhpi6tSpsXz58oiI+J//+Z/eMBgRMXHixHjiiSdi69atMXny5Lj33nvjH//xH2P27NkFqT+LPAfwFNHe3h4VFRWFLgOAAWprazspY9WIX/+ueOuttwa8B3DkyJEntVYKSwcQACBjBEAAgIxxFzAApExPT08MZIeX3WHppwMIAJAxAiAAQMYYAQNAyhgBk0QHEAAgYwRAAICMEQDzbO3atTFhwoQoKyuLmpqa2LFjR6FLAiBljoyAB3KQbgJgHm3evDkaGhpixYoVsXv37pg8eXLMnj07Dhw4UOjSAIAMEQDzaNWqVXHddddFXV1dXHjhhbF+/fo444wz4sEHHyx0aQBAhgiAedLV1RW7du2K2tra3rXi4uKora2N7du3H3V+Z2dntLe39zkA4HgYAZNEAMyTQ4cORXd3d1RWVvZZr6ysjJaWlqPOb2xsjIqKit6jqqoqX6UCACknAA5RS5cujba2tt6jubm50CUBACnhQdB5MmrUqCgpKYnW1tY+662trTFmzJijzi8tLY3S0tJ8lQdAingQNEl0APNk2LBhMW3atGhqaupdy+Vy0dTUFDNnzixgZQBA1ugA5lFDQ0MsXLgwqqurY8aMGbF69ero6OiIurq6QpcGAGSIAJhH8+bNi4MHD8by5cujpaUlpkyZElu2bDnqxhAAGAgjYJIU9fh/+ZTQ3t4eFRUVhS4DgAFqa2uL8vLyk/LaR35XtLa2Dug92tvbo7Ky8qTWSmHZAwgAkDECIABAxtgDCAApYw8gSXQAAQAyRgAEAMgYI2AASBkjYJLoAAIAZIwACACQMUbAAJAyRsAk0QEEAMgYARAAIGOMgBkQY4LjU1RUVOgSgAwxAiaJDiAAQMYIgAAAGWMEDAApYwRMEh1AAICM0QEEgJTRASSJDiAAQMYIgAAAGWMEDAApYwRMEh1AAICMEQABADLGCBgAUsYImCQ6gAAAGaMDCAApowNIEh1AAICMEQABADLGCBgAUsYImCQCIACkkBDH+zECBgDIGAEQACBjjIABIGXsASSJAAgAKSMAksQIGAAgY3QAASBldABJogMIAJAxAiAAQMYYAQNAyhgBk0QABICUEQBJYgQMAJAxAiAAQMYYAQNAyhgBk0QABICUEQBJYgQMAJAxAiAApMyRDuBAjhOxdu3amDBhQpSVlUVNTU3s2LHjfc9fvXp1/PZv/3YMHz48qqqq4uabb4533333hN6bD0YABAAGbPPmzdHQ0BArVqyI3bt3x+TJk2P27Nlx4MCBfs/fuHFjLFmyJFasWBEvv/xyPPDAA7F58+a49dZb81x5NgmAAMCArVq1Kq677rqoq6uLCy+8MNavXx9nnHFGPPjgg/2e/9xzz8WsWbPi2muvjQkTJsSVV14Z11xzTWLXkMEhAAJAyuR7BNzV1RW7du2K2tra3rXi4uKora2N7du393vNZZddFrt27eoNfG+88UY8+eST8Qd/8Acn/oNz3NwFDAApM1h3Abe3t/dZLy0tjdLS0qPOP3ToUHR3d0dlZWWf9crKynjllVf6fY9rr702Dh06FL/7u78bPT098ctf/jK+9KUvGQHniQ4gANCvqqqqqKio6D0aGxsH7bW3bdsWK1eujPvuuy92794d//Iv/xJPPPFE3HHHHYP2HhybDiAApMxgdQCbm5ujvLy8d72/7l9ExKhRo6KkpCRaW1v7rLe2tsaYMWP6vWbZsmXxuc99Lr74xS9GRMTFF18cHR0d8ed//ufxt3/7t1FcrEd1Mvl0AYB+lZeX9zmOFQCHDRsW06ZNi6ampt61XC4XTU1NMXPmzH6veeedd44KeSUlJRHhQdT5oAMIAAxYQ0NDLFy4MKqrq2PGjBmxevXq6OjoiLq6uoiIWLBgQYwfP753jDxnzpxYtWpVTJ06NWpqauL111+PZcuWxZw5c3qDICePAAgAKVOIr4KbN29eHDx4MJYvXx4tLS0xZcqU2LJlS++NIfv37+/T8bvtttuiqKgobrvttnjzzTfjIx/5SMyZMyfuuuuuE66b41fUo896Smhvb4+KiopCl3EU//kcn6KiokKXAAwRbW1tffbVDaYjvyv+8z//M0aMGHHCr3P48OG45JJLTmqtFJY9gAAAGSMAAgBkjD2AAJAyhdgDyKlFAASAlBEASWIEDACQMTqAAJAyOoAk0QEEAMgYARAAIGMEwDxpbGyM6dOnx4gRI2L06NExd+7cePXVVwtdFgApdGQEPJCDdBMA8+Tpp5+O+vr6eP7552Pr1q3x3nvvxZVXXhkdHR2FLg2AFBL+eD9uAsmTLVu29Pnzt771rRg9enTs2rUrPv7xjxeoKgAgiwTAAmlra4uIiLPOOqvf/72zszM6Ozt7/9ze3p6XugCA9DMCLoBcLheLFy+OWbNmxaRJk/o9p7GxMSoqKnqPqqqqPFcJwKnKHkCSCIAFUF9fH3v37o1NmzYd85ylS5dGW1tb79Hc3JzHCgE4lQmAJDECzrMbbrghHn/88XjmmWfinHPOOeZ5paWlUVpamsfKAICsEADzpKenJ2688cZ49NFHY9u2bTFx4sRClwRASvkmEJIIgHlSX18fGzdujO9///sxYsSIaGlpiYiIioqKGD58eIGrAyBNBECS2AOYJ+vWrYu2trb4xCc+EWPHju09Nm/eXOjSAICM0QHME/+aAiBfdABJIgACQMoIgCQxAgYAyBgBEAAgY4yAASBljIBJogMIAJAxOoAAkDI6gCQRAAEgZQRAkgiAAJAyAiBJ7AEEAMgYHUAASBkdQJIIgACQMgIgSQRABqSoqKjQJQAAH5AACAApowNIEgEQAFJGACSJu4ABADJGAAQAyBgjYABIGSNgkugAAgBkjA4gAKSMDiBJBEAASBkBkCQCIACkkBDH+7EHEAAgY3QAASBljIBJIgACQMoIgCQxAgYAyBgdQABIGR1AkugAAgBkjAAIAJAxRsAAkDJGwCQRAAEgZQRAkhgBAwBkjA4gAKSMDiBJBEAASBkBkCQCIACkjABIEnsAAQAyRgcQAFJGB5AkAiAApIwASBIjYACAjBEAAQAyxggYAFLGCJgkOoAAABmjAwgAKZPL5SKXyw3oetJNAASAlDECJokRMABAxgiAAJAyRzqAAzlOxNq1a2PChAlRVlYWNTU1sWPHjvc9/xe/+EXU19fH2LFjo7S0NH7rt34rnnzyyRN6bz4YI2AASJlCjIA3b94cDQ0NsX79+qipqYnVq1fH7Nmz49VXX43Ro0cfdX5XV1f8/u//fowePTq++93vxvjx4+OnP/1pfPjDHz7hujl+AiAApExPT8+AbuQ4kQC4atWquO6666Kuri4iItavXx9PPPFEPPjgg7FkyZKjzn/wwQfj5z//eTz33HNx+umnR0TEhAkTTrhmPhgjYACgX+3t7X2Ozs7Ofs/r6uqKXbt2RW1tbe9acXFx1NbWxvbt2/u95rHHHouZM2dGfX19VFZWxqRJk2LlypXR3d19Un4W+hIAASBlBmsPYFVVVVRUVPQejY2N/b7foUOHoru7OyorK/usV1ZWRktLS7/XvPHGG/Hd7343uru748knn4xly5bFvffeG3feeefgfhj0ywgYAFJmsPYANjc3R3l5ee96aWnpgGs7IpfLxejRo+P++++PkpKSmDZtWrz55pvx1a9+NVasWDFo70P/BEAAoF/l5eV9AuCxjBo1KkpKSqK1tbXPemtra4wZM6bfa8aOHRunn356lJSU9K5dcMEF0dLSEl1dXTFs2LCBFc/7MgIGgJTJ92Nghg0bFtOmTYumpqbetVwuF01NTTFz5sx+r5k1a1a8/vrrfW5W2bdvX4wdO1b4ywMBEABSphDPAWxoaIgNGzbEQw89FC+//HJcf/310dHR0XtX8IIFC2Lp0qW9519//fXx85//PBYtWhT79u2LJ554IlauXBn19fWD9jlwbEbAAMCAzZs3Lw4ePBjLly+PlpaWmDJlSmzZsqX3xpD9+/dHcfGv+05VVVXx1FNPxc033xyXXHJJjB8/PhYtWhS33HJLoX6ETCnq8YV/p4T29vaoqKgodBkADFBbW9tx7as7EUd+V2zcuDHOOOOME36dd955J6699tqTWiuFpQMIAClTiG8C4dRiDyAAQMboAAJAyugAkkQABICUEQBJIgACQMrkcrk+z9c7ketJN3sAAQAyRgcQAFLGCJgkOoAFcPfdd0dRUVEsXry40KUAkEKF+CYQTi0CYJ7t3LkzvvGNb8Qll1xS6FIAgIwSAPPo7bffjvnz58eGDRti5MiRhS4HgJTSASSJAJhH9fX1cdVVV0VtbW2hSwEgxQRAkrgJJE82bdoUu3fvjp07dx7X+Z2dndHZ2dn75/b29pNVGgCQMTqAedDc3ByLFi2Khx9+OMrKyo7rmsbGxqioqOg9qqqqTnKVAKTFkecADuQg3QTAPNi1a1ccOHAgLr300jjttNPitNNOi6effjq+9rWvxWmnnRbd3d1HXbN06dJoa2vrPZqbmwtQOQCnIiNgkhgB58EnP/nJeOmll/qs1dXVxfnnnx+33HJLlJSUHHVNaWlplJaW5qtEACBDBMA8GDFiREyaNKnP2oc+9KE4++yzj1oHgMGgi8f7EQABIGV8EwhJBMAC2bZtW6FLACClBnojh5tA0s9NIAAAGaMDCAApYwRMEgEQAFJGACSJETAAQMboAAJAyugAkkQABICUEQBJYgQMAJAxOoAAkDKeA0gSARAAUsYImCRGwAAAGaMDCAApowNIEgEQAFJGACSJAAgMGX7pHJ+ioqJCl8AQ5yYQktgDCACQMTqAAJAyRsAkEQABIGUEQJIYAQMAZIwOIACkjA4gSQRAAEghIY73YwQMAJAxOoAAkDJGwCQRAAEgZQRAkhgBAwBkjA4gAKSMDiBJBEAASBkBkCQCIACkjABIEnsAAQAyRgcQAFIml8tFLpcb0PWkmwAIACljBEwSI2AAgIzRAQSAlNEBJIkACAApIwCSxAgYACBjdAABIGV0AEkiAAJAygiAJDECBgDIGB1AAEgZHUCSCIAAkDICIEkEQABIGQGQJPYAAgBkjA4gAKSMDiBJBEAASJmenp7I5XIDup50MwIGAMgYHUAASBkjYJIIgACQMgIgSYyAAYBBsXbt2pgwYUKUlZVFTU1N7Nix47iu27RpUxQVFcXcuXNPboH0EgABIGWOdAAHcnxQmzdvjoaGhlixYkXs3r07Jk+eHLNnz44DBw6873U/+clP4q/+6q/i8ssvP9EflxMgAAJAyhQiAK5atSquu+66qKuriwsvvDDWr18fZ5xxRjz44IPHvKa7uzvmz58ft99+e/zGb/zGQH5kPiABEABSZrACYHt7e5+js7Oz3/fr6uqKXbt2RW1tbe9acXFx1NbWxvbt249Z59/93d/F6NGj4wtf+MLgfgAkEgABgH5VVVVFRUVF79HY2NjveYcOHYru7u6orKzss15ZWRktLS39XvPss8/GAw88EBs2bBj0uknmLmAASJnBugu4ubk5ysvLe9dLS0sHXFtExOHDh+Nzn/tcbNiwIUaNGjUor8kHIwACQMoMVgAsLy/vEwCPZdSoUVFSUhKtra191ltbW2PMmDFHnf/f//3f8ZOf/CTmzJnTu3bkm0tOO+20ePXVV+Pcc8894fpJZgQMAAzIsGHDYtq0adHU1NS7lsvloqmpKWbOnHnU+eeff3689NJLsWfPnt7jD//wD+OKK66IPXv2RFVVVT7LzyQdQABImUI8CLqhoSEWLlwY1dXVMWPGjFi9enV0dHREXV1dREQsWLAgxo8fH42NjVFWVhaTJk3qc/2HP/zhiIij1jk5BEAASJlCBMB58+bFwYMHY/ny5dHS0hJTpkyJLVu29N4Ysn///iguNngcKop6fN/LKaG9vT0qKioKXQacVP46Oj5FRUWFLoEBaGtrO659dSfiyO+KRYsWDeiGjc7OzviHf/iHk1orhaUDCAAp47uASSIAAkDK5HK53rtqT/R60s0wHgAgY3QAASBljIBJIgACQMoIgCQRAAEgZQRAktgDCACQMQJgHr355pvx2c9+Ns4+++wYPnx4XHzxxfHCCy8UuiwAUuZIB3AgB+lmBJwnb731VsyaNSuuuOKK+MEPfhAf+chH4rXXXouRI0cWujQAUsYImCQCYJ7cc889UVVVFd/85jd71yZOnFjAigCArDICzpPHHnssqqur49Of/nSMHj06pk6dGhs2bCh0WQCklPEv70cAzJM33ngj1q1bF+edd1489dRTcf3118dNN90UDz30UL/nd3Z2Rnt7e58DAI6HPYAkMQLOk1wuF9XV1bFy5cqIiJg6dWrs3bs31q9fHwsXLjzq/MbGxrj99tvzXSYAkAE6gHkyduzYuPDCC/usXXDBBbF///5+z1+6dGm0tbX1Hs3NzfkoE4AU0AEkiQ5gnsyaNSteffXVPmv79u2Lj33sY/2eX1paGqWlpfkoDYCUcRcwSXQA8+Tmm2+O559/PlauXBmvv/56bNy4Me6///6or68vdGkAQMYIgHkyffr0ePTRR+M73/lOTJo0Ke64445YvXp1zJ8/v9ClAZAyRsAkMQLOo6uvvjquvvrqQpcBQMoZAZNEAASAlBEASWIEDACQMTqAAJAyOoAkEQABIGUEQJIYAQMAZIwOIACkjA4gSQRAAEgZAZAkRsAAABmjAwgAKaMDSBIBEABSRgAkiREwAEDG6AACQMroAJJEAASGjKKiokKXAKkgAJJEAASAlBEASWIPIABAxugAAkDK6ACSRAAEgJQRAEliBAwAkDE6gACQQrp4vB8BEABSxgiYJEbAAAAZowMIACmTy+Uil8sN6HrSTQAEgJQxAiaJETAAQMboAAJAyugAkkQABICUEQBJIgACQMoIgCSxBxAAIGN0AAEgZXQASSIAAkDKCIAkMQIGAMgYHUAASBkdQJIIgACQMgIgSYyAAQAyRgcQAFIml8tFLpcb0PWkmwAIACljBEwSI2AAgIzRAQSAlDECJokACAApYwRMEgEQAFKmp6dnQF08ATD97AEEAMgYHUAASBkjYJIIgACQMgIgSYyAAQAyRgcQAFLGY2BIogMIAClzZAQ8kONErF27NiZMmBBlZWVRU1MTO3bsOOa5GzZsiMsvvzxGjhwZI0eOjNra2vc9n8ElAAIAA7Z58+ZoaGiIFStWxO7du2Py5Mkxe/bsOHDgQL/nb9u2La655pr493//99i+fXtUVVXFlVdeGW+++WaeK8+moh47PU8J7e3tUVFRUegyABigtra2KC8vPymvfeR3xeWXXx6nnXbiu7x++ctfxg9/+MMPVGtNTU1Mnz491qxZExG/GiNXVVXFjTfeGEuWLEm8vru7O0aOHBlr1qyJBQsWnHDtHB8dQABImcEaAbe3t/c5Ojs7+32/rq6u2LVrV9TW1vauFRcXR21tbWzfvv24an7nnXfivffei7POOmvgHwCJBEAAoF9VVVVRUVHRezQ2NvZ73qFDh6K7uzsqKyv7rFdWVkZLS8txvdctt9wS48aN6xMiOXncBQwAKTNYzwFsbm7uMwIuLS0dcG39ufvuu2PTpk2xbdu2KCsrOynvQV8CIACkzGA9Bqa8vPy49gCOGjUqSkpKorW1tc96a2trjBkz5n2v/fu///u4++6741//9V/jkksuOeGa+WCMgAEgZfL9GJhhw4bFtGnToqmpqXctl8tFU1NTzJw585jXfeUrX4k77rgjtmzZEtXV1Sf88/LB6QACAAPW0NAQCxcujOrq6pgxY0asXr06Ojo6oq6uLiIiFixYEOPHj+/dR3jPPffE8uXLY+PGjTFhwoTevYJnnnlmnHnmmQX7ObJCAASAlCnEN4HMmzcvDh48GMuXL4+WlpaYMmVKbNmypffGkP3790dx8a8Hj+vWrYuurq74kz/5kz6vs2LFivjyl798wrVzfDwH8BThOYAA6ZCP5wBOnz59wM8B3Llz50mtlcKyBxAAIGOMgAEgZQbrMTCklwAIACnT09MzoD2AAmD6GQEDAGSMDiAApIwRMEkEQABImVwuF0VFRQO6nnQzAgYAyBgBME+6u7tj2bJlMXHixBg+fHice+65cccdd2izAzDo8v1VcJx6jIDz5J577ol169bFQw89FBdddFG88MILUVdXFxUVFXHTTTcVujwAUsQImCQCYJ4899xz8Ud/9Edx1VVXRUTEhAkT4jvf+U7s2LGjwJUBkDZuAiGJEXCeXHbZZdHU1BT79u2LiIgf/ehH8eyzz8anPvWpAlcGAGSNDmCeLFmyJNrb2+P888+PkpKS6O7ujrvuuivmz5/f7/mdnZ3R2dnZ++f29vZ8lQrAKU4HkCQCYJ488sgj8fDDD8fGjRvjoosuij179sTixYtj3LhxsXDhwqPOb2xsjNtvv70AlQJwqrMHkCRFPWJ+XlRVVcWSJUuivr6+d+3OO++Mb3/72/HKK68cdX5/HcCqqqq81ArAydPW1hbl5eUn5bXb29ujoqIiLrjggigpKTnh1+nu7o6XX375pNZKYekA5sk777wTxcV9t1yWlJQc819ZpaWlUVpamo/SAEgZI2CSCIB5MmfOnLjrrrviox/9aFx00UXx4osvxqpVq+Lzn/98oUsDIGWMgEkiAObJ17/+9Vi2bFn85V/+ZRw4cCDGjRsXf/EXfxHLly8vdGkAQMbYA3iKOLKvA4BTWz72AJ533nkD3gP42muv2QOYYjqAAJAy9gCSxIOgAQAyRgcQAFLGTSAkEQABIIWMcXk/AiAApIw9gCSxBxAAIGN0AAEgZXQASSIAAkDKCIAkMQIGAMgYHUAASJmBPsbFY2DSTwAEgJQxAiaJETAAQMboAAJAyugAkkQABICUEQBJYgQMAJAxOoAAkDI6gCQRAAEgZQRAkgiAAJAyngNIEnsAAQAyRgcQAFLGCJgkAiAApIwASBIjYACAjNEBBICU0QEkiQAIACkjAJLECBgAIGN0AAEgZXQASSIAAkDK9PT0DOhhzgJg+hkBAwBkjA4gAKTMQDt4OoDpJwACQMoIgCQRAAEgZQRAktgDCACQMTqAAJAyOoAkEQABIGUEQJIYAQMAZIwOIACkTC6Xi6KiohO+Xgcw/QRAAEgZI2CSGAEDAGSMDiAApIwOIEkEQABIGQGQJEbAAAAZowMIACmjA0gSARAAUkYAJIkACAAp4zmAJLEHEAAgYwRAAEiZnp6eAR8nYu3atTFhwoQoKyuLmpqa2LFjx/ue/0//9E9x/vnnR1lZWVx88cXx5JNPntD78sEJgACQMoUIgJs3b46GhoZYsWJF7N69OyZPnhyzZ8+OAwcO9Hv+c889F9dcc0184QtfiBdffDHmzp0bc+fOjb179w70x+c4FPUY9J8S2tvbo6KiotBlADBAbW1tUV5eflJe+//+rhiMPYAfpNaampqYPn16rFmzJiJ+tQ+xqqoqbrzxxliyZMlR58+bNy86Ojri8ccf7137nd/5nZgyZUqsX7/+hGvn+OgAniLkdIB0yNff54PR/Wtvb+9zdHZ29vteXV1dsWvXrqitre1dKy4ujtra2ti+fXu/12zfvr3P+RERs2fPPub5DC4B8BRx+PDhQpcAwCA4mX+fDxs2LMaMGTMor3XmmWdGVVVVVFRU9B6NjY39nnvo0KHo7u6OysrKPuuVlZXR0tLS7zUtLS0f6HwGl8fAnCLGjRsXzc3NMWLEiAG19SN+9S+6qqqqaG5uPmljiDTwOR0fn1Myn9HxSfvn1NPTE4cPH45x48adtPcoKyuLH//4x9HV1TXg1+rp6Tnq901paemAX5ehQQA8RRQXF8c555wzqK9ZXl6eyr9kB5vP6fj4nJL5jI5Pmj+nfOzlLisri7KyspP+Pv/XqFGjoqSkJFpbW/ust7a2HrMjOWbMmA90PoPLCBgAGJBhw4bFtGnToqmpqXctl8tFU1NTzJw5s99rZs6c2ef8iIitW7ce83wGlw4gADBgDQ0NsXDhwqiuro4ZM2bE6tWro6OjI+rq6iIiYsGCBTF+/PjefYSLFi2K3/u934t77703rrrqqti0aVO88MILcf/99xfyx8gMATCDSktLY8WKFfZyJPA5HR+fUzKf0fHxOZ3a5s2bFwcPHozly5dHS0tLTJkyJbZs2dJ7o8f+/fujuPjXg8fLLrssNm7cGLfddlvceuutcd5558X3vve9mDRpUqF+hEzxHEAAgIyxBxAAIGMEQACAjBEAAQAyRgAEAMgYATBj1q5dGxMmTIiysrKoqamJHTt2FLqkIaWxsTGmT58eI0aMiNGjR8fcuXPj1VdfLXRZQ97dd98dRUVFsXjx4kKXMuS8+eab8dnPfjbOPvvsGD58eFx88cXxwgsvFLqsIaW7uzuWLVsWEydOjOHDh8e5554bd9xxh+9Ah5NIAMyQzZs3R0NDQ6xYsSJ2794dkydPjtmzZ8eBAwcKXdqQ8fTTT0d9fX08//zzsXXr1njvvffiyiuvjI6OjkKXNmTt3LkzvvGNb8Qll1xS6FKGnLfeeitmzZoVp59+evzgBz+I//qv/4p77703Ro4cWejShpR77rkn1q1bF2vWrImXX3457rnnnvjKV74SX//61wtdGqSWx8BkSE1NTUyfPj3WrFkTEb96SntVVVXceOONsWTJkgJXNzQdPHgwRo8eHU8//XR8/OMfL3Q5Q87bb78dl156adx3331x5513xpQpU2L16tWFLmvIWLJkSfzHf/xH/PCHPyx0KUPa1VdfHZWVlfHAAw/0rv3xH/9xDB8+PL797W8XsDJILx3AjOjq6opdu3ZFbW1t71pxcXHU1tbG9u3bC1jZ0NbW1hYREWeddVaBKxma6uvr46qrrurz3xW/9thjj0V1dXV8+tOfjtGjR8fUqVNjw4YNhS5ryLnsssuiqakp9u3bFxERP/rRj+LZZ5+NT33qUwWuDNLLN4FkxKFDh6K7u7v3iexHVFZWxiuvvFKgqoa2XC4XixcvjlmzZnkyfT82bdoUu3fvjp07dxa6lCHrjTfeiHXr1kVDQ0PceuutsXPnzrjpppti2LBhsXDhwkKXN2QsWbIk2tvb4/zzz4+SkpLo7u6Ou+66K+bPn1/o0iC1BEA4hvr6+ti7d288++yzhS5lyGlubo5FixbF1q1bo6ysrNDlDFm5XC6qq6tj5cqVERExderU2Lt3b6xfv14A/D8eeeSRePjhh2Pjxo1x0UUXxZ49e2Lx4sUxbtw4nxOcJAJgRowaNSpKSkqitbW1z3pra2uMGTOmQFUNXTfccEM8/vjj8cwzz8Q555xT6HKGnF27dsWBAwfi0ksv7V3r7u6OZ555JtasWROdnZ1RUlJSwAqHhrFjx8aFF17YZ+2CCy6If/7nfy5QRUPTX//1X8eSJUviM5/5TEREXHzxxfHTn/40GhsbBUA4SewBzIhhw4bFtGnToqmpqXctl8tFU1NTzJw5s4CVDS09PT1xww03xKOPPhr/9m//FhMnTix0SUPSJz/5yXjppZdiz549vUd1dXXMnz8/9uzZI/z9f7NmzTrqMUL79u2Lj33sYwWqaGh65513ori476+jkpKSyOVyBaoI0k8HMEMaGhpi4cKFUV1dHTNmzIjVq1dHR0dH1NXVFbq0IaO+vj42btwY3//+92PEiBHR0tISEREVFRUxfPjwAlc3dIwYMeKofZEf+tCH4uyzz7Zf8v+4+eab47LLLouVK1fGn/7pn8aOHTvi/vvvj/vvv7/QpQ0pc+bMibvuuis++tGPxkUXXRQvvvhirFq1Kj7/+c8XujRILY+ByZg1a9bEV7/61WhpaYkpU6bE1772taipqSl0WUNGUVFRv+vf/OY348/+7M/yW8wp5hOf+ITHwPTj8ccfj6VLl8Zrr70WEydOjIaGhrjuuusKXdaQcvjw4Vi2bFk8+uijceDAgRg3blxcc801sXz58hg2bFihy4NUEgABADLGHkAAgIwRAAEAMkYABADIGAEQACBjBEAAgIwRAAEAMkYABADIGAEQACBjBEAAgIwRAAEAMkYABADIGAEQACBjBEAAgIwRAAEAMkYABADIGAEQACBjBEAAgIwRAAEAMkYABADIGAEQACBjBEAAgIwRAAEAMkYABADIGAEQACBjBEAAgIwRAAEAMkYABADIGAEQACBjBEAAgIwRAAEAMkYABADImP8HZM1z7YNpurcAAAAASUVORK5CYII=\"></img>\n",
       "</td>\n",
       "<td style=\"text-align: center; vertical-align: top;\">\n",
       "<b><a href=\"https://github.com/clEsperanto/pyclesperanto_prototype\" target=\"_blank\">cle._</a> image</b><br/>\n",
       "<table>\n",
       "<tr><td>shape</td><td>(10,&nbsp;10)</td></tr>\n",
       "<tr><td>dtype</td><td>float32</td></tr>\n",
       "<tr><td>size</td><td>400.0 B</td></tr>\n",
       "<tr><td>min</td><td>0.0</td></tr><tr><td>max</td><td>1.0</td></tr>\n",
       "</table>\n",
       "<img src=\"data:image/png;base64,iVBORw0KGgoAAAANSUhEUgAAALQAAAB4CAYAAABb59j9AAAAOXRFWHRTb2Z0d2FyZQBNYXRwbG90bGliIHZlcnNpb24zLjguMiwgaHR0cHM6Ly9tYXRwbG90bGliLm9yZy8g+/7EAAAACXBIWXMAAA9hAAAPYQGoP6dpAAACQklEQVR4nO3YwYnbQABA0bHJVS7AWJB+0lBK2Ia2n4AXFWBDIBcrh7BLQpYQ8ArD572TLMHMgD7DyLt1XdcBEftHLwA+kqBJETQpgiZF0KQImhRBkyJoUgRNiqBJETQpgibl01YD3263sSzLmKZp7Ha7raYhYF3Xcb1ex/F4HPv9fXvsZkEvyzLmed5qeILO5/M4nU53jbFZ0NM0jTF+LfJwOGw1DQGXy2XM8/zWzD02C/r1mHE4HATNf/mIo6mPQlIETcpmR45/+fz1+e3629OXRyyBKDs0KYImRdCkCJoUQZMiaFIETYqgSRE0KYImRdCkCJoUQZMiaFIETYqgSRE0KYImRdCkCJoUQZMiaFIETYqgSRE0KYImRdCkCJoUQZMiaFIETYqgSRE0KYImRdCkCJoUQZMiaFIETYqgSRE0KYImRdCkCJoUQZMiaFIETYqgSRE0KYImRdCkCJoUQZMiaFIETYqgSRE0KYImRdCkCJoUQZMiaFIETYqgSRE0KYImRdCkCJoUQZMiaFIETYqgSRE0KYImRdCkCJoUQZMiaFIETcqnRy+Ats9fn//4/e3py6bz2aFJETQpgiZF0KQImhRBk7LZ33bruo4xxrhcLn89u/34/nb93nM6fn/XY7z/vl/vvTZzj936EaO84+XlZczzvMXQRJ3P53E6ne4aY7Ogb7fbWJZlTNM0drvdFlMQsa7ruF6v43g8jv3+vlPwZkHDI/goJEXQpAiaFEGTImhSBE2KoEkRNCmCJkXQpPwEeV9YxVr4r0gAAAAASUVORK5CYII=\"></img>\n",
       "</td>\n",
       "</tr>\n",
       "</table>"
      ],
      "text/plain": [
       "array([[0., 0., 0., 0., 0., 0., 0., 0., 0., 0.],\n",
       "       [0., 1., 1., 0., 0., 0., 0., 0., 0., 0.],\n",
       "       [0., 1., 1., 0., 0., 0., 0., 0., 0., 0.],\n",
       "       [0., 0., 0., 0., 0., 0., 0., 0., 0., 0.],\n",
       "       [0., 0., 0., 0., 0., 0., 0., 0., 0., 0.],\n",
       "       [0., 0., 0., 0., 0., 1., 1., 0., 0., 0.],\n",
       "       [0., 0., 0., 0., 0., 1., 1., 0., 0., 0.],\n",
       "       [0., 0., 0., 0., 0., 0., 0., 0., 0., 0.],\n",
       "       [0., 0., 0., 0., 0., 0., 0., 0., 0., 0.],\n",
       "       [0., 0., 0., 0., 0., 0., 0., 0., 0., 0.]], dtype=float32, mtype=buffer)"
      ]
     },
     "execution_count": 4,
     "metadata": {},
     "output_type": "execute_result"
    }
   ],
   "source": [
    "cle_tensor = cle.push(tensor)\n",
    "cle_tensor"
   ]
  },
  {
   "cell_type": "markdown",
   "id": "9f982a9c-76f2-4bd5-a8d2-65c63ace5ba4",
   "metadata": {},
   "source": [
    "... turns the tensor into an OpenCL-Array"
   ]
  },
  {
   "cell_type": "code",
   "execution_count": 5,
   "id": "63499a9d-9a75-4776-a9bb-ab220b7b2ad4",
   "metadata": {
    "tags": []
   },
   "outputs": [
    {
     "data": {
      "text/plain": [
       "pyclesperanto._pyclesperanto._Array"
      ]
     },
     "execution_count": 5,
     "metadata": {},
     "output_type": "execute_result"
    }
   ],
   "source": [
    "type(cle_tensor)"
   ]
  },
  {
   "cell_type": "markdown",
   "id": "2823d95a-00cf-4b7a-abbe-836db1e191b8",
   "metadata": {},
   "source": [
    "## Passing tensors as arguments\n",
    "You can also just pass a tensor as argument to clesperanto functions. The tensor will be pushed to the GPU implicitly anyway."
   ]
  },
  {
   "cell_type": "code",
   "execution_count": 6,
   "id": "a6c62f23-ee53-488b-b986-fced10de5dfe",
   "metadata": {
    "tags": []
   },
   "outputs": [
    {
     "name": "stderr",
     "output_type": "stream",
     "text": [
      "4 warnings generated.\n",
      "4 warnings generated.\n",
      "4 warnings generated.\n",
      "4 warnings generated.\n",
      "4 warnings generated.\n",
      "4 warnings generated.\n",
      "4 warnings generated.\n",
      "4 warnings generated.\n",
      "4 warnings generated.\n",
      "4 warnings generated.\n"
     ]
    },
    {
     "data": {
      "text/html": [
       "<table>\n",
       "<tr>\n",
       "<td>\n",
       "<img src=\"data:image/png;base64,iVBORw0KGgoAAAANSUhEUgAAAoAAAAHgCAYAAAA10dzkAAAAOXRFWHRTb2Z0d2FyZQBNYXRwbG90bGliIHZlcnNpb24zLjguMiwgaHR0cHM6Ly9tYXRwbG90bGliLm9yZy8g+/7EAAAACXBIWXMAAA9hAAAPYQGoP6dpAAAWGklEQVR4nO3df6jXhb3H8fc5x/n1FOcczHZMr6c6xMD8UVrHJIVoJEVorDHaFgbOoD/GMbMDYzpQF6Yn90Nks1nK1oQ0DYYrhBpyxnQuxV8ZyZY2gnZI1II4XzM4xTnf+8e999wreplznvP56vvxgO8f5+NHefFBjk8/n+85p6ZSqVQCAIA0aoseAADA0BKAAADJCEAAgGQEIABAMgIQACAZAQgAkIwABABIRgACACQjAAEAkhGAAADJCEAAgGQEIABAMgIQACAZAQgAkIwABABIRgACACQjAAEAkhGAAADJCEAAgGQEIABAMgIQACAZAQgAkIwABABIRgACACQjAAEAkhGAAADJCEAAgGQEIABAMgIQACAZAQgAkIwABABIRgACACQjAAEAkhGAAADJCEAAgGQEIABAMgIQACAZAQgAkIwABABIRgACACQjAAEAkhGAAADJCEAAgGQEIABAMgIQACAZAQgAkIwABABIRgACACQjAAEAkhGAAADJCEAAgGQEIABAMgIQACAZAQgAkIwABABIRgACACQzrOgBXJn6+/vjxIkT0dDQEDU1NUXPAeBfVKlU4syZMzF27NiorXU/KBsByCU5ceJEtLS0FD0DgH9Td3d3jBs3rugZDDEByCVpaGiIiIj/+P5vo7Z0TcFr/lf32m8XPQHgivI/n8/JRQBySf7nsW9t6ZqqCkAA/jXexpOTh/4AAMkIQACAZAQgAEAyAhAAIBkBCACQjAAEAEhGAAIAJCMAAQCSEYAAAMkIQACAZAQgAEAyAjC5559/Pm6++eYYMWJETJ8+Pfbv31/0JABgkAnAxLZt2xYdHR2xfPnyOHz4cNx+++3xwAMPxOnTp4ueBgAMIgGY2Jo1a+KJJ56I+fPnx4QJE+KFF16Ia665Jn7zm98UPQ0AGEQCMKkvvvgiDh06FLNmzRo4VltbG7NmzYq9e/eed35vb2+Uy+VzXgDAlUkAJvXJJ59EX19fjB49+pzjo0ePjpMnT553fmdnZzQ1NQ28WlpahmoqAHCZCUAuypIlS6Knp2fg1d3dXfQkAOASDSt6AMW4/vrro66uLk6dOnXO8VOnTsUNN9xw3vmlUilKpdJQzQMABpE7gEkNHz487rzzzujq6ho41t/fH11dXXH33XcXuAwAGGzuACbW0dER8+bNi7a2trjrrrti7dq1cfbs2Zg/f37R0wCAQSQAE/vOd74TH3/8cSxbtixOnjwZU6ZMiTfffPO8LwwBAK4uAjC5BQsWxIIFC4qeAQAMIe8BBABIRgACACQjAAEAkhGAAADJCEAAgGQEIABAMgIQACAZAQgAkIwABABIRgACACQjAAEAkqmpVCqVokdw5SmXy9HU1FT0jPPc9MMdRU+4Iny4ek7RE4Aq0dPTE42NjUXPYIi5AwgAkIwABABIRgACACQjAAEAkhGAAADJCEAAgGQEIABAMgIQACAZAQgAkIwABABIRgACACQjAAEAkhGAAADJCEAAgGQEIABAMgIQACAZAQgAkIwABABIRgACACQjAAEAkhGAAADJCEAAgGQEIABAMgIQACAZAQgAkIwABABIRgACACQjAAEAkhGAAADJCEAAgGQEIABAMgIQACAZAQgAkIwABABIRgACACQjAAEAkhGAAADJCEAAgGQEIABAMgIQACAZAQgAkIwABABIRgACACQjAAEAkhGAAADJCEAAgGQEIABAMgIQACAZAQgAkIwABABIRgACACQjAJPq7OyMadOmRUNDQzQ3N8fDDz8cx44dK3oWADAEBGBSu3btivb29ti3b1/s3Lkzvvzyy7j//vvj7NmzRU8DAAbZsKIHUIw333zznI9/+9vfRnNzcxw6dCjuueeeglYBAENBABIRET09PRERcd11113w13t7e6O3t3fg43K5PCS7AIDLzyNgor+/PxYtWhQzZ86MSZMmXfCczs7OaGpqGni1tLQM8UoA4HIRgER7e3scPXo0tm7d+v+es2TJkujp6Rl4dXd3D+FCAOBy8gg4uQULFsSOHTti9+7dMW7cuP/3vFKpFKVSaQiXAQCDRQAmValU4sknn4zt27fHn/70p2htbS16EgAwRARgUu3t7bFly5Z47bXXoqGhIU6ePBkREU1NTVFfX1/wOgBgMHkPYFLr16+Pnp6euPfee2PMmDEDr23bthU9DQAYZO4AJlWpVIqeAAAUxB1AAIBkBCAAQDICEAAgGQEIAJCMAAQASEYAAgAkIwABAJIRgAAAyQhAAIBkBCAAQDICEAAgGT8LGAbZh6vnFD0BAM7hDiAAQDICEAAgGQEIAJCMAAQASEYAAgAkIwABAJIRgAAAyQhAAIBkBCAAQDICEAAgGQEIAJCMAAQASEYAAgAkIwABAJIRgAAAyQhAAIBkBCAAQDICEAAgGQEIAJCMAAQASEYAAgAkIwABAJIRgAAAyQhAAIBkBCAAQDICEAAgGQEIAJCMAAQASEYAAgAkIwABAJIRgAAAyQhAAIBkBCAAQDICEAAgGQEIAJCMAAQASKamUqlUih7BladcLkdTU1PRMwD4N/X09ERjY2PRMxhi7gACACQjAAEAkhGAAADJCEAAgGQEIABAMgIQACAZAQgAkIwABABIRgACACQjAAEAkhGAAADJCEAAgGQEIABAMgKQeO6556KmpiYWLVpU9BQAYAgIwOQOHDgQL774Ytx2221FTwEAhogATOyzzz6LuXPnxsaNG2PkyJFFzwEAhogATKy9vT1mz54ds2bNKnoKADCEhhU9gGJs3bo1Dh8+HAcOHLio83t7e6O3t3fg43K5PFjTAIBB5g5gQt3d3fHUU0/F5s2bY8SIERf1ezo7O6OpqWng1dLSMsgrAYDBUlOpVCpFj2Bo/f73v49vfvObUVdXN3Csr68vampqora2Nnp7e8/5tYgL3wEUgQBXvp6enmhsbCx6BkPMI+CE7rvvvnj33XfPOTZ//vwYP358/PCHPzwv/iIiSqVSlEqloZoIAAwiAZhQQ0NDTJo06Zxj1157bYwaNeq84wDA1cd7AAEAkvEeQC5JuVyOpqamomcA8G/yHsCc3AEEAEhGAAIAJCMAAQCSEYAAAMkIQACAZAQgAEAyAhAAIBkBCACQjAAEAEhGAAIAJCMAAQCSEYAAAMkMK3oAQLWqLG8sesIVoeaZctETgH+RO4AAAMkIQACAZAQgAEAyAhAAIBkBCACQjAAEAEhGAAIAJCMAAQCSEYAAAMkIQACAZAQgAEAyAhAAIBkBCACQjAAEAEhGAAIAJCMAAQCSEYAAAMkIQACAZAQgAEAyAhAAIBkBCACQjAAEAEhGAAIAJCMAAQCSEYAAAMkIQACAZAQgAEAyAhAAIBkBCACQjAAEAEhGAAIAJCMAAQCSEYAAAMkIQACAZAQgAEAyAhAAIBkBCACQjAAEAEhGAAIAJCMAAQCSEYAAAMkIQACAZAQgAEAyAhAAIBkBCACQjAAEAEhGAAIAJCMAAQCSEYAAAMkIQACAZARgYh999FE89thjMWrUqKivr4/JkyfHwYMHi54FAAyyYUUPoBiffvppzJw5M77+9a/HG2+8EV/96lfj/fffj5EjRxY9DQAYZAIwqdWrV0dLS0u89NJLA8daW1sLXAQADBWPgJN6/fXXo62tLR555JFobm6OqVOnxsaNG4ueBQAMAQGY1AcffBDr16+Pr33ta/GHP/whvv/978fChQtj06ZNFzy/t7c3yuXyOS8A4MpUU6lUKkWPYOgNHz482tra4q233ho4tnDhwjhw4EDs3bv3vPN//OMfxzPPPDOUE6FwleWNRU+4ItQ84z+EV7Kenp5obPR3PRt3AJMaM2ZMTJgw4Zxjt956a/zjH/+44PlLliyJnp6egVd3d/dQzAQABoEvAklq5syZcezYsXOOHT9+PG666aYLnl8qlaJUKg3FNABgkLkDmNTTTz8d+/bti1WrVsXf//732LJlS2zYsCHa29uLngYADDIBmNS0adNi+/bt8corr8SkSZNixYoVsXbt2pg7d27R0wCAQeYRcGJz5syJOXPmFD0DABhi7gACACQjAAEAkhGAAADJCEAAgGQEIABAMgIQACAZAQgAkIwABABIRgACACQjAAEAkhGAAADJCEAAgGSGFT0AoFrVPFMuegLAoHAHEAAgGQEIAJCMAAQASEYAAgAkIwABAJIRgAAAyQhAAIBkBCAAQDICEAAgGQEIAJCMAAQASEYAAgAkIwABAJIRgAAAyQhAAIBkBCAAQDICEAAgGQEIAJCMAAQASEYAAgAkIwABAJIRgAAAyQhAAIBkBCAAQDICEAAgGQEIAJCMAAQASEYAAgAkIwABAJIRgAAAyQhAAIBkBCAAQDICEAAgGQEIAJCMAAQASEYAAgAkIwABAJIRgAAAyQhAAIBkBCAAQDICEAAgGQEIAJCMAAQASEYAAgAkIwABAJIRgAAAyQhAAIBkBCAAQDICEAAgGQEIAJCMAEyqr68vli5dGq2trVFfXx+33HJLrFixIiqVStHTAIBBNqzoARRj9erVsX79+ti0aVNMnDgxDh48GPPnz4+mpqZYuHBh0fMAgEEkAJN666234hvf+EbMnj07IiJuvvnmeOWVV2L//v0FLwMABptHwEnNmDEjurq64vjx4xER8c4778SePXviwQcfLHgZADDY3AFMavHixVEul2P8+PFRV1cXfX19sXLlypg7d+4Fz+/t7Y3e3t6Bj8vl8lBNBQAuM3cAk3r11Vdj8+bNsWXLljh8+HBs2rQpfvazn8WmTZsueH5nZ2c0NTUNvFpaWoZ4MQBwudRUfNlnSi0tLbF48eJob28fOPbss8/Gyy+/HO+9995551/oDqAIBLjy9fT0RGNjY9EzGGIeASf1+eefR23tuTeA6+rqor+//4Lnl0qlKJVKQzENABhkAjCphx56KFauXBk33nhjTJw4Md5+++1Ys2ZNPP7440VPAwAGmUfASZ05cyaWLl0a27dvj9OnT8fYsWPj0UcfjWXLlsXw4cP/6e8vl8vR1NQ0BEsBGEweAeckALkkAhDg6iAAc/JVwAAAyQhAAIBkBCAAQDICEAAgGQEIAJCMAAQASEYAAgAkIwABAJIRgAAAyQhAAIBkBCAAQDICEAAgGQEIAJCMAAQASEYAAgAkIwABAJIRgAAAyQhAAIBkBCAAQDICEAAgGQEIAJCMAAQASEYAAgAkIwABAJIRgAAAyQhAAIBkBCAAQDICEAAgGQEIAJCMAAQASEYAAgAkIwABAJIRgAAAyQhAAIBkBCAAQDICEAAgGQEIAJCMAAQASEYAAgAkIwABAJIRgAAAyQhAAIBkBCAAQDICEAAgGQEIAJCMAAQASEYAAgAkIwABAJIRgFySSqVS9AQALgOfz3MSgFySM2fOFD0BgMvA5/OcairSn0vQ398fJ06ciIaGhqipqfm3/qxyuRwtLS3R3d0djY2Nl2nh1cd1ujiu0z/nGl2cq/06VSqVOHPmTIwdOzZqa90PymZY0QO4MtXW1sa4ceMu65/Z2Nh4VX6Svdxcp4vjOv1zrtHFuZqvU1NTU9ETKIjkBwBIRgACACQjAClcqVSK5cuXR6lUKnpKVXOdLo7r9M+5RhfHdeJq5otAAACScQcQACAZAQgAkIwABABIRgACACQjACnU888/HzfffHOMGDEipk+fHvv37y96UlXp7OyMadOmRUNDQzQ3N8fDDz8cx44dK3pW1XvuueeipqYmFi1aVPSUqvPRRx/FY489FqNGjYr6+vqYPHlyHDx4sOhZVaWvry+WLl0ara2tUV9fH7fcckusWLHCz8zlqiIAKcy2bduio6Mjli9fHocPH47bb789HnjggTh9+nTR06rGrl27or29Pfbt2xc7d+6ML7/8Mu6///44e/Zs0dOq1oEDB+LFF1+M2267regpVefTTz+NmTNnxle+8pV444034q9//Wv8/Oc/j5EjRxY9raqsXr061q9fH+vWrYu//e1vsXr16vjJT34Sv/zlL4ueBpeNbwNDYaZPnx7Tpk2LdevWRcR//XzhlpaWePLJJ2Px4sUFr6tOH3/8cTQ3N8euXbvinnvuKXpO1fnss8/ijjvuiF/96lfx7LPPxpQpU2Lt2rVFz6oaixcvjr/85S/x5z//uegpVW3OnDkxevTo+PWvfz1w7Fvf+lbU19fHyy+/XOAyuHzcAaQQX3zxRRw6dChmzZo1cKy2tjZmzZoVe/fuLXBZdevp6YmIiOuuu67gJdWpvb09Zs+efc7fK/7X66+/Hm1tbfHII49Ec3NzTJ06NTZu3Fj0rKozY8aM6OrqiuPHj0dExDvvvBN79uyJBx98sOBlcPkMK3oAOX3yySfR19cXo0ePPuf46NGj47333itoVXXr7++PRYsWxcyZM2PSpElFz6k6W7dujcOHD8eBAweKnlK1Pvjgg1i/fn10dHTEj370ozhw4EAsXLgwhg8fHvPmzSt6XtVYvHhxlMvlGD9+fNTV1UVfX1+sXLky5s6dW/Q0uGwEIFwh2tvb4+jRo7Fnz56ip1Sd7u7ueOqpp2Lnzp0xYsSIoudUrf7+/mhra4tVq1ZFRMTUqVPj6NGj8cILLwjA/+PVV1+NzZs3x5YtW2LixIlx5MiRWLRoUYwdO9Z14qohACnE9ddfH3V1dXHq1Klzjp86dSpuuOGGglZVrwULFsSOHTti9+7dMW7cuKLnVJ1Dhw7F6dOn44477hg41tfXF7t3745169ZFb29v1NXVFbiwOowZMyYmTJhwzrFbb701fve73xW0qDr94Ac/iMWLF8d3v/vdiIiYPHlyfPjhh9HZ2SkAuWp4DyCFGD58eNx5553R1dU1cKy/vz+6urri7rvvLnBZdalUKrFgwYLYvn17/PGPf4zW1taiJ1Wl++67L9599904cuTIwKutrS3mzp0bR44cEX//bebMmed9G6Hjx4/HTTfdVNCi6vT5559Hbe25/zzW1dVFf39/QYvg8nMHkMJ0dHTEvHnzoq2tLe66665Yu3ZtnD17NubPn1/0tKrR3t4eW7Zsiddeey0aGhri5MmTERHR1NQU9fX1Ba+rHg0NDee9L/Laa6+NUaNGeb/k//H000/HjBkzYtWqVfHtb3879u/fHxs2bIgNGzYUPa2qPPTQQ7Fy5cq48cYbY+LEifH222/HmjVr4vHHHy96Glw2vg0MhVq3bl389Kc/jZMnT8aUKVPiF7/4RUyfPr3oWVWjpqbmgsdfeuml+N73vje0Y64w9957r28DcwE7duyIJUuWxPvvvx+tra3R0dERTzzxRNGzqsqZM2di6dKlsX379jh9+nSMHTs2Hn300Vi2bFkMHz686HlwWQhAAIBkvAcQACAZAQgAkIwABABIRgACACQjAAEAkhGAAADJCEAAgGQEIABAMgIQACAZAQgAkIwABABIRgACACQjAAEAkhGAAADJCEAAgGQEIABAMgIQACAZAQgAkIwABABIRgACACQjAAEAkhGAAADJCEAAgGQEIABAMgIQACAZAQgAkIwABABIRgACACQjAAEAkhGAAADJCEAAgGT+E7zpSK1sKCI8AAAAAElFTkSuQmCC\"></img>\n",
       "</td>\n",
       "<td style=\"text-align: center; vertical-align: top;\">\n",
       "<b><a href=\"https://github.com/clEsperanto/pyclesperanto_prototype\" target=\"_blank\">cle._</a> image</b><br/>\n",
       "<table>\n",
       "<tr><td>shape</td><td>(10,&nbsp;10)</td></tr>\n",
       "<tr><td>dtype</td><td>uint32</td></tr>\n",
       "<tr><td>size</td><td>400.0 B</td></tr>\n",
       "<tr><td>min</td><td>0.0</td></tr><tr><td>max</td><td>2.0</td></tr>\n",
       "</table>\n",
       "\n",
       "</td>\n",
       "</tr>\n",
       "</table>"
      ],
      "text/plain": [
       "array([[1, 0, 0, 0, 0, 0, 0, 0, 0, 0],\n",
       "       [0, 1, 1, 0, 0, 0, 0, 0, 0, 0],\n",
       "       [0, 1, 1, 0, 0, 0, 0, 0, 0, 0],\n",
       "       [0, 1, 0, 0, 0, 0, 0, 0, 0, 0],\n",
       "       [0, 0, 0, 0, 0, 0, 0, 0, 0, 0],\n",
       "       [0, 0, 0, 0, 0, 2, 2, 0, 0, 0],\n",
       "       [0, 0, 0, 0, 0, 2, 2, 0, 0, 0],\n",
       "       [0, 0, 0, 0, 0, 0, 0, 0, 0, 0],\n",
       "       [0, 0, 0, 0, 0, 0, 0, 0, 0, 0],\n",
       "       [0, 0, 0, 0, 0, 0, 0, 0, 0, 0]], dtype=uint32, mtype=buffer)"
      ]
     },
     "execution_count": 6,
     "metadata": {},
     "output_type": "execute_result"
    }
   ],
   "source": [
    "cle_labels = cle.label(tensor)\n",
    "cle_labels"
   ]
  },
  {
   "cell_type": "markdown",
   "id": "b9d36430-7af9-4879-a449-5aa52257eec7",
   "metadata": {},
   "source": [
    "## Converting results back to a tensor\n",
    "To turn the OpenCL image into a tensor, you need to call the `get()` function. Furthermore, in case of label images, you need to convert them into a pixel type that is accepted by pytorch, for example signed 32-bit integer."
   ]
  },
  {
   "cell_type": "code",
   "execution_count": 7,
   "id": "b8b88eec-ebe2-4403-aa66-ac09e8fb3318",
   "metadata": {},
   "outputs": [
    {
     "name": "stderr",
     "output_type": "stream",
     "text": [
      "4 warnings generated.\n"
     ]
    },
    {
     "data": {
      "text/plain": [
       "torch.Tensor"
      ]
     },
     "execution_count": 7,
     "metadata": {},
     "output_type": "execute_result"
    }
   ],
   "source": [
    "labels_tensor = torch.tensor(cle_labels.astype(np.int32).get())\n",
    "type(labels_tensor)"
   ]
  },
  {
   "cell_type": "markdown",
   "id": "257afd2a-a7c9-488f-9b9f-4eeba6b960bc",
   "metadata": {},
   "source": [
    "## GPU Tensors \n",
    "Tensors that are stored on the GPU and managed by Pytorch need to be transferred back to the CPU memory before pushing them back to OpenCL/GPU memory. This happens transparently under the hood but may cause performance leaks due to memory transfer times."
   ]
  },
  {
   "cell_type": "code",
   "execution_count": 8,
   "id": "bede46b0-1436-42d6-ba8e-82750702c7b7",
   "metadata": {},
   "outputs": [
    {
     "data": {
      "text/plain": [
       "False"
      ]
     },
     "execution_count": 8,
     "metadata": {},
     "output_type": "execute_result"
    }
   ],
   "source": [
    "torch.cuda.is_available()"
   ]
  },
  {
   "cell_type": "code",
   "execution_count": 9,
   "id": "c5fa3935-6f60-43a6-a201-267f1428ba09",
   "metadata": {},
   "outputs": [
    {
     "name": "stdout",
     "output_type": "stream",
     "text": [
      "cpu\n"
     ]
    }
   ],
   "source": [
    "device = torch.device(\"cuda:0\" if torch.cuda.is_available() else \"cpu\")\n",
    "print(device)"
   ]
  },
  {
   "cell_type": "code",
   "execution_count": 10,
   "id": "22f846e3-5bf1-4534-8c55-409e03d7b7de",
   "metadata": {},
   "outputs": [
    {
     "data": {
      "text/plain": [
       "False"
      ]
     },
     "execution_count": 10,
     "metadata": {},
     "output_type": "execute_result"
    }
   ],
   "source": [
    "tensor.is_cuda"
   ]
  },
  {
   "cell_type": "code",
   "execution_count": 11,
   "id": "61d82b73-2501-4479-b6d3-b86f04794aa1",
   "metadata": {},
   "outputs": [
    {
     "data": {
      "text/plain": [
       "False"
      ]
     },
     "execution_count": 11,
     "metadata": {},
     "output_type": "execute_result"
    }
   ],
   "source": [
    "cuda_tensor = tensor.to(device)\n",
    "cuda_tensor.is_cuda"
   ]
  },
  {
   "cell_type": "code",
   "execution_count": 12,
   "id": "c6bb0c5f-e16b-4911-863c-290c44375291",
   "metadata": {},
   "outputs": [
    {
     "data": {
      "text/html": [
       "<table>\n",
       "<tr>\n",
       "<td>\n",
       "<img src=\"data:image/png;base64,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\"></img>\n",
       "</td>\n",
       "<td style=\"text-align: center; vertical-align: top;\">\n",
       "<b><a href=\"https://github.com/clEsperanto/pyclesperanto_prototype\" target=\"_blank\">cle._</a> image</b><br/>\n",
       "<table>\n",
       "<tr><td>shape</td><td>(10,&nbsp;10)</td></tr>\n",
       "<tr><td>dtype</td><td>float32</td></tr>\n",
       "<tr><td>size</td><td>400.0 B</td></tr>\n",
       "<tr><td>min</td><td>0.0</td></tr><tr><td>max</td><td>1.0</td></tr>\n",
       "</table>\n",
       "<img src=\"data:image/png;base64,iVBORw0KGgoAAAANSUhEUgAAALQAAAB4CAYAAABb59j9AAAAOXRFWHRTb2Z0d2FyZQBNYXRwbG90bGliIHZlcnNpb24zLjguMiwgaHR0cHM6Ly9tYXRwbG90bGliLm9yZy8g+/7EAAAACXBIWXMAAA9hAAAPYQGoP6dpAAACQklEQVR4nO3YwYnbQABA0bHJVS7AWJB+0lBK2Ia2n4AXFWBDIBcrh7BLQpYQ8ArD572TLMHMgD7DyLt1XdcBEftHLwA+kqBJETQpgiZF0KQImhRBkyJoUgRNiqBJETQpgibl01YD3263sSzLmKZp7Ha7raYhYF3Xcb1ex/F4HPv9fXvsZkEvyzLmed5qeILO5/M4nU53jbFZ0NM0jTF+LfJwOGw1DQGXy2XM8/zWzD02C/r1mHE4HATNf/mIo6mPQlIETcpmR45/+fz1+e3629OXRyyBKDs0KYImRdCkCJoUQZMiaFIETYqgSRE0KYImRdCkCJoUQZMiaFIETYqgSRE0KYImRdCkCJoUQZMiaFIETYqgSRE0KYImRdCkCJoUQZMiaFIETYqgSRE0KYImRdCkCJoUQZMiaFIETYqgSRE0KYImRdCkCJoUQZMiaFIETYqgSRE0KYImRdCkCJoUQZMiaFIETYqgSRE0KYImRdCkCJoUQZMiaFIETYqgSRE0KYImRdCkCJoUQZMiaFIETYqgSRE0KYImRdCkCJoUQZMiaFIETcqnRy+Ats9fn//4/e3py6bz2aFJETQpgiZF0KQImhRBk7LZ33bruo4xxrhcLn89u/34/nb93nM6fn/XY7z/vl/vvTZzj936EaO84+XlZczzvMXQRJ3P53E6ne4aY7Ogb7fbWJZlTNM0drvdFlMQsa7ruF6v43g8jv3+vlPwZkHDI/goJEXQpAiaFEGTImhSBE2KoEkRNCmCJkXQpPwEeV9YxVr4r0gAAAAASUVORK5CYII=\"></img>\n",
       "</td>\n",
       "</tr>\n",
       "</table>"
      ],
      "text/plain": [
       "array([[0., 0., 0., 0., 0., 0., 0., 0., 0., 0.],\n",
       "       [0., 1., 1., 0., 0., 0., 0., 0., 0., 0.],\n",
       "       [0., 1., 1., 0., 0., 0., 0., 0., 0., 0.],\n",
       "       [0., 0., 0., 0., 0., 0., 0., 0., 0., 0.],\n",
       "       [0., 0., 0., 0., 0., 0., 0., 0., 0., 0.],\n",
       "       [0., 0., 0., 0., 0., 1., 1., 0., 0., 0.],\n",
       "       [0., 0., 0., 0., 0., 1., 1., 0., 0., 0.],\n",
       "       [0., 0., 0., 0., 0., 0., 0., 0., 0., 0.],\n",
       "       [0., 0., 0., 0., 0., 0., 0., 0., 0., 0.],\n",
       "       [0., 0., 0., 0., 0., 0., 0., 0., 0., 0.]], dtype=float32, mtype=buffer)"
      ]
     },
     "execution_count": 12,
     "metadata": {},
     "output_type": "execute_result"
    }
   ],
   "source": [
    "cle.push(cuda_tensor)"
   ]
  },
  {
   "cell_type": "code",
   "execution_count": 13,
   "id": "5f43e6dd-87e0-4fe8-9357-873adcc0e9f7",
   "metadata": {},
   "outputs": [
    {
     "data": {
      "text/html": [
       "<table>\n",
       "<tr>\n",
       "<td>\n",
       "<img src=\"data:image/png;base64,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\"></img>\n",
       "</td>\n",
       "<td style=\"text-align: center; vertical-align: top;\">\n",
       "<b><a href=\"https://github.com/clEsperanto/pyclesperanto_prototype\" target=\"_blank\">cle._</a> image</b><br/>\n",
       "<table>\n",
       "<tr><td>shape</td><td>(10,&nbsp;10)</td></tr>\n",
       "<tr><td>dtype</td><td>uint32</td></tr>\n",
       "<tr><td>size</td><td>400.0 B</td></tr>\n",
       "<tr><td>min</td><td>0.0</td></tr><tr><td>max</td><td>2.0</td></tr>\n",
       "</table>\n",
       "\n",
       "</td>\n",
       "</tr>\n",
       "</table>"
      ],
      "text/plain": [
       "array([[1, 0, 0, 0, 0, 0, 0, 0, 0, 0],\n",
       "       [0, 1, 1, 0, 0, 0, 0, 0, 0, 0],\n",
       "       [0, 1, 1, 0, 0, 0, 0, 0, 0, 0],\n",
       "       [0, 1, 0, 0, 0, 0, 0, 0, 0, 0],\n",
       "       [0, 0, 0, 0, 0, 0, 0, 0, 0, 0],\n",
       "       [0, 0, 0, 0, 0, 2, 2, 0, 0, 0],\n",
       "       [0, 0, 0, 0, 0, 2, 2, 0, 0, 0],\n",
       "       [0, 0, 0, 0, 0, 0, 0, 0, 0, 0],\n",
       "       [0, 0, 0, 0, 0, 0, 0, 0, 0, 0],\n",
       "       [0, 0, 0, 0, 0, 0, 0, 0, 0, 0]], dtype=uint32, mtype=buffer)"
      ]
     },
     "execution_count": 13,
     "metadata": {},
     "output_type": "execute_result"
    }
   ],
   "source": [
    "cle.label(cuda_tensor)"
   ]
  },
  {
   "cell_type": "code",
   "execution_count": null,
   "id": "925044c5-26d9-4379-b167-4009f7ca167d",
   "metadata": {},
   "outputs": [],
   "source": []
  }
 ],
 "metadata": {
  "kernelspec": {
   "display_name": "Python 3 (ipykernel)",
   "language": "python",
   "name": "python3"
  },
  "language_info": {
   "codemirror_mode": {
    "name": "ipython",
    "version": 3
   },
   "file_extension": ".py",
   "mimetype": "text/x-python",
   "name": "python",
   "nbconvert_exporter": "python",
   "pygments_lexer": "ipython3",
   "version": "3.11.5"
  }
 },
 "nbformat": 4,
 "nbformat_minor": 5
}
