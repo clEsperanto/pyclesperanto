{
 "cells": [
  {
   "cell_type": "code",
   "execution_count": 1,
   "id": "20957ca2-681b-41c2-84d1-7d249f1c3de7",
   "metadata": {},
   "outputs": [],
   "source": [
    "import pyclesperanto as cle\n",
    "import napari, os\n",
    "from ome_zarr.utils import download"
   ]
  },
  {
   "cell_type": "code",
   "execution_count": 2,
   "id": "80be637b-17c4-4e8d-82ff-be55c4623844",
   "metadata": {},
   "outputs": [
    {
     "name": "stdin",
     "output_type": "stream",
     "text": [
      "choose local path ./zarr_test\n"
     ]
    },
    {
     "name": "stdout",
     "output_type": "stream",
     "text": [
      "downloading...\n",
      "   6001240.zarr\n",
      "   6001240.zarr/labels\n",
      "   6001240.zarr/labels/0\n",
      "to ./zarr_test\n",
      "[########################################] | 100% Completed | 811.75 ms\n",
      "[########################################] | 100% Completed | 611.12 ms\n",
      "[########################################] | 100% Completed | 646.38 ms\n",
      "[########################################] | 100% Completed | 100.87 ms\n",
      "[########################################] | 100% Completed | 101.04 ms\n",
      "[########################################] | 100% Completed | 100.98 ms\n",
      "[########################################] | 100% Completed | 201.71 ms\n"
     ]
    }
   ],
   "source": [
    "remote_url = \"https://uk1s3.embassy.ebi.ac.uk/idr/zarr/v0.4/idr0062A/6001240.zarr\"\n",
    "local_path = input(\"choose local path\")\n",
    "download(input_path=remote_url,output_dir=local_path) # zarr dataset needs to be local\n",
    "zarr_path = os.path.join(local_path, \"/6001240.zarr\")"
   ]
  },
  {
   "cell_type": "code",
   "execution_count": 12,
   "id": "b1eb42c8-ea0f-40e6-b85e-e408cf0b4bdd",
   "metadata": {},
   "outputs": [
    {
     "name": "stderr",
     "output_type": "stream",
     "text": [
      "/home/strigaud/Libraries/miniforge3/envs/zarr-napari-env/lib/python3.10/site-packages/napari/utils/colormaps/colormap.py:435: UserWarning: color_dict did not provide a default color. Missing keys will be transparent. To provide a default color, use the key `None`, or provide a defaultdict instance.\n",
      "  warn(\n"
     ]
    }
   ],
   "source": [
    "viewer = napari.Viewer()\n",
    "viewer.open(zarr_path, plugin=\"napari-ome-zarr\")\n",
    "\n",
    "# some clesperanto processing, always on the highest resolution data\n",
    "pycle_labels = cle.gauss_otsu_labeling(viewer.layers[\"Dapi\"].data)\n",
    "viewer.add_labels(pycle_labels, scale=viewer.layers[\"Dapi\"].scale)\n",
    "\n",
    "napari.run()"
   ]
  },
  {
   "cell_type": "code",
   "execution_count": 4,
   "id": "10cba25c-f536-47e9-b6fb-d339b7692c18",
   "metadata": {},
   "outputs": [
    {
     "name": "stdout",
     "output_type": "stream",
     "text": [
      "layer type <class 'napari.layers.image.image.Image'>\n",
      "layer data type <class 'napari.layers._multiscale_data.MultiScaleData'>\n",
      "layer data subtype <class 'dask.array.core.Array'>\n"
     ]
    }
   ],
   "source": [
    "print(\"layer data type\", type(viewer.layers[1].data))  # if provided a MultiScaleData, pycles will process the highest resolution\n",
    "print(\"layer data subtype\", type(viewer.layers[1].data[0]))  # alternatively you can specify which resolution you want to process"
   ]
  }
 ],
 "metadata": {
  "kernelspec": {
   "display_name": "Python 3 (ipykernel)",
   "language": "python",
   "name": "python3"
  },
  "language_info": {
   "codemirror_mode": {
    "name": "ipython",
    "version": 3
   },
   "file_extension": ".py",
   "mimetype": "text/x-python",
   "name": "python",
   "nbconvert_exporter": "python",
   "pygments_lexer": "ipython3",
   "version": "3.10.16"
  }
 },
 "nbformat": 4,
 "nbformat_minor": 5
}
