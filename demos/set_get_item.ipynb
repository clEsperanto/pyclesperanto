{
 "cells": [
  {
   "cell_type": "code",
   "execution_count": 1,
   "id": "41ec3d72-142e-4438-95a4-f6ba793e308a",
   "metadata": {
    "tags": []
   },
   "outputs": [],
   "source": [
    "import pyclesperanto as cle\n",
    "import numpy as np"
   ]
  },
  {
   "cell_type": "code",
   "execution_count": 2,
   "id": "130110c3-6ed5-4af9-bde9-e9ae5b485a04",
   "metadata": {
    "tags": []
   },
   "outputs": [
    {
     "data": {
      "text/plain": [
       "array([[[1, 1, 1, 1, 1, 1, 1, 1, 1],\n",
       "        [2, 2, 2, 2, 2, 2, 2, 2, 2],\n",
       "        [3, 3, 3, 3, 3, 3, 3, 3, 3],\n",
       "        [4, 4, 4, 4, 4, 4, 4, 4, 4],\n",
       "        [5, 5, 5, 5, 5, 5, 5, 5, 5]],\n",
       "\n",
       "       [[1, 1, 1, 1, 1, 1, 1, 1, 1],\n",
       "        [2, 2, 2, 2, 2, 2, 2, 2, 2],\n",
       "        [3, 3, 3, 3, 3, 3, 3, 3, 3],\n",
       "        [4, 4, 4, 4, 4, 4, 4, 4, 4],\n",
       "        [5, 5, 5, 5, 5, 5, 5, 5, 5]]])"
      ]
     },
     "execution_count": 2,
     "metadata": {},
     "output_type": "execute_result"
    }
   ],
   "source": [
    "arr = np.array([[[1,1,1,1,1,1,1,1,1],\n",
    "                [2,2,2,2,2,2,2,2,2],\n",
    "                [3,3,3,3,3,3,3,3,3],\n",
    "                [4,4,4,4,4,4,4,4,4],\n",
    "                [5,5,5,5,5,5,5,5,5]],\n",
    "               [[1,1,1,1,1,1,1,1,1],\n",
    "                [2,2,2,2,2,2,2,2,2],\n",
    "                [3,3,3,3,3,3,3,3,3],\n",
    "                [4,4,4,4,4,4,4,4,4],\n",
    "                [5,5,5,5,5,5,5,5,5]]])\n",
    "arr"
   ]
  },
  {
   "cell_type": "code",
   "execution_count": 3,
   "id": "d366930c-eb39-4549-86cd-4e4483cdc60d",
   "metadata": {
    "tags": []
   },
   "outputs": [
    {
     "data": {
      "text/plain": [
       "(OpenCL) NVIDIA GeForce RTX 2080 SUPER (OpenCL 3.0 CUDA)\n",
       "\tType: GPU\n",
       "\tCompute Units: 48\n",
       "\tGlobal Memory Size: 8358 MB\n",
       "\tMaximum Object Size: 2089 MB"
      ]
     },
     "execution_count": 3,
     "metadata": {},
     "output_type": "execute_result"
    }
   ],
   "source": [
    "cle.select_device('TX')"
   ]
  },
  {
   "cell_type": "code",
   "execution_count": 4,
   "id": "e0a79419-1bf7-435b-b820-ca1db3bbf4c5",
   "metadata": {
    "tags": []
   },
   "outputs": [
    {
     "data": {
      "text/plain": [
       "(2, 5, 9)"
      ]
     },
     "execution_count": 4,
     "metadata": {},
     "output_type": "execute_result"
    }
   ],
   "source": [
    "arr_gpu = cle.push(arr)\n",
    "arr_gpu.shape"
   ]
  },
  {
   "cell_type": "code",
   "execution_count": 5,
   "id": "e33b7ec7-c57a-4a4e-b0df-af6266f91b8b",
   "metadata": {
    "tags": []
   },
   "outputs": [
    {
     "data": {
      "text/html": [
       "<pre>array([[[1, 1, 1, 1, 1, 1, 1, 1, 1],\n",
       "        [2, 2, 2, 2, 2, 2, 2, 2, 2],\n",
       "        [3, 3, 3, 3, 3, 3, 3, 3, 3],\n",
       "        [4, 4, 4, 4, 4, 4, 4, 4, 4],\n",
       "        [5, 5, 5, 5, 5, 5, 5, 5, 5]],\n",
       "\n",
       "       [[1, 1, 1, 1, 1, 1, 1, 1, 1],\n",
       "        [2, 2, 2, 2, 2, 2, 2, 2, 2],\n",
       "        [3, 3, 3, 3, 3, 3, 3, 3, 3],\n",
       "        [4, 4, 4, 4, 4, 4, 4, 4, 4],\n",
       "        [5, 5, 5, 5, 5, 5, 5, 5, 5]]], mtype=buffer)</pre>"
      ],
      "text/plain": [
       "array([[[1, 1, 1, 1, 1, 1, 1, 1, 1],\n",
       "        [2, 2, 2, 2, 2, 2, 2, 2, 2],\n",
       "        [3, 3, 3, 3, 3, 3, 3, 3, 3],\n",
       "        [4, 4, 4, 4, 4, 4, 4, 4, 4],\n",
       "        [5, 5, 5, 5, 5, 5, 5, 5, 5]],\n",
       "\n",
       "       [[1, 1, 1, 1, 1, 1, 1, 1, 1],\n",
       "        [2, 2, 2, 2, 2, 2, 2, 2, 2],\n",
       "        [3, 3, 3, 3, 3, 3, 3, 3, 3],\n",
       "        [4, 4, 4, 4, 4, 4, 4, 4, 4],\n",
       "        [5, 5, 5, 5, 5, 5, 5, 5, 5]]], mtype=buffer)"
      ]
     },
     "execution_count": 5,
     "metadata": {},
     "output_type": "execute_result"
    }
   ],
   "source": [
    "cp_arr = cle.create((2,5,9), np.int64)\n",
    "arr_gpu.copy(cp_arr)\n",
    "cp_arr"
   ]
  },
  {
   "cell_type": "code",
   "execution_count": 6,
   "id": "7a63fc54-573d-48f4-9899-af88484e2c21",
   "metadata": {
    "tags": []
   },
   "outputs": [
    {
     "data": {
      "text/plain": [
       "array([[[1, 1, 1, 1, 1, 1, 1, 1, 1],\n",
       "        [2, 2, 2, 2, 2, 2, 2, 2, 2],\n",
       "        [3, 3, 3, 3, 3, 3, 3, 3, 3],\n",
       "        [4, 4, 4, 4, 4, 4, 4, 4, 4],\n",
       "        [5, 5, 5, 5, 5, 5, 5, 5, 5]],\n",
       "\n",
       "       [[1, 1, 1, 1, 1, 1, 1, 1, 1],\n",
       "        [2, 2, 2, 2, 2, 2, 2, 2, 2],\n",
       "        [3, 3, 3, 3, 3, 3, 3, 3, 3],\n",
       "        [4, 4, 4, 4, 4, 4, 4, 4, 4],\n",
       "        [5, 5, 5, 5, 5, 5, 5, 5, 5]]])"
      ]
     },
     "execution_count": 6,
     "metadata": {},
     "output_type": "execute_result"
    }
   ],
   "source": [
    "cle.pull(arr_gpu)"
   ]
  },
  {
   "cell_type": "code",
   "execution_count": 7,
   "id": "61331c90-54bc-492b-b914-b8b65906da2b",
   "metadata": {
    "tags": []
   },
   "outputs": [
    {
     "data": {
      "text/html": [
       "<pre>array([[1, 1, 1, 1, 1, 1, 1, 1, 1],\n",
       "       [2, 2, 2, 2, 2, 2, 2, 2, 2],\n",
       "       [3, 3, 3, 3, 3, 3, 3, 3, 3],\n",
       "       [4, 4, 4, 4, 4, 4, 4, 4, 4],\n",
       "       [5, 5, 5, 5, 5, 5, 5, 5, 5]], mtype=buffer)</pre>"
      ],
      "text/plain": [
       "array([[1, 1, 1, 1, 1, 1, 1, 1, 1],\n",
       "       [2, 2, 2, 2, 2, 2, 2, 2, 2],\n",
       "       [3, 3, 3, 3, 3, 3, 3, 3, 3],\n",
       "       [4, 4, 4, 4, 4, 4, 4, 4, 4],\n",
       "       [5, 5, 5, 5, 5, 5, 5, 5, 5]], mtype=buffer)"
      ]
     },
     "execution_count": 7,
     "metadata": {},
     "output_type": "execute_result"
    }
   ],
   "source": [
    "arr_gpu[-1]"
   ]
  },
  {
   "cell_type": "code",
   "execution_count": 8,
   "id": "924c7889-b62a-407c-94f2-0982a8b9fc41",
   "metadata": {
    "tags": []
   },
   "outputs": [
    {
     "data": {
      "text/html": [
       "<pre>array([[1, 1, 1, 1, 1, 1, 1, 1, 1],\n",
       "       [2, 2, 2, 2, 2, 2, 2, 2, 2],\n",
       "       [3, 3, 3, 3, 3, 3, 3, 3, 3],\n",
       "       [4, 4, 4, 4, 4, 4, 4, 4, 4],\n",
       "       [5, 5, 5, 5, 5, 5, 5, 5, 5]], mtype=buffer)</pre>"
      ],
      "text/plain": [
       "array([[1, 1, 1, 1, 1, 1, 1, 1, 1],\n",
       "       [2, 2, 2, 2, 2, 2, 2, 2, 2],\n",
       "       [3, 3, 3, 3, 3, 3, 3, 3, 3],\n",
       "       [4, 4, 4, 4, 4, 4, 4, 4, 4],\n",
       "       [5, 5, 5, 5, 5, 5, 5, 5, 5]], mtype=buffer)"
      ]
     },
     "execution_count": 8,
     "metadata": {},
     "output_type": "execute_result"
    }
   ],
   "source": [
    "arr_gpu[0]"
   ]
  },
  {
   "cell_type": "code",
   "execution_count": 9,
   "id": "fcdf5c39-6e98-4bb2-9ecb-63844f64900f",
   "metadata": {
    "tags": []
   },
   "outputs": [
    {
     "data": {
      "text/html": [
       "<pre>array([[3, 3, 3, 3],\n",
       "       [4, 4, 4, 4]], mtype=buffer)</pre>"
      ],
      "text/plain": [
       "array([[3, 3, 3, 3],\n",
       "       [4, 4, 4, 4]], mtype=buffer)"
      ]
     },
     "execution_count": 9,
     "metadata": {},
     "output_type": "execute_result"
    }
   ],
   "source": [
    "arr_gpu[0,2:4,2:6]"
   ]
  },
  {
   "cell_type": "code",
   "execution_count": 10,
   "id": "e9ecefce-3722-4af3-816f-54da5a273995",
   "metadata": {
    "tags": []
   },
   "outputs": [
    {
     "data": {
      "text/html": [
       "<pre>array([[1, 1, 1, 1],\n",
       "       [2, 2, 2, 2],\n",
       "       [3, 3, 3, 3],\n",
       "       [4, 4, 4, 4],\n",
       "       [5, 5, 5, 5]], mtype=buffer)</pre>"
      ],
      "text/plain": [
       "array([[1, 1, 1, 1],\n",
       "       [2, 2, 2, 2],\n",
       "       [3, 3, 3, 3],\n",
       "       [4, 4, 4, 4],\n",
       "       [5, 5, 5, 5]], mtype=buffer)"
      ]
     },
     "execution_count": 10,
     "metadata": {},
     "output_type": "execute_result"
    }
   ],
   "source": [
    "arr_gpu[0,:,2:6]"
   ]
  },
  {
   "cell_type": "code",
   "execution_count": 11,
   "id": "fd8c13eb-91b4-4135-8510-4871f5ad21c9",
   "metadata": {
    "tags": []
   },
   "outputs": [
    {
     "data": {
      "text/html": [
       "<pre>array([[[ 1,  1,  1,  1,  1,  1,  1,  1,  1],\n",
       "        [ 2,  2,  2,  2,  2,  2,  2,  2,  2],\n",
       "        [ 3,  3, 15, 15, 15, 15,  3,  3,  3],\n",
       "        [ 4,  4, 15, 15, 15, 15,  4,  4,  4],\n",
       "        [ 5,  5,  5,  5,  5,  5,  5,  5,  5]],\n",
       "\n",
       "       [[ 1,  1,  1,  1,  1,  1,  1,  1,  1],\n",
       "        [ 2,  2,  2,  2,  2,  2,  2,  2,  2],\n",
       "        [ 3,  3,  3,  3,  3,  3,  3,  3,  3],\n",
       "        [ 4,  4,  4,  4,  4,  4,  4,  4,  4],\n",
       "        [ 5,  5,  5,  5,  5,  5,  5,  5,  5]]], mtype=buffer)</pre>"
      ],
      "text/plain": [
       "array([[[ 1,  1,  1,  1,  1,  1,  1,  1,  1],\n",
       "        [ 2,  2,  2,  2,  2,  2,  2,  2,  2],\n",
       "        [ 3,  3, 15, 15, 15, 15,  3,  3,  3],\n",
       "        [ 4,  4, 15, 15, 15, 15,  4,  4,  4],\n",
       "        [ 5,  5,  5,  5,  5,  5,  5,  5,  5]],\n",
       "\n",
       "       [[ 1,  1,  1,  1,  1,  1,  1,  1,  1],\n",
       "        [ 2,  2,  2,  2,  2,  2,  2,  2,  2],\n",
       "        [ 3,  3,  3,  3,  3,  3,  3,  3,  3],\n",
       "        [ 4,  4,  4,  4,  4,  4,  4,  4,  4],\n",
       "        [ 5,  5,  5,  5,  5,  5,  5,  5,  5]]], mtype=buffer)"
      ]
     },
     "execution_count": 11,
     "metadata": {},
     "output_type": "execute_result"
    }
   ],
   "source": [
    "arr_gpu[0,2:4,2:6] = 15\n",
    "arr_gpu"
   ]
  },
  {
   "cell_type": "code",
   "execution_count": 12,
   "id": "9e99bfd3-fc5b-4dff-911b-9ec53fa9676e",
   "metadata": {
    "tags": []
   },
   "outputs": [
    {
     "data": {
      "text/html": [
       "<pre>array([[[ 1,  1, 15, 15, 15, 15,  1,  1,  1],\n",
       "        [ 2,  2, 15, 15, 15, 15,  2,  2,  2],\n",
       "        [ 3,  3, 15, 15, 15, 15,  3,  3,  3],\n",
       "        [ 4,  4, 15, 15, 15, 15,  4,  4,  4],\n",
       "        [ 5,  5, 15, 15, 15, 15,  5,  5,  5]],\n",
       "\n",
       "       [[ 1,  1,  1,  1,  1,  1,  1,  1,  1],\n",
       "        [ 2,  2,  2,  2,  2,  2,  2,  2,  2],\n",
       "        [ 3,  3,  3,  3,  3,  3,  3,  3,  3],\n",
       "        [ 4,  4,  4,  4,  4,  4,  4,  4,  4],\n",
       "        [ 5,  5,  5,  5,  5,  5,  5,  5,  5]]], mtype=buffer)</pre>"
      ],
      "text/plain": [
       "array([[[ 1,  1, 15, 15, 15, 15,  1,  1,  1],\n",
       "        [ 2,  2, 15, 15, 15, 15,  2,  2,  2],\n",
       "        [ 3,  3, 15, 15, 15, 15,  3,  3,  3],\n",
       "        [ 4,  4, 15, 15, 15, 15,  4,  4,  4],\n",
       "        [ 5,  5, 15, 15, 15, 15,  5,  5,  5]],\n",
       "\n",
       "       [[ 1,  1,  1,  1,  1,  1,  1,  1,  1],\n",
       "        [ 2,  2,  2,  2,  2,  2,  2,  2,  2],\n",
       "        [ 3,  3,  3,  3,  3,  3,  3,  3,  3],\n",
       "        [ 4,  4,  4,  4,  4,  4,  4,  4,  4],\n",
       "        [ 5,  5,  5,  5,  5,  5,  5,  5,  5]]], mtype=buffer)"
      ]
     },
     "execution_count": 12,
     "metadata": {},
     "output_type": "execute_result"
    }
   ],
   "source": [
    "arr_gpu[0,...,2:6] = 15\n",
    "arr_gpu"
   ]
  },
  {
   "cell_type": "code",
   "execution_count": 13,
   "id": "662c5fee-6a64-4d0b-b052-3449ebb50a3f",
   "metadata": {
    "tags": []
   },
   "outputs": [
    {
     "data": {
      "text/html": [
       "<pre>array([[[  1,   1,  15,  15,  15,  15,   1,   1,   1],\n",
       "        [  2,   2,  15,  15,  15,  15,   2,   2,   2],\n",
       "        [  3,   3,  15,  15,  15,  15,   3,   3,   3],\n",
       "        [  4,   4,  15,  15,  15,  15,   4,   4,   4],\n",
       "        [  5,   5,  15,  15,  15,  15,   5,   5,   5]],\n",
       "\n",
       "       [[  1,   1,   1,   1,   1,   1,   1,   1,   1],\n",
       "        [  2,   2,   2,   2,   2,   2,   2,   2,   2],\n",
       "        [  3,   3, 100, 100, 100, 100,   3,   3,   3],\n",
       "        [  4,   4, 100, 100, 100, 100,   4,   4,   4],\n",
       "        [  5,   5,   5,   5,   5,   5,   5,   5,   5]]], mtype=buffer)</pre>"
      ],
      "text/plain": [
       "array([[[  1,   1,  15,  15,  15,  15,   1,   1,   1],\n",
       "        [  2,   2,  15,  15,  15,  15,   2,   2,   2],\n",
       "        [  3,   3,  15,  15,  15,  15,   3,   3,   3],\n",
       "        [  4,   4,  15,  15,  15,  15,   4,   4,   4],\n",
       "        [  5,   5,  15,  15,  15,  15,   5,   5,   5]],\n",
       "\n",
       "       [[  1,   1,   1,   1,   1,   1,   1,   1,   1],\n",
       "        [  2,   2,   2,   2,   2,   2,   2,   2,   2],\n",
       "        [  3,   3, 100, 100, 100, 100,   3,   3,   3],\n",
       "        [  4,   4, 100, 100, 100, 100,   4,   4,   4],\n",
       "        [  5,   5,   5,   5,   5,   5,   5,   5,   5]]], mtype=buffer)"
      ]
     },
     "execution_count": 13,
     "metadata": {},
     "output_type": "execute_result"
    }
   ],
   "source": [
    "arr_gpu[1,2:4,2:6] = np.ones((2,4)) * 100\n",
    "arr_gpu"
   ]
  },
  {
   "cell_type": "code",
   "execution_count": 14,
   "id": "85ba698d-42c6-473b-b890-c3fef87893f8",
   "metadata": {
    "tags": []
   },
   "outputs": [
    {
     "name": "stdout",
     "output_type": "stream",
     "text": [
      "copy (2, 5, 9) [1, 1, 7] <- (3, 2) [1, 3, 2]\n"
     ]
    },
    {
     "data": {
      "text/html": [
       "<pre>array([[[  1,   1,  15,  15,  15,  15,   1,   1,   1],\n",
       "        [  2,   2,  15,  15,  15,  15,   2,   2,   2],\n",
       "        [  3,   3,  15,  15,  15,  15,   3,   3,   3],\n",
       "        [  4,   4,  15,  15,  15,  15,   4,   4,   4],\n",
       "        [  5,   5,  15,  15,  15,  15,   5,   5,   5]],\n",
       "\n",
       "       [[  1,   1,   1,   1,   1,   1,   1,   1,   1],\n",
       "        [  2,   2,   2,   2,   2,   2,   2,  -8,  -8],\n",
       "        [  3,   3, 100, 100, 100, 100,   3,  -8,  -8],\n",
       "        [  4,   4, 100, 100, 100, 100,   4,  -8,  -8],\n",
       "        [  5,   5,   5,   5,   5,   5,   5,   5,   5]]], mtype=buffer)</pre>"
      ],
      "text/plain": [
       "array([[[  1,   1,  15,  15,  15,  15,   1,   1,   1],\n",
       "        [  2,   2,  15,  15,  15,  15,   2,   2,   2],\n",
       "        [  3,   3,  15,  15,  15,  15,   3,   3,   3],\n",
       "        [  4,   4,  15,  15,  15,  15,   4,   4,   4],\n",
       "        [  5,   5,  15,  15,  15,  15,   5,   5,   5]],\n",
       "\n",
       "       [[  1,   1,   1,   1,   1,   1,   1,   1,   1],\n",
       "        [  2,   2,   2,   2,   2,   2,   2,  -8,  -8],\n",
       "        [  3,   3, 100, 100, 100, 100,   3,  -8,  -8],\n",
       "        [  4,   4, 100, 100, 100, 100,   4,  -8,  -8],\n",
       "        [  5,   5,   5,   5,   5,   5,   5,   5,   5]]], mtype=buffer)"
      ]
     },
     "execution_count": 14,
     "metadata": {},
     "output_type": "execute_result"
    }
   ],
   "source": [
    "arr_gpu[1,1:4,7:9] = cle.asarray(np.ones((3,2)) * -8)\n",
    "arr_gpu"
   ]
  },
  {
   "cell_type": "code",
   "execution_count": null,
   "id": "078cad48-8a6f-4124-a136-92982de33a30",
   "metadata": {},
   "outputs": [],
   "source": []
  },
  {
   "cell_type": "code",
   "execution_count": null,
   "id": "fc696f29-08f5-4fd1-8336-479bad57ca90",
   "metadata": {},
   "outputs": [],
   "source": []
  }
 ],
 "metadata": {
  "kernelspec": {
   "display_name": "Python 3 (ipykernel)",
   "language": "python",
   "name": "python3"
  },
  "language_info": {
   "codemirror_mode": {
    "name": "ipython",
    "version": 3
   },
   "file_extension": ".py",
   "mimetype": "text/x-python",
   "name": "python",
   "nbconvert_exporter": "python",
   "pygments_lexer": "ipython3",
   "version": "3.11.5"
  }
 },
 "nbformat": 4,
 "nbformat_minor": 5
}
