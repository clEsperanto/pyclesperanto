{
 "cells": [
  {
   "cell_type": "code",
   "execution_count": 1,
   "metadata": {},
   "outputs": [
    {
     "name": "stdout",
     "output_type": "stream",
     "text": [
      "clesperanto version: (0, 6, 2)\n"
     ]
    }
   ],
   "source": [
    "import numpy as np\n",
    "from pyclesperanto import Clesperanto"
   ]
  },
  {
   "cell_type": "markdown",
   "metadata": {},
   "source": [
    "## Initialisation of device\n",
    "\n",
    "Major difference with pyclesperanto-prototype approach is that we need to initialise the Clesperanto class.\n",
    "This step is easily forgetable, would nice to be automatised if possible."
   ]
  },
  {
   "cell_type": "code",
   "execution_count": 2,
   "metadata": {},
   "outputs": [],
   "source": [
    "cle = Clesperanto()"
   ]
  },
  {
   "cell_type": "markdown",
   "metadata": {},
   "source": [
    "Once instanciated, we can have acces to various properties and function get information on the device, the name, or also inquires about other possible available devices."
   ]
  },
  {
   "cell_type": "code",
   "execution_count": 3,
   "metadata": {},
   "outputs": [
    {
     "ename": "AttributeError",
     "evalue": "'Clesperanto' object has no attribute 'device_info'",
     "output_type": "error",
     "traceback": [
      "\u001b[0;31m---------------------------------------------------------------------------\u001b[0m",
      "\u001b[0;31mAttributeError\u001b[0m                            Traceback (most recent call last)",
      "Cell \u001b[0;32mIn [3], line 1\u001b[0m\n\u001b[0;32m----> 1\u001b[0m cle\u001b[39m.\u001b[39mdevice_info\n",
      "\u001b[0;31mAttributeError\u001b[0m: 'Clesperanto' object has no attribute 'device_info'"
     ]
    }
   ],
   "source": [
    "cle.device_info"
   ]
  },
  {
   "cell_type": "code",
   "execution_count": null,
   "metadata": {},
   "outputs": [],
   "source": [
    "cle.list_available_devices()"
   ]
  },
  {
   "cell_type": "code",
   "execution_count": null,
   "metadata": {},
   "outputs": [],
   "source": [
    "cle.device_name"
   ]
  },
  {
   "cell_type": "markdown",
   "metadata": {},
   "source": [
    "Finally it is possible to select a specific device using a key string as input. Either with the `select_device()` methods or directly during the class instanciation."
   ]
  },
  {
   "cell_type": "code",
   "execution_count": null,
   "metadata": {},
   "outputs": [],
   "source": [
    "cle.select_device(\"GTX\")"
   ]
  },
  {
   "cell_type": "code",
   "execution_count": null,
   "metadata": {},
   "outputs": [],
   "source": [
    "cle = Clesperanto(\"GTX\")"
   ]
  },
  {
   "cell_type": "markdown",
   "metadata": {},
   "source": [
    "## create, create_like, push, pull\n",
    "\n",
    "The data manipulation can then be managed by those four methods."
   ]
  },
  {
   "cell_type": "code",
   "execution_count": null,
   "metadata": {},
   "outputs": [],
   "source": [
    "numpy_array = np.random.rand(2,5,10)\n",
    "print(\"numpy_array: \",type(numpy_array),numpy_array.shape,numpy_array.dtype)"
   ]
  },
  {
   "cell_type": "code",
   "execution_count": null,
   "metadata": {},
   "outputs": [],
   "source": [
    "cle_buffer = cle.create(numpy_array.shape)\n",
    "print(\"cle_buffer: \",type(cle_buffer), cle_buffer.shape(), cle_buffer.dtype(), cle_buffer.otype())\n",
    "cle_buffer = cle.create(numpy_array.shape, otype=\"buffer\")\n",
    "print(\"cle_buffer: \",type(cle_buffer), cle_buffer.shape(), cle_buffer.dtype(), cle_buffer.otype())\n",
    "cle_image = cle.create(numpy_array.shape, otype=\"image\")\n",
    "print(\"cle_image: \",type(cle_image), cle_image.shape(), cle_image.dtype(), cle_image.otype())"
   ]
  },
  {
   "cell_type": "code",
   "execution_count": null,
   "metadata": {},
   "outputs": [],
   "source": [
    "cle_buffer = cle.push(numpy_array)\n",
    "print(\"cle_buffer: \",type(cle_buffer), cle_buffer.shape(), cle_buffer.dtype(), cle_buffer.otype())\n",
    "cle_buffer = cle.push(numpy_array, otype=\"buffer\")\n",
    "print(\"cle_buffer: \",type(cle_buffer), cle_buffer.shape(), cle_buffer.dtype(), cle_buffer.otype())\n",
    "cle_image = cle.push(numpy_array, otype=\"image\")\n",
    "print(\"cle_image: \",type(cle_image), cle_image.shape(), cle_image.dtype(), cle_image.otype())"
   ]
  },
  {
   "cell_type": "code",
   "execution_count": null,
   "metadata": {},
   "outputs": [],
   "source": [
    "cle_like_buffer = cle.create_like(cle_buffer)\n",
    "print(\"cle_like_buffer: \",type(cle_like_buffer), cle_like_buffer.shape(), cle_like_buffer.dtype(), cle_like_buffer.otype())\n",
    "cle_like_image = cle.create_like(cle_image)\n",
    "print(\"cle_like_image: \",type(cle_like_image), cle_like_image.shape(), cle_like_image.dtype(), cle_like_image.otype())\n",
    "cle_like_numpy = cle.create_like(numpy_array)\n",
    "print(\"cle_like_numpy: \",type(cle_like_numpy), cle_like_numpy.shape(), cle_like_numpy.dtype(), cle_like_numpy.otype())"
   ]
  },
  {
   "cell_type": "code",
   "execution_count": null,
   "metadata": {},
   "outputs": [],
   "source": [
    "output_numpy_arr = cle.pull(cle_buffer)\n",
    "print(\"output_numpy_arr: \",type(output_numpy_arr), output_numpy_arr.shape, output_numpy_arr.dtype)\n",
    "output_numpy_arr = cle.pull(cle_image)\n",
    "print(\"output_numpy_arr: \",type(output_numpy_arr), output_numpy_arr.shape, output_numpy_arr.dtype)"
   ]
  },
  {
   "cell_type": "markdown",
   "metadata": {},
   "source": [
    "For now, the interface only suport numpy."
   ]
  },
  {
   "cell_type": "markdown",
   "metadata": {},
   "source": [
    "## Call for kernel function\n",
    "\n",
    "The class is also populated by function to apply kernel operation."
   ]
  },
  {
   "cell_type": "code",
   "execution_count": null,
   "metadata": {},
   "outputs": [],
   "source": [
    "numpy_array = np.random.rand(2,5,10)\n",
    "cle_buffer = cle.push(numpy_array, \"buffer\")\n",
    "cle_output = cle.create(numpy_array.shape, \"buffer\")\n",
    "cle.add_image_and_scalar(input_image=cle_buffer, output_image=cle_output, scalar=100)\n",
    "output_array = cle.pull(cle_output)"
   ]
  },
  {
   "cell_type": "markdown",
   "metadata": {},
   "source": [
    "This execution call can be simply.\n",
    "\n",
    "First, it is possible to not provide the output and let the method return one automaticaly. In this case, this output is first create using the `create_like` method (see above). Hence if the output will of the same object type as the input object."
   ]
  },
  {
   "cell_type": "code",
   "execution_count": null,
   "metadata": {},
   "outputs": [],
   "source": [
    "numpy_array = np.random.rand(2,5,10)\n",
    "cle_buffer = cle.push(numpy_array, \"buffer\")\n",
    "cle_output = cle.add_image_and_scalar(input_image=cle_buffer, scalar=100)\n",
    "output_array = cle.pull(cle_output)"
   ]
  },
  {
   "cell_type": "markdown",
   "metadata": {},
   "source": [
    "It is also possible to avoid the `push` operation as such:"
   ]
  },
  {
   "cell_type": "code",
   "execution_count": null,
   "metadata": {},
   "outputs": [],
   "source": [
    "numpy_array = np.random.rand(2,5,10)\n",
    "cle_output = cle.add_image_and_scalar(input_image=numpy_array, scalar=100)\n",
    "output_array = cle.pull(cle_output)"
   ]
  },
  {
   "cell_type": "markdown",
   "metadata": {},
   "source": [
    "But it is important to know that by default, the object type used in those case will be `buffer`. From there we can create execution pipeline."
   ]
  },
  {
   "cell_type": "markdown",
   "metadata": {},
   "source": [
    "## Pipeline"
   ]
  },
  {
   "cell_type": "code",
   "execution_count": null,
   "metadata": {},
   "outputs": [],
   "source": [
    "from skimage import data\n",
    "from skimage.io import imshow\n",
    "\n",
    "image = data.brick()\n",
    "imshow(image)"
   ]
  },
  {
   "cell_type": "code",
   "execution_count": null,
   "metadata": {},
   "outputs": [],
   "source": [
    "sigma = 1.5\n",
    "blurred = cle.gaussian_blur(input_image=image, sigma_x=sigma, sigma_y=sigma)\n",
    "imshow(cle.pull(blurred))"
   ]
  },
  {
   "cell_type": "code",
   "execution_count": null,
   "metadata": {},
   "outputs": [],
   "source": [
    "binary = cle.greater_or_equal_constant(input_image=blurred, scalar=110)\n",
    "imshow(cle.pull(binary))"
   ]
  },
  {
   "cell_type": "code",
   "execution_count": null,
   "metadata": {},
   "outputs": [],
   "source": [
    "inverted = cle.binary_not(input_image=binary)\n",
    "imshow(cle.pull(inverted))"
   ]
  },
  {
   "cell_type": "code",
   "execution_count": null,
   "metadata": {},
   "outputs": [],
   "source": [
    "labelled = cle.connected_components_labeling_box(input_image=inverted)\n",
    "imshow(cle.pull(labelled))"
   ]
  }
 ],
 "metadata": {
  "kernelspec": {
   "display_name": "Python 3.10.4 ('skbuild')",
   "language": "python",
   "name": "python3"
  },
  "language_info": {
   "codemirror_mode": {
    "name": "ipython",
    "version": 3
   },
   "file_extension": ".py",
   "mimetype": "text/x-python",
   "name": "python",
   "nbconvert_exporter": "python",
   "pygments_lexer": "ipython3",
   "version": "3.10.4"
  },
  "vscode": {
   "interpreter": {
    "hash": "1bf89b5e425e511e6208a82dd7a3225392f448ad069ddd9557f507f6073233bf"
   }
  }
 },
 "nbformat": 4,
 "nbformat_minor": 4
}
