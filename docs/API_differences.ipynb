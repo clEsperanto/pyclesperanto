{
 "cells": [
  {
   "cell_type": "markdown",
   "id": "cbe8880f-58c4-4d1c-b695-a3229b3b2f38",
   "metadata": {
    "tags": []
   },
   "source": [
    "# API differences between pyclesperanto and pyclesperanto_prototype\n",
    "In this notebook we will print out the functions that exist in both libraries, or only in one of both."
   ]
  },
  {
   "cell_type": "code",
   "execution_count": 33,
   "id": "0d976d35-2d0c-46ae-81d5-c051a1859d13",
   "metadata": {
    "tags": []
   },
   "outputs": [],
   "source": [
    "import pyclesperanto as cle\n",
    "import pyclesperanto_prototype as clep"
   ]
  },
  {
   "cell_type": "code",
   "execution_count": 34,
   "id": "7b82cd21-cfd2-4839-919a-dc57a45da29a",
   "metadata": {
    "tags": []
   },
   "outputs": [
    {
     "name": "stdout",
     "output_type": "stream",
     "text": [
      "pyclesperanto (0.10.3) v.s. pyclespernato_prototype (0.24.4)\n"
     ]
    }
   ],
   "source": [
    "print(f\"pyclesperanto ({cle.__version__}) v.s. pyclespernato_prototype ({clep.__version__})\")"
   ]
  },
  {
   "cell_type": "code",
   "execution_count": 35,
   "id": "e90f3315-c782-4cd2-b338-91eabc27a22b",
   "metadata": {
    "tags": []
   },
   "outputs": [],
   "source": [
    "names_cle = {func for func in dir(cle) if not func.startswith(\"_\")}\n",
    "names_clep = {func for func in dir(clep) if not func.startswith(\"_\")}"
   ]
  },
  {
   "cell_type": "markdown",
   "id": "56301d53-7f02-4582-b852-4964726009f6",
   "metadata": {
    "tags": []
   },
   "source": [
    "## Functions that exist in pyclesperanto and pyclesperanto_prototype "
   ]
  },
  {
   "cell_type": "code",
   "execution_count": 36,
   "id": "f049c842-3e13-41ec-9f51-4aee89f4aa0e",
   "metadata": {
    "tags": []
   },
   "outputs": [
    {
     "name": "stdout",
     "output_type": "stream",
     "text": [
      "{'pull', 'z_position_of_maximum_z_projection', 'smaller_constant', 'variance_box', 'histogram', 'gamma_correction', 'cl_info', 'degrees_to_radians', 'smooth_labels', 'divide_by_gaussian_background', 'maximum_of_all_pixels', 'detect_maxima_box', 'minimum_x_projection', 'maximum_image_and_scalar', 'sign', 'radians_to_degrees', 'bottom_hat_sphere', 'subtract_gaussian_background', 'scale', 'mean_z_projection', 'get_device', 'sum_reduction_x', 'bounding_box', 'threshold_otsu', 'available_device_names', 'detect_label_edges', 'set_wait_for_kernel_finish', 'standard_deviation_sphere', 'undefined_to_zero', 'exclude_labels_on_edges', 'gauss_otsu_labeling', 'erode_box', 'transpose_yz', 'mean_of_all_pixels', 'divide_images', 'label_spots', 'squared_difference', 'maximum_y_projection', 'minimum_z_projection', 'greater_or_equal_constant', 'not_equal', 'push', 'mean_y_projection', 'add_images', 'standard_deviation_box', 'mean_sphere', 'set_nonzero_pixels_to_pixelindex', 'rigid_transform', 'binary_and', 'gaussian_blur', 'relabel_sequential', 'flag_existing_labels', 'maximum_x_projection', 'minimum_of_all_pixels', 'equal', 'x_position_of_maximum_x_projection', 'z_position_of_minimum_z_projection', 'exponential', 'minimum_images', 'variance_sphere', 'median_box', 'set_image_borders', 'opening_sphere', 'fabs', 'transpose_xz', 'generate_distance_matrix', 'onlyzero_overwrite_maximum_diamond', 'closing_sphere', 'binary_or', 'nan_to_num', 'opening_box', 'power', 'reciprocal', 'create_like', 'gradient_y', 'square_root', 'minimum_of_masked_pixels', 'mean_squared_error', 'nonzero_maximum_box', 'greater', 'local_cross_correlation', 'mean_x_projection', 'dilate_box', 'logarithm', 'erode_sphere', 'closing_box', 'set', 'set_ramp_x', 'paste', 'median_sphere', 'execute', 'flip', 'generate_touch_matrix', 'create', 'not_equal_constant', 'binary_subtract', 'dilate_labels', 'mod', 'maximum', 'plugin_function', 'label', 'maximum_images', 'invert', 'minimum_position', 'reduce_labels_to_label_edges', 'imshow', 'exclude_labels', 'subtract_images', 'gradient_x', 'count_touching_neighbors', 'greater_or_equal', 'mask', 'y_position_of_minimum_y_projection', 'smaller_or_equal_constant', 'crop_border', 'spots_to_pointlist', 'minimum_sphere', 'range', 'combine_labels', 'greater_constant', 'cubic_root', 'set_where_x_smaller_than_y', 'absolute', 'maximum_position', 'erode_connected_labels', 'set_where_x_greater_than_y', 'smaller_or_equal', 'set_ramp_z', 'set_column', 'sum_y_projection', 'large_hessian_eigenvalue', 'eroded_otsu_labeling', 'sqrt', 'mode_box', 'affine_transform', 'minimum_box', 'write_values_to_positions', 'copy', 'copy_slice', 'generate_binary_overlap_matrix', 'maximum_box', 'maximum_sphere', 'mean_box', 'translate', 'labelled_spots_to_pointlist', 'divide_scalar_by_image', 'add_images_weighted', 'square', 'select_device', 'nonzero_minimum_diamond', 'power_images', 'binary_xor', 'subtract_image_from_scalar', 'clip', 'mask_label', 'copy_vertical_slice', 'nonzero_maximum_diamond', 'binary_not', 'set_row', 'multiply_images', 'equal_constant', 'onlyzero_overwrite_maximum_box', 'center_of_mass', 'detect_minima_box', 'sobel', 'cbrt', 'block_enumerate', 'top_hat_box', 'opening_labels', 'y_position_of_maximum_y_projection', 'laplace_diamond', 'binary_edge_detection', 'x_position_of_minimum_x_projection', 'maximum_z_projection', 'gradient_z', 'minimum', 'asarray', 'laplace_box', 'multiply_image_and_scalar', 'hessian_eigenvalues', 'rotate', 'sum_z_projection', 'difference_of_gaussian', 'sum_x_projection', 'absolute_difference', 'add_image_and_scalar', 'voronoi_labeling', 'bottom_hat_box', 'jaccard_index', 'voronoi_otsu_labeling', 'mode_sphere', 'crop', 'convolve', 'closing_labels', 'extend_labeling_via_voronoi', 'set_ramp_y', 'Image', 'smaller', 'top_hat_sphere', 'sum_of_all_pixels', 'copy_horizontal_slice', 'dilate_sphere', 'erode_labels', 'set_plane', 'small_hessian_eigenvalue', 'transpose_xy', 'nonzero_minimum_box', 'masked_voronoi_labeling', 'array_equal', 'modulo_images', 'minimum_image_and_scalar', 'minimum_y_projection', 'multiply_matrix', 'set_where_x_equals_y'}\n"
     ]
    }
   ],
   "source": [
    "print(names_cle.intersection(names_clep))"
   ]
  },
  {
   "cell_type": "markdown",
   "id": "b6ff24d1-8e09-4041-a3d2-95da4224b18e",
   "metadata": {
    "tags": []
   },
   "source": [
    "## Functions that are new in pyclesperanto "
   ]
  },
  {
   "cell_type": "code",
   "execution_count": 37,
   "id": "df54b3cc-69ed-4cde-9ad0-04e9e79df43b",
   "metadata": {
    "tags": []
   },
   "outputs": [
    {
     "name": "stdout",
     "output_type": "stream",
     "text": [
      "{'nonzero_minimum', 'native_execute', 'Union', 'standard_deviation', 'variance', 'multiply_image_and_position', 'list_operations', 'Device', 'replace_values', 'read_values_from_positions', 'default_initialisation', 'wait_for_kernel_to_finish', 'list_available_devices', 'onlyzero_overwrite_maximum', 'info', 'median', 'detect_minima', 'np', 'std_z_projection', 'Array', 'concatenate_along_z', 'concatenate_along_x', 'mode', 'label_bounding_box', 'detect_maxima', 'nonzero_maximum', 'dilate', 'closing', 'concatenate_along_y', 'list_available_backends', 'warnings', 'opening', 'erode', 'smooth_connected_labels', 'connected_components_labeling', 'is_image', 'select_backend', 'replace_value', 'top_hat', 'laplace', 'mean', 'bottom_hat', 'Optional'}\n"
     ]
    }
   ],
   "source": [
    "print(names_cle.difference(names_clep))"
   ]
  },
  {
   "cell_type": "markdown",
   "id": "4653c087-ee74-4572-b494-a208ff042b1f",
   "metadata": {
    "tags": []
   },
   "source": [
    "## Functions that only exist in _prototype"
   ]
  },
  {
   "cell_type": "code",
   "execution_count": 38,
   "id": "d249687d-6228-4093-b14d-11fde4d25ec3",
   "metadata": {
    "tags": []
   },
   "outputs": [
    {
     "name": "stdout",
     "output_type": "stream",
     "text": [
      "{'categories', 'logical_and', 'generate_touch_mean_intensity_matrix', 'n_closest_points', 'average_neighbor_distance_map', 'statistics_of_background_and_labelled_pixels', 'average_distance_of_n_far_off_distances', 'draw_mesh_between_n_most_touching_labels', 'label_maximum_intensity_map', 'sorensen_dice_coefficient', 'standard_deviation_z_projection', 'create_vector_from_labelmap', 'maximum_distance_of_touching_neighbors', 'push_regionprops', 'symmetric_mean_matrix', 'statistics_of_labelled_pixels', 'logical_not', 'extend_labels_with_maximum_radius', 'z_position_range_projection', 'average_distance_to_n_nearest_other_labels_map', 'threshold', 'arg_maximum_z_projection', 'create_2d_zy', 'close_index_gaps_in_label_map', 'draw_touch_portion_mesh_between_touching_labels', 'erode_sphere_slice_by_slice', 'pointlist_to_labelled_spots', 'local_maximum_touching_neighbor_count_map', 'log', 'maximum_of_n_nearest_neighbors_map', 'draw_sphere', 'generate_touch_portion_within_range_neighbors_matrix', 'create_2d_xy', 'maximum_of_n_most_touching_neighbors_map', 'touch_portion_within_range_neighbor_count', 'generate_minimum_intensity_between_points_matrix', 'proximal_other_labels_count_map', 'create_none', 'mean_of_touching_neighbors_map', 'n_nearest_labels_to_igraph', 'exclude_labels_out_of_size_range', 'standard_deviation_of_touching_neighbors_map', 'operation', 'label_overlap_count_map', 'logical_xor', 'label_standard_deviation_intensity_map', 'mode_of_n_nearest_neighbors_map', 'pixel_count_map', 'mean_extension_map', 'mean_of_distal_neighbors_map', 'create_square_matrix_from_pointlist', 'standard_deviation_intensity_map', 'maximum_of_proximal_neighbors_map', 'replace_intensity', 'label_nonzero_pixel_count_ratio_map', 'proximal_neighbor_count', 'touching_neighbor_count_map', 'minimum_of_proximal_neighbors_map', 'label_minimum_intensity_map', 'maximum_distance_of_n_closest_points', 'generate_maximum_intensity_between_points_matrix', 'proximal_labels_to_igraph', 'exclude_large_labels', 'draw_distance_mesh_between_touching_labels', 'deskew_x', 'symmetric_maximum_matrix', 'exclude_labels_with_map_values_within_range', 'generate_touch_mean_intensity_within_range_matrix', 'concatenate_stacks', 'artificial_tissue_2d', 'stitch_horizontally_linear_blending', 'z_position_projection', 'generate_touch_count_matrix', 'label_to_mask', 'draw_mesh_between_n_closest_labels', 'apply_vector_field', 'exclude_labels_with_values_out_of_range', 'average_distance_of_n_closest_neighbors_map', 'connected_components_labeling_diamond', 'generate_distal_neighbors_matrix', 'standard_deviation_of_distal_neighbors_map', 'minimum_of_n_most_touching_neighbors_map', 'artificial_objects_2d', 'minimum_of_touching_neighbors_map', 'standard_deviation_of_n_nearest_neighbors_map', 'empty_image_like', 'create_2d_xz', 'create_2d_yx', 'minimum_of_touch_portion_within_range_neighbors_map', 'arg_minimum_x_projection', 'draw_mesh_between_proximal_labels', 'standard_deviation_touch_portion', 'downsample_xy_by_half_median', 'generate_standard_deviation_intensity_between_points_matrix', 'proximal_labels_to_networkx', 'exclude_labels_with_average_values_within_range', 'mean_of_n_nearest_neighbors_map', 'read_intensities_from_positions', 'maximum_extension_map', 'point_index_list_to_mesh', 'mean_of_touching_neighbors', 'subtract_labels', 'touching_labels_to_igraph', 'symmetric_minimum_matrix', 'draw_mesh_between_labels_with_touch_portion_in_range', 'average_distance_of_n_far_off_points', 'draw_mesh_between_touching_labels', 'average_distance_of_n_closest_points', 'combine_horizontally', 'create_pointlist_from_labelmap', 'exclude_labels_with_values_equal_to_constant', 'create_square_matrix_from_labelmap', 'mean_intensity_map', 'local_median_touching_neighbor_count_map', 'STATISTICS_ENTRY', 'empty_image', 'proximal_neighbor_count_map', 'create_image', 'statistics_of_labelled_neighbors', 'create_2d_zx', 'touching_labels_to_networkx', 'create_vector_from_square_matrix', 'label_nonzero_pixel_count_map', 'point_index_list_to_touch_matrix', 'standard_deviation_of_touching_neighbors', 'create_zyx', 'distance_matrix_to_mesh', 'push_regionprops_column', 'draw_line', 'dilate_sphere_slice_by_slice', 'is_matrix_symmetric', 'sigma_to_kernel_size', 'merge_labels_according_to_touch_matrix', 'exclude_labels_with_values_within_range', 'create_square_matrix_from_two_labelmaps', 'mean_of_touch_portion_within_range_neighbors_map', 'multiply_image_and_coordinate', 'array_equiv', 'set_device_scoring_key', 'euclidean_distance_from_label_centroid_map', 'average_distance_of_n_nearest_distances', 'median_of_touching_neighbors', 'symmetric_sum_matrix', 'exclude_labels_outside_size_range', 'create_binary_like', 'extended_depth_of_focus_variance_projection', 'mode_of_touch_portion_within_range_neighbors_map', 'search_operation_names', 'stitch_vertically_linear_blending', 'exclude_small_labels', 'touch_matrix_to_adjacency_matrix', 'prefix_in_x', 'exclude_labels_with_average_values_out_of_range', 'draw_touch_portion_ratio_mesh_between_touching_labels', 'average_distance_of_n_shortest_distances', 'remainder', 'create_matrix_from_pointlists', 'draw_angle_mesh_between_touching_labels', 'arg_minimum_z_projection', 'set_non_zero_pixels_to_pixel_index', 'generate_n_most_touching_neighbors_matrix', 'nparray', 'mean_of_n_most_touching_neighbors_map', 'label_mean_intensity_map', 'erode_box_slice_by_slice', 'mode_of_n_most_touching_neighbors_map', 'draw_box', 'touch_portion_within_range_neighbor_count_map', 'minimum_of_n_nearest_neighbors_map', 'mode_of_touching_neighbors_map', 'arg_minimum_y_projection', 'merge_labels_with_border_intensity_within_range', 'exclude_labels_with_map_values_not_equal_to_constant', 'exclude_labels_with_map_values_equal_to_constant', 'exclude_labels_with_values_not_equal_to_constant', 'imread', 'map_array', 'minimum_of_distal_neighbors_map', 'platform', 'radius_to_kernel_size', 'draw_distance_mesh_between_proximal_labels', 'logical_or', 'merge_annotated_touching_labels', 'maximum_distance_of_n_shortest_distances', 'maximum_of_touching_neighbors_map', 'generate_angle_matrix', 'label_pixel_count_map', 'mode_of_proximal_neighbors_map', 'merge_touching_labels', 'mode_of_distal_neighbors_map', 'create_from_pointlist', 'neighbors_of_neighbors', 'centroids_of_labels', 'create_2d_yz', 'label_maximum_extension_map', 'read_intensities_from_map', 'touch_matrix_to_mesh', 'standard_deviation_of_n_most_touching_neighbors_map', 'binary_union', 'combine_vertically', 'maximum_intensity_map', 'sub_stack', 'standard_deviation_touch_portion_map', 'mean_of_proximal_neighbors_map', 'resample', 'reduce_labels_to_centroids', 'label_maximum_extension_ratio_map', 'flag_existing_intensities', 'local_mean_touching_neighbor_count_map', 'reduce_stack', 'deskew_y', 'regionprops', 'push_zyx', 'generate_touch_portion_matrix', 'average_distance_of_touching_neighbors', 'execute_separable_kernel', 'AffineTransform3D', 'exclude_labels_with_map_values_out_of_range', 'standard_deviation_of_proximal_neighbors_map', 'generate_should_touch_matrix', 'create_labels_like', 'minimum_intensity_map', 'pull_zyx', 'Backend', 'arg_maximum_y_projection', 'minimum_distance_of_touching_neighbors', 'to_igraph', 'draw_distance_mesh_between_n_nearest_labels', 'proximal_other_labels_count', 'to_networkx', 'local_standard_deviation_touching_neighbor_count_map', 'binary_intersection', 'fill_zeros_inpainting', 'generate_proximal_neighbors_matrix', 'minimum_of_touching_neighbors', 'statistics_of_image', 'generate_n_nearest_neighbors_matrix', 'fill_diagonal', 'maximum_of_distal_neighbors_map', 'maximum_of_touch_portion_within_range_neighbors_map', 'mode_of_touching_neighbors', 'local_minimum_touching_neighbor_count_map', 'standard_deviation_of_touch_portion_within_range_neighbors_map', 'operations', 'n_nearest_labels_to_networkx', 'exp', 'downsample_slice_by_slice_half_median', 'average_distance_of_n_nearest_neighbors_map', 'generate_mean_intensity_between_points_matrix', 'label_centroids_to_pointlist', 'centroids_of_background_and_labels', 'dilate_box_slice_by_slice', 'connected_components_labeling_box', 'arg_maximum_x_projection', 'label_mean_extension_map', 'extension_ratio_map', 'replace_intensities', 'maximum_of_touching_neighbors'}\n"
     ]
    }
   ],
   "source": [
    "print(names_clep.difference(names_cle))"
   ]
  },
  {
   "cell_type": "markdown",
   "id": "35965b6d-823a-49c1-805c-f04e7d902caf",
   "metadata": {},
   "source": [
    "## Exploring functions per tiers"
   ]
  },
  {
   "cell_type": "code",
   "execution_count": 39,
   "id": "852d922e-a351-4c2a-bec6-3685ce349361",
   "metadata": {},
   "outputs": [],
   "source": [
    "def compare_tiers(module1, module2, module1_name, module2_name, tier_number):\n",
    "    tier_name = f\"_tier{tier_number}\"\n",
    "    module1_tier_funcs = {func for func in dir(getattr(module1, tier_name, [])) if not func.startswith(\"_\") and not func[0].isupper()}\n",
    "    module2_tier_funcs = {func for func in dir(getattr(module2, tier_name, [])) if not func.startswith(\"_\") and not func[0].isupper()}\n",
    "\n",
    "    missing_in_module1 = module2_tier_funcs.difference(module1_tier_funcs)\n",
    "    missing_in_module2 = module1_tier_funcs.difference(module2_tier_funcs)\n",
    "    \n",
    "    if missing_in_module1 or missing_in_module2:\n",
    "        print(f\"\\033[1mTier {tier_number} Differences:\\033[0m\")\n",
    "        if missing_in_module1:\n",
    "            print(f\"\\033[1m- Functions in {module2_name} not in {module1_name}:\\033[0m\\n {sorted(missing_in_module1)}\\n\")\n",
    "        if missing_in_module2:\n",
    "            print(f\"\\033[1m- Functions in {module1_name} not in {module2_name}:\\033[0m\\n {sorted(missing_in_module2)}\\n\")\n",
    "        print()  # Add a newline for better separation"
   ]
  },
  {
   "cell_type": "code",
   "execution_count": 40,
   "id": "5ac38615-14d1-4ed7-9b0d-20846ad0f3cb",
   "metadata": {},
   "outputs": [
    {
     "name": "stdout",
     "output_type": "stream",
     "text": [
      "\u001b[1mTier 1 Differences:\u001b[0m\n",
      "\u001b[1m- Functions in prototype not in pyclesperanto:\u001b[0m\n",
      " ['average_distance_of_n_closest_points', 'average_distance_of_n_far_off_distances', 'average_distance_of_n_far_off_points', 'average_distance_of_n_nearest_distances', 'average_distance_of_n_shortest_distances', 'average_distance_of_touching_neighbors', 'binary_intersection', 'binary_union', 'cbrt', 'count_touching_neighbors', 'detect_maxima_box', 'detect_minima_box', 'dilate_box_slice_by_slice', 'dilate_sphere_slice_by_slice', 'downsample_slice_by_slice_half_median', 'downsample_xy_by_half_median', 'draw_box', 'draw_line', 'draw_sphere', 'erode_box_slice_by_slice', 'erode_sphere_slice_by_slice', 'execute_separable_kernel', 'exp', 'fabs', 'fill_diagonal', 'generate_angle_matrix', 'generate_binary_overlap_matrix', 'generate_touch_matrix', 'label_to_mask', 'log', 'logical_and', 'logical_not', 'logical_or', 'logical_xor', 'map_array', 'maximum_distance_of_n_closest_points', 'maximum_distance_of_n_shortest_distances', 'maximum_distance_of_touching_neighbors', 'minimum_distance_of_touching_neighbors', 'mod', 'multiply_image_and_coordinate', 'n_closest_points', 'point_index_list_to_mesh', 'point_index_list_to_touch_matrix', 'read_intensities_from_map', 'read_intensities_from_positions', 'remainder', 'replace_intensities', 'replace_intensity', 'resample', 'set_non_zero_pixels_to_pixel_index', 'sqrt', 'standard_deviation_z_projection', 'threshold', 'touch_matrix_to_mesh']\n",
      "\n",
      "\u001b[1m- Functions in pyclesperanto not in prototype:\u001b[0m\n",
      " ['block_enumerate', 'dilate', 'erode', 'laplace', 'local_cross_correlation', 'mean', 'median', 'mode', 'multiply_image_and_position', 'nonzero_maximum', 'nonzero_minimum', 'np', 'onlyzero_overwrite_maximum', 'plugin_function', 'read_values_from_positions', 'replace_value', 'replace_values', 'std_z_projection', 'sum_reduction_x', 'variance', 'warnings', 'x_position_of_maximum_x_projection', 'x_position_of_minimum_x_projection', 'y_position_of_maximum_y_projection', 'y_position_of_minimum_y_projection', 'z_position_of_maximum_z_projection', 'z_position_of_minimum_z_projection']\n",
      "\n",
      "\n"
     ]
    }
   ],
   "source": [
    "compare_tiers(cle, clep, \"pyclesperanto\", \"prototype\", 1)"
   ]
  },
  {
   "cell_type": "code",
   "execution_count": 43,
   "id": "ebb64553-6a81-471a-aa2d-e5c169953f7b",
   "metadata": {},
   "outputs": [
    {
     "name": "stdout",
     "output_type": "stream",
     "text": [
      "\u001b[1mTier 2 Differences:\u001b[0m\n",
      "\u001b[1m- Functions in prototype not in pyclesperanto:\u001b[0m\n",
      " ['arg_maximum_x_projection', 'arg_maximum_y_projection', 'arg_maximum_z_projection', 'arg_minimum_x_projection', 'arg_minimum_y_projection', 'arg_minimum_z_projection', 'block_enumerate', 'combine_horizontally', 'combine_vertically', 'concatenate_stacks', 'distance_matrix_to_mesh', 'flag_existing_intensities', 'flag_existing_labels', 'gamma_correction', 'generate_maximum_intensity_between_points_matrix', 'generate_mean_intensity_between_points_matrix', 'generate_minimum_intensity_between_points_matrix', 'generate_should_touch_matrix', 'generate_standard_deviation_intensity_between_points_matrix', 'maximum_of_touching_neighbors', 'mean_of_touching_neighbors', 'median_of_touching_neighbors', 'minimum_of_touching_neighbors', 'mode_of_touching_neighbors', 'neighbors_of_neighbors', 'pointlist_to_labelled_spots', 'prefix_in_x', 'reduce_stack', 'standard_deviation_of_touching_neighbors', 'sub_stack', 'sum_reduction_x', 'symmetric_maximum_matrix', 'symmetric_mean_matrix', 'symmetric_minimum_matrix', 'symmetric_sum_matrix', 'touch_matrix_to_adjacency_matrix', 'x_position_of_maximum_x_projection', 'x_position_of_minimum_x_projection', 'y_position_of_maximum_y_projection', 'y_position_of_minimum_y_projection', 'z_position_of_maximum_z_projection', 'z_position_of_minimum_z_projection', 'z_position_projection']\n",
      "\n",
      "\u001b[1m- Functions in pyclesperanto not in prototype:\u001b[0m\n",
      " ['absolute_difference', 'bottom_hat', 'closing', 'concatenate_along_x', 'concatenate_along_y', 'concatenate_along_z', 'count_touching_neighbors', 'detect_maxima', 'detect_maxima_box', 'detect_minima', 'detect_minima_box', 'difference_of_gaussian', 'divide_by_gaussian_background', 'extend_labeling_via_voronoi', 'np', 'opening', 'plugin_function', 'reduce_labels_to_label_edges', 'squared_difference', 'standard_deviation', 'subtract_gaussian_background', 'top_hat', 'warnings']\n",
      "\n",
      "\n"
     ]
    }
   ],
   "source": [
    "compare_tiers(cle, clep, \"pyclesperanto\", \"prototype\", 2)"
   ]
  },
  {
   "cell_type": "code",
   "execution_count": null,
   "id": "55fd9c88-de60-4e7a-b4f7-da7ef29febce",
   "metadata": {},
   "outputs": [],
   "source": []
  }
 ],
 "metadata": {
  "kernelspec": {
   "display_name": "Python 3 (ipykernel)",
   "language": "python",
   "name": "python3"
  },
  "language_info": {
   "codemirror_mode": {
    "name": "ipython",
    "version": 3
   },
   "file_extension": ".py",
   "mimetype": "text/x-python",
   "name": "python",
   "nbconvert_exporter": "python",
   "pygments_lexer": "ipython3",
   "version": "3.12.2"
  }
 },
 "nbformat": 4,
 "nbformat_minor": 5
}
