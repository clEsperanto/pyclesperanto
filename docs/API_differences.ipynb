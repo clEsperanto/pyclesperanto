{
 "cells": [
  {
   "cell_type": "markdown",
   "id": "cbe8880f-58c4-4d1c-b695-a3229b3b2f38",
   "metadata": {
    "tags": []
   },
   "source": [
    "# API differences between pyclesperanto and pyclesperanto_prototype\n",
    "In this notebook we will print out the functions that exist in both libraries, or only in one of both."
   ]
  },
  {
   "cell_type": "code",
   "execution_count": 1,
   "id": "0d976d35-2d0c-46ae-81d5-c051a1859d13",
   "metadata": {
    "tags": []
   },
   "outputs": [
    {
     "data": {
      "text/plain": [
       "'0.10.3'"
      ]
     },
     "execution_count": 1,
     "metadata": {},
     "output_type": "execute_result"
    }
   ],
   "source": [
    "import pyclesperanto as cle\n",
    "cle.__version__"
   ]
  },
  {
   "cell_type": "code",
   "execution_count": 2,
   "id": "7b82cd21-cfd2-4839-919a-dc57a45da29a",
   "metadata": {
    "tags": []
   },
   "outputs": [
    {
     "data": {
      "text/plain": [
       "'0.24.4'"
      ]
     },
     "execution_count": 2,
     "metadata": {},
     "output_type": "execute_result"
    }
   ],
   "source": [
    "import pyclesperanto_prototype as clep\n",
    "clep.__version__"
   ]
  },
  {
   "cell_type": "code",
   "execution_count": 3,
   "id": "e90f3315-c782-4cd2-b338-91eabc27a22b",
   "metadata": {
    "tags": []
   },
   "outputs": [],
   "source": [
    "names_cle = {func for func in dir(cle) if not func.startswith(\"_\")}\n",
    "names_clep = {func for func in dir(clep) if not func.startswith(\"_\")}"
   ]
  },
  {
   "cell_type": "markdown",
   "id": "56301d53-7f02-4582-b852-4964726009f6",
   "metadata": {
    "tags": []
   },
   "source": [
    "## Functions that exist in pyclesperanto and pyclesperanto_prototype "
   ]
  },
  {
   "cell_type": "code",
   "execution_count": 4,
   "id": "f049c842-3e13-41ec-9f51-4aee89f4aa0e",
   "metadata": {
    "tags": []
   },
   "outputs": [
    {
     "name": "stdout",
     "output_type": "stream",
     "text": [
      "{'asarray', 'x_position_of_maximum_x_projection', 'convolve', 'imshow', 'select_device', 'minimum_position', 'opening_box', 'crop', 'exclude_labels_on_edges', 'laplace_diamond', 'radians_to_degrees', 'crop_border', 'Image', 'plugin_function', 'minimum_sphere', 'mean_of_all_pixels', 'copy_horizontal_slice', 'divide_scalar_by_image', 'undefined_to_zero', 'mask_label', 'closing_box', 'set_column', 'minimum_image_and_scalar', 'mean_y_projection', 'greater', 'extend_labeling_via_voronoi', 'gauss_otsu_labeling', 'dilate_sphere', 'generate_touch_matrix', 'minimum_images', 'maximum_of_all_pixels', 'maximum_position', 'label_spots', 'copy_slice', 'jaccard_index', 'mask', 'dilate_box', 'greater_or_equal', 'local_cross_correlation', 'closing_sphere', 'laplace_box', 'detect_minima_box', 'labelled_spots_to_pointlist', 'voronoi_labeling', 'modulo_images', 'paste', 'sum_x_projection', 'smaller_or_equal', 'bounding_box', 'median_box', 'sign', 'equal', 'nonzero_minimum_box', 'top_hat_box', 'center_of_mass', 'sum_y_projection', 'voronoi_otsu_labeling', 'copy', 'maximum_images', 'nonzero_minimum_diamond', 'large_hessian_eigenvalue', 'set_ramp_z', 'add_image_and_scalar', 'maximum_z_projection', 'minimum_x_projection', 'mean_z_projection', 'multiply_image_and_scalar', 'binary_and', 'array_equal', 'label', 'median_sphere', 'squared_difference', 'threshold_otsu', 'smooth_labels', 'invert', 'sum_reduction_x', 'histogram', 'absolute', 'square', 'onlyzero_overwrite_maximum_box', 'greater_or_equal_constant', 'set_row', 'minimum_z_projection', 'eroded_otsu_labeling', 'mode_box', 'power_images', 'create_like', 'small_hessian_eigenvalue', 'minimum_of_all_pixels', 'binary_xor', 'subtract_image_from_scalar', 'absolute_difference', 'power', 'maximum_image_and_scalar', 'flip', 'fabs', 'z_position_of_minimum_z_projection', 'add_images_weighted', 'exclude_labels', 'mean_squared_error', 'cl_info', 'maximum_sphere', 'push', 'set_ramp_y', 'transpose_xz', 'erode_box', 'rotate', 'get_device', 'block_enumerate', 'transpose_xy', 'mean_box', 'detect_label_edges', 'smaller_constant', 'cubic_root', 'execute', 'hessian_eigenvalues', 'mode_sphere', 'not_equal', 'copy_vertical_slice', 'gamma_correction', 'maximum', 'subtract_images', 'affine_transform', 'clip', 'opening_labels', 'set', 'nonzero_maximum_box', 'rigid_transform', 'maximum_x_projection', 'set_ramp_x', 'divide_images', 'y_position_of_minimum_y_projection', 'mean_x_projection', 'binary_edge_detection', 'gradient_x', 'cbrt', 'minimum', 'variance_sphere', 'reduce_labels_to_label_edges', 'sqrt', 'subtract_gaussian_background', 'pull', 'add_images', 'erode_connected_labels', 'gaussian_blur', 'degrees_to_radians', 'mean_sphere', 'binary_subtract', 'opening_sphere', 'set_where_x_smaller_than_y', 'gradient_y', 'z_position_of_maximum_z_projection', 'detect_maxima_box', 'equal_constant', 'standard_deviation_box', 'divide_by_gaussian_background', 'set_where_x_equals_y', 'standard_deviation_sphere', 'binary_or', 'multiply_matrix', 'reciprocal', 'generate_distance_matrix', 'mod', 'onlyzero_overwrite_maximum_diamond', 'erode_sphere', 'sobel', 'not_equal_constant', 'minimum_y_projection', 'range', 'scale', 'sum_z_projection', 'square_root', 'variance_box', 'write_values_to_positions', 'logarithm', 'erode_labels', 'minimum_box', 'closing_labels', 'gradient_z', 'set_plane', 'count_touching_neighbors', 'multiply_images', 'set_where_x_greater_than_y', 'flag_existing_labels', 'available_device_names', 'exponential', 'y_position_of_maximum_y_projection', 'maximum_box', 'binary_not', 'maximum_y_projection', 'bottom_hat_box', 'set_nonzero_pixels_to_pixelindex', 'smaller_or_equal_constant', 'dilate_labels', 'set_image_borders', 'sum_of_all_pixels', 'relabel_sequential', 'top_hat_sphere', 'transpose_yz', 'combine_labels', 'bottom_hat_sphere', 'minimum_of_masked_pixels', 'create', 'generate_binary_overlap_matrix', 'smaller', 'nonzero_maximum_diamond', 'masked_voronoi_labeling', 'spots_to_pointlist', 'x_position_of_minimum_x_projection', 'translate', 'greater_constant', 'nan_to_num', 'difference_of_gaussian'}\n"
     ]
    }
   ],
   "source": [
    "print(names_cle.intersection(names_clep))"
   ]
  },
  {
   "cell_type": "markdown",
   "id": "b6ff24d1-8e09-4041-a3d2-95da4224b18e",
   "metadata": {
    "tags": []
   },
   "source": [
    "## Functions that are new in pyclesperanto "
   ]
  },
  {
   "cell_type": "code",
   "execution_count": 5,
   "id": "df54b3cc-69ed-4cde-9ad0-04e9e79df43b",
   "metadata": {
    "tags": []
   },
   "outputs": [
    {
     "name": "stdout",
     "output_type": "stream",
     "text": [
      "{'concatenate_along_x', 'nonzero_minimum', 'detect_minima', 'is_image', 'mode', 'dilate', 'laplace', 'list_available_devices', 'bottom_hat', 'detect_maxima', 'gpu_info', 'mean', 'set_wait_for_kernel_to_finish', 'opening', 'native_execute', 'erode', 'median', 'list_operations', 'Array', 'list_available_backends', 'concatenate_along_y', 'wait_for_kernel_to_finish', 'top_hat', 'closing', 'multiply_image_and_position', 'smooth_connected_labels', 'Device', 'connected_components_labeling', 'warnings', 'nonzero_maximum', 'select_backend', 'np', 'onlyzero_overwrite_maximum', 'standard_deviation', 'read_values_from_positions', 'std_z_projection', 'replace_values', 'concatenate_along_z', 'variance', 'replace_value', 'label_bounding_box', 'default_initialisation'}\n"
     ]
    }
   ],
   "source": [
    "print(names_cle.difference(names_clep))"
   ]
  },
  {
   "cell_type": "markdown",
   "id": "4653c087-ee74-4572-b494-a208ff042b1f",
   "metadata": {
    "tags": []
   },
   "source": [
    "## Functions that only exist in _prototype"
   ]
  },
  {
   "cell_type": "code",
   "execution_count": 6,
   "id": "d249687d-6228-4093-b14d-11fde4d25ec3",
   "metadata": {
    "tags": []
   },
   "outputs": [
    {
     "name": "stdout",
     "output_type": "stream",
     "text": [
      "{'mode_of_proximal_neighbors_map', 'to_networkx', 'generate_n_nearest_neighbors_matrix', 'generate_distal_neighbors_matrix', 'apply_vector_field', 'median_of_touching_neighbors', 'symmetric_sum_matrix', 'draw_mesh_between_labels_with_touch_portion_in_range', 'map_array', 'minimum_of_proximal_neighbors_map', 'average_distance_of_touching_neighbors', 'binary_intersection', 'euclidean_distance_from_label_centroid_map', 'merge_labels_according_to_touch_matrix', 'concatenate_stacks', 'label_maximum_intensity_map', 'touching_labels_to_igraph', 'exclude_labels_outside_size_range', 'exclude_labels_with_values_within_range', 'minimum_intensity_map', 'draw_sphere', 'downsample_xy_by_half_median', 'set_non_zero_pixels_to_pixel_index', 'draw_touch_portion_mesh_between_touching_labels', 'local_median_touching_neighbor_count_map', 'average_distance_of_n_closest_points', 'standard_deviation_touch_portion', 'array_equiv', 'push_regionprops_column', 'symmetric_mean_matrix', 'platform', 'create_square_matrix_from_pointlist', 'close_index_gaps_in_label_map', 'regionprops', 'logical_or', 'maximum_of_n_nearest_neighbors_map', 'dilate_sphere_slice_by_slice', 'proximal_neighbor_count_map', 'create_2d_xz', 'label_maximum_extension_map', 'touch_matrix_to_mesh', 'maximum_of_proximal_neighbors_map', 'symmetric_minimum_matrix', 'generate_touch_mean_intensity_within_range_matrix', 'read_intensities_from_positions', 'maximum_extension_map', 'replace_intensities', 'label_maximum_extension_ratio_map', 'label_nonzero_pixel_count_map', 'operation', 'generate_mean_intensity_between_points_matrix', 'arg_minimum_y_projection', 'standard_deviation_of_touching_neighbors_map', 'replace_intensity', 'logical_xor', 'create_square_matrix_from_two_labelmaps', 'distance_matrix_to_mesh', 'point_index_list_to_mesh', 'statistics_of_background_and_labelled_pixels', 'draw_line', 'mode_of_n_nearest_neighbors_map', 'erode_sphere_slice_by_slice', 'exclude_labels_with_values_out_of_range', 'merge_touching_labels', 'standard_deviation_touch_portion_map', 'minimum_of_touch_portion_within_range_neighbors_map', 'exclude_labels_with_map_values_not_equal_to_constant', 'mean_of_n_most_touching_neighbors_map', 'operations', 'maximum_of_touch_portion_within_range_neighbors_map', 'local_standard_deviation_touching_neighbor_count_map', 'symmetric_maximum_matrix', 'merge_labels_with_border_intensity_within_range', 'generate_proximal_neighbors_matrix', 'minimum_of_distal_neighbors_map', 'mode_of_n_most_touching_neighbors_map', 'touch_portion_within_range_neighbor_count', 'sorensen_dice_coefficient', 'binary_union', 'point_index_list_to_touch_matrix', 'artificial_tissue_2d', 'create_vector_from_square_matrix', 'fill_diagonal', 'z_position_projection', 'exclude_labels_with_values_equal_to_constant', 'search_operation_names', 'resample', 'label_standard_deviation_intensity_map', 'exclude_labels_with_values_not_equal_to_constant', 'touch_portion_within_range_neighbor_count_map', 'label_to_mask', 'sub_stack', 'prefix_in_x', 'mean_of_distal_neighbors_map', 'create_2d_zx', 'exp', 'generate_n_most_touching_neighbors_matrix', 'multiply_image_and_coordinate', 'STATISTICS_ENTRY', 'local_maximum_touching_neighbor_count_map', 'set_device_scoring_key', 'label_pixel_count_map', 'create_2d_yz', 'generate_maximum_intensity_between_points_matrix', 'draw_touch_portion_ratio_mesh_between_touching_labels', 'generate_touch_portion_within_range_neighbors_matrix', 'n_nearest_labels_to_igraph', 'categories', 'connected_components_labeling_diamond', 'minimum_of_n_most_touching_neighbors_map', 'combine_horizontally', 'create_from_pointlist', 'stitch_vertically_linear_blending', 'maximum_of_touching_neighbors_map', 'minimum_of_n_nearest_neighbors_map', 'average_distance_of_n_far_off_distances', 'mode_of_distal_neighbors_map', 'arg_maximum_z_projection', 'statistics_of_labelled_pixels', 'label_mean_extension_map', 'generate_should_touch_matrix', 'arg_maximum_x_projection', 'standard_deviation_of_n_nearest_neighbors_map', 'average_neighbor_distance_map', 'mean_of_proximal_neighbors_map', 'minimum_distance_of_touching_neighbors', 'logical_not', 'proximal_neighbor_count', 'local_minimum_touching_neighbor_count_map', 'label_mean_intensity_map', 'create_none', 'read_intensities_from_map', 'create_zyx', 'exclude_labels_with_map_values_out_of_range', 'mean_of_touching_neighbors_map', 'artificial_objects_2d', 'create_labels_like', 'reduce_labels_to_centroids', 'push_zyx', 'neighbors_of_neighbors', 'push_regionprops', 'mean_extension_map', 'maximum_of_n_most_touching_neighbors_map', 'pull_zyx', 'generate_angle_matrix', 'extended_depth_of_focus_variance_projection', 'mode_of_touching_neighbors_map', 'create_pointlist_from_labelmap', 'AffineTransform3D', 'statistics_of_image', 'threshold', 'arg_maximum_y_projection', 'draw_mesh_between_n_most_touching_labels', 'exclude_labels_with_map_values_equal_to_constant', 'combine_vertically', 'mean_of_touch_portion_within_range_neighbors_map', 'standard_deviation_of_touch_portion_within_range_neighbors_map', 'erode_box_slice_by_slice', 'exclude_small_labels', 'centroids_of_labels', 'draw_angle_mesh_between_touching_labels', 'touch_matrix_to_adjacency_matrix', 'deskew_y', 'create_binary_like', 'draw_distance_mesh_between_n_nearest_labels', 'radius_to_kernel_size', 'merge_annotated_touching_labels', 'create_image', 'proximal_other_labels_count', 'draw_mesh_between_n_closest_labels', 'empty_image_like', 'fill_zeros_inpainting', 'mean_of_n_nearest_neighbors_map', 'mean_of_touching_neighbors', 'reduce_stack', 'Backend', 'maximum_of_distal_neighbors_map', 'empty_image', 'execute_separable_kernel', 'maximum_of_touching_neighbors', 'create_square_matrix_from_labelmap', 'statistics_of_labelled_neighbors', 'mode_of_touching_neighbors', 'is_matrix_symmetric', 'create_2d_xy', 'exclude_labels_with_map_values_within_range', 'exclude_labels_with_average_values_out_of_range', 'maximum_distance_of_n_closest_points', 'log', 'proximal_labels_to_networkx', 'proximal_labels_to_igraph', 'label_nonzero_pixel_count_ratio_map', 'remainder', 'generate_touch_portion_matrix', 'dilate_box_slice_by_slice', 'n_closest_points', 'average_distance_of_n_shortest_distances', 'proximal_other_labels_count_map', 'n_nearest_labels_to_networkx', 'average_distance_of_n_closest_neighbors_map', 'standard_deviation_of_n_most_touching_neighbors_map', 'create_vector_from_labelmap', 'flag_existing_intensities', 'sigma_to_kernel_size', 'draw_mesh_between_touching_labels', 'average_distance_of_n_far_off_points', 'maximum_distance_of_touching_neighbors', 'arg_minimum_z_projection', 'standard_deviation_of_proximal_neighbors_map', 'nparray', 'local_mean_touching_neighbor_count_map', 'average_distance_of_n_nearest_distances', 'generate_standard_deviation_intensity_between_points_matrix', 'set_wait_for_kernel_finish', 'arg_minimum_x_projection', 'subtract_labels', 'extend_labels_with_maximum_radius', 'minimum_of_touching_neighbors_map', 'logical_and', 'standard_deviation_intensity_map', 'z_position_range_projection', 'average_distance_to_n_nearest_other_labels_map', 'connected_components_labeling_box', 'stitch_horizontally_linear_blending', 'draw_distance_mesh_between_touching_labels', 'touching_labels_to_networkx', 'draw_mesh_between_proximal_labels', 'exclude_labels_out_of_size_range', 'pointlist_to_labelled_spots', 'standard_deviation_of_distal_neighbors_map', 'imread', 'extension_ratio_map', 'standard_deviation_z_projection', 'label_centroids_to_pointlist', 'generate_touch_count_matrix', 'minimum_of_touching_neighbors', 'draw_distance_mesh_between_proximal_labels', 'downsample_slice_by_slice_half_median', 'create_2d_yx', 'label_minimum_intensity_map', 'maximum_intensity_map', 'label_overlap_count_map', 'standard_deviation_of_touching_neighbors', 'to_igraph', 'pixel_count_map', 'average_distance_of_n_nearest_neighbors_map', 'draw_box', 'exclude_labels_with_average_values_within_range', 'exclude_large_labels', 'generate_touch_mean_intensity_matrix', 'mean_intensity_map', 'create_matrix_from_pointlists', 'touching_neighbor_count_map', 'maximum_distance_of_n_shortest_distances', 'generate_minimum_intensity_between_points_matrix', 'deskew_x', 'mode_of_touch_portion_within_range_neighbors_map', 'centroids_of_background_and_labels', 'create_2d_zy'}\n"
     ]
    }
   ],
   "source": [
    "print(names_clep.difference(names_cle))"
   ]
  },
  {
   "cell_type": "code",
   "execution_count": null,
   "id": "c21fc909-6689-4ca7-98cb-35f55d8ee699",
   "metadata": {},
   "outputs": [],
   "source": []
  }
 ],
 "metadata": {
  "kernelspec": {
   "display_name": "Python 3 (ipykernel)",
   "language": "python",
   "name": "python3"
  },
  "language_info": {
   "codemirror_mode": {
    "name": "ipython",
    "version": 3
   },
   "file_extension": ".py",
   "mimetype": "text/x-python",
   "name": "python",
   "nbconvert_exporter": "python",
   "pygments_lexer": "ipython3",
   "version": "3.9.19"
  }
 },
 "nbformat": 4,
 "nbformat_minor": 5
}
