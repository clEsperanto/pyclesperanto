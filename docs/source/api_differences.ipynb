{
    "cells": [
        {
            "cell_type": "markdown",
            "id": "cbe8880f-58c4-4d1c-b695-a3229b3b2f38",
            "metadata": {
                "tags": []
            },
            "source": [
                "# API pyClesperanto V.S. Prototype\n",
                "\n",
                "This is a basic exploration of the API function in `pyclesperanto` and `prototype`. We have automatically listed the differences between the two package of pyclesperanto.\n",
                "\n",
                "This is a crude comparison based on function name and localisation in the package. \n",
                "Indeed, some function may simply been renamed or moved to another tier. We encourage to rely on the search function to find specific operation, or to refere to the `migration` section of the documentation focussing on the main API modification between the two. "
            ]
        },
        {
            "cell_type": "code",
            "execution_count": 71,
            "id": "0d976d35-2d0c-46ae-81d5-c051a1859d13",
            "metadata": {},
            "outputs": [
                {
                    "name": "stdout",
                    "output_type": "stream",
                    "text": [
                        "pyclesperanto (0.10.3) v.s. pyclespernato_prototype (0.24.4)\n"
                    ]
                }
            ],
            "source": [
                "import pyclesperanto as cle\n",
                "import pyclesperanto_prototype as clep\n",
                "\n",
                "print(f\"pyclesperanto ({cle.__version__}) v.s. pyclespernato_prototype ({clep.__version__})\")"
            ]
        },
        {
            "cell_type": "code",
            "execution_count": 72,
            "id": "e90f3315-c782-4cd2-b338-91eabc27a22b",
            "metadata": {},
            "outputs": [],
            "source": [
                "modules = [\"_core\", \"_array\", \"_memory\", \"_functionalities\", \"_utils\", \"_operators\", \"_interoperability\"]\n",
                "core_cle = {func for module in modules for func in dir(getattr(cle, module, [])) if not func.startswith(\"_\") and not func[0].isupper()}\n",
                "core_clep = {func for func in dir(getattr(clep, \"_tier0\", []))  if not func.startswith(\"_\") and not func[0].isupper()}"
            ]
        },
        {
            "cell_type": "markdown",
            "id": "56301d53-7f02-4582-b852-4964726009f6",
            "metadata": {
                "tags": []
            },
            "source": [
                "## Core functions\n",
                "\n",
                "### In both pyclesperanto and prototype"
            ]
        },
        {
            "cell_type": "code",
            "execution_count": 73,
            "id": "f049c842-3e13-41ec-9f51-4aee89f4aa0e",
            "metadata": {},
            "outputs": [
                {
                    "name": "stdout",
                    "output_type": "stream",
                    "text": [
                        "push\n",
                        "create_like\n",
                        "operations\n",
                        "pull\n",
                        "execute\n",
                        "select_device\n",
                        "create\n",
                        "get_device\n"
                    ]
                }
            ],
            "source": [
                "print(\"\\n\".join(core_cle.intersection(core_clep)))"
            ]
        },
        {
            "cell_type": "markdown",
            "id": "b6ff24d1-8e09-4041-a3d2-95da4224b18e",
            "metadata": {
                "tags": []
            },
            "source": [
                "### New in pyclesperanto"
            ]
        },
        {
            "cell_type": "code",
            "execution_count": 74,
            "id": "df54b3cc-69ed-4cde-9ad0-04e9e79df43b",
            "metadata": {},
            "outputs": [
                {
                    "name": "stdout",
                    "output_type": "stream",
                    "text": [
                        "empty_like\n",
                        "sort\n",
                        "path\n",
                        "select_backend\n",
                        "empty\n",
                        "wait_for_kernel_to_finish\n",
                        "remove\n",
                        "warnings\n",
                        "set\n",
                        "info\n",
                        "list_operations\n",
                        "from_array\n",
                        "get\n",
                        "to_device\n",
                        "pop\n",
                        "clear\n",
                        "count\n",
                        "np\n",
                        "index\n",
                        "list_available_devices\n",
                        "list_available_backends\n",
                        "imshow\n",
                        "native_execute\n",
                        "zeros_like\n",
                        "is_image\n",
                        "zeros\n",
                        "default_initialisation\n",
                        "insert\n",
                        "append\n",
                        "cl_buffer_datatype_dict\n",
                        "copy\n",
                        "extend\n",
                        "reverse\n"
                    ]
                }
            ],
            "source": [
                "print(\"\\n\".join(core_cle.difference(core_clep)))"
            ]
        },
        {
            "cell_type": "markdown",
            "id": "4653c087-ee74-4572-b494-a208ff042b1f",
            "metadata": {
                "tags": []
            },
            "source": [
                "### Only in pyclesperanto"
            ]
        },
        {
            "cell_type": "code",
            "execution_count": 75,
            "id": "d249687d-6228-4093-b14d-11fde4d25ec3",
            "metadata": {},
            "outputs": [
                {
                    "name": "stdout",
                    "output_type": "stream",
                    "text": [
                        "create_2d_yz\n",
                        "sigma_to_kernel_size\n",
                        "create_pointlist_from_labelmap\n",
                        "create_2d_xz\n",
                        "available_device_names\n",
                        "create_matrix_from_pointlists\n",
                        "create_2d_zx\n",
                        "push_zyx\n",
                        "asarray\n",
                        "search_operation_names\n",
                        "platform\n",
                        "create_vector_from_square_matrix\n",
                        "nparray\n",
                        "empty_image\n",
                        "create_square_matrix_from_labelmap\n",
                        "categories\n",
                        "create_from_pointlist\n",
                        "create_image\n",
                        "set_device_scoring_key\n",
                        "create_2d_xy\n",
                        "create_2d_yx\n",
                        "empty_image_like\n",
                        "operation\n",
                        "create_square_matrix_from_pointlist\n",
                        "create_zyx\n",
                        "cl_info\n",
                        "set_wait_for_kernel_finish\n",
                        "create_vector_from_labelmap\n",
                        "create_binary_like\n",
                        "pull_zyx\n",
                        "create_square_matrix_from_two_labelmaps\n",
                        "radius_to_kernel_size\n",
                        "plugin_function\n",
                        "create_none\n",
                        "create_labels_like\n",
                        "create_2d_zy\n"
                    ]
                }
            ],
            "source": [
                "print(\"\\n\".join(core_clep.difference(core_cle)))"
            ]
        },
        {
            "cell_type": "markdown",
            "id": "35965b6d-823a-49c1-805c-f04e7d902caf",
            "metadata": {},
            "source": [
                "## Tiers functions"
            ]
        },
        {
            "cell_type": "code",
            "execution_count": 76,
            "id": "852d922e-a351-4c2a-bec6-3685ce349361",
            "metadata": {},
            "outputs": [],
            "source": [
                "def compare_tiers(module1, module2, module1_name, module2_name, tier_number):\n",
                "    tier_name = f\"_tier{tier_number}\"\n",
                "    module1_tier_funcs = {func for func in dir(getattr(module1, tier_name, [])) if not func.startswith(\"_\") and not func[0].isupper()}\n",
                "    module2_tier_funcs = {func for func in dir(getattr(module2, tier_name, [])) if not func.startswith(\"_\") and not func[0].isupper()}\n",
                "\n",
                "    shared_in_both = module1_tier_funcs.intersection(module2_tier_funcs)\n",
                "    missing_in_module1 = module2_tier_funcs.difference(module1_tier_funcs)\n",
                "    missing_in_module2 = module1_tier_funcs.difference(module2_tier_funcs)\n",
                "    \n",
                "    if missing_in_module1 or missing_in_module2 or shared_in_both:\n",
                "        print(f\"\\033[1mTier {tier_number} functions:\\033[0m\")\n",
                "        if shared_in_both:\n",
                "            print(f\"\\033[1m- Functions in both {module2_name} and {module1_name}:\\033[0m\")\n",
                "            for func in sorted(shared_in_both):\n",
                "                   print(f\"\\t- {func}\")\n",
                "            print() \n",
                "        if missing_in_module2:\n",
                "            print(f\"\\033[1m- Functions in {module1_name} not in {module2_name}:\\033[0m\")\n",
                "            for func in sorted(missing_in_module2):\n",
                "                   print(f\"\\t- {func}\")\n",
                "            print()\n",
                "        if missing_in_module1:\n",
                "            print(f\"\\033[1m- Functions in {module2_name} not in {module1_name}:\\033[0m\")\n",
                "            for func in sorted(missing_in_module1):\n",
                "                   print(f\"\\t- {func}\")\n",
                "            print()\n",
                "        print()  # Add a newline for better separation"
            ]
        },
        {
            "cell_type": "markdown",
            "id": "e1053eb4",
            "metadata": {},
            "source": [
                "### Tier 1"
            ]
        },
        {
            "cell_type": "code",
            "execution_count": 77,
            "id": "5ac38615-14d1-4ed7-9b0d-20846ad0f3cb",
            "metadata": {},
            "outputs": [
                {
                    "name": "stdout",
                    "output_type": "stream",
                    "text": [
                        "\u001b[1mTier 1 functions:\u001b[0m\n",
                        "\u001b[1m- Functions in both prototype and pyclesperanto:\u001b[0m\n",
                        "\t- absolute\n",
                        "\t- add_image_and_scalar\n",
                        "\t- add_images_weighted\n",
                        "\t- binary_and\n",
                        "\t- binary_edge_detection\n",
                        "\t- binary_not\n",
                        "\t- binary_or\n",
                        "\t- binary_subtract\n",
                        "\t- binary_xor\n",
                        "\t- convolve\n",
                        "\t- copy\n",
                        "\t- copy_horizontal_slice\n",
                        "\t- copy_slice\n",
                        "\t- copy_vertical_slice\n",
                        "\t- crop\n",
                        "\t- cubic_root\n",
                        "\t- detect_label_edges\n",
                        "\t- dilate_box\n",
                        "\t- dilate_sphere\n",
                        "\t- divide_images\n",
                        "\t- divide_scalar_by_image\n",
                        "\t- equal\n",
                        "\t- equal_constant\n",
                        "\t- erode_box\n",
                        "\t- erode_sphere\n",
                        "\t- exponential\n",
                        "\t- flip\n",
                        "\t- gaussian_blur\n",
                        "\t- generate_distance_matrix\n",
                        "\t- gradient_x\n",
                        "\t- gradient_y\n",
                        "\t- gradient_z\n",
                        "\t- greater\n",
                        "\t- greater_constant\n",
                        "\t- greater_or_equal\n",
                        "\t- greater_or_equal_constant\n",
                        "\t- hessian_eigenvalues\n",
                        "\t- laplace_box\n",
                        "\t- laplace_diamond\n",
                        "\t- logarithm\n",
                        "\t- mask\n",
                        "\t- mask_label\n",
                        "\t- maximum\n",
                        "\t- maximum_box\n",
                        "\t- maximum_image_and_scalar\n",
                        "\t- maximum_images\n",
                        "\t- maximum_sphere\n",
                        "\t- maximum_x_projection\n",
                        "\t- maximum_y_projection\n",
                        "\t- maximum_z_projection\n",
                        "\t- mean_box\n",
                        "\t- mean_sphere\n",
                        "\t- mean_x_projection\n",
                        "\t- mean_y_projection\n",
                        "\t- mean_z_projection\n",
                        "\t- median_box\n",
                        "\t- median_sphere\n",
                        "\t- minimum\n",
                        "\t- minimum_box\n",
                        "\t- minimum_image_and_scalar\n",
                        "\t- minimum_images\n",
                        "\t- minimum_sphere\n",
                        "\t- minimum_x_projection\n",
                        "\t- minimum_y_projection\n",
                        "\t- minimum_z_projection\n",
                        "\t- mode_box\n",
                        "\t- mode_sphere\n",
                        "\t- modulo_images\n",
                        "\t- multiply_image_and_scalar\n",
                        "\t- multiply_images\n",
                        "\t- multiply_matrix\n",
                        "\t- nan_to_num\n",
                        "\t- nonzero_maximum_box\n",
                        "\t- nonzero_maximum_diamond\n",
                        "\t- nonzero_minimum_box\n",
                        "\t- nonzero_minimum_diamond\n",
                        "\t- not_equal\n",
                        "\t- not_equal_constant\n",
                        "\t- onlyzero_overwrite_maximum_box\n",
                        "\t- onlyzero_overwrite_maximum_diamond\n",
                        "\t- paste\n",
                        "\t- power\n",
                        "\t- power_images\n",
                        "\t- range\n",
                        "\t- reciprocal\n",
                        "\t- set\n",
                        "\t- set_column\n",
                        "\t- set_image_borders\n",
                        "\t- set_nonzero_pixels_to_pixelindex\n",
                        "\t- set_plane\n",
                        "\t- set_ramp_x\n",
                        "\t- set_ramp_y\n",
                        "\t- set_ramp_z\n",
                        "\t- set_row\n",
                        "\t- set_where_x_equals_y\n",
                        "\t- set_where_x_greater_than_y\n",
                        "\t- set_where_x_smaller_than_y\n",
                        "\t- sign\n",
                        "\t- smaller\n",
                        "\t- smaller_constant\n",
                        "\t- smaller_or_equal\n",
                        "\t- smaller_or_equal_constant\n",
                        "\t- sobel\n",
                        "\t- square_root\n",
                        "\t- subtract_image_from_scalar\n",
                        "\t- sum_x_projection\n",
                        "\t- sum_y_projection\n",
                        "\t- sum_z_projection\n",
                        "\t- transpose_xy\n",
                        "\t- transpose_xz\n",
                        "\t- transpose_yz\n",
                        "\t- undefined_to_zero\n",
                        "\t- variance_box\n",
                        "\t- variance_sphere\n",
                        "\t- write_values_to_positions\n",
                        "\n",
                        "\u001b[1m- Functions in pyclesperanto not in prototype:\u001b[0m\n",
                        "\t- block_enumerate\n",
                        "\t- dilate\n",
                        "\t- erode\n",
                        "\t- laplace\n",
                        "\t- local_cross_correlation\n",
                        "\t- mean\n",
                        "\t- median\n",
                        "\t- mode\n",
                        "\t- multiply_image_and_position\n",
                        "\t- nonzero_maximum\n",
                        "\t- nonzero_minimum\n",
                        "\t- np\n",
                        "\t- onlyzero_overwrite_maximum\n",
                        "\t- plugin_function\n",
                        "\t- read_values_from_positions\n",
                        "\t- replace_value\n",
                        "\t- replace_values\n",
                        "\t- std_z_projection\n",
                        "\t- sum_reduction_x\n",
                        "\t- variance\n",
                        "\t- warnings\n",
                        "\t- x_position_of_maximum_x_projection\n",
                        "\t- x_position_of_minimum_x_projection\n",
                        "\t- y_position_of_maximum_y_projection\n",
                        "\t- y_position_of_minimum_y_projection\n",
                        "\t- z_position_of_maximum_z_projection\n",
                        "\t- z_position_of_minimum_z_projection\n",
                        "\n",
                        "\u001b[1m- Functions in prototype not in pyclesperanto:\u001b[0m\n",
                        "\t- average_distance_of_n_closest_points\n",
                        "\t- average_distance_of_n_far_off_distances\n",
                        "\t- average_distance_of_n_far_off_points\n",
                        "\t- average_distance_of_n_nearest_distances\n",
                        "\t- average_distance_of_n_shortest_distances\n",
                        "\t- average_distance_of_touching_neighbors\n",
                        "\t- binary_intersection\n",
                        "\t- binary_union\n",
                        "\t- cbrt\n",
                        "\t- count_touching_neighbors\n",
                        "\t- detect_maxima_box\n",
                        "\t- detect_minima_box\n",
                        "\t- dilate_box_slice_by_slice\n",
                        "\t- dilate_sphere_slice_by_slice\n",
                        "\t- downsample_slice_by_slice_half_median\n",
                        "\t- downsample_xy_by_half_median\n",
                        "\t- draw_box\n",
                        "\t- draw_line\n",
                        "\t- draw_sphere\n",
                        "\t- erode_box_slice_by_slice\n",
                        "\t- erode_sphere_slice_by_slice\n",
                        "\t- execute_separable_kernel\n",
                        "\t- exp\n",
                        "\t- fabs\n",
                        "\t- fill_diagonal\n",
                        "\t- generate_angle_matrix\n",
                        "\t- generate_binary_overlap_matrix\n",
                        "\t- generate_touch_matrix\n",
                        "\t- label_to_mask\n",
                        "\t- log\n",
                        "\t- logical_and\n",
                        "\t- logical_not\n",
                        "\t- logical_or\n",
                        "\t- logical_xor\n",
                        "\t- map_array\n",
                        "\t- maximum_distance_of_n_closest_points\n",
                        "\t- maximum_distance_of_n_shortest_distances\n",
                        "\t- maximum_distance_of_touching_neighbors\n",
                        "\t- minimum_distance_of_touching_neighbors\n",
                        "\t- mod\n",
                        "\t- multiply_image_and_coordinate\n",
                        "\t- n_closest_points\n",
                        "\t- point_index_list_to_mesh\n",
                        "\t- point_index_list_to_touch_matrix\n",
                        "\t- read_intensities_from_map\n",
                        "\t- read_intensities_from_positions\n",
                        "\t- remainder\n",
                        "\t- replace_intensities\n",
                        "\t- replace_intensity\n",
                        "\t- resample\n",
                        "\t- set_non_zero_pixels_to_pixel_index\n",
                        "\t- sqrt\n",
                        "\t- standard_deviation_z_projection\n",
                        "\t- threshold\n",
                        "\t- touch_matrix_to_mesh\n",
                        "\n",
                        "\n"
                    ]
                }
            ],
            "source": [
                "compare_tiers(cle, clep, \"pyclesperanto\", \"prototype\", 1)"
            ]
        },
        {
            "cell_type": "markdown",
            "id": "87e3e759",
            "metadata": {},
            "source": [
                "### Tier 2"
            ]
        },
        {
            "cell_type": "code",
            "execution_count": 78,
            "id": "c7326fa3",
            "metadata": {},
            "outputs": [
                {
                    "name": "stdout",
                    "output_type": "stream",
                    "text": [
                        "\u001b[1mTier 2 functions:\u001b[0m\n",
                        "\u001b[1m- Functions in both prototype and pyclesperanto:\u001b[0m\n",
                        "\t- add_images\n",
                        "\t- bottom_hat_box\n",
                        "\t- bottom_hat_sphere\n",
                        "\t- clip\n",
                        "\t- closing_box\n",
                        "\t- closing_sphere\n",
                        "\t- crop_border\n",
                        "\t- degrees_to_radians\n",
                        "\t- invert\n",
                        "\t- label_spots\n",
                        "\t- large_hessian_eigenvalue\n",
                        "\t- maximum_of_all_pixels\n",
                        "\t- minimum_of_all_pixels\n",
                        "\t- minimum_of_masked_pixels\n",
                        "\t- opening_box\n",
                        "\t- opening_sphere\n",
                        "\t- radians_to_degrees\n",
                        "\t- small_hessian_eigenvalue\n",
                        "\t- square\n",
                        "\t- standard_deviation_box\n",
                        "\t- standard_deviation_sphere\n",
                        "\t- subtract_images\n",
                        "\t- sum_of_all_pixels\n",
                        "\t- top_hat_box\n",
                        "\t- top_hat_sphere\n",
                        "\n",
                        "\u001b[1m- Functions in pyclesperanto not in prototype:\u001b[0m\n",
                        "\t- absolute_difference\n",
                        "\t- bottom_hat\n",
                        "\t- closing\n",
                        "\t- concatenate_along_x\n",
                        "\t- concatenate_along_y\n",
                        "\t- concatenate_along_z\n",
                        "\t- count_touching_neighbors\n",
                        "\t- detect_maxima\n",
                        "\t- detect_maxima_box\n",
                        "\t- detect_minima\n",
                        "\t- detect_minima_box\n",
                        "\t- difference_of_gaussian\n",
                        "\t- divide_by_gaussian_background\n",
                        "\t- extend_labeling_via_voronoi\n",
                        "\t- np\n",
                        "\t- opening\n",
                        "\t- plugin_function\n",
                        "\t- reduce_labels_to_label_edges\n",
                        "\t- squared_difference\n",
                        "\t- standard_deviation\n",
                        "\t- subtract_gaussian_background\n",
                        "\t- top_hat\n",
                        "\t- warnings\n",
                        "\n",
                        "\u001b[1m- Functions in prototype not in pyclesperanto:\u001b[0m\n",
                        "\t- arg_maximum_x_projection\n",
                        "\t- arg_maximum_y_projection\n",
                        "\t- arg_maximum_z_projection\n",
                        "\t- arg_minimum_x_projection\n",
                        "\t- arg_minimum_y_projection\n",
                        "\t- arg_minimum_z_projection\n",
                        "\t- block_enumerate\n",
                        "\t- combine_horizontally\n",
                        "\t- combine_vertically\n",
                        "\t- concatenate_stacks\n",
                        "\t- distance_matrix_to_mesh\n",
                        "\t- flag_existing_intensities\n",
                        "\t- flag_existing_labels\n",
                        "\t- gamma_correction\n",
                        "\t- generate_maximum_intensity_between_points_matrix\n",
                        "\t- generate_mean_intensity_between_points_matrix\n",
                        "\t- generate_minimum_intensity_between_points_matrix\n",
                        "\t- generate_should_touch_matrix\n",
                        "\t- generate_standard_deviation_intensity_between_points_matrix\n",
                        "\t- maximum_of_touching_neighbors\n",
                        "\t- mean_of_touching_neighbors\n",
                        "\t- median_of_touching_neighbors\n",
                        "\t- minimum_of_touching_neighbors\n",
                        "\t- mode_of_touching_neighbors\n",
                        "\t- neighbors_of_neighbors\n",
                        "\t- pointlist_to_labelled_spots\n",
                        "\t- prefix_in_x\n",
                        "\t- reduce_stack\n",
                        "\t- standard_deviation_of_touching_neighbors\n",
                        "\t- sub_stack\n",
                        "\t- sum_reduction_x\n",
                        "\t- symmetric_maximum_matrix\n",
                        "\t- symmetric_mean_matrix\n",
                        "\t- symmetric_minimum_matrix\n",
                        "\t- symmetric_sum_matrix\n",
                        "\t- touch_matrix_to_adjacency_matrix\n",
                        "\t- x_position_of_maximum_x_projection\n",
                        "\t- x_position_of_minimum_x_projection\n",
                        "\t- y_position_of_maximum_y_projection\n",
                        "\t- y_position_of_minimum_y_projection\n",
                        "\t- z_position_of_maximum_z_projection\n",
                        "\t- z_position_of_minimum_z_projection\n",
                        "\t- z_position_projection\n",
                        "\n",
                        "\n"
                    ]
                }
            ],
            "source": [
                "compare_tiers(cle, clep, \"pyclesperanto\", \"prototype\", 2)"
            ]
        },
        {
            "cell_type": "markdown",
            "id": "667bbef1",
            "metadata": {},
            "source": [
                "### Tier 3"
            ]
        },
        {
            "cell_type": "code",
            "execution_count": 79,
            "id": "673e9bb9",
            "metadata": {},
            "outputs": [
                {
                    "name": "stdout",
                    "output_type": "stream",
                    "text": [
                        "\u001b[1mTier 3 functions:\u001b[0m\n",
                        "\u001b[1m- Functions in both prototype and pyclesperanto:\u001b[0m\n",
                        "\t- bounding_box\n",
                        "\t- center_of_mass\n",
                        "\t- exclude_labels\n",
                        "\t- exclude_labels_on_edges\n",
                        "\t- histogram\n",
                        "\t- jaccard_index\n",
                        "\t- labelled_spots_to_pointlist\n",
                        "\t- maximum_position\n",
                        "\t- mean_of_all_pixels\n",
                        "\t- minimum_position\n",
                        "\n",
                        "\u001b[1m- Functions in pyclesperanto not in prototype:\u001b[0m\n",
                        "\t- flag_existing_labels\n",
                        "\t- gamma_correction\n",
                        "\t- generate_binary_overlap_matrix\n",
                        "\t- generate_touch_matrix\n",
                        "\t- np\n",
                        "\t- plugin_function\n",
                        "\t- warnings\n",
                        "\n",
                        "\u001b[1m- Functions in prototype not in pyclesperanto:\u001b[0m\n",
                        "\t- absolute_difference\n",
                        "\t- close_index_gaps_in_label_map\n",
                        "\t- difference_of_gaussian\n",
                        "\t- divide_by_gaussian_background\n",
                        "\t- exclude_labels_out_of_size_range\n",
                        "\t- exclude_labels_outside_size_range\n",
                        "\t- exclude_labels_with_values_equal_to_constant\n",
                        "\t- exclude_labels_with_values_not_equal_to_constant\n",
                        "\t- exclude_labels_with_values_out_of_range\n",
                        "\t- exclude_labels_with_values_within_range\n",
                        "\t- generate_distal_neighbors_matrix\n",
                        "\t- generate_n_nearest_neighbors_matrix\n",
                        "\t- generate_proximal_neighbors_matrix\n",
                        "\t- generate_touch_count_matrix\n",
                        "\t- generate_touch_mean_intensity_matrix\n",
                        "\t- maximum_of_distal_neighbors_map\n",
                        "\t- maximum_of_n_most_touching_neighbors_map\n",
                        "\t- maximum_of_n_nearest_neighbors_map\n",
                        "\t- maximum_of_proximal_neighbors_map\n",
                        "\t- maximum_of_touch_portion_within_range_neighbors_map\n",
                        "\t- maximum_of_touching_neighbors_map\n",
                        "\t- mean_of_distal_neighbors_map\n",
                        "\t- mean_of_n_most_touching_neighbors_map\n",
                        "\t- mean_of_n_nearest_neighbors_map\n",
                        "\t- mean_of_proximal_neighbors_map\n",
                        "\t- mean_of_touch_portion_within_range_neighbors_map\n",
                        "\t- mean_of_touching_neighbors_map\n",
                        "\t- minimum_of_distal_neighbors_map\n",
                        "\t- minimum_of_n_most_touching_neighbors_map\n",
                        "\t- minimum_of_n_nearest_neighbors_map\n",
                        "\t- minimum_of_proximal_neighbors_map\n",
                        "\t- minimum_of_touch_portion_within_range_neighbors_map\n",
                        "\t- minimum_of_touching_neighbors_map\n",
                        "\t- mode_of_distal_neighbors_map\n",
                        "\t- mode_of_n_most_touching_neighbors_map\n",
                        "\t- mode_of_n_nearest_neighbors_map\n",
                        "\t- mode_of_proximal_neighbors_map\n",
                        "\t- mode_of_touch_portion_within_range_neighbors_map\n",
                        "\t- mode_of_touching_neighbors_map\n",
                        "\t- proximal_other_labels_count\n",
                        "\t- relabel_sequential\n",
                        "\t- squared_difference\n",
                        "\t- standard_deviation_of_distal_neighbors_map\n",
                        "\t- standard_deviation_of_n_most_touching_neighbors_map\n",
                        "\t- standard_deviation_of_n_nearest_neighbors_map\n",
                        "\t- standard_deviation_of_proximal_neighbors_map\n",
                        "\t- standard_deviation_of_touch_portion_within_range_neighbors_map\n",
                        "\t- standard_deviation_of_touching_neighbors_map\n",
                        "\t- stitch_horizontally_linear_blending\n",
                        "\t- stitch_vertically_linear_blending\n",
                        "\t- subtract_gaussian_background\n",
                        "\t- z_position_range_projection\n",
                        "\n",
                        "\n"
                    ]
                }
            ],
            "source": [
                "compare_tiers(cle, clep, \"pyclesperanto\", \"prototype\", 3)"
            ]
        },
        {
            "cell_type": "markdown",
            "id": "de2f81d3",
            "metadata": {},
            "source": [
                "### Tier 4"
            ]
        },
        {
            "cell_type": "code",
            "execution_count": 80,
            "id": "ab47902e",
            "metadata": {},
            "outputs": [
                {
                    "name": "stdout",
                    "output_type": "stream",
                    "text": [
                        "\u001b[1mTier 4 functions:\u001b[0m\n",
                        "\u001b[1m- Functions in both prototype and pyclesperanto:\u001b[0m\n",
                        "\t- mean_squared_error\n",
                        "\t- spots_to_pointlist\n",
                        "\n",
                        "\u001b[1m- Functions in pyclesperanto not in prototype:\u001b[0m\n",
                        "\t- label_bounding_box\n",
                        "\t- np\n",
                        "\t- plugin_function\n",
                        "\t- relabel_sequential\n",
                        "\t- threshold_otsu\n",
                        "\t- warnings\n",
                        "\n",
                        "\u001b[1m- Functions in prototype not in pyclesperanto:\u001b[0m\n",
                        "\t- combine_labels\n",
                        "\t- connected_components_labeling_box\n",
                        "\t- dilate_labels\n",
                        "\t- erode_connected_labels\n",
                        "\t- erode_labels\n",
                        "\t- exclude_labels_with_average_values_out_of_range\n",
                        "\t- exclude_labels_with_average_values_within_range\n",
                        "\t- exclude_labels_with_map_values_equal_to_constant\n",
                        "\t- exclude_labels_with_map_values_not_equal_to_constant\n",
                        "\t- exclude_labels_with_map_values_out_of_range\n",
                        "\t- exclude_labels_with_map_values_within_range\n",
                        "\t- exclude_large_labels\n",
                        "\t- exclude_small_labels\n",
                        "\t- extend_labeling_via_voronoi\n",
                        "\t- extend_labels_with_maximum_radius\n",
                        "\t- extended_depth_of_focus_variance_projection\n",
                        "\t- generate_n_most_touching_neighbors_matrix\n",
                        "\t- generate_touch_portion_matrix\n",
                        "\t- generate_touch_portion_within_range_neighbors_matrix\n",
                        "\t- label\n",
                        "\t- label_nonzero_pixel_count_map\n",
                        "\t- label_nonzero_pixel_count_ratio_map\n",
                        "\t- label_overlap_count_map\n",
                        "\t- local_cross_correlation\n",
                        "\t- local_maximum_touching_neighbor_count_map\n",
                        "\t- local_mean_touching_neighbor_count_map\n",
                        "\t- local_median_touching_neighbor_count_map\n",
                        "\t- local_minimum_touching_neighbor_count_map\n",
                        "\t- local_standard_deviation_touching_neighbor_count_map\n",
                        "\t- merge_touching_labels\n",
                        "\t- proximal_neighbor_count\n",
                        "\t- proximal_neighbor_count_map\n",
                        "\t- proximal_other_labels_count_map\n",
                        "\t- sorensen_dice_coefficient\n",
                        "\t- subtract_labels\n",
                        "\t- touch_portion_within_range_neighbor_count\n",
                        "\t- touch_portion_within_range_neighbor_count_map\n",
                        "\t- touching_neighbor_count_map\n",
                        "\n",
                        "\n"
                    ]
                }
            ],
            "source": [
                "compare_tiers(cle, clep, \"pyclesperanto\", \"prototype\", 4)"
            ]
        },
        {
            "cell_type": "markdown",
            "id": "20eeb74e",
            "metadata": {},
            "source": [
                "### Tier 5"
            ]
        },
        {
            "cell_type": "code",
            "execution_count": 81,
            "id": "9b8d2f8f",
            "metadata": {},
            "outputs": [
                {
                    "name": "stdout",
                    "output_type": "stream",
                    "text": [
                        "\u001b[1mTier 5 functions:\u001b[0m\n",
                        "\u001b[1m- Functions in both prototype and pyclesperanto:\u001b[0m\n",
                        "\t- array_equal\n",
                        "\n",
                        "\u001b[1m- Functions in pyclesperanto not in prototype:\u001b[0m\n",
                        "\t- combine_labels\n",
                        "\t- connected_components_labeling\n",
                        "\t- np\n",
                        "\t- plugin_function\n",
                        "\t- warnings\n",
                        "\n",
                        "\u001b[1m- Functions in prototype not in pyclesperanto:\u001b[0m\n",
                        "\t- array_equiv\n",
                        "\t- closing_labels\n",
                        "\t- connected_components_labeling_diamond\n",
                        "\t- fill_zeros_inpainting\n",
                        "\t- generate_touch_mean_intensity_within_range_matrix\n",
                        "\t- is_matrix_symmetric\n",
                        "\t- masked_voronoi_labeling\n",
                        "\t- merge_labels_according_to_touch_matrix\n",
                        "\t- opening_labels\n",
                        "\t- voronoi_labeling\n",
                        "\n",
                        "\n"
                    ]
                }
            ],
            "source": [
                "compare_tiers(cle, clep, \"pyclesperanto\", \"prototype\", 5)"
            ]
        },
        {
            "cell_type": "markdown",
            "id": "583c4cb1",
            "metadata": {},
            "source": [
                "### Tier 6"
            ]
        },
        {
            "cell_type": "code",
            "execution_count": 82,
            "id": "8e6e7ad9",
            "metadata": {},
            "outputs": [
                {
                    "name": "stdout",
                    "output_type": "stream",
                    "text": [
                        "\u001b[1mTier 6 functions:\u001b[0m\n",
                        "\u001b[1m- Functions in pyclesperanto not in prototype:\u001b[0m\n",
                        "\t- dilate_labels\n",
                        "\t- erode_labels\n",
                        "\t- gauss_otsu_labeling\n",
                        "\t- masked_voronoi_labeling\n",
                        "\t- np\n",
                        "\t- plugin_function\n",
                        "\t- voronoi_labeling\n",
                        "\t- warnings\n",
                        "\n",
                        "\u001b[1m- Functions in prototype not in pyclesperanto:\u001b[0m\n",
                        "\t- merge_annotated_touching_labels\n",
                        "\t- merge_labels_with_border_intensity_within_range\n",
                        "\t- smooth_labels\n",
                        "\n",
                        "\n"
                    ]
                }
            ],
            "source": [
                "compare_tiers(cle, clep, \"pyclesperanto\", \"prototype\", 6)"
            ]
        },
        {
            "cell_type": "markdown",
            "id": "e1963c99",
            "metadata": {},
            "source": [
                "### Tier 7"
            ]
        },
        {
            "cell_type": "code",
            "execution_count": 83,
            "id": "873c5eaf",
            "metadata": {},
            "outputs": [
                {
                    "name": "stdout",
                    "output_type": "stream",
                    "text": [
                        "\u001b[1mTier 7 functions:\u001b[0m\n",
                        "\u001b[1m- Functions in pyclesperanto not in prototype:\u001b[0m\n",
                        "\t- affine_transform\n",
                        "\t- closing_labels\n",
                        "\t- erode_connected_labels\n",
                        "\t- eroded_otsu_labeling\n",
                        "\t- np\n",
                        "\t- opening_labels\n",
                        "\t- plugin_function\n",
                        "\t- rigid_transform\n",
                        "\t- rotate\n",
                        "\t- scale\n",
                        "\t- translate\n",
                        "\t- voronoi_otsu_labeling\n",
                        "\t- warnings\n",
                        "\n",
                        "\u001b[1m- Functions in prototype not in pyclesperanto:\u001b[0m\n",
                        "\t- append\n",
                        "\t- clear\n",
                        "\t- copy\n",
                        "\t- count\n",
                        "\t- extend\n",
                        "\t- index\n",
                        "\t- insert\n",
                        "\t- pop\n",
                        "\t- remove\n",
                        "\t- reverse\n",
                        "\t- sort\n",
                        "\n",
                        "\n"
                    ]
                }
            ],
            "source": [
                "compare_tiers(cle, clep, \"pyclesperanto\", \"prototype\", 7)"
            ]
        },
        {
            "cell_type": "markdown",
            "id": "d5b3064f",
            "metadata": {},
            "source": [
                "### Tier 8"
            ]
        },
        {
            "cell_type": "code",
            "execution_count": 84,
            "id": "07a28801",
            "metadata": {},
            "outputs": [
                {
                    "name": "stdout",
                    "output_type": "stream",
                    "text": [
                        "\u001b[1mTier 8 functions:\u001b[0m\n",
                        "\u001b[1m- Functions in pyclesperanto not in prototype:\u001b[0m\n",
                        "\t- np\n",
                        "\t- plugin_function\n",
                        "\t- smooth_connected_labels\n",
                        "\t- smooth_labels\n",
                        "\t- warnings\n",
                        "\n",
                        "\u001b[1m- Functions in prototype not in pyclesperanto:\u001b[0m\n",
                        "\t- affine_transform\n",
                        "\t- apply_vector_field\n",
                        "\t- deskew_x\n",
                        "\t- deskew_y\n",
                        "\t- rigid_transform\n",
                        "\t- rotate\n",
                        "\t- scale\n",
                        "\t- translate\n",
                        "\n",
                        "\n"
                    ]
                }
            ],
            "source": [
                "compare_tiers(cle, clep, \"pyclesperanto\", \"prototype\", 8)"
            ]
        }
    ],
    "metadata": {
        "kernelspec": {
            "display_name": "Python 3 (ipykernel)",
            "language": "python",
            "name": "python3"
        },
        "language_info": {
            "codemirror_mode": {
                "name": "ipython",
                "version": 3
            },
            "file_extension": ".py",
            "mimetype": "text/x-python",
            "name": "python",
            "nbconvert_exporter": "python",
            "pygments_lexer": "ipython3",
            "version": "3.1.-1"
        }
    },
    "nbformat": 4,
    "nbformat_minor": 5
}
