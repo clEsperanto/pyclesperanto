{
 "cells": [
  {
   "attachments": {},
   "cell_type": "markdown",
   "metadata": {},
   "source": [
    "# Tier Wrapper generator\n",
    "\n",
    "The following notebook generates the wrapping code to make C++ available to the pyclesperanto python code.\n",
    "This notebook is to be runned for each Tiers (1,2,3, etc.) and will generate the corresponding wrapping code.\n",
    "It only need to be runned when a Tier is updated.\n",
    "\n",
    "__*WARNING*__: this can break the code if the python package is not update consequently. Please check the code and run the tests before pushing."
   ]
  },
  {
   "cell_type": "code",
   "execution_count": 54,
   "metadata": {},
   "outputs": [],
   "source": [
    "import os\n",
    "import re\n",
    "import requests\n",
    "import numpy as np\n",
    "\n",
    "# define __file__ if it is not defined\n",
    "if '__file__' not in globals():\n",
    "    __file__ = os.path.abspath('generate-tiers-package.ipynb')"
   ]
  },
  {
   "attachments": {},
   "cell_type": "markdown",
   "metadata": {},
   "source": [
    "Get the list of hpp files in the tiers directory and sort them by name."
   ]
  },
  {
   "cell_type": "code",
   "execution_count": 55,
   "metadata": {},
   "outputs": [],
   "source": [
    "# CLIc repository from where to parse the code\n",
    "tier = 3\n",
    "file = 'clic/include/tier' + str(tier) + '.hpp'\n",
    "repo = 'https://github.com/clEsperanto/CLIc_prototype.git'\n",
    "branch = 'add-cuda-backend'"
   ]
  },
  {
   "attachments": {},
   "cell_type": "markdown",
   "metadata": {},
   "source": [
    "Define a set of function to parse the hpp files and extract the information we need."
   ]
  },
  {
   "cell_type": "code",
   "execution_count": 56,
   "metadata": {},
   "outputs": [],
   "source": [
    "def read_from_repo(file_path, repo_url='https://github.com/clEsperanto/CLIc_prototype.git', branch ='master'):\n",
    "    # Construct the raw file URL\n",
    "    repo_url = repo_url.split('.git')[0].split('github.com/')[1]\n",
    "    raw_file_url = f\"https://raw.githubusercontent.com/{repo_url}/{branch}/{file_path}\"\n",
    "    \n",
    "    # Make an HTTP GET request to the raw file URL\n",
    "    response = requests.get(raw_file_url)\n",
    "    \n",
    "    # Check if the request was successful\n",
    "    if response.status_code == 200:\n",
    "        # Return the content of the file\n",
    "        return response.text\n",
    "    \n",
    "\n",
    "def parse_file(file_content):\n",
    "    # Regular expression pattern to extract function names, parameter names, types, and default values\n",
    "    pattern = r\"(\\w+_func)\\s*\\(((?:.|\\n)*?)\\)\\s*->\\s*(\\w+::\\w+|\\w+)\"\n",
    "    default_value_pattern = r\"=\\s*([^,)]+)\"\n",
    "\n",
    "    # Extract function names, parameter lists, and return types using regular expression\n",
    "    matches = re.findall(pattern, file_content)\n",
    "\n",
    "    # Create a dictionary to store function names and their corresponding parameter names and types\n",
    "    function_parameters = {}\n",
    "\n",
    "    # Process each match to extract function name, parameter names, and parameter types\n",
    "    for match in matches:\n",
    "        function_name, param_list, return_type = match\n",
    "        # Remove leading/trailing whitespaces and newlines from the parameter list\n",
    "        param_list = ' '.join([param.strip() for param in param_list.splitlines()])\n",
    "        parameter_names = []\n",
    "        parameter_types = []\n",
    "        default_values = re.findall(default_value_pattern, param_list)\n",
    "        param_list = re.sub(default_value_pattern, '', param_list)\n",
    "        for param in param_list.split(\",\"):\n",
    "            param = param.strip()\n",
    "            if param.startswith(\"const\"):\n",
    "                param = param[5:].strip()\n",
    "            param_parts = re.findall(r\"(\\w+::\\w+|\\w+)\", param)\n",
    "            if len(param_parts) == 2:\n",
    "                parameter_types.append(param_parts[0])\n",
    "                parameter_names.append(param_parts[1])\n",
    "            else:\n",
    "                parameter_types.append(None)\n",
    "                parameter_names.append(None)\n",
    "        function_parameters[function_name] = {\n",
    "            'parameter_names': parameter_names,\n",
    "            'parameter_types': parameter_types,\n",
    "            'default_values': default_values,\n",
    "            'return_type': return_type\n",
    "        }\n",
    "    \n",
    "    return function_parameters\n",
    "\n",
    "\n",
    "def generate_wrapper_function(tier, function_name, parameters_name):\n",
    "    code_template = \"\"\"\n",
    "m.def(\\\"_{func_name}\\\", &cle::tier{tier}::{func_name}_func, \"Call {func_name} from C++.\",\n",
    "    py::return_value_policy::take_ownership,\n",
    "    {param_bindings});\n",
    "\"\"\"\n",
    "    function_name = function_name.replace('_func', '')\n",
    "    parameters_binding = \", \".join([f\"py::arg(\\\"{param_name}\\\")\" for param_name in parameters_name])\n",
    "    return code_template.format(func_name=function_name, tier=tier, param_bindings=parameters_binding)\n",
    "\n",
    "\n",
    "def generate_python_function(tier, function_name, parameters_name, parameters_type, return_type):\n",
    "    code_template = \"\"\"\n",
    "@plugin_function\n",
    "def {func_name}(\n",
    "    {param_defines}\n",
    ") -> {return_type}:\n",
    "    from ._pyclesperanto import _{func_name} as op\n",
    "\n",
    "    return op(\n",
    "        {param_bindings}\n",
    "    )\n",
    "\"\"\"\n",
    "    return_type = return_type.replace('::Pointer', '').replace('Array', 'Image')\n",
    "    function_name = function_name.replace('_func', '')\n",
    "    parameter_binding_list = []\n",
    "    parameter_defines_list = []\n",
    "\n",
    "    for param_name, param_type in zip(parameters_name, parameters_type):\n",
    "        name = param_name.replace('src', 'input_image').replace('dst', 'output_image')\n",
    "        if param_type in ['float', 'int', 'bool']:\n",
    "            parameter_binding_list.append(f\"{param_name}={param_type}({name})\")\n",
    "        else:\n",
    "            parameter_binding_list.append(f\"{param_name}={name}\")\n",
    "\n",
    "    parameters_name = np.roll(parameters_name, -1)\n",
    "    parameters_type = np.roll(parameters_type, -1)\n",
    "    for param_name, param_type in zip(parameters_name, parameters_type):\n",
    "        name = param_name.replace('src', 'input_image').replace('dst', 'output_image')\n",
    "        type_declare = param_type.replace('::Pointer', '').replace('Array', 'Image')\n",
    "        default_value = ' = None'\n",
    "        if param_name.find('src') != -1:\n",
    "            default_value = ''\n",
    "        if param_type in ['float', 'int']:\n",
    "            default_value = ' = 0'\n",
    "        if param_type in ['bool']:\n",
    "            default_value = ' = True'\n",
    "        parameter_defines_list.append(f'{name}: {type_declare}{default_value}')\n",
    "\n",
    "    parameter_defines = \",\\n\\t\".join(\n",
    "        parameter_defines_list\n",
    "    )\n",
    "    parameter_bindings = \",\\n\\t\\t\".join(\n",
    "        parameter_binding_list\n",
    "    )\n",
    "\n",
    "    return code_template.format(func_name=function_name, param_defines=parameter_defines, param_bindings=parameter_bindings, return_type=return_type)\n",
    "\n",
    "\n",
    "def generate_wrapper_code(file, tier, wrapper_functions):\n",
    "    code_template = \"\"\"\n",
    "// this code is auto-generated by the script 'pyclesperanto_autogen_tier_script.ipynb'.\n",
    "// Do not edit manually. Instead, edit the script and run it again.\n",
    "    \n",
    "#include \"pycle_wrapper.hpp\"\n",
    "#include \"tier{tier}.hpp\"\n",
    "\n",
    "namespace py = pybind11;\n",
    "\n",
    "auto tier{tier}_(py::module &m) -> void {{\n",
    "\n",
    "    {wrapper_functions}\n",
    "\n",
    "}}\n",
    "\"\"\"\n",
    "    code = code_template.format(tier=tier, wrapper_functions=\"\\n    \".join(wrapper_functions))\n",
    "    with open(file, 'w') as f:\n",
    "        f.write(code)\n",
    "\n",
    "def generate_python_code(file, tier, python_functions):\n",
    "    code_template = \"\"\"\n",
    "# this code is auto-generated by the script 'pyclesperanto_autogen_tier_script.ipynb'.\n",
    "# Do not edit manually. Instead, edit the script and run it again.\n",
    "\n",
    "from ._core import Device\n",
    "from ._array import Image\n",
    "from ._decorators import plugin_function\n",
    "\n",
    "{python_functions}\n",
    "\"\"\"\n",
    "    code = code_template.format(python_functions=\"\\n\".join(python_functions))\n",
    "    with open(file, 'w') as f:\n",
    "        f.write(code)"
   ]
  },
  {
   "attachments": {},
   "cell_type": "markdown",
   "metadata": {},
   "source": [
    "For each files, we extract the name of the function it contains as well as its signature. From both we build the wrapper code to make the function visible in Python."
   ]
  },
  {
   "cell_type": "code",
   "execution_count": 57,
   "metadata": {},
   "outputs": [
    {
     "name": "stdout",
     "output_type": "stream",
     "text": [
      "flag_existing_labels_func {'parameter_names': ['device', 'src', 'dst'], 'parameter_types': ['Device::Pointer', 'Array::Pointer', 'Array::Pointer'], 'default_values': [], 'return_type': 'Array::Pointer'}\n",
      "gamma_correction_func {'parameter_names': ['device', 'src', 'dst', 'gamma'], 'parameter_types': ['Device::Pointer', 'Array::Pointer', 'Array::Pointer', 'float'], 'default_values': [], 'return_type': 'Array::Pointer'}\n",
      "histogram_func {'parameter_names': ['device', 'src', 'dst', 'nbins', 'min', 'max'], 'parameter_types': ['Device::Pointer', 'Array::Pointer', 'Array::Pointer', 'int', 'float', 'float'], 'default_values': ['std::numeric_limits<float>::quiet_NaN(', 'std::numeric_limits<float>::quiet_NaN('], 'return_type': 'Array::Pointer'}\n",
      "mean_of_all_pixels_func {'parameter_names': ['device', 'src'], 'parameter_types': ['Device::Pointer', 'Array::Pointer'], 'default_values': [], 'return_type': 'float'}\n"
     ]
    }
   ],
   "source": [
    "wrapper_functions = []\n",
    "\n",
    "file_content = read_from_repo(file, repo, branch)\n",
    "function_parameters = parse_file(file_content)\n",
    "\n",
    "wrapper_functions = []\n",
    "python_functions = []\n",
    "for function_name, parameters in function_parameters.items():\n",
    "    print(function_name, parameters)\n",
    "    wrapper_functions.append(generate_wrapper_function(tier, function_name, parameters['parameter_names']))\n",
    "    python_functions.append(generate_python_function(tier, function_name, parameters['parameter_names'], parameters['parameter_types'], parameters['return_type']))\n"
   ]
  },
  {
   "attachments": {},
   "cell_type": "markdown",
   "metadata": {},
   "source": [
    "We create the wrapper file to contains the Tier functions currently processed. And for each function, we add the wrapper code to the file."
   ]
  },
  {
   "cell_type": "code",
   "execution_count": 58,
   "metadata": {},
   "outputs": [],
   "source": [
    "# get the path to the current directory\n",
    "current_dir = os.path.dirname(os.path.abspath(__file__))\n",
    "cpp_file = os.path.join(current_dir, '..', 'wrapper', 'tier' + str(tier) + '_.cpp')\n",
    "py_file = os.path.join(current_dir, '..', 'pyclesperanto', '_tier' + str(tier) + '.py')\n",
    "\n",
    "# if the file already exists, rename it to cleTierX_old.cpp\n",
    "if os.path.exists(cpp_file):\n",
    "    os.rename(cpp_file, cpp_file.replace('.cpp', '.old_cpp'))\n",
    "if os.path.exists(py_file):\n",
    "    os.rename(py_file, py_file.replace('.py', '.old_py'))    \n",
    "\n",
    "generate_wrapper_code(cpp_file, tier, wrapper_functions)\n",
    "generate_python_code(py_file, tier, python_functions)"
   ]
  }
 ],
 "metadata": {
  "kernelspec": {
   "display_name": "skbuild",
   "language": "python",
   "name": "python3"
  },
  "language_info": {
   "codemirror_mode": {
    "name": "ipython",
    "version": 3
   },
   "file_extension": ".py",
   "mimetype": "text/x-python",
   "name": "python",
   "nbconvert_exporter": "python",
   "pygments_lexer": "ipython3",
   "version": "3.10.9"
  },
  "orig_nbformat": 4,
  "vscode": {
   "interpreter": {
    "hash": "1bf89b5e425e511e6208a82dd7a3225392f448ad069ddd9557f507f6073233bf"
   }
  }
 },
 "nbformat": 4,
 "nbformat_minor": 2
}
